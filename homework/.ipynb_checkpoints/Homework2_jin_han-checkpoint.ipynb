{
 "cells": [
  {
   "cell_type": "markdown",
   "metadata": {},
   "source": [
    "# SYD DAT 4 Lab 2 - Visualisation and Regression\n",
    "\n",
    "##Homework - Due 29th April 2016"
   ]
  },
  {
   "cell_type": "markdown",
   "metadata": {},
   "source": [
    "\n",
    "\n",
    "#### Setup\n",
    "* Signup for an AWS account\n",
    "<pre>\n",
    "done!\n",
    "</pre>\n",
    "\n",
    "\n"
   ]
  },
  {
   "cell_type": "markdown",
   "metadata": {},
   "source": [
    "#### Communication\n",
    "* Imagine you are trying to explain to someone what Linear Regression is - but they have no programming/maths experience? How would you explain the overall process, what a p-value means and what R-Squared means?\n",
    "\n",
    "<pre>\n",
    "Linear Regression : done!\n",
    "</pre>\n",
    "\n",
    "<pre>\n",
    "p-value : done!\n",
    "</pre>\n",
    "\n",
    "<pre>\n",
    "R-Squared : done!\n",
    "</pre>\n"
   ]
  },
  {
   "cell_type": "markdown",
   "metadata": {},
   "source": [
    "* Read the paper [Useful things to know about machine learning]( https://homes.cs.washington.edu/~pedrod/papers/cacm12.pdf). \n",
    "    * What have we covered so far from this paper? \n",
    "    \n",
    "    <pre>\n",
    "    - K-nearest neighbor \n",
    "    - Logistic regression\n",
    "    - Squared error \n",
    "    - Overfitting, Bias and variance\n",
    "    - Cross-validation\n",
    "    </pre>\n",
    "    \n",
    "    * Explain sections 6-13 in your own words\n",
    "    \n",
    "    <pre>\n",
    "    6. INTUITION FAILS IN HIGH DIMENSIONS\n",
    "\n",
    "    7. THEORETICAL GUARANTEES ARE NOT WHAT THEY SEEM\n",
    "    \n",
    "    8. FEATURE ENGINEERING IS THE KEY\n",
    "    \n",
    "    9. MORE DATA BEATS A CLEVERER ALGORITHM\n",
    "    \n",
    "    10. LEARN MANY MODELS, NOT JUST ONE\n",
    "    \n",
    "    11. SIMPLICITY DOES NOT IMPLY ACCURACY\n",
    "    \n",
    "    12. REPRESENTABLE DOES NOT IMPLY LEARNABLE\n",
    "    \n",
    "    13. CORRELATION DOES NOT IMPLY CAUSATION\n",
    "    </pre>\n"
   ]
  },
  {
   "cell_type": "markdown",
   "metadata": {
    "collapsed": true
   },
   "source": [
    "#### Machine Learning\n"
   ]
  },
  {
   "cell_type": "code",
   "execution_count": null,
   "metadata": {
    "collapsed": true
   },
   "outputs": [],
   "source": [
    "* Read chapters 3 and 6 of Introduction to Statistical Learning\n",
    "<pre>\n",
    "done!\n",
    "</pre>"
   ]
  },
  {
   "cell_type": "markdown",
   "metadata": {},
   "source": [
    "* Describe 3 ways we can select what features to use in a model\n",
    "<pre>\n",
    "Representation, Evaluation, Optimization\n",
    "\n",
    "Representation. A classifier must be represented in some\n",
    "formal language that the computer can handle. Conversely,\n",
    "choosing a representation for a learner is tantamount\n",
    "to choosing the set of classifiers that it can\n",
    "possibly learn. This set is called the hypothesis space\n",
    "of the learner. If a classifier is not in the hypothesis\n",
    "space, it cannot be learned. A related question, which\n",
    "we will address in a later section, is how to represent\n",
    "the input, i.e., what features to use\n",
    "\n",
    "Evaluation. An evaluation function (also called objective\n",
    "function or scoring function) is needed to distinguish\n",
    "good classifiers from bad ones. The evaluation function\n",
    "used internally by the algorithm may differ from the\n",
    "external one that we want the classifier to optimize, for\n",
    "ease of optimization and due to the issues\n",
    "discussed in the next section.\n",
    "\n",
    "Optimization. Finally, we need a method to search among\n",
    "the classifiers in the language for the highest-scoring\n",
    "one. The choice of optimization technique is key to the\n",
    "efficiency of the learner, and also helps determine the\n",
    "classifier produced if the evaluation function has more\n",
    "than one optimum. It is common for new learners to\n",
    "start out using off-the-shelf optimizers, which are later\n",
    "replaced by custom-designed ones.\n",
    "</pre>"
   ]
  },
  {
   "cell_type": "markdown",
   "metadata": {},
   "source": [
    "* Complete the first 3 exercises from Chapter 3 in Python"
   ]
  },
  {
   "cell_type": "markdown",
   "metadata": {},
   "source": [
    "Exercise 1. Describe the null hypotheses to which the p-values given in Table 3.4 correspond. Explain what conclusions you can draw based on these p-values. Your explanation should be phrased in terms of sales, TV, radio, and newspaper, rather than in terms of the coefficients of the linear model."
   ]
  },
  {
   "cell_type": "code",
   "execution_count": null,
   "metadata": {
    "collapsed": true
   },
   "outputs": [],
   "source": []
  },
  {
   "cell_type": "markdown",
   "metadata": {},
   "source": [
    "Exercise 2. Carefully explain the differences between the KNN classifier and KNN regression methods.\n"
   ]
  },
  {
   "cell_type": "code",
   "execution_count": null,
   "metadata": {
    "collapsed": true
   },
   "outputs": [],
   "source": []
  },
  {
   "cell_type": "markdown",
   "metadata": {},
   "source": [
    "Exercise 3. Suppose we have a data set with five predictors, X1 = GPA, X2 = IQ, X3 = Gender (1 for Female and 0 for Male), X4 = Interaction between GPA and IQ, and X5 = Interaction between GPA and Gender. The response is starting salary after graduation (in thousands of dollars). Suppose we use least squares to fit the model, and get βˆ0 = 50, βˆ1 = 2 0 , βˆ 2 = 0 . 0 7 , βˆ 3 = 3 5 , βˆ 4 = 0 . 0 1 , βˆ 5 = − 1 0 ."
   ]
  },
  {
   "cell_type": "markdown",
   "metadata": {},
   "source": [
    "3-(a) Which answer is correct, and why?\n",
    "i. ForafixedvalueofIQandGPA,malesearnmoreonaverage than females.\n",
    "ii. For a fixed value of IQ and GPA, females earn more on average than males.\n",
    "iii. ForafixedvalueofIQandGPA,malesearnmoreonaverage than females provided that the GPA is high enough.\n",
    "iv. For a fixed value of IQ and GPA, females earn more on average than males provided that the GPA is high enough.\n"
   ]
  },
  {
   "cell_type": "code",
   "execution_count": null,
   "metadata": {
    "collapsed": true
   },
   "outputs": [],
   "source": []
  },
  {
   "cell_type": "markdown",
   "metadata": {},
   "source": [
    "3-(b) Predict the salary of a female with IQ of 110 and a GPA of 4.0."
   ]
  },
  {
   "cell_type": "code",
   "execution_count": null,
   "metadata": {
    "collapsed": true
   },
   "outputs": [],
   "source": []
  },
  {
   "cell_type": "markdown",
   "metadata": {},
   "source": [
    "3-(c) True or false: Since the coefficient for the GPA/IQ interaction term is very small, there is very little evidence of an interaction effect. Justify your answer."
   ]
  },
  {
   "cell_type": "code",
   "execution_count": null,
   "metadata": {
    "collapsed": true
   },
   "outputs": [],
   "source": []
  },
  {
   "cell_type": "markdown",
   "metadata": {},
   "source": [
    "\n",
    "#### Course Project\n",
    "* For the following setup a new github repository for your project and share it with Matt and Ian over Slack.\n",
    "* Load the data you have gathered for your project into Python and run some summary statistics over the data. Are there any interesting features of the data that jump out? (Include the code)\n",
    "* Draft/Sketch on paper (or wireframe) some data visualisations that would be useful for you to explore your data set\n",
    "* Are there any regresion or clustering techniques you could use in your project? Write them down (with the corresponding scikit learn function) and what you think you would get out of it.\n",
    "\n",
    "\n",
    "**Instructions: copy this file and append your name in the filename, e.g. Homework2_ian_hansel.ipynb.\n",
    "Then commit this in your local repository, push it to your github account and create a pull request so I can see your work. Remeber if you get stuck to look at the slides going over Fork, Clone, Commit, Push and Pull request.**"
   ]
  }
 ],
 "metadata": {
  "celltoolbar": "Raw Cell Format",
  "kernelspec": {
   "display_name": "Python 2",
   "language": "python",
   "name": "python2"
  },
  "language_info": {
   "codemirror_mode": {
    "name": "ipython",
    "version": 2
   },
   "file_extension": ".py",
   "mimetype": "text/x-python",
   "name": "python",
   "nbconvert_exporter": "python",
   "pygments_lexer": "ipython2",
   "version": "2.7.11"
  }
 },
 "nbformat": 4,
 "nbformat_minor": 0
}
