{
 "cells": [
  {
   "cell_type": "markdown",
   "metadata": {},
   "source": [
    "# SYD DAT 3 Lab 1 - Git and Markdown\n",
    "\n",
    "##Homework:\n",
    "\n",
    "#### Setup\n",
    "* Resolve any installation issues before next class.\n",
    "* Make sure you have a github profile and created a repo called \"SYD_DAT_4\"\n",
    "* Clone the class repo (this one!)\n",
    "* Review this [code](../labs/Week 1/00_python_refresher.py) for a recap of some Python basics.\n",
    "\n",
    "#### Communication\n",
    "* Read [Analyzing the Analyzers](http://cdn.oreillystatic.com/oreilly/radarreport/0636920029014/Analyzing_the_Analyzers.pdf) for a useful look at the different types of data scientists. Write down 5 key points you took away from the article\n",
    "* Read about some [Markdown Techniques](http://daringfireball.net/projects/markdown/syntax)\n",
    "* Write a summary of 2 chapters of [The Data Science Handbook](http://www.thedatasciencehandbook.com/) in Markdown and submit a pull request in the Lab Directory\n",
    "\n",
    "##### Five key points from 'Analyzing the Analyzers ':\n",
    "\n",
    "* hype surrounding data science, but generally misunderstood by the wider community\n",
    "* there has been miscommunication by organizations seeking data science talent on the actual technical competencies required for the roles advertised\n",
    "* 'T-shaped' data science competencies have the breadth of skills that help when working in disciplinary teams as wells as the depth of expertise in at least one field that make them more effective\n",
    "* It is unrealistic for organizations to find a single data science employee capable of 'doing it all'\n",
    "* A background in studying science can be beneficial in developing the skills and attitudes useful in a data science career.\n",
    "\n",
    "##### Summary of first two chapters of 'The Data Science Handbook'\n",
    "DJ Patil's chapter talks about the challenges of changing from an academic role to a different one within industry. There is a perception within organizations that hiring  people from an academic background carries risk. He also emphasizes that success in finding a data science role likely comes after many failures; failures that arise out of the iterative process of finding the right way to present oneself and one's own skillset. The data science capability of most organizations and understanding of the skills required and the potential benefits is still at an early stage, meaning that the 'data scientist' mold is still ambiguous. This gives data scientists a lot of latitude in supplementing his knowledge base at the time of hire with the additional knowledge required to be effective at the newly filled data science position.\n",
    "Data science is a group activity. Although the academic environment is not currently ideally developing group working skills, undergraduate education is going through transformations in the amount of group projects required and team activities available. His comments on compassion vs empathy highlight how data science insights  are much more effective when guided by a user/customer focus. \n",
    "\n",
    "Even though Patil believes in parallelized learning to accelerate development, he still belives there is no substitute to putting the time in, especially in the first six to twelve months in a new organization; he also recounts his experiences working with very smart and knowledgeable people, highlighting the importance of finding good mentors to career and skill development. Regarding day-to-day habits and activities of a good data scientist, Patil recommends maintaining passion and curiosity as well as being a good team player and focusing on delivering value.  His general, long-term career advice for data scientists is to maximise exposure to different opportunities.\n",
    "\n",
    "Hilary Mason's interview also mentions that data science as a career field is still in its early stages and that expertise is still relatively rare. She divides data science work into 3 groups: statistics, code, and storytelling/visualization. She recommends  those looking to join the field to try projects that can highlight a strong skill or develop a weaker skill. Also recommnded for new entrants to the field is to focus on finding an organization, big or small, where a mentor can provide support and that looks like it could be an interesting place place to work for at least a year; in particular she mentions startups due to the flexibility in collecting data and the greater variability in organizational culture making it more likely to find a workplace that's a good fit. She elaborates on the importance of storytelling and communicating insights to those not involved in the analytical process as often insights need to be understood by stakeholders with varying degrees of data science literacy.\n",
    "\n",
    "\n",
    "#### Programming\n",
    "* Complete the lab from class and the additional Exercise below\n",
    "\n",
    "#### Course Project\n",
    "* Come up with 5 different ideas for your course project. For each one list:\n",
    "  * Overview of your idea\n",
    "  * What data you will use\n",
    "  * What the outcome is that you are trying to achieve\n",
    "  * Any ideas of modelling techniques it may involve\n",
    "\n",
    "**Instructions: copy this file and append your name in the filename, e.g. Homework1_ian_hansel.ipynb.\n",
    "Then commit this in your local repository, push it to your github account and create a pull request so I can see your work. Remeber if you get stuck to look at the slides going over Fork, Clone, Commit, Push and Pull request.**"
   ]
  },
  {
   "cell_type": "markdown",
   "metadata": {},
   "source": [
    "## Exercise Four - Movie Lens Data"
   ]
  },
  {
   "cell_type": "code",
   "execution_count": null,
   "metadata": {
    "collapsed": true
   },
   "outputs": [],
   "source": [
    "# for each occupation in 'users', count the number of occurrences\n",
    "users.occupation.value_counts()\n",
    "# for each occupation, calculate the mean age\n",
    "users.groupby('occupation').age.mean()\n",
    "# for each occupation, calculate the minimum and maximum ages\n",
    "users.groupby('occupation').agg({'age':[min,max]})\n",
    "# for each combination of occupation and gender, calculate the mean age\n",
    "users.groupby(['occupation','gender']).agg({'age':[min,max]})\n",
    "# randomly sample a DataFrame\n",
    "users.ix[np.random.choice(users.index.values, 10)]\n",
    "# detect duplicate users\n",
    "users[users.duplicated(keep=False)]"
   ]
  }
 ],
 "metadata": {
  "kernelspec": {
   "display_name": "Python 2",
   "language": "python",
   "name": "python2"
  },
  "language_info": {
   "codemirror_mode": {
    "name": "ipython",
    "version": 2
   },
   "file_extension": ".py",
   "mimetype": "text/x-python",
   "name": "python",
   "nbconvert_exporter": "python",
   "pygments_lexer": "ipython2",
   "version": "2.7.11"
  }
 },
 "nbformat": 4,
 "nbformat_minor": 0
}
