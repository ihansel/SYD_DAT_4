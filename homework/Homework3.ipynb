{
 "cells": [
  {
   "cell_type": "markdown",
   "metadata": {},
   "source": [
    "# SYD DAT 4 Lab 2 - Visualisation and Regression\n",
    "\n",
    "##Homework - Due 4th/6th May 2016\n",
    "\n",
    "#### Communication\n",
    "Pick one data science topic that interests you, could be an article, or how a Kaggle competition was won, or an article incorporating data journalism. Write a 5 minute presentation with 5 slides. You should explain, what was done, the motivation behind it, the results and what you can think of that would improve the project.\n",
    "\n",
    "We will present these in class on Wednesday 4th May to practice presentation skills.\n",
    "\n",
    "Direct message me over Slack with the slides on Tuesday 3rd May so I can put the class slides together.\n",
    "\n",
    "#### Course Project\n",
    "Share with a me a ipython notebook containing the following:\n",
    "* Data read into python in a data frame\n",
    "* A statistical summary of your data\n",
    "* A visualisation of your data\n",
    "* One of the following with your data; Linear or Logistic Regression (with regularization), or Clustering.\n",
    "* A written summary at the end describing your data\n",
    "\n",
    "**Instructions: Send me the slides on Tuesday 3rd May and have the notebook in your project repository by 6th May**"
   ]
  },
  {
   "cell_type": "code",
   "execution_count": null,
   "metadata": {
    "collapsed": true
   },
   "outputs": [],
   "source": []
  }
 ],
 "metadata": {
  "kernelspec": {
   "display_name": "Python 2",
   "language": "python",
   "name": "python2"
  },
  "language_info": {
   "codemirror_mode": {
    "name": "ipython",
    "version": 2
   },
   "file_extension": ".py",
   "mimetype": "text/x-python",
   "name": "python",
   "nbconvert_exporter": "python",
   "pygments_lexer": "ipython2",
   "version": "2.7.10"
  }
 },
 "nbformat": 4,
 "nbformat_minor": 0
}
