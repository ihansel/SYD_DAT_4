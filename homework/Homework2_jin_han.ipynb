{
 "cells": [
  {
   "cell_type": "markdown",
   "metadata": {},
   "source": [
    "# SYD DAT 4 Lab 2 - Visualisation and Regression\n",
    "\n",
    "##Homework - Due 29th April 2016"
   ]
  },
  {
   "cell_type": "markdown",
   "metadata": {},
   "source": [
    "\n",
    "\n",
    "#### Setup\n",
    "* Signup for an AWS account\n",
    "<pre>\n",
    "done!\n",
    "</pre>\n",
    "\n",
    "\n"
   ]
  },
  {
   "cell_type": "markdown",
   "metadata": {},
   "source": [
    "#### Communication\n",
    "* Imagine you are trying to explain to someone what Linear Regression is - but they have no programming/maths experience? How would you explain the overall process, what a p-value means and what R-Squared means?\n",
    "\n",
    "<pre>\n",
    "Linear Regression : \n",
    "- Linear regression consists of finding the best-fitting straight line through the points. The best-fitting line is called a regression line.\n",
    "(http://onlinestatbook.com/2/regression/intro.html)\n",
    "- Linear regression is an approach for modeling the relationship between a scalar dependent variable y and one or more explanatory variables (or independent variables) denoted X. \n",
    "(https://en.wikipedia.org/wiki/Linear_regression)\n",
    "</pre>\n",
    "\n",
    "<pre>\n",
    "p-value : The P-value approach involves determining \"likely\" or \"unlikely\" by determining the probability — assuming the null hypothesis were true — of observing a more extreme test statistic in the direction of the alternative hypothesis than the one observed. \n",
    "If the P-value is small, say less than (or equal to) α, then it is \"unlikely.\" And, if the P-value is large, say more than α, then it is \"likely.\"\n",
    "If the P-value is less than (or equal to) α, then the null hypothesis is rejected in favor of the alternative hypothesis. And, if the P-value is greater than α, then the null hypothesis is not rejected.\n",
    "(https://onlinecourses.science.psu.edu/statprogram/node/138)\n",
    "</pre>\n",
    "\n",
    "<pre>\n",
    "R-Squared : R-squared is a statistical measure of how close the data are to the fitted regression line. It is the percentage of the response variable variation that is explained by a linear model.\n",
    "    R-squared = Explained variation / Total variation\n",
    "    R-squared is always between 0 and 100%:\n",
    "    0% indicates that the model explains none of the variability of the response data around its mean.\n",
    "    100% indicates that the model explains all the variability of the response data around its mean.\n",
    "(http://blog.minitab.com/blog/adventures-in-statistics/regression-analysis-how-do-i-interpret-r-squared-and-assess-the-goodness-of-fit)\n",
    "</pre>\n"
   ]
  },
  {
   "cell_type": "markdown",
   "metadata": {
    "collapsed": true
   },
   "source": [
    "* Read the paper [Useful things to know about machine learning]( https://homes.cs.washington.edu/~pedrod/papers/cacm12.pdf). \n",
    "    * What have we covered so far from this paper? \n",
    "    \n",
    "    <pre>\n",
    "    - K-nearest neighbor \n",
    "    - Logistic regression\n",
    "    - Squared error \n",
    "    - Overfitting, Bias and variance\n",
    "    - Cross-validation\n",
    "    </pre>\n",
    "    \n",
    "    * Explain sections 6-13 in your own words\n",
    "    \n",
    "    <pre>\n",
    "    6. INTUITION FAILS IN HIGH DIMENSIONS\n",
    "\n",
    "    7. THEORETICAL GUARANTEES ARE NOT WHAT THEY SEEM\n",
    "    \n",
    "    8. FEATURE ENGINEERING IS THE KEY\n",
    "    \n",
    "    9. MORE DATA BEATS A CLEVERER ALGORITHM\n",
    "    \n",
    "    10. LEARN MANY MODELS, NOT JUST ONE\n",
    "    \n",
    "    11. SIMPLICITY DOES NOT IMPLY ACCURACY\n",
    "    \n",
    "    12. REPRESENTABLE DOES NOT IMPLY LEARNABLE\n",
    "    \n",
    "    13. CORRELATION DOES NOT IMPLY CAUSATION\n",
    "    </pre>\n"
   ]
  },
  {
   "cell_type": "markdown",
   "metadata": {
    "collapsed": true
   },
   "source": [
    "#### Machine Learning\n"
   ]
  },
  {
   "cell_type": "markdown",
   "metadata": {
    "collapsed": true
   },
   "source": [
    "* Read chapters 3 and 6 of Introduction to Statistical Learning\n",
    "<pre>\n",
    "done!\n",
    "</pre>"
   ]
  },
  {
   "cell_type": "markdown",
   "metadata": {},
   "source": [
    "* Describe 3 ways we can select what features to use in a model\n",
    "<pre>\n",
    "Representation, Evaluation, Optimization\n",
    "\n",
    "Representation. A classifier must be represented in some\n",
    "formal language that the computer can handle. Conversely,\n",
    "choosing a representation for a learner is tantamount\n",
    "to choosing the set of classifiers that it can\n",
    "possibly learn. This set is called the hypothesis space\n",
    "of the learner. If a classifier is not in the hypothesis\n",
    "space, it cannot be learned. A related question, which\n",
    "we will address in a later section, is how to represent\n",
    "the input, i.e., what features to use\n",
    "\n",
    "Evaluation. An evaluation function (also called objective\n",
    "function or scoring function) is needed to distinguish\n",
    "good classifiers from bad ones. The evaluation function\n",
    "used internally by the algorithm may differ from the\n",
    "external one that we want the classifier to optimize, for\n",
    "ease of optimization and due to the issues\n",
    "discussed in the next section.\n",
    "\n",
    "Optimization. Finally, we need a method to search among\n",
    "the classifiers in the language for the highest-scoring\n",
    "one. The choice of optimization technique is key to the\n",
    "efficiency of the learner, and also helps determine the\n",
    "classifier produced if the evaluation function has more\n",
    "than one optimum. It is common for new learners to\n",
    "start out using off-the-shelf optimizers, which are later\n",
    "replaced by custom-designed ones.\n",
    "</pre>"
   ]
  },
  {
   "cell_type": "markdown",
   "metadata": {},
   "source": [
    "* Complete the first 3 exercises from Chapter 3 in Python"
   ]
  },
  {
   "cell_type": "markdown",
   "metadata": {},
   "source": [
    "Exercise 1. Describe the null hypotheses to which the p-values given in Table 3.4 correspond. Explain what conclusions you can draw based on these p-values. Your explanation should be phrased in terms of sales, TV, radio, and newspaper, rather than in terms of the coefficients of the linear model."
   ]
  },
  {
   "cell_type": "markdown",
   "metadata": {
    "collapsed": true
   },
   "source": [
    "Ans: The corresponding p-value of the newspaer is no longer significant, with a value 0.8599. So advertising on newspaper do not have an effect on sales."
   ]
  },
  {
   "cell_type": "markdown",
   "metadata": {},
   "source": [
    "Exercise 2. Carefully explain the differences between the KNN classifier and KNN regression methods.\n"
   ]
  },
  {
   "cell_type": "markdown",
   "metadata": {
    "collapsed": true
   },
   "source": [
    "Ans: \n",
    "    - The KNN classifier: Given a positive in- teger K and a test observation x0, the KNN classifier first identifies the K points in the training data that are closest to x0, represented by N0.\n",
    "    - The KNN regression method is closely related to the KNN classifier. Given a value for K and a prediction point x0, KNN regression first identifies the K training observations that are closest to x0, represented by N0. It then estimates f(x0) using the average of all the training responses in N0.\n",
    "\n"
   ]
  },
  {
   "cell_type": "markdown",
   "metadata": {},
   "source": [
    "Exercise 3. Suppose we have a data set with five predictors, X1 = GPA, X2 = IQ, X3 = Gender (1 for Female and 0 for Male), X4 = Interaction between GPA and IQ, and X5 = Interaction between GPA and Gender. The response is starting salary after graduation (in thousands of dollars). Suppose we use least squares to fit the model, and get βˆ0 = 50, βˆ1 = 2 0 , βˆ 2 = 0 . 0 7 , βˆ 3 = 3 5 , βˆ 4 = 0 . 0 1 , βˆ 5 = − 1 0 ."
   ]
  },
  {
   "cell_type": "markdown",
   "metadata": {},
   "source": [
    "3-(a) Which answer is correct, and why?\n",
    "\n",
    "i. For a fixed value of IQ and GPA, males earn more on average than females.\n",
    "\n",
    "ii. For a fixed value of IQ and GPA, females earn more on average than males.\n",
    "\n",
    "iii. For a fixed value of IQ and GPA, males earn more on average than females provided that the GPA is high enough.\n",
    "\n",
    "iv. For a fixed value of IQ and GPA, females earn more on average than males provided that the GPA is high enough.\n"
   ]
  },
  {
   "cell_type": "markdown",
   "metadata": {
    "collapsed": true
   },
   "source": [
    "Ans: \n",
    "    - least squares : 50 + 20X1 + 0.07X2 + 35X3 + 0.01X4 + (-10)X5\n",
    "        = 50 + 20GPA + 0.07IQ + 35Gender + 0.01(GPA x IQ) + (-10)(GPA x Gender)\n",
    "    - male_least squares : 50 +  20GPA + 0.07IQ + 0.01(GPA x IQ)\n",
    "    - female_least squares : 50 + 20GPA + 0.07IQ + 35 + 0.01(GPA x IQ) - 10GPA = 85 + 10GPA + 0.07IQ + 0.01(GPA x IQ)\n",
    "        \n",
    "If GPA is high enough, then male_least squares > female_least squares. So correct answer is iii."
   ]
  },
  {
   "cell_type": "markdown",
   "metadata": {},
   "source": [
    "3-(b) Predict the salary of a female with IQ of 110 and a GPA of 4.0."
   ]
  },
  {
   "cell_type": "markdown",
   "metadata": {
    "collapsed": true
   },
   "source": [
    "Ans: \n",
    "    female_least squares : 85 + 10GPA + 0.07IQ + 0.01(GPA x IQ)\n",
    "        = 85 + 10 * 4.0 + 0.07*110+ 0.01(4.0 * 110)"
   ]
  },
  {
   "cell_type": "code",
   "execution_count": 2,
   "metadata": {
    "collapsed": false
   },
   "outputs": [
    {
     "name": "stdout",
     "output_type": "stream",
     "text": [
      "137.1\n"
     ]
    }
   ],
   "source": [
    "print 85 + 10 * 4.0 + 0.07*110 + 0.01*(4.0 * 110)"
   ]
  },
  {
   "cell_type": "markdown",
   "metadata": {},
   "source": [
    "3-(c) True or false: Since the coefficient for the GPA/IQ interaction term is very small, there is very little evidence of an interaction effect. Justify your answer."
   ]
  },
  {
   "cell_type": "markdown",
   "metadata": {
    "collapsed": true
   },
   "source": [
    "Ans:\n",
    "    False. needed more test to see GPA/IQ ineteraction effect."
   ]
  },
  {
   "cell_type": "markdown",
   "metadata": {},
   "source": [
    "\n",
    "#### Course Project\n",
    "* For the following setup a new github repository for your project and share it with Matt and Ian over Slack.\n",
    "* Load the data you have gathered for your project into Python and run some summary statistics over the data. Are there any interesting features of the data that jump out? (Include the code)\n",
    "* Draft/Sketch on paper (or wireframe) some data visualisations that would be useful for you to explore your data set\n",
    "* Are there any regresion or clustering techniques you could use in your project? Write them down (with the corresponding scikit learn function) and what you think you would get out of it.\n",
    "\n",
    "\n",
    "**Instructions: copy this file and append your name in the filename, e.g. Homework2_ian_hansel.ipynb.\n",
    "Then commit this in your local repository, push it to your github account and create a pull request so I can see your work. Remeber if you get stuck to look at the slides going over Fork, Clone, Commit, Push and Pull request.**"
   ]
  }
 ],
 "metadata": {
  "celltoolbar": "Raw Cell Format",
  "kernelspec": {
   "display_name": "Python 2",
   "language": "python",
   "name": "python2"
  },
  "language_info": {
   "codemirror_mode": {
    "name": "ipython",
    "version": 2
   },
   "file_extension": ".py",
   "mimetype": "text/x-python",
   "name": "python",
   "nbconvert_exporter": "python",
   "pygments_lexer": "ipython2",
   "version": "2.7.11"
  }
 },
 "nbformat": 4,
 "nbformat_minor": 0
}
