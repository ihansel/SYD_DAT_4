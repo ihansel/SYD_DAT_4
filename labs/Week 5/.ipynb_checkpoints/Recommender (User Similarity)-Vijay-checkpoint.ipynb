{
 "cells": [
  {
   "cell_type": "markdown",
   "metadata": {},
   "source": [
    "# Recommendation Engines\n",
    "\n",
    "''' 3. Recommender (User Similarity)\n",
    "Our recommender will be a modified KNN collaborative algorithm.\n",
    "Input: A given user's brands that they like\n",
    "Output: A set (no repeats) of brand recommendations based on\n",
    "        similar users preferences\n",
    "\n",
    "1. When a user's brands are given to us, we will calculate the input user's\n",
    "jaccard similarity with every person in our brandsfor dictionary\n",
    "\n",
    "2. We will pick the K most similar users and recommend\n",
    "the brands that they like that the given user doesn't know about\n",
    "\n",
    "EXAMPLE:\n",
    "Given User likes ['Target', 'Old Navy', 'Banana Republic', 'H&M']\n",
    "Outputs: ['Forever 21', 'Gap', 'Steve Madden']\n",
    "'''"
   ]
  },
  {
   "cell_type": "code",
   "execution_count": 1,
   "metadata": {
    "collapsed": false
   },
   "outputs": [],
   "source": [
    "# 1. Load and Summarise the data\n",
    "import pandas as pd\n",
    "\n",
    "#read in brands data - fill in\n",
    "user_brands = pd.read_csv('../../data/user_brand.csv')\n",
    "\n",
    "# Series of user IDs, note the duplicates\n",
    "user_ids = user_brands.ID"
   ]
  },
  {
   "cell_type": "code",
   "execution_count": 2,
   "metadata": {
    "collapsed": false
   },
   "outputs": [],
   "source": [
    "# turns my data frame into a dictionary\n",
    "# where the key is a user ID, and the value is a \n",
    "# list of stores that the user \"likes\"\n",
    "brandsfor = {str(k): list(v) for k,v in user_brands.groupby(\"ID\")[\"Store\"]}\n"
   ]
  },
  {
   "cell_type": "code",
   "execution_count": 3,
   "metadata": {
    "collapsed": true
   },
   "outputs": [],
   "source": [
    "'''\n",
    "EXERCISE: Complete the jaccard method below.\n",
    "          It should take in a list of brands, and output the \n",
    "          jaccard similarity between them\n",
    "\n",
    "This should work with anything in the set, for example\n",
    "jaccard([1,2,3], [2,3,4,5,6])  == .3333333\n",
    "\n",
    "HINT: set1 & set2 is the intersection\n",
    "      set1 | set2 is the union\n",
    "\n",
    "'''\n",
    "\n",
    "def jaccard(first, second):\n",
    "  first = set(first)\n",
    "  second = set(second)\n",
    "  return float(len(first & second)) / len(first | second)"
   ]
  },
  {
   "cell_type": "code",
   "execution_count": 4,
   "metadata": {
    "collapsed": false
   },
   "outputs": [
    {
     "name": "stdout",
     "output_type": "stream",
     "text": [
      "[\"Kohl's\", 'Target']\n",
      "['Hanky Panky', 'Betsey Johnson', 'Converse', 'Steve Madden', 'Old Navy', 'Target', 'Nordstrom']\n"
     ]
    },
    {
     "data": {
      "text/plain": [
       "0.125"
      ]
     },
     "execution_count": 4,
     "metadata": {},
     "output_type": "execute_result"
    }
   ],
   "source": [
    "# try it out!\n",
    "print(brandsfor['83065']) # brands for user 83065\n",
    "print(brandsfor['82983']) # brands for user 82983\n",
    "jaccard(brandsfor['83065'], brandsfor['82983'])\n"
   ]
  },
  {
   "cell_type": "code",
   "execution_count": 5,
   "metadata": {
    "collapsed": false
   },
   "outputs": [
    {
     "data": {
      "text/plain": [
       "0.2"
      ]
     },
     "execution_count": 5,
     "metadata": {},
     "output_type": "execute_result"
    }
   ],
   "source": [
    "\n",
    "given_user = ['Target', 'Old Navy', 'Banana Republic', 'H&M']\n",
    "\n",
    "#similarty between user 83065 and given user\n",
    "brandsfor['83065']\n",
    "jaccard(brandsfor['83065'], given_user)"
   ]
  },
  {
   "cell_type": "code",
   "execution_count": null,
   "metadata": {
    "collapsed": true
   },
   "outputs": [],
   "source": []
  },
  {
   "cell_type": "code",
   "execution_count": 13,
   "metadata": {
    "collapsed": false
   },
   "outputs": [],
   "source": [
    "similarities = {k: jaccard(given_user, v) for k, v in brandsfor.iteritems()}\n",
    "\n",
    "similarities\n",
    "\n",
    "K = 5 #number of similar users to look at"
   ]
  },
  {
   "cell_type": "code",
   "execution_count": 14,
   "metadata": {
    "collapsed": false
   },
   "outputs": [],
   "source": [
    "# Now for the top K most similar users, let's aggregate the brands they like.\n",
    "# I sort by the jaccard similarty so most similar users are first\n",
    "# I use the sorted method, but because I'm dorting dictionaries\n",
    "# I specify the \"key\" as the value of the dictionary\n",
    "# the key is what the list should sort on\n",
    "# so the most similar users end up being on top\n",
    "most_similar_users = sorted(similarities, key=similarities.get, reverse=True)[:K]\n"
   ]
  },
  {
   "cell_type": "code",
   "execution_count": 15,
   "metadata": {
    "collapsed": false
   },
   "outputs": [
    {
     "data": {
      "text/plain": [
       "['81012', '84807', '88549', '82970', '91362']"
      ]
     },
     "execution_count": 15,
     "metadata": {},
     "output_type": "execute_result"
    }
   ],
   "source": [
    "# list of K similar users' IDs\n",
    "most_similar_users"
   ]
  },
  {
   "cell_type": "code",
   "execution_count": 16,
   "metadata": {
    "collapsed": false
   },
   "outputs": [
    {
     "name": "stdout",
     "output_type": "stream",
     "text": [
      "['Banana Republic', 'Old Navy', 'Target']\n",
      "['Steve Madden', 'Banana Republic', 'Old Navy', 'Target']\n",
      "['Banana Republic', 'Old Navy', 'Forever 21', 'Target']\n",
      "['Banana Republic', 'Gap', 'Old Navy', 'Target']\n",
      "['Banana Republic', 'Gap', 'Old Navy', 'Target']\n"
     ]
    }
   ],
   "source": [
    "# let's see what some of the most similar users likes\n",
    "print(brandsfor[most_similar_users[0]])\n",
    "print(brandsfor[most_similar_users[1]])\n",
    "print(brandsfor[most_similar_users[2]])\n",
    "print(brandsfor[most_similar_users[3]])\n",
    "print(brandsfor[most_similar_users[4]])"
   ]
  },
  {
   "cell_type": "code",
   "execution_count": 17,
   "metadata": {
    "collapsed": false
   },
   "outputs": [
    {
     "data": {
      "text/plain": [
       "{'Banana Republic', 'Forever 21', 'Gap', 'Old Navy', 'Steve Madden', 'Target'}"
      ]
     },
     "execution_count": 17,
     "metadata": {},
     "output_type": "execute_result"
    }
   ],
   "source": [
    "# Aggregate all brands liked by the K most similar users into a single set\n",
    "brands_to_recommend = set()\n",
    "for user in most_similar_users:\n",
    "    # for each user\n",
    "    brands_to_recommend.update(set(brandsfor[user]))\n",
    "    # add to the set of brands_to_recommend\n",
    "    \n",
    "    \n",
    "brands_to_recommend\n"
   ]
  },
  {
   "cell_type": "code",
   "execution_count": 18,
   "metadata": {
    "collapsed": false
   },
   "outputs": [
    {
     "data": {
      "text/plain": [
       "{'Forever 21', 'Gap', 'Steve Madden'}"
      ]
     },
     "execution_count": 18,
     "metadata": {},
     "output_type": "execute_result"
    }
   ],
   "source": [
    "# EXERCISE: use a set difference so brands_to_recommend only has\n",
    "# brands that given_user hasn't seen yet\n",
    "brands_to_recommend = brands_to_recommend - set(given_user)\n",
    "brands_to_recommend"
   ]
  },
  {
   "cell_type": "code",
   "execution_count": 20,
   "metadata": {
    "collapsed": false
   },
   "outputs": [
    {
     "name": "stdout",
     "output_type": "stream",
     "text": [
      "['Steve Madden', 'Forever 21', 'Gap', 'Gap']\n"
     ]
    },
    {
     "data": {
      "text/plain": [
       "Counter({'Forever 21': 1, 'Gap': 2, 'Steve Madden': 1})"
      ]
     },
     "execution_count": 20,
     "metadata": {},
     "output_type": "execute_result"
    }
   ],
   "source": [
    "import collections\n",
    "\n",
    "# We can take this one step further and caculate a \"score\" of recommendation\n",
    "# We will define the score as being the number of times\n",
    "# a brand appears within the first K users\n",
    "brands_to_recommend = []\n",
    "for user in most_similar_users:\n",
    "    brands_to_recommend += list(set(brandsfor[user]) - set(given_user))\n",
    "\n",
    "print brands_to_recommend\n",
    "# Use a counter to count the number of times a brand appears\n",
    "recommend_with_scores = collections.Counter(brands_to_recommend)\n",
    "\n",
    "# Now we see Gap has the highest score!\n",
    "recommend_with_scores\n"
   ]
  },
  {
   "cell_type": "markdown",
   "metadata": {},
   "source": [
    "##4. Recommender (Item Similarity)"
   ]
  },
  {
   "cell_type": "code",
   "execution_count": null,
   "metadata": {
    "collapsed": false
   },
   "outputs": [],
   "source": [
    "'''\n",
    "We can also define a similary between items using jaccard similarity.\n",
    "We can say that the similarity between two items is the jaccard similarity\n",
    "between the sets of people who like the two brands.\n",
    "\n",
    "Example: similarity of Gap to Target is:\n",
    "'''"
   ]
  },
  {
   "cell_type": "code",
   "execution_count": 21,
   "metadata": {
    "collapsed": false
   },
   "outputs": [],
   "source": [
    "# filter users by liking Gap\n",
    "gap_lovers = set(user_brands['Gap' == user_brands.Store].ID)\n",
    "old_navy_lovers = set(user_brands['Old Navy' == user_brands.Store].ID)"
   ]
  },
  {
   "cell_type": "code",
   "execution_count": 22,
   "metadata": {
    "collapsed": false
   },
   "outputs": [
    {
     "data": {
      "text/plain": [
       "0.35437212360289283"
      ]
     },
     "execution_count": 22,
     "metadata": {},
     "output_type": "execute_result"
    }
   ],
   "source": [
    "# similarty between Gap and Old Navy\n",
    "jaccard(gap_lovers, old_navy_lovers)"
   ]
  },
  {
   "cell_type": "code",
   "execution_count": 23,
   "metadata": {
    "collapsed": false
   },
   "outputs": [
    {
     "data": {
      "text/plain": [
       "0.21257750221434898"
      ]
     },
     "execution_count": 23,
     "metadata": {},
     "output_type": "execute_result"
    }
   ],
   "source": [
    "guess_lovers = set(user_brands['Guess' == user_brands.Store].ID)\n",
    "# similarty between Gap andGuess\n",
    "jaccard(guess_lovers, gap_lovers)\n"
   ]
  },
  {
   "cell_type": "code",
   "execution_count": 24,
   "metadata": {
    "collapsed": false
   },
   "outputs": [
    {
     "data": {
      "text/plain": [
       "0.2068654019873532"
      ]
     },
     "execution_count": 24,
     "metadata": {},
     "output_type": "execute_result"
    }
   ],
   "source": [
    "calvin_lovers = set(user_brands['Calvin Klein' == user_brands.Store].ID)\n",
    "# similarty between Gap and Calvin Klein\n",
    "jaccard(calvin_lovers, gap_lovers)\n"
   ]
  },
  {
   "cell_type": "code",
   "execution_count": null,
   "metadata": {
    "collapsed": true
   },
   "outputs": [],
   "source": []
  }
 ],
 "metadata": {
  "kernelspec": {
   "display_name": "Python 2",
   "language": "python",
   "name": "python2"
  },
  "language_info": {
   "codemirror_mode": {
    "name": "ipython",
    "version": 2
   },
   "file_extension": ".py",
   "mimetype": "text/x-python",
   "name": "python",
   "nbconvert_exporter": "python",
   "pygments_lexer": "ipython2",
   "version": "2.7.11"
  }
 },
 "nbformat": 4,
 "nbformat_minor": 0
}
