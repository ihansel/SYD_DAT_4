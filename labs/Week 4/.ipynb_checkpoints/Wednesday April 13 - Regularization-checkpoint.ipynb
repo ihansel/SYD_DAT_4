{
 "cells": [
  {
   "cell_type": "markdown",
   "metadata": {},
   "source": [
    "# Lab - Regularization\n",
    "\n",
    "## Week 4 Monday 11th January"
   ]
  },
  {
   "cell_type": "code",
   "execution_count": 3,
   "metadata": {
    "collapsed": false
   },
   "outputs": [],
   "source": [
    "## TASK: Regularized regression\n",
    "## FUNCTIONS: Ridge, RidgeCV, Lasso, LassoCV\n",
    "## DOCUMENTATION: http://scikit-learn.org/stable/modules/linear_model.html\n",
    "## DATA: Crime (n=319 non-null, p=122, type=regression)\n",
    "## DATA DICTIONARY: http://archive.ics.uci.edu/ml/datasets/Communities+and+Crime\n",
    "\n",
    "## This data set contains data on violent crimes within a community.\n",
    "\n",
    "########## Prepare data ##########\n",
    "# read in data, remove categorical features, remove rows with missing values\n",
    "import pandas as pd\n",
    "crime = pd.read_csv('http://archive.ics.uci.edu/ml/machine-learning-databases/communities/communities.data', header=None, na_values=['?'])\n",
    "crime = crime.iloc[:, 5:]\n",
    "crime.dropna(inplace=True)\n",
    "crime.head()\n",
    "\n",
    "# define X and y\n",
    "X = crime.iloc[:, :-1]\n",
    "y = crime.iloc[:, -1]\n",
    "\n",
    "# split into train/test\n",
    "from sklearn.cross_validation import train_test_split\n",
    "X_train, X_test, y_train, y_test = train_test_split(X, y, random_state=1)\n"
   ]
  },
  {
   "cell_type": "code",
   "execution_count": null,
   "metadata": {
    "collapsed": false
   },
   "outputs": [],
   "source": [
    "# How many columns are in X? 126"
   ]
  },
  {
   "cell_type": "code",
   "execution_count": 6,
   "metadata": {
    "collapsed": false
   },
   "outputs": [
    {
     "data": {
      "text/plain": [
       "array([ -3.66188167e+00,   6.98124465e-01,  -2.61955467e-01,\n",
       "        -2.85270027e-01,  -1.64740837e-01,   2.46972333e-01,\n",
       "        -1.09290051e+00,  -5.96857796e-01,   1.11200239e+00,\n",
       "        -7.21968931e-01,   4.27346598e+00,  -2.28040268e-01,\n",
       "         8.04875769e-01,  -2.57934732e-01,  -2.63458023e-01,\n",
       "        -1.04616958e+00,   6.07784197e-01,   7.73552561e-01,\n",
       "         5.96468029e-02,   6.90215922e-01,   2.16759430e-02,\n",
       "        -4.87802949e-01,  -5.18858404e-01,   1.39478815e-01,\n",
       "        -1.24417942e-01,   3.15003821e-01,  -1.52633736e-01,\n",
       "        -9.65003927e-01,   1.17142163e+00,  -3.08546690e-02,\n",
       "        -9.29085548e-01,   1.24654586e-01,   1.98104506e-01,\n",
       "         7.30804821e-01,  -1.77337294e-01,   8.32927588e-02,\n",
       "         3.46045601e-01,   5.01837338e-01,   1.57062958e+00,\n",
       "        -4.13478807e-01,   1.39350802e+00,  -3.49428114e+00,\n",
       "         7.09577818e-01,  -8.32141352e-01,  -1.39984927e+00,\n",
       "         1.02482840e+00,   2.13855006e-01,  -6.18937325e-01,\n",
       "         5.28954490e-01,   7.98294890e-02,   5.93688560e-02,\n",
       "        -1.68582667e-01,   7.31264051e-01,  -1.39635208e+00,\n",
       "         2.38507704e-01,   5.50621439e-01,  -5.61447867e-01,\n",
       "         6.18989764e-01,   2.55517024e+00,  -3.71769599e+00,\n",
       "         7.09191935e-01,   3.82041439e-01,   8.23752836e-01,\n",
       "        -1.67703547e+00,  -1.73150450e+00,   9.90120171e-01,\n",
       "        -5.72745697e-01,  -1.45877295e+00,   8.68032144e-01,\n",
       "         5.15959984e-01,   3.14453207e-02,   2.01869791e-01,\n",
       "         9.65291940e-02,   2.13034099e+00,  -6.95374423e-02,\n",
       "         4.62477023e-02,  -1.10565955e-02,  -1.34313780e-02,\n",
       "        -1.04515494e-01,  -8.76985171e-01,   4.26781907e-01,\n",
       "        -1.85405795e-01,  -8.16215517e-01,  -2.86596076e-01,\n",
       "        -1.56110708e-01,   1.76468580e+00,  -5.70163730e-01,\n",
       "        -7.54066704e-02,  -1.74212697e-01,  -8.89747220e-02,\n",
       "         2.26336403e-01,   1.38030073e+00,  -3.37304744e-01,\n",
       "        -2.57856611e-02,   8.91299188e-02,   3.49876793e-01,\n",
       "        -1.22428557e+00,  -3.67941205e+01,  -6.95699750e-01,\n",
       "         2.95269279e-01,  -1.48590316e-03,   2.34206416e-01,\n",
       "        -7.09533984e-03,   3.67152957e+01,  -8.90665109e-02,\n",
       "         3.79550678e-02,   3.19375782e-01,   4.60708905e-01,\n",
       "         1.41090069e-01,  -6.67017320e-01,  -2.59035245e-01,\n",
       "        -4.60600755e-04,  -1.51868232e-02,   7.54768410e-02,\n",
       "        -2.36105498e-03,  -1.50328233e-01,   1.85575558e-01,\n",
       "         6.31979224e-01,  -1.50253625e-01,   1.87638817e-02,\n",
       "        -3.38095851e-02,  -4.46104032e-01])"
      ]
     },
     "execution_count": 6,
     "metadata": {},
     "output_type": "execute_result"
    }
   ],
   "source": [
    "########## Linear Regression Model Without Regularization ##########\n",
    "# linear regression\n",
    "from sklearn.linear_model import LinearRegression\n",
    "lm = LinearRegression()\n",
    "lm.fit(X_train, y_train)\n",
    "lm.coef_\n",
    "# What are these numbers? Coefficients of the X variables"
   ]
  },
  {
   "cell_type": "code",
   "execution_count": 7,
   "metadata": {
    "collapsed": false
   },
   "outputs": [
    {
     "name": "stdout",
     "output_type": "stream",
     "text": [
      "RMSE (no regularization) = 0.233813676495\n"
     ]
    }
   ],
   "source": [
    "# make predictions and evaluate\n",
    "import numpy as np\n",
    "from sklearn import metrics\n",
    "preds = lm.predict(X_test)\n",
    "print 'RMSE (no regularization) =', np.sqrt(metrics.mean_squared_error(y_test, preds))"
   ]
  },
  {
   "cell_type": "code",
   "execution_count": 12,
   "metadata": {
    "collapsed": false
   },
   "outputs": [
    {
     "name": "stdout",
     "output_type": "stream",
     "text": [
      "[ -4.00298418e-03   3.51647445e-02   6.03535935e-02  -7.68532502e-02\n",
      "  -1.76099849e-02   4.53791433e-02   8.81586468e-03  -2.88885814e-02\n",
      "  -1.92143587e-02   3.36122201e-02   5.71590736e-04  -4.85438136e-02\n",
      "   5.55725157e-02  -1.15934270e-01  -1.11880845e-01  -3.32742094e-01\n",
      "  -1.12302031e-02   9.63833243e-02  -8.92057732e-02   8.42691702e-02\n",
      "  -1.67246717e-02   7.42520308e-03  -1.21294025e-01  -6.70155789e-02\n",
      "  -1.74250249e-03   1.69446833e-01   3.18217654e-02  -1.00209834e-01\n",
      "   3.97535644e-02  -1.19173054e-01  -1.04445267e-01  -5.14946676e-03\n",
      "   1.10071013e-01  -3.22958955e-02  -1.40601627e-01   7.72658029e-02\n",
      "   9.07962536e-02  -3.78878862e-03   4.61941793e-02   6.30299731e-02\n",
      "  -3.09236932e-02   1.02883578e-02   9.70425568e-02  -1.28936944e-01\n",
      "  -1.38268907e-01  -6.37169778e-02  -8.80160419e-02  -4.01991014e-02\n",
      "   8.11064596e-02  -6.30663975e-02   1.29756859e-01  -6.25210624e-02\n",
      "   1.60531213e-02  -1.39061824e-01   6.39822353e-02   4.87118744e-02\n",
      "  -7.68217532e-03  -1.53523412e-03   1.73028280e-02  -1.37258659e-03\n",
      "  -1.97381922e-02   4.47492477e-02   3.53941624e-03  -1.64126843e-02\n",
      "  -1.62363185e-02   7.10860268e-02  -1.34543849e-01   3.03401863e-02\n",
      "   2.87012058e-02   2.62507811e-01   3.87946361e-02   4.16976393e-02\n",
      "   2.45959130e-02   4.02803695e-02  -1.15568319e-02   1.82352709e-02\n",
      "  -1.11769965e-04   1.17220288e-02  -3.27960499e-02  -2.06336390e-02\n",
      "  -2.01424775e-02  -1.55746075e-02  -1.50471159e-01   5.00237268e-02\n",
      "   1.67270388e-02   1.27989507e-01  -7.55437715e-02  -7.22756020e-02\n",
      "  -8.80283128e-02   6.42301728e-02   1.39781081e-01   4.71861289e-02\n",
      "  -6.42667056e-02   3.16227166e-02  -1.36066226e-02   5.16507328e-02\n",
      "  -4.60206271e-02   6.55072592e-04   3.51488294e-02  -1.68717518e-02\n",
      "  -7.00033520e-03   4.99335627e-02   8.40464679e-02   3.87553978e-03\n",
      "  -1.23632746e-01  -2.24505480e-02  -2.47960018e-03   4.13468551e-02\n",
      "   8.26295505e-02  -4.84167513e-02   8.21329530e-03   1.57843967e-02\n",
      "  -1.94698620e-02   4.09120489e-02  -4.42911592e-02  -5.64373896e-02\n",
      "   1.17841094e-01   7.34994342e-02  -2.78153968e-02   3.74136314e-02\n",
      "  -7.67878399e-02  -4.65440973e-02]\n",
      "RMSE (Ridge reg.) = 0.164279068049\n"
     ]
    }
   ],
   "source": [
    "########## Ridge Regression Model ##########\n",
    "# ridge regression (alpha must be positive, larger means more regularization)\n",
    "from sklearn.linear_model import Ridge\n",
    "rreg = Ridge(alpha=0.1, normalize=True)\n",
    "rreg.fit(X_train, y_train)\n",
    "print rreg.coef_\n",
    "preds = rreg.predict(X_test)\n",
    "print 'RMSE (Ridge reg.) =', np.sqrt(metrics.mean_squared_error(y_test, preds))\n",
    "# Is this model better? Why? Yes because it MSE is smaller"
   ]
  },
  {
   "cell_type": "code",
   "execution_count": 16,
   "metadata": {
    "collapsed": false
   },
   "outputs": [
    {
     "name": "stdout",
     "output_type": "stream",
     "text": [
      "[ -1.35479199e-03   3.66493623e-03   5.67246153e-02  -6.65596102e-02\n",
      "   7.50154730e-03   3.73570277e-03   1.48458510e-02  -8.26212596e-03\n",
      "  -9.14751985e-04   8.17782143e-03  -9.58221848e-04   3.99333039e-03\n",
      "  -2.04774531e-02  -3.80310378e-02  -7.06311041e-02  -9.07995340e-02\n",
      "   3.92365601e-03   3.68491166e-02  -2.35269424e-02  -1.36618143e-02\n",
      "  -9.83437557e-03   1.30086791e-02  -3.43297706e-02  -5.04638755e-02\n",
      "  -9.82883411e-04   7.47392898e-02   2.63572032e-02  -1.07987605e-02\n",
      "   3.16035521e-02  -2.17283831e-02  -4.45588182e-03  -1.06490401e-02\n",
      "   4.42829964e-02  -3.72944143e-02  -6.18713730e-02   3.20124805e-02\n",
      "   5.85549588e-03  -1.23569409e-02   6.53560040e-02   3.46461301e-02\n",
      "   6.00524147e-02   6.39805254e-02   2.58651194e-02  -6.73126020e-02\n",
      "  -7.02669216e-02  -5.05555985e-02  -6.41318316e-02   8.24959798e-03\n",
      "   9.27945661e-03   2.77399795e-03   5.26650167e-02  -3.83854430e-03\n",
      "  -6.04984296e-03  -1.53114959e-02   1.72393078e-02   2.11864055e-02\n",
      "   4.40697120e-04   3.32044620e-03   7.16243927e-03   6.66440446e-03\n",
      "  -7.72185920e-05   2.69852368e-03   2.81341584e-02   1.97363420e-02\n",
      "  -6.50713075e-03   1.32688080e-02  -1.33248499e-02  -1.46491869e-02\n",
      "   2.30579186e-02   7.96862124e-02   2.12388813e-04   1.34268743e-02\n",
      "  -2.66304497e-02  -1.32590800e-02   2.00181039e-02   7.27144905e-03\n",
      "   5.04718226e-03   2.88522636e-02   7.53947389e-03  -7.97163573e-03\n",
      "  -5.55521252e-03  -1.71984008e-03  -3.34721090e-02  -8.08297495e-03\n",
      "  -8.41053916e-03   3.05921418e-04   9.38632965e-03  -6.90899365e-03\n",
      "  -3.05496999e-02   3.77828928e-02   6.33462868e-02   1.10005833e-02\n",
      "  -2.29792767e-02   7.97147365e-03   7.50701811e-03   8.23752156e-03\n",
      "   4.59206678e-05   1.14778395e-03   2.78344743e-05  -2.12672814e-03\n",
      "   1.25110687e-02   3.42230959e-02   4.08143239e-02   1.42423735e-03\n",
      "  -8.29660922e-02  -3.52386599e-02   3.32237250e-02  -1.77830301e-03\n",
      "   4.04432608e-02   1.85584939e-02   1.16761082e-02   8.52151434e-03\n",
      "  -1.32322008e-02   1.22894191e-02  -6.44216624e-03  -5.02763328e-03\n",
      "   3.37623134e-02   2.17114525e-02  -8.21584473e-03   2.04175614e-02\n",
      "  -3.06703463e-02  -9.00275805e-04]\n",
      "RMSE (Ridge CV reg.) = 0.163129782343\n"
     ]
    }
   ],
   "source": [
    "# use RidgeCV to select best alpha\n",
    "from sklearn.linear_model import RidgeCV\n",
    "alpha_range = 10.**np.arange(-2, 3)\n",
    "rregcv = RidgeCV(normalize=True, scoring='mean_squared_error', alphas=alpha_range)\n",
    "rregcv.fit(X_train, y_train)\n",
    "rregcv.alpha_\n",
    "preds = rregcv.predict(X_test)\n",
    "print rregcv.coef_\n",
    "print 'RMSE (Ridge CV reg.) =', np.sqrt(metrics.mean_squared_error(y_test, preds))\n",
    "# What is the range of alp vlues we are searching over? -2 to 3"
   ]
  },
  {
   "cell_type": "code",
   "execution_count": 18,
   "metadata": {
    "collapsed": false
   },
   "outputs": [
    {
     "name": "stdout",
     "output_type": "stream",
     "text": [
      "[ 0.          0.          0.         -0.03974695  0.          0.          0.\n",
      "  0.          0.         -0.          0.          0.         -0.         -0.\n",
      " -0.         -0.         -0.          0.         -0.         -0.         -0.\n",
      " -0.         -0.         -0.         -0.         -0.         -0.          0.\n",
      "  0.          0.          0.         -0.          0.         -0.         -0.\n",
      "  0.          0.         -0.          0.          0.          0.          0.\n",
      "  0.         -0.         -0.27503063 -0.         -0.         -0.         -0.\n",
      "  0.          0.          0.          0.          0.          0.          0.\n",
      "  0.          0.          0.          0.         -0.          0.          0.\n",
      "  0.          0.          0.          0.         -0.          0.          0.\n",
      " -0.          0.         -0.         -0.          0.          0.         -0.\n",
      "  0.          0.         -0.         -0.         -0.         -0.         -0.\n",
      " -0.         -0.          0.          0.         -0.          0.          0.\n",
      "  0.          0.         -0.          0.          0.          0.          0.\n",
      " -0.          0.          0.          0.          0.          0.         -0.\n",
      " -0.          0.          0.          0.          0.          0.          0.\n",
      "  0.          0.          0.          0.          0.          0.         -0.\n",
      "  0.         -0.          0.        ]\n",
      "RMSE (Lasso reg.) = 0.198165225429\n"
     ]
    }
   ],
   "source": [
    "########## Lasso Regression Model ##########\n",
    "# lasso (alpha must be positive, larger means more regularization)\n",
    "from sklearn.linear_model import Lasso\n",
    "las = Lasso(alpha=0.01, normalize=True)\n",
    "las.fit(X_train, y_train)\n",
    "print las.coef_\n",
    "preds = las.predict(X_test)\n",
    "print 'RMSE (Lasso reg.) =', np.sqrt(metrics.mean_squared_error(y_test, preds))"
   ]
  },
  {
   "cell_type": "code",
   "execution_count": 20,
   "metadata": {
    "collapsed": false
   },
   "outputs": [
    {
     "name": "stdout",
     "output_type": "stream",
     "text": [
      "[ 0.          0.          0.         -0.00418625 -0.          0.09573169\n",
      " -0.         -0.         -0.          0.          0.         -0.0308013   0.\n",
      " -0.09352469 -0.08937229 -0.58628915  0.          0.16706299 -0.06130851\n",
      "  0.11966402 -0.         -0.         -0.10046533 -0.01816658 -0.\n",
      "  0.19148624  0.0281072  -0.21042443  0.         -0.06733447 -0.30656472\n",
      "  0.          0.12856465 -0.         -0.18235778  0.05534065  0.14885766\n",
      "  0.          0.          0.         -0.07395512 -0.          0.16423116\n",
      " -0.         -0.3780258  -0.         -0.         -0.          0.03341259\n",
      " -0.          0.22040155 -0.02724104  0.         -0.10195256  0.06214765\n",
      "  0.0274531   0.          0.          0.          0.         -0.          0.\n",
      "  0.          0.          0.          0.         -0.2690561   0.          0.\n",
      "  0.35611039  0.04332233  0.04845138  0.0257534   0.12236177 -0.00563988\n",
      "  0.          0.          0.         -0.         -0.         -0.0261296  -0.\n",
      " -0.36526572  0.          0.          0.3897239  -0.05088597 -0.11944353\n",
      " -0.07416446  0.03742248  0.15420475  0.06425829 -0.11141704  0.         -0.\n",
      "  0.10241054 -0.         -0.          0.01559901 -0.00149672 -0.          0.\n",
      "  0.10057832 -0.         -0.17578883 -0.         -0.          0.02694208\n",
      "  0.09249571 -0.         -0.          0.01179924 -0.00760995  0.04291238\n",
      " -0.06641967 -0.05050237  0.1498314   0.         -0.01623123  0.03266239\n",
      " -0.07961514 -0.02043446]\n",
      "RMSE (Lasso reg.) = 0.164502413721\n"
     ]
    }
   ],
   "source": [
    "# try a smaller alpha\n",
    "las = Lasso(alpha=0.0001, normalize=True)\n",
    "las.fit(X_train, y_train)\n",
    "print las.coef_\n",
    "preds = las.predict(X_test)\n",
    "print 'RMSE (Lasso reg.) =', np.sqrt(metrics.mean_squared_error(y_test, preds))\n"
   ]
  },
  {
   "cell_type": "code",
   "execution_count": 22,
   "metadata": {
    "collapsed": false
   },
   "outputs": [
    {
     "name": "stdout",
     "output_type": "stream",
     "text": [
      "0.01\n",
      "[ 0.          0.          0.         -0.03974695  0.          0.          0.\n",
      "  0.          0.         -0.          0.          0.         -0.         -0.\n",
      " -0.         -0.         -0.          0.         -0.         -0.         -0.\n",
      " -0.         -0.         -0.         -0.         -0.         -0.          0.\n",
      "  0.          0.          0.         -0.          0.         -0.         -0.\n",
      "  0.          0.         -0.          0.          0.          0.          0.\n",
      "  0.         -0.         -0.27503063 -0.         -0.         -0.         -0.\n",
      "  0.          0.          0.          0.          0.          0.          0.\n",
      "  0.          0.          0.          0.         -0.          0.          0.\n",
      "  0.          0.          0.          0.         -0.          0.          0.\n",
      " -0.          0.         -0.         -0.          0.          0.         -0.\n",
      "  0.          0.         -0.         -0.         -0.         -0.         -0.\n",
      " -0.         -0.          0.          0.         -0.          0.          0.\n",
      "  0.          0.         -0.          0.          0.          0.          0.\n",
      " -0.          0.          0.          0.          0.          0.         -0.\n",
      " -0.          0.          0.          0.          0.          0.          0.\n",
      "  0.          0.          0.          0.          0.          0.         -0.\n",
      "  0.         -0.          0.        ]\n",
      "RMSE (Lasso CV reg.) = 0.198165225429\n"
     ]
    }
   ],
   "source": [
    "# use LassoCV to select best alpha (tries 100 alphas by default)\n",
    "from sklearn.linear_model import LassoCV\n",
    "lascv = LassoCV(normalize=True, alphas=alpha_range)\n",
    "lascv.fit(X_train, y_train)\n",
    "print lascv.alpha_\n",
    "print lascv.coef_\n",
    "preds = lascv.predict(X_test)\n",
    "print 'RMSE (Lasso CV reg.) =', np.sqrt(metrics.mean_squared_error(y_test, preds))"
   ]
  },
  {
   "cell_type": "markdown",
   "metadata": {},
   "source": [
    "### Lookup [Elastic Net](http://scikit-learn.org/stable/modules/linear_model.html#elastic-net) and complete the following.\n",
    "\n",
    "\n",
    "\n",
    "1. What is elastic net?\n",
    "2. How does it work?\n",
    "3. Run elastic net on the above dataset"
   ]
  },
  {
   "cell_type": "code",
   "execution_count": 53,
   "metadata": {
    "collapsed": false
   },
   "outputs": [
    {
     "data": {
      "text/plain": [
       "<matplotlib.legend.Legend at 0x11e0a1650>"
      ]
     },
     "execution_count": 53,
     "metadata": {},
     "output_type": "execute_result"
    },
    {
     "data": {
      "image/png": "[encoded data removed]",
      "text/plain": [
       "<matplotlib.figure.Figure at 0x11d0faf10>"
      ]
     },
     "metadata": {},
     "output_type": "display_data"
    }
   ],
   "source": [
    "import matplotlib.pyplot as plt\n",
    "%matplotlib inline\n",
    "\n",
    "from sklearn.linear_model import ElasticNet\n",
    "#ElasticNet fitting\n",
    "enet = ElasticNet(alpha=0.01, l1_ratio=0.7,normalize=True)\n",
    "#higher the l1_ratio, the more it becomes like Lasso\n",
    "model_enet = enet.fit(X_train, y_train)\n",
    "\n",
    "#just lasso fitting\n",
    "lasso = Lasso(alpha=0.01, normalize=True)\n",
    "model_lasso = lasso.fit(X_train, y_train)\n",
    "\n",
    "#print model_enet.coef_\n",
    "l1 = plt.plot(enet.coef_, label='ElasticNet coefficients')\n",
    "#print model_lasso.coef_\n",
    "l2 = plt.plot(lasso.coef_, label='Lasso coefficients')\n",
    "plt.legend((l1[-1], l2[-1]),loc='lower left')"
   ]
  }
 ],
 "metadata": {
  "kernelspec": {
   "display_name": "Python 2",
   "language": "python",
   "name": "python2"
  },
  "language_info": {
   "codemirror_mode": {
    "name": "ipython",
    "version": 2
   },
   "file_extension": ".py",
   "mimetype": "text/x-python",
   "name": "python",
   "nbconvert_exporter": "python",
   "pygments_lexer": "ipython2",
   "version": "2.7.11"
  }
 },
 "nbformat": 4,
 "nbformat_minor": 0
}
