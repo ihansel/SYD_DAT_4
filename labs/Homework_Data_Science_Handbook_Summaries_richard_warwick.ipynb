{
 "cells": [
  {
   "cell_type": "markdown",
   "metadata": {},
   "source": [
    "# Summary of Two Chapters of The Data Science Notebook\n",
    "\n",
    "## Summary 1: Chapter 4, Mike Dewar (NYT)\n",
    "\n",
    "[Mike Dewar] [1] entered the field of Data Science through a post-doctorate academic career. After completing a PhD in Modelling Complex Systems he worked on a variety of scientific applications, mostly in the biology and genetics. After meeting [Hilary Mason] [2] (via [Chris Wiggins] [3]) Mike joined Bitly as a data scientist which made him \"probably amongst the first people (anywhere) to have that title\" (42). \n",
    "\n",
    "From Bitly Mike joined [NYT Labs] [4], his workplace at the time of the interview. On making the transition from academia to corporate/commercial world, Mike clearly has love and respect for the rigour and dynamism of academia, citing more well-paid opportunities free of the need to lecture as the main motivator in leaving.\n",
    "\n",
    "Mike is a strong proponent of quick visualisations when seeking to understand a dataset and ask and answer quick questions that will help inform where to dive deeper. He describes the way graphical modelling begins to explain assumptions about a system as well as give some mathematical structure that you can later test. This emphasis on visualisation is carried into the work he was doing at NYT Labs, where he is \"trying hard to show all the data \" (44). Showing all the data in a way that interpreters can dive in at their own agency - investigate outliers or clustering for example - can be both informative and provocative.\n",
    "\n",
    "Mike makes the point that computer-driven journalism or \"computer assisted reporting\" (45) is hardly new, but has grown in scope and is fueled by more publicly available data, particularly sexy whistleblower wikileak data. Mike describe how the mandate for NYT labs is to be looking three to five years in the future. This helps give them a competitive advantage at the current pace of technological change and drive experimentation and innovation.\n",
    "\n",
    "Mike believes that coding in public is crucial to the development of any prospective data scientist in addition to networking and to \"try to apply all your work to something\" (47), describing how 4 years of work was unnoticed until later applied to model troop movements in Afghanistan to much acclaim.\n",
    "\n",
    "## Summary 2: Chapter 12, George Roumeliotis (Intuit) ##\n",
    "\n",
    "George Roumeliotis completed a Stanford Ph.D. in theoretical and computational plasma astrophysics. After realising the difficulty in finding tenure in such a specific field, George followed an interest into business applications and applied mathematics. \n",
    "\n",
    "His path into data science can be traced from developing Bayesian image processing techniques for processing astronomical images via machine learning. He then developed adaptive learning systems to optimise online advertising - essentially optimising revenue streams through display advertising algorithms. The Dot Com Crash killed this business pretty quickly and George moved on to a more successful startup soon after. \n",
    "\n",
    "Eventually, George moved away from startups and became a Data Scientist at [Intuit] [5]. He can track the changes in commercial focus of big data and advanced analytics from marketing optimisation, to UX, to now the productisation or \"Big Data for the Little Guy\" giving, everyday users access to data and insights previously available only to multi-million dollar companies. His career progression could be seen to reflect this industry progression.\n",
    "\n",
    "In the balance of the article George makes a series of business-focused insights and remarks about data science:\n",
    "\n",
    "* He reinforces the \"T Shaped\" Data scientist with belief that a good data scientist should be a \"swiss army knife\" competent across applied mathematics, computer science, business consulting, and new product development. He makes the distinction that business communication skills are the difference between being a \"Data Gopher\" and a data scientist.\n",
    "\n",
    "* George emphasises SQL and Hadoop competency, as well as R and mainstream programming languages like Java or C++, Python is recommended as a scripting language. For business skills he suggests learning through experience, running some kind of business to understand the challenges, focus and culture.\n",
    "\n",
    "* He speaks of the difference in presentation style from science/academia to business - results first and then working as needed. This point resonated strongly with me, as many professionals across all industries tend to communicate in a way that contradicts a stakeholders needs/ability.\n",
    "\n",
    "* Take into account efficiency for business. \"Truth is, it's really difficult to change a business process\" as it can lead to lost jobs, extra efficiency. Comments about taking ownership and responsibility of the business seem pertinent, as I perceive this to be vital in affecting real change.\n",
    "\n",
    "* Prove you are a reliable partner with small wins before going to hit it out of the park.\n",
    "\n",
    "George preserves an elite view of data scientists and their capabilities and importance to the business landscape, championing the multi-disciplinary data scientist both in theory and in practice.\n",
    "\n",
    "[1]: https://twitter.com/mikedewar \"Mike's Twitter\"\n",
    "[2]: https://twitter.com/hmason \"Hilary's Twitter\"\n",
    "[3]: https://twitter.com/chrishwiggins \"Chris's Twitter\"\n",
    "[4]: http://nytlabs.com/ \"NYT Labs Site\"\n",
    "[5]: http://www.intuit.com/ \"Intuit Site\""
   ]
  }
 ],
 "metadata": {
  "kernelspec": {
   "display_name": "Python 2",
   "language": "python",
   "name": "python2"
  },
  "language_info": {
   "codemirror_mode": {
    "name": "ipython",
    "version": 2
   },
   "file_extension": ".py",
   "mimetype": "text/x-python",
   "name": "python",
   "nbconvert_exporter": "python",
   "pygments_lexer": "ipython2",
   "version": "2.7.11"
  }
 },
 "nbformat": 4,
 "nbformat_minor": 0
}
