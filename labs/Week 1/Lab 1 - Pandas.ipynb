{
 "cells": [
  {
   "cell_type": "markdown",
   "metadata": {},
   "source": [
    "# Data Science Course Week 1 - Pandas and Data Manipulation\n",
    "\n",
    "## We will be using real data sources to explore the features of Pandas\n",
    "\n",
    "MovieLens 100k movie rating data:\n",
    "    main page: http://grouplens.org/datasets/movielens/\n",
    "    data dictionary: http://files.grouplens.org/datasets/movielens/ml-100k-README.txt\n",
    "    files: u.user, u.data, u.item\n",
    "\n",
    "WHO alcohol consumption data:\n",
    "    article: http://fivethirtyeight.com/datalab/dear-mona-followup-where-do-people-drink-the-most-beer-wine-and-spirits/    \n",
    "    original data: https://github.com/fivethirtyeight/data/tree/master/alcohol-consumption\n",
    "    file: drinks.csv (with additional 'continent' column)\n",
    "\n",
    "National UFO Reporting Center data:\n",
    "    main page: http://www.nuforc.org/webreports.html\n",
    "    file: ufo.csv\n"
   ]
  },
  {
   "cell_type": "code",
   "execution_count": 1,
   "metadata": {
    "collapsed": true
   },
   "outputs": [],
   "source": [
    "import pandas as pd"
   ]
  },
  {
   "cell_type": "markdown",
   "metadata": {},
   "source": [
    "###Reading Files, Selecting Columns, and Summarizing"
   ]
  },
  {
   "cell_type": "code",
   "execution_count": 2,
   "metadata": {
    "collapsed": false,
    "scrolled": true
   },
   "outputs": [
    {
     "data": {
      "text/html": [
       "<div>\n",
       "<table border=\"1\" class=\"dataframe\">\n",
       "  <thead>\n",
       "    <tr style=\"text-align: right;\">\n",
       "      <th></th>\n",
       "      <th>1|24|M|technician|85711</th>\n",
       "    </tr>\n",
       "  </thead>\n",
       "  <tbody>\n",
       "    <tr>\n",
       "      <th>0</th>\n",
       "      <td>2|53|F|other|94043</td>\n",
       "    </tr>\n",
       "    <tr>\n",
       "      <th>1</th>\n",
       "      <td>3|23|M|writer|32067</td>\n",
       "    </tr>\n",
       "    <tr>\n",
       "      <th>2</th>\n",
       "      <td>4|24|M|technician|43537</td>\n",
       "    </tr>\n",
       "    <tr>\n",
       "      <th>3</th>\n",
       "      <td>5|33|F|other|15213</td>\n",
       "    </tr>\n",
       "    <tr>\n",
       "      <th>4</th>\n",
       "      <td>6|42|M|executive|98101</td>\n",
       "    </tr>\n",
       "    <tr>\n",
       "      <th>5</th>\n",
       "      <td>7|57|M|administrator|91344</td>\n",
       "    </tr>\n",
       "    <tr>\n",
       "      <th>6</th>\n",
       "      <td>8|36|M|administrator|05201</td>\n",
       "    </tr>\n",
       "    <tr>\n",
       "      <th>7</th>\n",
       "      <td>9|29|M|student|01002</td>\n",
       "    </tr>\n",
       "    <tr>\n",
       "      <th>8</th>\n",
       "      <td>10|53|M|lawyer|90703</td>\n",
       "    </tr>\n",
       "    <tr>\n",
       "      <th>9</th>\n",
       "      <td>11|39|F|other|30329</td>\n",
       "    </tr>\n",
       "    <tr>\n",
       "      <th>10</th>\n",
       "      <td>12|28|F|other|06405</td>\n",
       "    </tr>\n",
       "    <tr>\n",
       "      <th>11</th>\n",
       "      <td>13|47|M|educator|29206</td>\n",
       "    </tr>\n",
       "    <tr>\n",
       "      <th>12</th>\n",
       "      <td>14|45|M|scientist|55106</td>\n",
       "    </tr>\n",
       "    <tr>\n",
       "      <th>13</th>\n",
       "      <td>15|49|F|educator|97301</td>\n",
       "    </tr>\n",
       "    <tr>\n",
       "      <th>14</th>\n",
       "      <td>16|21|M|entertainment|10309</td>\n",
       "    </tr>\n",
       "    <tr>\n",
       "      <th>15</th>\n",
       "      <td>17|30|M|programmer|06355</td>\n",
       "    </tr>\n",
       "    <tr>\n",
       "      <th>16</th>\n",
       "      <td>18|35|F|other|37212</td>\n",
       "    </tr>\n",
       "    <tr>\n",
       "      <th>17</th>\n",
       "      <td>19|40|M|librarian|02138</td>\n",
       "    </tr>\n",
       "    <tr>\n",
       "      <th>18</th>\n",
       "      <td>20|42|F|homemaker|95660</td>\n",
       "    </tr>\n",
       "    <tr>\n",
       "      <th>19</th>\n",
       "      <td>21|26|M|writer|30068</td>\n",
       "    </tr>\n",
       "    <tr>\n",
       "      <th>20</th>\n",
       "      <td>22|25|M|writer|40206</td>\n",
       "    </tr>\n",
       "    <tr>\n",
       "      <th>21</th>\n",
       "      <td>23|30|F|artist|48197</td>\n",
       "    </tr>\n",
       "    <tr>\n",
       "      <th>22</th>\n",
       "      <td>24|21|F|artist|94533</td>\n",
       "    </tr>\n",
       "    <tr>\n",
       "      <th>23</th>\n",
       "      <td>25|39|M|engineer|55107</td>\n",
       "    </tr>\n",
       "    <tr>\n",
       "      <th>24</th>\n",
       "      <td>26|49|M|engineer|21044</td>\n",
       "    </tr>\n",
       "    <tr>\n",
       "      <th>25</th>\n",
       "      <td>27|40|F|librarian|30030</td>\n",
       "    </tr>\n",
       "    <tr>\n",
       "      <th>26</th>\n",
       "      <td>28|32|M|writer|55369</td>\n",
       "    </tr>\n",
       "    <tr>\n",
       "      <th>27</th>\n",
       "      <td>29|41|M|programmer|94043</td>\n",
       "    </tr>\n",
       "    <tr>\n",
       "      <th>28</th>\n",
       "      <td>30|7|M|student|55436</td>\n",
       "    </tr>\n",
       "    <tr>\n",
       "      <th>29</th>\n",
       "      <td>31|24|M|artist|10003</td>\n",
       "    </tr>\n",
       "    <tr>\n",
       "      <th>...</th>\n",
       "      <td>...</td>\n",
       "    </tr>\n",
       "    <tr>\n",
       "      <th>912</th>\n",
       "      <td>914|44|F|other|08105</td>\n",
       "    </tr>\n",
       "    <tr>\n",
       "      <th>913</th>\n",
       "      <td>915|50|M|entertainment|60614</td>\n",
       "    </tr>\n",
       "    <tr>\n",
       "      <th>914</th>\n",
       "      <td>916|27|M|engineer|N2L5N</td>\n",
       "    </tr>\n",
       "    <tr>\n",
       "      <th>915</th>\n",
       "      <td>917|22|F|student|20006</td>\n",
       "    </tr>\n",
       "    <tr>\n",
       "      <th>916</th>\n",
       "      <td>918|40|M|scientist|70116</td>\n",
       "    </tr>\n",
       "    <tr>\n",
       "      <th>917</th>\n",
       "      <td>919|25|M|other|14216</td>\n",
       "    </tr>\n",
       "    <tr>\n",
       "      <th>918</th>\n",
       "      <td>920|30|F|artist|90008</td>\n",
       "    </tr>\n",
       "    <tr>\n",
       "      <th>919</th>\n",
       "      <td>921|20|F|student|98801</td>\n",
       "    </tr>\n",
       "    <tr>\n",
       "      <th>920</th>\n",
       "      <td>922|29|F|administrator|21114</td>\n",
       "    </tr>\n",
       "    <tr>\n",
       "      <th>921</th>\n",
       "      <td>923|21|M|student|E2E3R</td>\n",
       "    </tr>\n",
       "    <tr>\n",
       "      <th>922</th>\n",
       "      <td>924|29|M|other|11753</td>\n",
       "    </tr>\n",
       "    <tr>\n",
       "      <th>923</th>\n",
       "      <td>925|18|F|salesman|49036</td>\n",
       "    </tr>\n",
       "    <tr>\n",
       "      <th>924</th>\n",
       "      <td>926|49|M|entertainment|01701</td>\n",
       "    </tr>\n",
       "    <tr>\n",
       "      <th>925</th>\n",
       "      <td>927|23|M|programmer|55428</td>\n",
       "    </tr>\n",
       "    <tr>\n",
       "      <th>926</th>\n",
       "      <td>928|21|M|student|55408</td>\n",
       "    </tr>\n",
       "    <tr>\n",
       "      <th>927</th>\n",
       "      <td>929|44|M|scientist|53711</td>\n",
       "    </tr>\n",
       "    <tr>\n",
       "      <th>928</th>\n",
       "      <td>930|28|F|scientist|07310</td>\n",
       "    </tr>\n",
       "    <tr>\n",
       "      <th>929</th>\n",
       "      <td>931|60|M|educator|33556</td>\n",
       "    </tr>\n",
       "    <tr>\n",
       "      <th>930</th>\n",
       "      <td>932|58|M|educator|06437</td>\n",
       "    </tr>\n",
       "    <tr>\n",
       "      <th>931</th>\n",
       "      <td>933|28|M|student|48105</td>\n",
       "    </tr>\n",
       "    <tr>\n",
       "      <th>932</th>\n",
       "      <td>934|61|M|engineer|22902</td>\n",
       "    </tr>\n",
       "    <tr>\n",
       "      <th>933</th>\n",
       "      <td>935|42|M|doctor|66221</td>\n",
       "    </tr>\n",
       "    <tr>\n",
       "      <th>934</th>\n",
       "      <td>936|24|M|other|32789</td>\n",
       "    </tr>\n",
       "    <tr>\n",
       "      <th>935</th>\n",
       "      <td>937|48|M|educator|98072</td>\n",
       "    </tr>\n",
       "    <tr>\n",
       "      <th>936</th>\n",
       "      <td>938|38|F|technician|55038</td>\n",
       "    </tr>\n",
       "    <tr>\n",
       "      <th>937</th>\n",
       "      <td>939|26|F|student|33319</td>\n",
       "    </tr>\n",
       "    <tr>\n",
       "      <th>938</th>\n",
       "      <td>940|32|M|administrator|02215</td>\n",
       "    </tr>\n",
       "    <tr>\n",
       "      <th>939</th>\n",
       "      <td>941|20|M|student|97229</td>\n",
       "    </tr>\n",
       "    <tr>\n",
       "      <th>940</th>\n",
       "      <td>942|48|F|librarian|78209</td>\n",
       "    </tr>\n",
       "    <tr>\n",
       "      <th>941</th>\n",
       "      <td>943|22|M|student|77841</td>\n",
       "    </tr>\n",
       "  </tbody>\n",
       "</table>\n",
       "<p>942 rows × 1 columns</p>\n",
       "</div>"
      ],
      "text/plain": [
       "          1|24|M|technician|85711\n",
       "0              2|53|F|other|94043\n",
       "1             3|23|M|writer|32067\n",
       "2         4|24|M|technician|43537\n",
       "3              5|33|F|other|15213\n",
       "4          6|42|M|executive|98101\n",
       "5      7|57|M|administrator|91344\n",
       "6      8|36|M|administrator|05201\n",
       "7            9|29|M|student|01002\n",
       "8            10|53|M|lawyer|90703\n",
       "9             11|39|F|other|30329\n",
       "10            12|28|F|other|06405\n",
       "11         13|47|M|educator|29206\n",
       "12        14|45|M|scientist|55106\n",
       "13         15|49|F|educator|97301\n",
       "14    16|21|M|entertainment|10309\n",
       "15       17|30|M|programmer|06355\n",
       "16            18|35|F|other|37212\n",
       "17        19|40|M|librarian|02138\n",
       "18        20|42|F|homemaker|95660\n",
       "19           21|26|M|writer|30068\n",
       "20           22|25|M|writer|40206\n",
       "21           23|30|F|artist|48197\n",
       "22           24|21|F|artist|94533\n",
       "23         25|39|M|engineer|55107\n",
       "24         26|49|M|engineer|21044\n",
       "25        27|40|F|librarian|30030\n",
       "26           28|32|M|writer|55369\n",
       "27       29|41|M|programmer|94043\n",
       "28           30|7|M|student|55436\n",
       "29           31|24|M|artist|10003\n",
       "..                            ...\n",
       "912          914|44|F|other|08105\n",
       "913  915|50|M|entertainment|60614\n",
       "914       916|27|M|engineer|N2L5N\n",
       "915        917|22|F|student|20006\n",
       "916      918|40|M|scientist|70116\n",
       "917          919|25|M|other|14216\n",
       "918         920|30|F|artist|90008\n",
       "919        921|20|F|student|98801\n",
       "920  922|29|F|administrator|21114\n",
       "921        923|21|M|student|E2E3R\n",
       "922          924|29|M|other|11753\n",
       "923       925|18|F|salesman|49036\n",
       "924  926|49|M|entertainment|01701\n",
       "925     927|23|M|programmer|55428\n",
       "926        928|21|M|student|55408\n",
       "927      929|44|M|scientist|53711\n",
       "928      930|28|F|scientist|07310\n",
       "929       931|60|M|educator|33556\n",
       "930       932|58|M|educator|06437\n",
       "931        933|28|M|student|48105\n",
       "932       934|61|M|engineer|22902\n",
       "933         935|42|M|doctor|66221\n",
       "934          936|24|M|other|32789\n",
       "935       937|48|M|educator|98072\n",
       "936     938|38|F|technician|55038\n",
       "937        939|26|F|student|33319\n",
       "938  940|32|M|administrator|02215\n",
       "939        941|20|M|student|97229\n",
       "940      942|48|F|librarian|78209\n",
       "941        943|22|M|student|77841\n",
       "\n",
       "[942 rows x 1 columns]"
      ]
     },
     "execution_count": 2,
     "metadata": {},
     "output_type": "execute_result"
    }
   ],
   "source": [
    "# can read a file from local computer or directly from a URL\n",
    "pd.read_table('u.user')\n",
    "#pd.read_table('https://raw.githubusercontent.com/ihansel/SYD_DAT_3_labs/Week 1/u.user')"
   ]
  },
  {
   "cell_type": "code",
   "execution_count": 3,
   "metadata": {
    "collapsed": true
   },
   "outputs": [],
   "source": [
    "# read 'u.user' into 'users'\n",
    "user_cols = ['user_id', 'age', 'gender', 'occupation', 'zip_code']\n",
    "users = pd.read_table('u.user', sep='|', header=None, names=user_cols, index_col='user_id', dtype={'zip_code':str})"
   ]
  },
  {
   "cell_type": "code",
   "execution_count": 18,
   "metadata": {
    "collapsed": false
   },
   "outputs": [
    {
     "name": "stdout",
     "output_type": "stream",
     "text": [
      "<class 'pandas.core.frame.DataFrame'>\n",
      "Int64Index: 943 entries, 1 to 943\n",
      "Data columns (total 4 columns):\n",
      "age           943 non-null int64\n",
      "gender        943 non-null object\n",
      "occupation    943 non-null object\n",
      "zip_code      943 non-null object\n",
      "dtypes: int64(1), object(3)\n",
      "memory usage: 36.8+ KB\n"
     ]
    }
   ],
   "source": [
    "# examine the users data\n",
    "#users                   # print the first 30 and last 30 rows\n",
    "#type(users)             # DataFrame\n",
    "#users.head()            # print the first 5 rows\n",
    "#users.head(10)          # print the first 10 rows\n",
    "#users.tail()            # print the last 5 rows\n",
    "#users.index             # \"the index\" (aka \"the labels\")\n",
    "#users.columns           # column names (which is \"an index\")\n",
    "#users.dtypes            # data types of each column\n",
    "users.shape             # number of rows and columns\n",
    "users.values            # underlying numpy array\n",
    "users.info()            # concise summary (including memory usage)"
   ]
  },
  {
   "cell_type": "code",
   "execution_count": 21,
   "metadata": {
    "collapsed": false
   },
   "outputs": [
    {
     "data": {
      "text/plain": [
       "user_id\n",
       "1      M\n",
       "2      F\n",
       "3      M\n",
       "4      M\n",
       "5      F\n",
       "6      M\n",
       "7      M\n",
       "8      M\n",
       "9      M\n",
       "10     M\n",
       "11     F\n",
       "12     F\n",
       "13     M\n",
       "14     M\n",
       "15     F\n",
       "16     M\n",
       "17     M\n",
       "18     F\n",
       "19     M\n",
       "20     F\n",
       "21     M\n",
       "22     M\n",
       "23     F\n",
       "24     F\n",
       "25     M\n",
       "26     M\n",
       "27     F\n",
       "28     M\n",
       "29     M\n",
       "30     M\n",
       "      ..\n",
       "914    F\n",
       "915    M\n",
       "916    M\n",
       "917    F\n",
       "918    M\n",
       "919    M\n",
       "920    F\n",
       "921    F\n",
       "922    F\n",
       "923    M\n",
       "924    M\n",
       "925    F\n",
       "926    M\n",
       "927    M\n",
       "928    M\n",
       "929    M\n",
       "930    F\n",
       "931    M\n",
       "932    M\n",
       "933    M\n",
       "934    M\n",
       "935    M\n",
       "936    M\n",
       "937    M\n",
       "938    F\n",
       "939    F\n",
       "940    M\n",
       "941    M\n",
       "942    F\n",
       "943    M\n",
       "Name: gender, dtype: object"
      ]
     },
     "execution_count": 21,
     "metadata": {},
     "output_type": "execute_result"
    }
   ],
   "source": [
    "# select a column\n",
    "#users['gender']         # select one column\n",
    "#type(users['gender'])   # Series\n",
    "users.gender            # select one column using the DataFrame attribute\n"
   ]
  },
  {
   "cell_type": "code",
   "execution_count": 26,
   "metadata": {
    "collapsed": false
   },
   "outputs": [
    {
     "data": {
      "text/plain": [
       "34.051961823966067"
      ]
     },
     "execution_count": 26,
     "metadata": {},
     "output_type": "execute_result"
    }
   ],
   "source": [
    "# summarize (describe) the data\n",
    "#users.describe()                    # describe all numeric columns\n",
    "#users.describe(include=['object'])  # describe all object columns (can include multiple types)\n",
    "#users.describe(include='all')       # describe all columns\n",
    "#users.gender.describe()             # describe a single column\n",
    "users.age.mean()                    # only calculate the mean\n"
   ]
  },
  {
   "cell_type": "code",
   "execution_count": 29,
   "metadata": {
    "collapsed": false
   },
   "outputs": [
    {
     "data": {
      "text/plain": [
       "30    39\n",
       "25    38\n",
       "22    37\n",
       "28    36\n",
       "27    35\n",
       "26    34\n",
       "24    33\n",
       "29    32\n",
       "20    32\n",
       "32    28\n",
       "23    28\n",
       "35    27\n",
       "21    27\n",
       "33    26\n",
       "31    25\n",
       "19    23\n",
       "44    23\n",
       "39    22\n",
       "40    21\n",
       "36    21\n",
       "42    21\n",
       "51    20\n",
       "50    20\n",
       "48    20\n",
       "49    19\n",
       "37    19\n",
       "18    18\n",
       "34    17\n",
       "38    17\n",
       "45    15\n",
       "      ..\n",
       "47    14\n",
       "43    13\n",
       "46    12\n",
       "53    12\n",
       "55    11\n",
       "41    10\n",
       "57     9\n",
       "60     9\n",
       "52     6\n",
       "56     6\n",
       "15     6\n",
       "13     5\n",
       "16     5\n",
       "54     4\n",
       "63     3\n",
       "14     3\n",
       "65     3\n",
       "70     3\n",
       "61     3\n",
       "59     3\n",
       "58     3\n",
       "64     2\n",
       "68     2\n",
       "69     2\n",
       "62     2\n",
       "11     1\n",
       "10     1\n",
       "73     1\n",
       "66     1\n",
       "7      1\n",
       "Name: age, dtype: int64"
      ]
     },
     "execution_count": 29,
     "metadata": {},
     "output_type": "execute_result"
    }
   ],
   "source": [
    "# count the number of occurrences of each value\n",
    "#users.occupation.value_counts()     # most useful for categorical variables\n",
    "users.age.value_counts()        # can also be used with numeric variables\n"
   ]
  },
  {
   "cell_type": "markdown",
   "metadata": {},
   "source": [
    "##EXERCISE ONE"
   ]
  },
  {
   "cell_type": "code",
   "execution_count": null,
   "metadata": {
    "collapsed": true
   },
   "outputs": [],
   "source": [
    "# read drinks.csv into a DataFrame called 'drinks'\n",
    "drinks = pd.read_table('drinks.csv', sep=',')\n",
    "drinks = pd.read_csv('drinks.csv')              # assumes separator is comma\n"
   ]
  },
  {
   "cell_type": "code",
   "execution_count": null,
   "metadata": {
    "collapsed": false
   },
   "outputs": [],
   "source": [
    "# print the head and the tail\n",
    "drinks.head()\n",
    "drinks.tail()"
   ]
  },
  {
   "cell_type": "code",
   "execution_count": null,
   "metadata": {
    "collapsed": false
   },
   "outputs": [],
   "source": [
    "# examine the default index, data types, and shape\n",
    "drinks.index\n",
    "drinks.dtypes\n",
    "drinks.shape"
   ]
  },
  {
   "cell_type": "code",
   "execution_count": null,
   "metadata": {
    "collapsed": false
   },
   "outputs": [],
   "source": [
    "# print the 'beer_servings' Series\n",
    "drinks['beer_servings']\n",
    "drinks.beer_servings\n"
   ]
  },
  {
   "cell_type": "code",
   "execution_count": null,
   "metadata": {
    "collapsed": false
   },
   "outputs": [],
   "source": [
    "# calculate the average 'beer_servings' for the entire dataset\n",
    "drinks.describe()                   # summarize all numeric columns\n",
    "drinks.beer_servings.describe()     # summarize only the 'beer_servings' Series\n",
    "drinks.beer_servings.mean()         # only calculate the mean\n"
   ]
  },
  {
   "cell_type": "code",
   "execution_count": null,
   "metadata": {
    "collapsed": false
   },
   "outputs": [],
   "source": [
    "\n",
    "# count the number of occurrences of each 'continent' value and see if it looks correct\n",
    "drinks.continent.value_counts()\n"
   ]
  },
  {
   "cell_type": "markdown",
   "metadata": {},
   "source": [
    "#### Filtering and Sorting"
   ]
  },
  {
   "cell_type": "code",
   "execution_count": null,
   "metadata": {
    "collapsed": false
   },
   "outputs": [],
   "source": [
    "# logical filtering: only show users with age < 20\n",
    "young_bool = users.age < 20         # create a Series of booleans...\n",
    "users[young_bool]                   # ...and use that Series to filter rows\n",
    "users[users.age < 20]               # or, combine into a single step\n",
    "users[users.age < 20].occupation    # select one column from the filtered results\n",
    "users[users.age < 20].occupation.value_counts()     # value_counts of resulting Series"
   ]
  },
  {
   "cell_type": "code",
   "execution_count": null,
   "metadata": {
    "collapsed": false
   },
   "outputs": [],
   "source": [
    "# logical filtering with multiple conditions\n",
    "users[(users.age < 20) & (users.gender=='M')]       # ampersand for AND condition\n",
    "users[(users.age < 20) | (users.age > 60)]          # pipe for OR condition\n",
    "users[users.occupation.isin(['doctor', 'lawyer'])]  # alternative to multiple OR conditions\n"
   ]
  },
  {
   "cell_type": "code",
   "execution_count": null,
   "metadata": {
    "collapsed": false
   },
   "outputs": [],
   "source": [
    "# sorting\n",
    "users.age.order()                   # sort a column\n",
    "users.sort('age')                   # sort a DataFrame by a single column\n",
    "users.sort('age', ascending=False)  # use descending order instead\n",
    "users.sort(['occupation', 'age'])   # sort by multiple columns\n"
   ]
  },
  {
   "cell_type": "markdown",
   "metadata": {},
   "source": [
    "##EXERCISE TWO"
   ]
  },
  {
   "cell_type": "code",
   "execution_count": null,
   "metadata": {
    "collapsed": true
   },
   "outputs": [],
   "source": [
    "# filter DataFrame to only include European countries"
   ]
  },
  {
   "cell_type": "code",
   "execution_count": null,
   "metadata": {
    "collapsed": true
   },
   "outputs": [],
   "source": [
    "# filter DataFrame to only include European countries with wine_servings > 300"
   ]
  },
  {
   "cell_type": "code",
   "execution_count": null,
   "metadata": {
    "collapsed": true
   },
   "outputs": [],
   "source": [
    "# calculate the average 'beer_servings' for all of Europe"
   ]
  },
  {
   "cell_type": "code",
   "execution_count": null,
   "metadata": {
    "collapsed": true
   },
   "outputs": [],
   "source": [
    "# determine which 10 countries have the highest total_litres_of_pure_alcohol"
   ]
  },
  {
   "cell_type": "code",
   "execution_count": null,
   "metadata": {
    "collapsed": true
   },
   "outputs": [],
   "source": [
    "# rename the column 'beer_servings' to 'beer'"
   ]
  },
  {
   "cell_type": "code",
   "execution_count": null,
   "metadata": {
    "collapsed": true
   },
   "outputs": [],
   "source": [
    "# add a new column as a function of existing columns, total_servings = beer + wine + spirits"
   ]
  },
  {
   "cell_type": "code",
   "execution_count": null,
   "metadata": {
    "collapsed": true
   },
   "outputs": [],
   "source": [
    "# remove the column you just added"
   ]
  },
  {
   "cell_type": "markdown",
   "metadata": {},
   "source": [
    "###Handling Missing Values"
   ]
  },
  {
   "cell_type": "code",
   "execution_count": null,
   "metadata": {
    "collapsed": false
   },
   "outputs": [],
   "source": [
    "# missing values are usually excluded by default\n",
    "drinks.continent.value_counts()              # excludes missing values\n",
    "drinks.continent.value_counts(dropna=False)  # includes missing values"
   ]
  },
  {
   "cell_type": "code",
   "execution_count": null,
   "metadata": {
    "collapsed": false
   },
   "outputs": [],
   "source": [
    "# find missing values in a Series\n",
    "drinks.continent.isnull()           # True if missing, False if not missing\n",
    "drinks.continent.isnull().sum()     # count the missing values\n",
    "drinks.continent.notnull()          # True if not missing, False if missing\n",
    "drinks[drinks.continent.notnull()]  # only show rows where continent is not missing"
   ]
  },
  {
   "cell_type": "code",
   "execution_count": null,
   "metadata": {
    "collapsed": false
   },
   "outputs": [],
   "source": [
    "# side note: understanding axes\n",
    "drinks.sum(axis=0)      # sums \"down\" the 0 axis (rows)\n",
    "drinks.sum()            # axis=0 is the default\n",
    "drinks.sum(axis=1)      # sums \"across\" the 1 axis (columns)"
   ]
  },
  {
   "cell_type": "code",
   "execution_count": null,
   "metadata": {
    "collapsed": false
   },
   "outputs": [],
   "source": [
    "# find missing values in a DataFrame\n",
    "drinks.isnull()             # DataFrame of booleans\n",
    "drinks.isnull().sum()       # count the missing values in each column"
   ]
  },
  {
   "cell_type": "code",
   "execution_count": null,
   "metadata": {
    "collapsed": true
   },
   "outputs": [],
   "source": [
    "# fill in missing values\n",
    "drinks.continent.fillna(value='NA')                 # fill in missing values with 'NA'\n",
    "drinks.continent.fillna(value='NA', inplace=True)   # modifies 'drinks' in-place"
   ]
  },
  {
   "cell_type": "code",
   "execution_count": null,
   "metadata": {
    "collapsed": false
   },
   "outputs": [],
   "source": [
    "# turn off the missing value filter"
   ]
  },
  {
   "cell_type": "markdown",
   "metadata": {},
   "source": [
    "## Merging Data"
   ]
  },
  {
   "cell_type": "code",
   "execution_count": null,
   "metadata": {
    "collapsed": true
   },
   "outputs": [],
   "source": [
    "# read 'u.item' into 'movies'\n",
    "movie_cols = ['movie_id', 'title']\n",
    "movies = pd.read_table('u.item', sep='|', header=None, names=movie_cols, usecols=[0, 1])\n"
   ]
  },
  {
   "cell_type": "code",
   "execution_count": null,
   "metadata": {
    "collapsed": true
   },
   "outputs": [],
   "source": [
    "# read 'u.data' into 'ratings'\n",
    "rating_cols = ['user_id', 'movie_id', 'rating', 'timestamp']\n",
    "ratings = pd.read_table('u.data', sep='\\t', header=None, names=rating_cols)"
   ]
  },
  {
   "cell_type": "code",
   "execution_count": null,
   "metadata": {
    "collapsed": false
   },
   "outputs": [],
   "source": [
    "# merge 'movies' and 'ratings' (inner join on 'movie_id')\n",
    "movie_ratings = pd.merge(movies, ratings)\n",
    "movies.shape\n",
    "ratings.shape\n",
    "movie_ratings.shape"
   ]
  },
  {
   "cell_type": "code",
   "execution_count": null,
   "metadata": {
    "collapsed": true
   },
   "outputs": [],
   "source": []
  }
 ],
 "metadata": {
  "kernelspec": {
   "display_name": "Python 2",
   "language": "python",
   "name": "python2"
  },
  "language_info": {
   "codemirror_mode": {
    "name": "ipython",
    "version": 2
   },
   "file_extension": ".py",
   "mimetype": "text/x-python",
   "name": "python",
   "nbconvert_exporter": "python",
   "pygments_lexer": "ipython2",
   "version": "2.7.11"
  }
 },
 "nbformat": 4,
 "nbformat_minor": 0
}
