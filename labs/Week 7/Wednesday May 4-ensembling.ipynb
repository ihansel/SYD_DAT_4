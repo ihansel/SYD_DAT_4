{
 "cells": [
  {
   "cell_type": "markdown",
   "metadata": {},
   "source": [
    "# Introduction to Ensembling\n",
    "\n",
    "*Adapted from Chapter 8 of [An Introduction to Statistical Learning](http://www-bcf.usc.edu/~gareth/ISL/)*\n",
    "\n",
    "Let's pretend that instead of building a single model to solve a classification problem, you created **five independent models**, and each model was correct 70% of the time. If you combined these models into an \"ensemble\" and used their majority vote as a prediction, how often would the ensemble be correct?\n",
    "\n",
    "Let's simulate it to find out!"
   ]
  },
  {
   "cell_type": "code",
   "execution_count": 20,
   "metadata": {
    "collapsed": false
   },
   "outputs": [
    {
     "name": "stdout",
     "output_type": "stream",
     "text": [
      "[0 1 1 1 1 0 0 1 1 1 1 1 1 1 1 1 1 0 1 1]\n",
      "[1 1 1 1 1 1 1 0 1 0 0 0 1 1 1 0 1 0 0 0]\n",
      "[1 1 1 1 0 1 1 0 0 1 1 1 1 1 1 1 1 0 1 1]\n",
      "[1 1 0 0 0 0 1 1 0 1 1 1 1 1 1 0 1 1 1 0]\n",
      "[0 0 1 0 0 0 1 0 1 0 0 0 1 1 1 1 1 1 1 1]\n"
     ]
    }
   ],
   "source": [
    "import numpy as np\n",
    "\n",
    "# set a seed for reproducibility\n",
    "np.random.seed(1234)\n",
    "\n",
    "# generate 1000 random numbers (between 0 and 1) for each model, representing 1000 observations\n",
    "mod1 = np.random.rand(1000)\n",
    "mod2 = np.random.rand(1000)\n",
    "mod3 = np.random.rand(1000)\n",
    "mod4 = np.random.rand(1000)\n",
    "mod5 = np.random.rand(1000)\n",
    "\n",
    "# each model independently predicts 1 (the \"correct response\") if random number was at least 0.3\n",
    "preds1 = np.where(mod1 > 0.3, 1, 0)\n",
    "preds2 = np.where(mod2 > 0.3, 1, 0)\n",
    "preds3 = np.where(mod3 > 0.3, 1, 0)\n",
    "preds4 = np.where(mod4 > 0.3, 1, 0)\n",
    "preds5 = np.where(mod5 > 0.3, 1, 0)\n",
    "\n",
    "# print the first 20 predictions from each model\n",
    "print preds1[:20]\n",
    "print preds2[:20]\n",
    "print preds3[:20]\n",
    "print preds4[:20]\n",
    "print preds5[:20]"
   ]
  },
  {
   "cell_type": "code",
   "execution_count": 27,
   "metadata": {
    "collapsed": false
   },
   "outputs": [
    {
     "data": {
      "text/plain": [
       "array([ 0.19151945,  0.62210877,  0.43772774,  0.78535858,  0.77997581,\n",
       "        0.27259261,  0.27646426,  0.80187218,  0.95813935,  0.87593263,\n",
       "        0.35781727,  0.50099513,  0.68346294,  0.71270203,  0.37025075,\n",
       "        0.56119619,  0.50308317,  0.01376845,  0.77282662,  0.88264119,\n",
       "        0.36488598,  0.61539618,  0.07538124,  0.36882401,  0.9331401 ,\n",
       "        0.65137814,  0.39720258,  0.78873014,  0.31683612,  0.56809865,\n",
       "        0.86912739,  0.43617342,  0.80214764,  0.14376682,  0.70426097,\n",
       "        0.70458131,  0.21879211,  0.92486763,  0.44214076,  0.90931596,\n",
       "        0.05980922,  0.18428708,  0.04735528,  0.67488094,  0.59462478,\n",
       "        0.53331016,  0.04332406,  0.56143308,  0.32966845,  0.50296683,\n",
       "        0.11189432,  0.60719371,  0.56594464,  0.00676406,  0.61744171,\n",
       "        0.91212289,  0.79052413,  0.99208147,  0.95880176,  0.79196414,\n",
       "        0.28525096,  0.62491671,  0.4780938 ,  0.19567518,  0.38231745,\n",
       "        0.05387369,  0.45164841,  0.98200474,  0.1239427 ,  0.1193809 ,\n",
       "        0.73852306,  0.58730363,  0.47163253,  0.10712682,  0.22921857,\n",
       "        0.89996519,  0.41675354,  0.53585166,  0.00620852,  0.30064171,\n",
       "        0.43689317,  0.612149  ,  0.91819808,  0.62573667,  0.70599757,\n",
       "        0.14983372,  0.74606341,  0.83100699,  0.63372577,  0.43830988,\n",
       "        0.15257277,  0.56840962,  0.52822428,  0.95142876,  0.48035918,\n",
       "        0.50255956,  0.53687819,  0.81920207,  0.05711564,  0.66942174,\n",
       "        0.76711663,  0.70811536,  0.79686718,  0.55776083,  0.96583653,\n",
       "        0.1471569 ,  0.029647  ,  0.59389349,  0.1140657 ,  0.95080985,\n",
       "        0.32570741,  0.19361869,  0.45781165,  0.92040257,  0.87906916,\n",
       "        0.25261576,  0.34800879,  0.18258873,  0.90179605,  0.70652816,\n",
       "        0.72665846,  0.90008784,  0.7791638 ,  0.59915478,  0.29112524,\n",
       "        0.15139526,  0.33517466,  0.65755178,  0.07334254,  0.0550064 ,\n",
       "        0.32319481,  0.5904818 ,  0.85389857,  0.28706243,  0.17306723,\n",
       "        0.13402121,  0.99465383,  0.17949787,  0.31754682,  0.5682914 ,\n",
       "        0.00934857,  0.90064862,  0.97724143,  0.55689468,  0.08477384,\n",
       "        0.33300247,  0.72842868,  0.14243537,  0.55246894,  0.27304326,\n",
       "        0.97449514,  0.66778691,  0.25565329,  0.10831149,  0.77618072,\n",
       "        0.78247799,  0.76160391,  0.91440311,  0.65862278,  0.56836758,\n",
       "        0.20175569,  0.69829638,  0.95219541,  0.88996329,  0.99356736,\n",
       "        0.81870351,  0.54512217,  0.45125405,  0.89055719,  0.97326479,\n",
       "        0.59341133,  0.3660745 ,  0.32309469,  0.87142326,  0.21563406,\n",
       "        0.73494519,  0.36561909,  0.8016026 ,  0.78273559,  0.70135538,\n",
       "        0.62277659,  0.49368265,  0.8405377 ,  0.71209699,  0.44390898,\n",
       "        0.03103486,  0.36323976,  0.73072179,  0.47556657,  0.34441697,\n",
       "        0.64088043,  0.12620532,  0.17146526,  0.73708649,  0.12702939,\n",
       "        0.36964987,  0.604334  ,  0.10310444,  0.80237418,  0.94555324,\n",
       "        0.97903882,  0.88123225,  0.62768192,  0.93048653,  0.72478995,\n",
       "        0.71667789,  0.04107857,  0.43948178,  0.28206978,  0.33499597,\n",
       "        0.08352701,  0.76084915,  0.50927245,  0.66104742,  0.63031444,\n",
       "        0.37092683,  0.44674015,  0.41510822,  0.48038851,  0.98332357,\n",
       "        0.37342371,  0.01240698,  0.92190334,  0.87327607,  0.35174682,\n",
       "        0.63013311,  0.35782696,  0.21281994,  0.22331922,  0.41956379,\n",
       "        0.07291022,  0.65083907,  0.75568615,  0.93210123,  0.37640416,\n",
       "        0.29692728,  0.37194431,  0.82769936,  0.90113954,  0.42730378,\n",
       "        0.00218943,  0.04196524,  0.14178738,  0.59823719,  0.10646052,\n",
       "        0.29715899,  0.05839199,  0.62132486,  0.02268048,  0.85505469,\n",
       "        0.3063372 ,  0.75878344,  0.56327511,  0.03816418,  0.56551672,\n",
       "        0.65887349,  0.18326635,  0.79741131,  0.61236743,  0.55565338,\n",
       "        0.62949154,  0.68618008,  0.24038254,  0.78792779,  0.85647746,\n",
       "        0.72779602,  0.69234514,  0.47235094,  0.85687294,  0.66474333,\n",
       "        0.33337594,  0.5181455 ,  0.39468858,  0.0310496 ,  0.57683984,\n",
       "        0.85025175,  0.95148887,  0.6829788 ,  0.07616255,  0.41007794,\n",
       "        0.0419014 ,  0.17418683,  0.56540201,  0.17289117,  0.56661048,\n",
       "        0.51400425,  0.86887089,  0.72034725,  0.90359135,  0.277615  ,\n",
       "        0.25666543,  0.69970326,  0.9015689 ,  0.98369233,  0.64091281,\n",
       "        0.33000739,  0.60667522,  0.82215979,  0.62796507,  0.11792306,\n",
       "        0.28587767,  0.98674722,  0.43180085,  0.57423441,  0.52724208,\n",
       "        0.19765305,  0.16570843,  0.50099046,  0.99020406,  0.39399181,\n",
       "        0.71401327,  0.17590427,  0.07069618,  0.15762309,  0.16155801,\n",
       "        0.28363708,  0.53670603,  0.77323871,  0.88034358,  0.63739145,\n",
       "        0.85260224,  0.59795537,  0.69384666,  0.53717667,  0.88923008,\n",
       "        0.05226643,  0.7831837 ,  0.14517327,  0.05869843,  0.05899458,\n",
       "        0.05197123,  0.51598609,  0.40499622,  0.99964959,  0.10857001,\n",
       "        0.3273843 ,  0.99782993,  0.40111439,  0.88333577,  0.56913858,\n",
       "        0.95324089,  0.88538724,  0.77928559,  0.03180806,  0.96261853,\n",
       "        0.51963544,  0.20779101,  0.87509781,  0.22415148,  0.13865933,\n",
       "        0.72523929,  0.97378891,  0.53548188,  0.444798  ,  0.02211118,\n",
       "        0.60598834,  0.96479652,  0.96759148,  0.93002881,  0.18467983,\n",
       "        0.62296216,  0.41296267,  0.3630612 ,  0.03660294,  0.86814871,\n",
       "        0.67282821,  0.08747161,  0.88696594,  0.78246455,  0.31730441,\n",
       "        0.81831379,  0.50755507,  0.0211933 ,  0.43352176,  0.44631306,\n",
       "        0.23881999,  0.83024573,  0.74476418,  0.586479  ,  0.49286785,\n",
       "        0.48735588,  0.2667407 ,  0.6050111 ,  0.75354372,  0.27058423,\n",
       "        0.52230328,  0.09832853,  0.71363667,  0.88404059,  0.56705442,\n",
       "        0.99448158,  0.17873977,  0.01220009,  0.45699848,  0.93175194,\n",
       "        0.84602469,  0.47332988,  0.90255503,  0.22599553,  0.30415374,\n",
       "        0.71499388,  0.72409148,  0.01867644,  0.2858131 ,  0.58048634,\n",
       "        0.93078663,  0.3389969 ,  0.12008312,  0.51627271,  0.69920706,\n",
       "        0.29864068,  0.86160962,  0.9058072 ,  0.76858325,  0.26123164,\n",
       "        0.9384556 ,  0.93864246,  0.74504455,  0.91073504,  0.23722471,\n",
       "        0.49496735,  0.80987834,  0.95456578,  0.63748325,  0.91084975,\n",
       "        0.69213675,  0.04294299,  0.8335869 ,  0.36994852,  0.936557  ,\n",
       "        0.48305288,  0.12533161,  0.96445418,  0.01702583,  0.67657077,\n",
       "        0.14043997,  0.15531285,  0.64955775,  0.98165422,  0.69480742,\n",
       "        0.76197389,  0.42520918,  0.13889344,  0.2161863 ,  0.76470027,\n",
       "        0.05460587,  0.49012299,  0.18069018,  0.63092485,  0.55124203,\n",
       "        0.56708121,  0.81834498,  0.9389873 ,  0.19290141,  0.71284402,\n",
       "        0.6979398 ,  0.2582965 ,  0.91580782,  0.53235819,  0.55796442,\n",
       "        0.32277227,  0.33863078,  0.33230155,  0.97881821,  0.2032152 ,\n",
       "        0.66702606,  0.57478427,  0.05197529,  0.5428381 ,  0.20794911,\n",
       "        0.09109018,  0.86985571,  0.02736978,  0.96862452,  0.32749989,\n",
       "        0.41027796,  0.13554422,  0.12706631,  0.41398398,  0.61744374,\n",
       "        0.1322669 ,  0.97448122,  0.1806351 ,  0.76034991,  0.48216182,\n",
       "        0.76807887,  0.30289844,  0.01517509,  0.46336869,  0.70333708,\n",
       "        0.06604089,  0.66901142,  0.34547906,  0.59172147,  0.22905346,\n",
       "        0.26756836,  0.93282699,  0.82614506,  0.14544319,  0.64700361,\n",
       "        0.88395117,  0.74136053,  0.5157108 ,  0.13525184,  0.03988365,\n",
       "        0.83432183,  0.11705787,  0.52310231,  0.87305847,  0.03870784,\n",
       "        0.69239079,  0.47626848,  0.16926449,  0.06317189,  0.03222409,\n",
       "        0.24243086,  0.11270682,  0.40499002,  0.04207297,  0.92656545,\n",
       "        0.93526291,  0.8104269 ,  0.18834308,  0.58731822,  0.90351056,\n",
       "        0.96734226,  0.06753921,  0.31758607,  0.69686297,  0.64026538,\n",
       "        0.63262331,  0.82875065,  0.71311043,  0.33548023,  0.16769468,\n",
       "        0.76468982,  0.35931506,  0.08800478,  0.7295676 ,  0.88104993,\n",
       "        0.04126388,  0.17486776,  0.42009741,  0.34060658,  0.04476892,\n",
       "        0.11289131,  0.43804149,  0.0710732 ,  0.81624511,  0.86611565,\n",
       "        0.13111984,  0.19321945,  0.43749275,  0.97092532,  0.77386096,\n",
       "        0.13177647,  0.92717986,  0.82779658,  0.39273167,  0.14057065,\n",
       "        0.05213634,  0.09272932,  0.88698963,  0.16815097,  0.36288661,\n",
       "        0.65428189,  0.60482195,  0.39499287,  0.3746054 ,  0.06307277,\n",
       "        0.42895903,  0.71972093,  0.76803089,  0.19436815,  0.86287077,\n",
       "        0.02872195,  0.90212882,  0.23654588,  0.12858426,  0.31787579,\n",
       "        0.8487613 ,  0.83229775,  0.34565135,  0.23997119,  0.53578755,\n",
       "        0.27146694,  0.03443087,  0.62708559,  0.52020046,  0.04195581,\n",
       "        0.75747277,  0.98834976,  0.80140096,  0.34398109,  0.33539124,\n",
       "        0.3515714 ,  0.44294568,  0.57949344,  0.61756091,  0.17711749,\n",
       "        0.86498179,  0.71027069,  0.17063169,  0.85508266,  0.01985662,\n",
       "        0.64168373,  0.16233435,  0.25755049,  0.34260646,  0.00614414,\n",
       "        0.43855106,  0.79704411,  0.67566494,  0.54502309,  0.56422699,\n",
       "        0.01398415,  0.60897714,  0.98856638,  0.22410702,  0.58721772,\n",
       "        0.83505795,  0.79249758,  0.329228  ,  0.35720256,  0.96011296,\n",
       "        0.22379559,  0.21153671,  0.15391517,  0.49589585,  0.26129478,\n",
       "        0.55568644,  0.072916  ,  0.37851684,  0.46108903,  0.77854045,\n",
       "        0.72044272,  0.23120448,  0.02454439,  0.25736494,  0.41011603,\n",
       "        0.008399  ,  0.47154895,  0.85242211,  0.9231797 ,  0.23143613,\n",
       "        0.99095491,  0.0059979 ,  0.33525052,  0.78925811,  0.09851152,\n",
       "        0.44233225,  0.38066932,  0.83259847,  0.71196219,  0.35500083,\n",
       "        0.02463633,  0.69351252,  0.42121194,  0.85834944,  0.57507355,\n",
       "        0.94006236,  0.88025552,  0.45814503,  0.01731007,  0.06865464,\n",
       "        0.32060802,  0.59230189,  0.61005244,  0.5124275 ,  0.14475646,\n",
       "        0.87680869,  0.73823518,  0.37332038,  0.82868638,  0.09023954,\n",
       "        0.06400322,  0.50589695,  0.93342671,  0.14896192,  0.56947879,\n",
       "        0.05974865,  0.16927793,  0.06902836,  0.90602245,  0.44741006,\n",
       "        0.1063852 ,  0.66525978,  0.50227338,  0.40920638,  0.72799347,\n",
       "        0.17209041,  0.38446089,  0.26700114,  0.30822087,  0.1773028 ,\n",
       "        0.48255848,  0.6297172 ,  0.05955332,  0.19688727,  0.27920844,\n",
       "        0.70782061,  0.32742909,  0.42529404,  0.7047675 ,  0.15907717,\n",
       "        0.43940389,  0.62932999,  0.9250581 ,  0.35698796,  0.81913345,\n",
       "        0.64014279,  0.71505249,  0.73842252,  0.97099961,  0.24604924,\n",
       "        0.04258158,  0.24779727,  0.04501664,  0.70546163,  0.83470677,\n",
       "        0.93413586,  0.47079336,  0.51235952,  0.26298048,  0.09889671,\n",
       "        0.79884636,  0.14280278,  0.80566579,  0.8795261 ,  0.49992016,\n",
       "        0.91425194,  0.41241259,  0.20037359,  0.64357111,  0.39986514,\n",
       "        0.6142315 ,  0.4373114 ,  0.59310375,  0.95144001,  0.55312043,\n",
       "        0.90373536,  0.13850475,  0.00154376,  0.61283435,  0.54170293,\n",
       "        0.78063066,  0.82149395,  0.95340976,  0.60995609,  0.29008182,\n",
       "        0.82680799,  0.37601689,  0.60917703,  0.62002156,  0.44149997,\n",
       "        0.1987719 ,  0.44395362,  0.92476734,  0.67143436,  0.0815231 ,\n",
       "        0.57265925,  0.1206622 ,  0.99996372,  0.99738035,  0.69471214,\n",
       "        0.37387984,  0.40151079,  0.92509941,  0.24485884,  0.66401268,\n",
       "        0.48122075,  0.03494356,  0.11089546,  0.89536938,  0.89210114,\n",
       "        0.91516099,  0.30740167,  0.29841963,  0.65925186,  0.59513772,\n",
       "        0.98436901,  0.61562226,  0.15471633,  0.83146947,  0.81569707,\n",
       "        0.09204188,  0.8877899 ,  0.01643906,  0.86393011,  0.89877069,\n",
       "        0.85036657,  0.65286936,  0.32875524,  0.54537933,  0.23793517,\n",
       "        0.87178466,  0.17673374,  0.37063587,  0.75958453,  0.30618391,\n",
       "        0.61613925,  0.21929117,  0.87252367,  0.64786491,  0.47300294,\n",
       "        0.23419032,  0.83382181,  0.09851632,  0.20502686,  0.23473057,\n",
       "        0.59697377,  0.62846754,  0.98265104,  0.17631667,  0.79997741,\n",
       "        0.15526401,  0.36099196,  0.95507526,  0.13015837,  0.27284659,\n",
       "        0.80911787,  0.96565706,  0.09242216,  0.58342427,  0.40542631,\n",
       "        0.89932419,  0.08478345,  0.18113628,  0.05066547,  0.30127874,\n",
       "        0.19018385,  0.00860539,  0.1275229 ,  0.11286472,  0.73041445,\n",
       "        0.23937503,  0.90157012,  0.32851393,  0.87404272,  0.23652951,\n",
       "        0.37845461,  0.54229056,  0.51579398,  0.41380212,  0.38886661,\n",
       "        0.34033082,  0.40223463,  0.4571099 ,  0.38299106,  0.65808973,\n",
       "        0.88121421,  0.57267258,  0.42804046,  0.25837793,  0.86526943,\n",
       "        0.1732783 ,  0.57995282,  0.7273775 ,  0.73040234,  0.40399582,\n",
       "        0.11792747,  0.76359463,  0.53366109,  0.72203486,  0.59763234,\n",
       "        0.42286597,  0.93348609,  0.99397099,  0.54783884,  0.73023457,\n",
       "        0.02798429,  0.86359128,  0.99863076,  0.32530982,  0.85026083,\n",
       "        0.61149212,  0.44111308,  0.52720459,  0.77982061,  0.25135019,\n",
       "        0.46289232,  0.84718667,  0.67802359,  0.36786229,  0.13798301,\n",
       "        0.40280945,  0.93129709,  0.67316279,  0.41922982,  0.56866661,\n",
       "        0.04171068,  0.99563413,  0.61900422,  0.77946612,  0.93133864,\n",
       "        0.34161856,  0.8112992 ,  0.8727098 ,  0.66598823,  0.58878655,\n",
       "        0.89335226,  0.44858402,  0.24438358,  0.81417296,  0.6971494 ,\n",
       "        0.40960454,  0.00571508,  0.95401436,  0.6052526 ,  0.00654628,\n",
       "        0.49849349,  0.59863535,  0.30014745,  0.4617575 ,  0.49559978,\n",
       "        0.58565914,  0.86963799,  0.83222696,  0.77856305,  0.54843311,\n",
       "        0.61345196,  0.73426973,  0.56636909,  0.77521013,  0.98654561,\n",
       "        0.78920569,  0.61433598,  0.15828454,  0.47638631,  0.28364917,\n",
       "        0.15381227,  0.77722042,  0.05896313,  0.0791225 ,  0.66423846,\n",
       "        0.52334498,  0.44640689,  0.30683045,  0.01728512,  0.29352684,\n",
       "        0.26779397,  0.0367256 ,  0.80403958,  0.33379956,  0.89188668,\n",
       "        0.81035323,  0.96410121,  0.95771406,  0.5911655 ,  0.31150332,\n",
       "        0.91842073,  0.05065046,  0.22574268,  0.3627061 ,  0.4122557 ,\n",
       "        0.9446213 ,  0.57938255,  0.18676015,  0.59648467,  0.9337563 ,\n",
       "        0.13413814,  0.98228353,  0.15387565,  0.82072814,  0.67753647,\n",
       "        0.40408926,  0.21728704,  0.77358474,  0.84769593,  0.52969962,\n",
       "        0.40959972,  0.01830795,  0.14865961,  0.80433519,  0.41977812,\n",
       "        0.33921757,  0.29714585,  0.71798599,  0.99780718,  0.55190228,\n",
       "        0.88989605,  0.16846829,  0.8835643 ,  0.70277564,  0.42210865,\n",
       "        0.86331495,  0.23504323,  0.56375066,  0.02656025,  0.38005145,\n",
       "        0.3618351 ,  0.09124352,  0.04525353,  0.34245151,  0.35541398,\n",
       "        0.99583824,  0.94420457,  0.13114411,  0.51835506,  0.47724538])"
      ]
     },
     "execution_count": 27,
     "metadata": {},
     "output_type": "execute_result"
    }
   ],
   "source": []
  },
  {
   "cell_type": "code",
   "execution_count": null,
   "metadata": {
    "collapsed": true
   },
   "outputs": [],
   "source": [
    "\n"
   ]
  },
  {
   "cell_type": "code",
   "execution_count": 2,
   "metadata": {
    "collapsed": false
   },
   "outputs": [
    {
     "name": "stdout",
     "output_type": "stream",
     "text": [
      "[1 1 1 1 0 0 1 0 1 1 1 1 1 1 1 1 1 0 1 1]\n"
     ]
    }
   ],
   "source": [
    "# add the predictions together\n",
    "sum_of_preds = preds1 + preds2 + preds3 + preds4 + preds5\n",
    "\n",
    "# ensemble predicts 1 (the \"correct response\") if at least 3 models predict 1\n",
    "ensemble_preds = np.where(sum_of_preds >=3 , 1, 0)\n",
    "\n",
    "# print the ensemble's first 20 predictions\n",
    "print ensemble_preds[:20]"
   ]
  },
  {
   "cell_type": "code",
   "execution_count": 3,
   "metadata": {
    "collapsed": false
   },
   "outputs": [
    {
     "data": {
      "text/plain": [
       "0.84099999999999997"
      ]
     },
     "execution_count": 3,
     "metadata": {},
     "output_type": "execute_result"
    }
   ],
   "source": [
    "# how accurate was the ensemble?\n",
    "ensemble_preds.mean()"
   ]
  },
  {
   "cell_type": "markdown",
   "metadata": {},
   "source": [
    "Amazing, right?\n",
    "\n",
    "**Ensemble learning (or \"ensembling\")** is simply the process of combining several models to solve a prediction problem, with the goal of producing a combined model that is more accurate than any individual model. For **classification** problems, the combination is often done by majority vote. For **regression** problems, the combination is often done by taking an average of the predictions.\n",
    "\n",
    "For ensembling to work well, the individual models must meet two conditions:\n",
    "\n",
    "- Models should be **accurate** (they must outperform random guessing)\n",
    "- Models should be **independent** (their predictions are not correlated with one another)\n",
    "\n",
    "The idea, then, is that if you have a collection of individually imperfect (and independent) models, the \"one-off\" mistakes made by each model are probably not going to be made by the rest of the models, and thus the mistakes will be discarded when averaging the models.\n",
    "\n",
    "It turns out that as you add more models to the voting process, the probability of error decreases. This is known as [Condorcet's Jury Theorem](http://en.wikipedia.org/wiki/Condorcet%27s_jury_theorem), which was developed by a French political scientist in the 18th century.\n",
    "\n",
    "Anyway, we'll see examples of ensembling below."
   ]
  },
  {
   "cell_type": "markdown",
   "metadata": {},
   "source": [
    "## Bootstrapping\n",
    "\n",
    "**Some preliminary terminology:** In statistics, \"bootstrapping\" refers to the process of using \"bootstrap samples\" to quantify the uncertainty of a model. Bootstrap samples are simply random samples with replacement:"
   ]
  },
  {
   "cell_type": "code",
   "execution_count": 36,
   "metadata": {
    "collapsed": false
   },
   "outputs": [
    {
     "data": {
      "text/plain": [
       "array([5, 8, 9, 5, 0, 0, 1, 7, 6, 9])"
      ]
     },
     "execution_count": 36,
     "metadata": {},
     "output_type": "execute_result"
    }
   ],
   "source": [
    "# set a seed for reproducibility\n",
    "np.random.seed(1)\n",
    "\n",
    "# create an array of 0 to 9, then sample 10 times with replacement\n",
    "np.random.choice(a=10, size=10, replace=True)"
   ]
  },
  {
   "cell_type": "markdown",
   "metadata": {},
   "source": [
    "## Bagging\n",
    "\n",
    "On their own, decision trees are not competitive with the best supervised learning methods in terms of **predictive accuracy**. However, they can be used as the basis for more sophisticated methods that have much higher accuracy!\n",
    "\n",
    "One of the main issues with decision trees is **high variance**, meaning that different splits in the training data can lead to very different trees. **\"Bootstrap aggregation\" (aka \"bagging\")** is a general purpose procedure for reducing the variance of a machine learning method, but is particularly useful for decision trees.\n",
    "\n",
    "What is the bagging process (in general)?\n",
    "\n",
    "- Take repeated bootstrap samples (random samples with replacement) from the training data set\n",
    "- Train our method on each bootstrapped training set and make predictions\n",
    "- Average the predictions\n",
    "\n",
    "This increases predictive accuracy by **reducing the variance**, similar to how cross-validation reduces the variance associated with the test set approach (for estimating out-of-sample error) by splitting many times an averaging the results."
   ]
  },
  {
   "cell_type": "markdown",
   "metadata": {},
   "source": [
    "## Applying bagging to decision trees\n",
    "\n",
    "So how exactly can bagging be used with decision trees? Here's how it applies to **regression trees**:\n",
    "\n",
    "- Grow B regression trees using B bootstrapped training sets\n",
    "- Grow each tree deep so that each one has low bias\n",
    "- Every tree makes a numeric prediction, and the predictions are averaged (to reduce the variance)\n",
    "\n",
    "It is applied in a similar fashion to **classification trees**, except that during the prediction stage, the overall prediction is based upon a majority vote of the trees.\n",
    "\n",
    "**What value should be used for B?** Simply use a large enough value that the error seems to have stabilized. (Choosing a value of B that is \"too large\" will generally not lead to overfitting.)"
   ]
  },
  {
   "cell_type": "markdown",
   "metadata": {},
   "source": [
    "## Manually implementing bagged decision trees (with B=3)"
   ]
  },
  {
   "cell_type": "code",
   "execution_count": 39,
   "metadata": {
    "collapsed": false
   },
   "outputs": [
    {
     "data": {
      "text/html": [
       "<div>\n",
       "<table border=\"1\" class=\"dataframe\">\n",
       "  <thead>\n",
       "    <tr style=\"text-align: right;\">\n",
       "      <th></th>\n",
       "      <th>price</th>\n",
       "      <th>year</th>\n",
       "      <th>miles</th>\n",
       "      <th>doors</th>\n",
       "      <th>type</th>\n",
       "    </tr>\n",
       "  </thead>\n",
       "  <tbody>\n",
       "    <tr>\n",
       "      <th>0</th>\n",
       "      <td>22000</td>\n",
       "      <td>2012</td>\n",
       "      <td>13000</td>\n",
       "      <td>2</td>\n",
       "      <td>0</td>\n",
       "    </tr>\n",
       "    <tr>\n",
       "      <th>1</th>\n",
       "      <td>14000</td>\n",
       "      <td>2010</td>\n",
       "      <td>30000</td>\n",
       "      <td>2</td>\n",
       "      <td>0</td>\n",
       "    </tr>\n",
       "    <tr>\n",
       "      <th>2</th>\n",
       "      <td>13000</td>\n",
       "      <td>2010</td>\n",
       "      <td>73500</td>\n",
       "      <td>4</td>\n",
       "      <td>0</td>\n",
       "    </tr>\n",
       "    <tr>\n",
       "      <th>3</th>\n",
       "      <td>9500</td>\n",
       "      <td>2009</td>\n",
       "      <td>78000</td>\n",
       "      <td>4</td>\n",
       "      <td>0</td>\n",
       "    </tr>\n",
       "    <tr>\n",
       "      <th>4</th>\n",
       "      <td>9000</td>\n",
       "      <td>2007</td>\n",
       "      <td>47000</td>\n",
       "      <td>4</td>\n",
       "      <td>0</td>\n",
       "    </tr>\n",
       "    <tr>\n",
       "      <th>5</th>\n",
       "      <td>4000</td>\n",
       "      <td>2006</td>\n",
       "      <td>124000</td>\n",
       "      <td>2</td>\n",
       "      <td>0</td>\n",
       "    </tr>\n",
       "    <tr>\n",
       "      <th>6</th>\n",
       "      <td>3000</td>\n",
       "      <td>2004</td>\n",
       "      <td>177000</td>\n",
       "      <td>4</td>\n",
       "      <td>0</td>\n",
       "    </tr>\n",
       "    <tr>\n",
       "      <th>7</th>\n",
       "      <td>2000</td>\n",
       "      <td>2004</td>\n",
       "      <td>209000</td>\n",
       "      <td>4</td>\n",
       "      <td>1</td>\n",
       "    </tr>\n",
       "    <tr>\n",
       "      <th>8</th>\n",
       "      <td>3000</td>\n",
       "      <td>2003</td>\n",
       "      <td>138000</td>\n",
       "      <td>2</td>\n",
       "      <td>0</td>\n",
       "    </tr>\n",
       "    <tr>\n",
       "      <th>9</th>\n",
       "      <td>1900</td>\n",
       "      <td>2003</td>\n",
       "      <td>160000</td>\n",
       "      <td>4</td>\n",
       "      <td>0</td>\n",
       "    </tr>\n",
       "    <tr>\n",
       "      <th>10</th>\n",
       "      <td>2500</td>\n",
       "      <td>2003</td>\n",
       "      <td>190000</td>\n",
       "      <td>2</td>\n",
       "      <td>1</td>\n",
       "    </tr>\n",
       "    <tr>\n",
       "      <th>11</th>\n",
       "      <td>5000</td>\n",
       "      <td>2001</td>\n",
       "      <td>62000</td>\n",
       "      <td>4</td>\n",
       "      <td>0</td>\n",
       "    </tr>\n",
       "    <tr>\n",
       "      <th>12</th>\n",
       "      <td>1800</td>\n",
       "      <td>1999</td>\n",
       "      <td>163000</td>\n",
       "      <td>2</td>\n",
       "      <td>1</td>\n",
       "    </tr>\n",
       "    <tr>\n",
       "      <th>13</th>\n",
       "      <td>1300</td>\n",
       "      <td>1997</td>\n",
       "      <td>138000</td>\n",
       "      <td>4</td>\n",
       "      <td>0</td>\n",
       "    </tr>\n",
       "  </tbody>\n",
       "</table>\n",
       "</div>"
      ],
      "text/plain": [
       "    price  year   miles  doors  type\n",
       "0   22000  2012   13000      2     0\n",
       "1   14000  2010   30000      2     0\n",
       "2   13000  2010   73500      4     0\n",
       "3    9500  2009   78000      4     0\n",
       "4    9000  2007   47000      4     0\n",
       "5    4000  2006  124000      2     0\n",
       "6    3000  2004  177000      4     0\n",
       "7    2000  2004  209000      4     1\n",
       "8    3000  2003  138000      2     0\n",
       "9    1900  2003  160000      4     0\n",
       "10   2500  2003  190000      2     1\n",
       "11   5000  2001   62000      4     0\n",
       "12   1800  1999  163000      2     1\n",
       "13   1300  1997  138000      4     0"
      ]
     },
     "execution_count": 39,
     "metadata": {},
     "output_type": "execute_result"
    }
   ],
   "source": [
    "import pandas as pd\n",
    "\n",
    "# read in vehicle data\n",
    "vehicles = pd.read_csv('../../data/used_vehicles.csv')\n",
    "\n",
    "# convert car to 0 and truck to 1\n",
    "vehicles['type'] = vehicles.type.map({'car':0, 'truck':1})\n",
    "\n",
    "# print out data\n",
    "vehicles"
   ]
  },
  {
   "cell_type": "code",
   "execution_count": 40,
   "metadata": {
    "collapsed": false
   },
   "outputs": [
    {
     "data": {
      "text/plain": [
       "14"
      ]
     },
     "execution_count": 40,
     "metadata": {},
     "output_type": "execute_result"
    }
   ],
   "source": []
  },
  {
   "cell_type": "code",
   "execution_count": 41,
   "metadata": {
    "collapsed": false
   },
   "outputs": [
    {
     "name": "stdout",
     "output_type": "stream",
     "text": [
      "[13  2 12  2  6  1  3 10 11  9  6  1  0  1]\n",
      "[ 9  0  0  9  3 13  4  0  0  4  1  7  3  2]\n",
      "[ 4  7  2  4  8 13  0  7  9  3 12 12  4  6]\n"
     ]
    }
   ],
   "source": [
    "# calculate the number of rows in vehicles\n",
    "n_rows = vehicles.shape[0] #shape of the index\n",
    "\n",
    "# set a seed for reproducibility\n",
    "np.random.seed(123)\n",
    "\n",
    "# create three bootstrap samples (will be used to select rows from the DataFrame)\n",
    "sample1 = np.random.choice(a=n_rows, size=n_rows, replace=True)\n",
    "sample2 = np.random.choice(a=n_rows, size=n_rows, replace=True)\n",
    "sample3 = np.random.choice(a=n_rows, size=n_rows, replace=True)\n",
    "\n",
    "# print samples\n",
    "print sample1\n",
    "print sample2\n",
    "print sample3"
   ]
  },
  {
   "cell_type": "code",
   "execution_count": 43,
   "metadata": {
    "collapsed": false
   },
   "outputs": [
    {
     "data": {
      "text/plain": [
       "array([13,  2, 12,  2,  6,  1,  3, 10, 11,  9,  6,  1,  0,  1])"
      ]
     },
     "execution_count": 43,
     "metadata": {},
     "output_type": "execute_result"
    }
   ],
   "source": [
    "sample1"
   ]
  },
  {
   "cell_type": "code",
   "execution_count": 42,
   "metadata": {
    "collapsed": false
   },
   "outputs": [
    {
     "name": "stdout",
     "output_type": "stream",
     "text": [
      "    price  year   miles  doors  type\n",
      "13   1300  1997  138000      4     0\n",
      "2   13000  2010   73500      4     0\n",
      "12   1800  1999  163000      2     1\n",
      "2   13000  2010   73500      4     0\n",
      "6    3000  2004  177000      4     0\n",
      "1   14000  2010   30000      2     0\n",
      "3    9500  2009   78000      4     0\n",
      "10   2500  2003  190000      2     1\n",
      "11   5000  2001   62000      4     0\n",
      "9    1900  2003  160000      4     0\n",
      "6    3000  2004  177000      4     0\n",
      "1   14000  2010   30000      2     0\n",
      "0   22000  2012   13000      2     0\n",
      "1   14000  2010   30000      2     0\n"
     ]
    }
   ],
   "source": [
    "# use sample1 to select rows from DataFrame\n",
    "vehicles.iloc?\n",
    "print vehicles.iloc[sample1, :] #print the random observation that it was produced from the random sample of integers above"
   ]
  },
  {
   "cell_type": "code",
   "execution_count": 8,
   "metadata": {
    "collapsed": false
   },
   "outputs": [
    {
     "data": {
      "text/plain": [
       "DecisionTreeRegressor(criterion='mse', max_depth=None, max_features=None,\n",
       "           max_leaf_nodes=None, min_samples_leaf=1, min_samples_split=2,\n",
       "           min_weight_fraction_leaf=0.0, presort=False, random_state=123,\n",
       "           splitter='best')"
      ]
     },
     "execution_count": 8,
     "metadata": {},
     "output_type": "execute_result"
    }
   ],
   "source": [
    "from sklearn.tree import DecisionTreeRegressor\n",
    "\n",
    "# grow one regression tree with each bootstrapped training set\n",
    "treereg1 = DecisionTreeRegressor(random_state=123)\n",
    "treereg1.fit(vehicles.iloc[sample1, 1:], vehicles.iloc[sample1, 0])\n",
    "\n",
    "treereg2 = DecisionTreeRegressor(random_state=123)\n",
    "treereg2.fit(vehicles.iloc[sample2, 1:], vehicles.iloc[sample2, 0])\n",
    "\n",
    "treereg3 = DecisionTreeRegressor(random_state=123)\n",
    "treereg3.fit(vehicles.iloc[sample3, 1:], vehicles.iloc[sample3, 0])"
   ]
  },
  {
   "cell_type": "code",
   "execution_count": 9,
   "metadata": {
    "collapsed": false
   },
   "outputs": [
    {
     "data": {
      "text/html": [
       "<div>\n",
       "<table border=\"1\" class=\"dataframe\">\n",
       "  <thead>\n",
       "    <tr style=\"text-align: right;\">\n",
       "      <th></th>\n",
       "      <th>price</th>\n",
       "      <th>year</th>\n",
       "      <th>miles</th>\n",
       "      <th>doors</th>\n",
       "      <th>type</th>\n",
       "    </tr>\n",
       "  </thead>\n",
       "  <tbody>\n",
       "    <tr>\n",
       "      <th>0</th>\n",
       "      <td>3000</td>\n",
       "      <td>2003</td>\n",
       "      <td>130000</td>\n",
       "      <td>4</td>\n",
       "      <td>1</td>\n",
       "    </tr>\n",
       "    <tr>\n",
       "      <th>1</th>\n",
       "      <td>6000</td>\n",
       "      <td>2005</td>\n",
       "      <td>82500</td>\n",
       "      <td>4</td>\n",
       "      <td>0</td>\n",
       "    </tr>\n",
       "    <tr>\n",
       "      <th>2</th>\n",
       "      <td>12000</td>\n",
       "      <td>2010</td>\n",
       "      <td>60000</td>\n",
       "      <td>2</td>\n",
       "      <td>0</td>\n",
       "    </tr>\n",
       "  </tbody>\n",
       "</table>\n",
       "</div>"
      ],
      "text/plain": [
       "   price  year   miles  doors  type\n",
       "0   3000  2003  130000      4     1\n",
       "1   6000  2005   82500      4     0\n",
       "2  12000  2010   60000      2     0"
      ]
     },
     "execution_count": 9,
     "metadata": {},
     "output_type": "execute_result"
    }
   ],
   "source": [
    "# read in out-of-sample data\n",
    "oos = pd.read_csv('../../data/used_vehicles_oos.csv')\n",
    "\n",
    "# convert car to 0 and truck to 1\n",
    "oos['type'] = oos.type.map({'car':0, 'truck':1})\n",
    "\n",
    "# print data\n",
    "oos"
   ]
  },
  {
   "cell_type": "code",
   "execution_count": 10,
   "metadata": {
    "collapsed": false
   },
   "outputs": [
    {
     "name": "stdout",
     "output_type": "stream",
     "text": [
      "[  1300.   5000.  14000.]\n",
      "[  1300.   1300.  13000.]\n",
      "[  3000.   3000.  13000.]\n"
     ]
    }
   ],
   "source": [
    "# select feature columns (every column except for the 0th column)\n",
    "feature_cols = vehicles.columns[1:]\n",
    "\n",
    "# make predictions on out-of-sample data\n",
    "preds1 = treereg1.predict(oos[feature_cols])\n",
    "preds2 = treereg2.predict(oos[feature_cols])\n",
    "preds3 = treereg3.predict(oos[feature_cols])\n",
    "\n",
    "# print predictions\n",
    "print preds1\n",
    "print preds2\n",
    "print preds3"
   ]
  },
  {
   "cell_type": "code",
   "execution_count": 11,
   "metadata": {
    "collapsed": false
   },
   "outputs": [
    {
     "name": "stdout",
     "output_type": "stream",
     "text": [
      "[  1866.66666667   3100.          13333.33333333]\n",
      "[ 3000  6000 12000]\n"
     ]
    }
   ],
   "source": [
    "# average predictions and compare to actual values\n",
    "print (preds1 + preds2 + preds3)/3\n",
    "print oos.price.values"
   ]
  },
  {
   "cell_type": "markdown",
   "metadata": {},
   "source": [
    "## Estimating out-of-sample error\n",
    "\n",
    "Bagged models have a very nice property: **out-of-sample error can be estimated without using the test set approach or cross-validation!**\n",
    "\n",
    "Here's how the out-of-sample estimation process works with bagged trees:\n",
    "\n",
    "- On average, each bagged tree uses about two-thirds of the observations. **For each tree, the remaining observations are called \"out-of-bag\" observations.**\n",
    "- For the first observation in the training data, predict its response using **only** the trees in which that observation was out-of-bag. Average those predictions (for regression) or take a majority vote (for classification).\n",
    "- Repeat this process for every observation in the training data.\n",
    "- Compare all predictions to the actual responses in order to compute a mean squared error or classification error. This is known as the **out-of-bag error**.\n",
    "\n",
    "**When B is sufficiently large, the out-of-bag error is an accurate estimate of out-of-sample error.**"
   ]
  },
  {
   "cell_type": "code",
   "execution_count": 12,
   "metadata": {
    "collapsed": false
   },
   "outputs": [
    {
     "name": "stdout",
     "output_type": "stream",
     "text": [
      "set([0, 1, 2, 3, 4, 5, 6, 7, 8, 9, 10, 11, 12, 13])\n",
      "set([0, 1, 2, 3, 6, 9, 10, 11, 12, 13])\n"
     ]
    }
   ],
   "source": [
    "# set is a data structure used to identify unique elements\n",
    "print set(range(14))\n",
    "\n",
    "# only show the unique elements in sample1\n",
    "print set(sample1)"
   ]
  },
  {
   "cell_type": "code",
   "execution_count": 13,
   "metadata": {
    "collapsed": false
   },
   "outputs": [
    {
     "name": "stdout",
     "output_type": "stream",
     "text": [
      "[4, 5, 7, 8]\n",
      "[5, 6, 8, 10, 11, 12]\n",
      "[1, 5, 10, 11]\n"
     ]
    }
   ],
   "source": [
    "# use the \"set difference\" to identify the out-of-bag observations for each tree\n",
    "print sorted(set(range(14)) - set(sample1))\n",
    "print sorted(set(range(14)) - set(sample2))\n",
    "print sorted(set(range(14)) - set(sample3))"
   ]
  },
  {
   "cell_type": "markdown",
   "metadata": {},
   "source": [
    "Thus, we would predict the response for **observation 4** by using tree 1 (because it is only out-of-bag for tree 1). We would predict the response for **observation 5** by averaging the predictions from trees 1, 2, and 3 (since it is out-of-bag for all three trees). We would repeat this process for all observations, and then calculate the MSE using those predictions."
   ]
  },
  {
   "cell_type": "markdown",
   "metadata": {},
   "source": [
    "## Estimating variable importance\n",
    "\n",
    "Although bagging **increases predictive accuracy**, it **decreases model interpretability** because it's no longer possible to visualize the tree to understand the importance of each variable.\n",
    "\n",
    "However, we can still obtain an overall summary of \"variable importance\" from bagged models:\n",
    "\n",
    "- To compute variable importance for bagged regression trees, we can calculate the **total amount that the mean squared error is decreased due to splits over a given predictor, averaged over all trees**.\n",
    "- A similar process is used for bagged classification trees, except we use the Gini index instead of the mean squared error.\n",
    "\n",
    "(We'll see an example of this below.)"
   ]
  },
  {
   "cell_type": "markdown",
   "metadata": {},
   "source": [
    "## Random Forests\n",
    "\n",
    "Random Forests is a **slight variation of bagged trees** that has even better performance! Here's how it works:\n",
    "\n",
    "- Exactly like bagging, we create an ensemble of decision trees using bootstrapped samples of the training set.\n",
    "- However, when building each tree, **each time a split is considered**, a random sample of m predictors is chosen as split candidates from the full set of p predictors. **The split is only allowed to use one of those m predictors.**\n",
    "\n",
    "Notes:\n",
    "\n",
    "- A new random sample of predictors is chosen for **every single tree at every single split**.\n",
    "- For **classification**, m is typically chosen to be the square root of p. For **regression**, m is typically chosen to be somewhere between p/3 and p.\n",
    "\n",
    "What's the point?\n",
    "\n",
    "- Suppose there is one very strong predictor in the data set. When using bagged trees, most of the trees will use that predictor as the top split, resulting in an ensemble of similar trees that are \"highly correlated\".\n",
    "- Averaging highly correlated quantities does not significantly reduce variance (which is the entire goal of bagging).\n",
    "- **By randomly leaving out candidate predictors from each split, Random Forests \"decorrelates\" the trees**, such that the averaging process can reduce the variance of the resulting model."
   ]
  },
  {
   "cell_type": "code",
   "execution_count": 14,
   "metadata": {
    "collapsed": false
   },
   "outputs": [
    {
     "data": {
      "text/html": [
       "<div>\n",
       "<table border=\"1\" class=\"dataframe\">\n",
       "  <thead>\n",
       "    <tr style=\"text-align: right;\">\n",
       "      <th></th>\n",
       "      <th>PassengerId</th>\n",
       "      <th>Survived</th>\n",
       "      <th>Pclass</th>\n",
       "      <th>Name</th>\n",
       "      <th>Sex</th>\n",
       "      <th>Age</th>\n",
       "      <th>SibSp</th>\n",
       "      <th>Parch</th>\n",
       "      <th>Ticket</th>\n",
       "      <th>Fare</th>\n",
       "      <th>Cabin</th>\n",
       "      <th>Embarked</th>\n",
       "      <th>Embarked_Q</th>\n",
       "      <th>Embarked_S</th>\n",
       "    </tr>\n",
       "  </thead>\n",
       "  <tbody>\n",
       "    <tr>\n",
       "      <th>0</th>\n",
       "      <td>1</td>\n",
       "      <td>0</td>\n",
       "      <td>3</td>\n",
       "      <td>Braund, Mr. Owen Harris</td>\n",
       "      <td>1</td>\n",
       "      <td>22.000000</td>\n",
       "      <td>1</td>\n",
       "      <td>0</td>\n",
       "      <td>A/5 21171</td>\n",
       "      <td>7.2500</td>\n",
       "      <td>NaN</td>\n",
       "      <td>S</td>\n",
       "      <td>0</td>\n",
       "      <td>1</td>\n",
       "    </tr>\n",
       "    <tr>\n",
       "      <th>1</th>\n",
       "      <td>2</td>\n",
       "      <td>1</td>\n",
       "      <td>1</td>\n",
       "      <td>Cumings, Mrs. John Bradley (Florence Briggs Th...</td>\n",
       "      <td>0</td>\n",
       "      <td>38.000000</td>\n",
       "      <td>1</td>\n",
       "      <td>0</td>\n",
       "      <td>PC 17599</td>\n",
       "      <td>71.2833</td>\n",
       "      <td>C85</td>\n",
       "      <td>C</td>\n",
       "      <td>0</td>\n",
       "      <td>0</td>\n",
       "    </tr>\n",
       "    <tr>\n",
       "      <th>2</th>\n",
       "      <td>3</td>\n",
       "      <td>1</td>\n",
       "      <td>3</td>\n",
       "      <td>Heikkinen, Miss. Laina</td>\n",
       "      <td>0</td>\n",
       "      <td>26.000000</td>\n",
       "      <td>0</td>\n",
       "      <td>0</td>\n",
       "      <td>STON/O2. 3101282</td>\n",
       "      <td>7.9250</td>\n",
       "      <td>NaN</td>\n",
       "      <td>S</td>\n",
       "      <td>0</td>\n",
       "      <td>1</td>\n",
       "    </tr>\n",
       "    <tr>\n",
       "      <th>3</th>\n",
       "      <td>4</td>\n",
       "      <td>1</td>\n",
       "      <td>1</td>\n",
       "      <td>Futrelle, Mrs. Jacques Heath (Lily May Peel)</td>\n",
       "      <td>0</td>\n",
       "      <td>35.000000</td>\n",
       "      <td>1</td>\n",
       "      <td>0</td>\n",
       "      <td>113803</td>\n",
       "      <td>53.1000</td>\n",
       "      <td>C123</td>\n",
       "      <td>S</td>\n",
       "      <td>0</td>\n",
       "      <td>1</td>\n",
       "    </tr>\n",
       "    <tr>\n",
       "      <th>4</th>\n",
       "      <td>5</td>\n",
       "      <td>0</td>\n",
       "      <td>3</td>\n",
       "      <td>Allen, Mr. William Henry</td>\n",
       "      <td>1</td>\n",
       "      <td>35.000000</td>\n",
       "      <td>0</td>\n",
       "      <td>0</td>\n",
       "      <td>373450</td>\n",
       "      <td>8.0500</td>\n",
       "      <td>NaN</td>\n",
       "      <td>S</td>\n",
       "      <td>0</td>\n",
       "      <td>1</td>\n",
       "    </tr>\n",
       "    <tr>\n",
       "      <th>5</th>\n",
       "      <td>6</td>\n",
       "      <td>0</td>\n",
       "      <td>3</td>\n",
       "      <td>Moran, Mr. James</td>\n",
       "      <td>1</td>\n",
       "      <td>29.699118</td>\n",
       "      <td>0</td>\n",
       "      <td>0</td>\n",
       "      <td>330877</td>\n",
       "      <td>8.4583</td>\n",
       "      <td>NaN</td>\n",
       "      <td>Q</td>\n",
       "      <td>1</td>\n",
       "      <td>0</td>\n",
       "    </tr>\n",
       "    <tr>\n",
       "      <th>6</th>\n",
       "      <td>7</td>\n",
       "      <td>0</td>\n",
       "      <td>1</td>\n",
       "      <td>McCarthy, Mr. Timothy J</td>\n",
       "      <td>1</td>\n",
       "      <td>54.000000</td>\n",
       "      <td>0</td>\n",
       "      <td>0</td>\n",
       "      <td>17463</td>\n",
       "      <td>51.8625</td>\n",
       "      <td>E46</td>\n",
       "      <td>S</td>\n",
       "      <td>0</td>\n",
       "      <td>1</td>\n",
       "    </tr>\n",
       "    <tr>\n",
       "      <th>7</th>\n",
       "      <td>8</td>\n",
       "      <td>0</td>\n",
       "      <td>3</td>\n",
       "      <td>Palsson, Master. Gosta Leonard</td>\n",
       "      <td>1</td>\n",
       "      <td>2.000000</td>\n",
       "      <td>3</td>\n",
       "      <td>1</td>\n",
       "      <td>349909</td>\n",
       "      <td>21.0750</td>\n",
       "      <td>NaN</td>\n",
       "      <td>S</td>\n",
       "      <td>0</td>\n",
       "      <td>1</td>\n",
       "    </tr>\n",
       "    <tr>\n",
       "      <th>8</th>\n",
       "      <td>9</td>\n",
       "      <td>1</td>\n",
       "      <td>3</td>\n",
       "      <td>Johnson, Mrs. Oscar W (Elisabeth Vilhelmina Berg)</td>\n",
       "      <td>0</td>\n",
       "      <td>27.000000</td>\n",
       "      <td>0</td>\n",
       "      <td>2</td>\n",
       "      <td>347742</td>\n",
       "      <td>11.1333</td>\n",
       "      <td>NaN</td>\n",
       "      <td>S</td>\n",
       "      <td>0</td>\n",
       "      <td>1</td>\n",
       "    </tr>\n",
       "    <tr>\n",
       "      <th>9</th>\n",
       "      <td>10</td>\n",
       "      <td>1</td>\n",
       "      <td>2</td>\n",
       "      <td>Nasser, Mrs. Nicholas (Adele Achem)</td>\n",
       "      <td>0</td>\n",
       "      <td>14.000000</td>\n",
       "      <td>1</td>\n",
       "      <td>0</td>\n",
       "      <td>237736</td>\n",
       "      <td>30.0708</td>\n",
       "      <td>NaN</td>\n",
       "      <td>C</td>\n",
       "      <td>0</td>\n",
       "      <td>0</td>\n",
       "    </tr>\n",
       "  </tbody>\n",
       "</table>\n",
       "</div>"
      ],
      "text/plain": [
       "   PassengerId  Survived  Pclass  \\\n",
       "0            1         0       3   \n",
       "1            2         1       1   \n",
       "2            3         1       3   \n",
       "3            4         1       1   \n",
       "4            5         0       3   \n",
       "5            6         0       3   \n",
       "6            7         0       1   \n",
       "7            8         0       3   \n",
       "8            9         1       3   \n",
       "9           10         1       2   \n",
       "\n",
       "                                                Name  Sex        Age  SibSp  \\\n",
       "0                            Braund, Mr. Owen Harris    1  22.000000      1   \n",
       "1  Cumings, Mrs. John Bradley (Florence Briggs Th...    0  38.000000      1   \n",
       "2                             Heikkinen, Miss. Laina    0  26.000000      0   \n",
       "3       Futrelle, Mrs. Jacques Heath (Lily May Peel)    0  35.000000      1   \n",
       "4                           Allen, Mr. William Henry    1  35.000000      0   \n",
       "5                                   Moran, Mr. James    1  29.699118      0   \n",
       "6                            McCarthy, Mr. Timothy J    1  54.000000      0   \n",
       "7                     Palsson, Master. Gosta Leonard    1   2.000000      3   \n",
       "8  Johnson, Mrs. Oscar W (Elisabeth Vilhelmina Berg)    0  27.000000      0   \n",
       "9                Nasser, Mrs. Nicholas (Adele Achem)    0  14.000000      1   \n",
       "\n",
       "   Parch            Ticket     Fare Cabin Embarked  Embarked_Q  Embarked_S  \n",
       "0      0         A/5 21171   7.2500   NaN        S           0           1  \n",
       "1      0          PC 17599  71.2833   C85        C           0           0  \n",
       "2      0  STON/O2. 3101282   7.9250   NaN        S           0           1  \n",
       "3      0            113803  53.1000  C123        S           0           1  \n",
       "4      0            373450   8.0500   NaN        S           0           1  \n",
       "5      0            330877   8.4583   NaN        Q           1           0  \n",
       "6      0             17463  51.8625   E46        S           0           1  \n",
       "7      1            349909  21.0750   NaN        S           0           1  \n",
       "8      2            347742  11.1333   NaN        S           0           1  \n",
       "9      0            237736  30.0708   NaN        C           0           0  "
      ]
     },
     "execution_count": 14,
     "metadata": {},
     "output_type": "execute_result"
    }
   ],
   "source": [
    "# read in the Titanic data\n",
    "titanic = pd.read_csv('../../data/titanic.csv')\n",
    "\n",
    "# encode sex feature\n",
    "titanic['Sex'] = titanic.Sex.map({'female':0, 'male':1})\n",
    "\n",
    "# fill in missing values for age\n",
    "titanic.Age.fillna(titanic.Age.mean(), inplace=True)\n",
    "\n",
    "# create three dummy variables, drop the first dummy variable, and store this as a DataFrame\n",
    "embarked_dummies = pd.get_dummies(titanic.Embarked, prefix='Embarked').iloc[:, 1:]\n",
    "\n",
    "# concatenate the two dummy variable columns onto the original DataFrame\n",
    "# note: axis=0 means rows, axis=1 means columns\n",
    "titanic = pd.concat([titanic, embarked_dummies], axis=1)\n",
    "\n",
    "# create a list of feature columns\n",
    "feature_cols = ['Pclass', 'Sex', 'Age', 'Embarked_Q', 'Embarked_S']\n",
    "\n",
    "# print the updated DataFrame\n",
    "titanic.head(10)"
   ]
  },
  {
   "cell_type": "code",
   "execution_count": 15,
   "metadata": {
    "collapsed": false
   },
   "outputs": [
    {
     "data": {
      "text/plain": [
       "RandomForestClassifier(bootstrap=True, class_weight=None, criterion='gini',\n",
       "            max_depth=None, max_features='auto', max_leaf_nodes=None,\n",
       "            min_samples_leaf=1, min_samples_split=2,\n",
       "            min_weight_fraction_leaf=0.0, n_estimators=100, n_jobs=1,\n",
       "            oob_score=True, random_state=1, verbose=0, warm_start=False)"
      ]
     },
     "execution_count": 15,
     "metadata": {},
     "output_type": "execute_result"
    }
   ],
   "source": [
    "# import class, instantiate estimator, fit with all data\n",
    "from sklearn.ensemble import RandomForestClassifier\n",
    "rfclf = RandomForestClassifier(n_estimators=100, max_features='auto', oob_score=True, random_state=1)\n",
    "rfclf.fit(titanic[feature_cols], titanic.Survived)"
   ]
  },
  {
   "cell_type": "markdown",
   "metadata": {},
   "source": [
    "These are the most important tuning parameters for Random Forests:\n",
    "\n",
    "- **n_estimators:** more estimators (trees) increases performance but decreases speed\n",
    "- **max_features:** cross-validate to choose an ideal value"
   ]
  },
  {
   "cell_type": "code",
   "execution_count": 16,
   "metadata": {
    "collapsed": false
   },
   "outputs": [
    {
     "data": {
      "text/html": [
       "<div>\n",
       "<table border=\"1\" class=\"dataframe\">\n",
       "  <thead>\n",
       "    <tr style=\"text-align: right;\">\n",
       "      <th></th>\n",
       "      <th>feature</th>\n",
       "      <th>importance</th>\n",
       "    </tr>\n",
       "  </thead>\n",
       "  <tbody>\n",
       "    <tr>\n",
       "      <th>0</th>\n",
       "      <td>Pclass</td>\n",
       "      <td>0.160553</td>\n",
       "    </tr>\n",
       "    <tr>\n",
       "      <th>1</th>\n",
       "      <td>Sex</td>\n",
       "      <td>0.366700</td>\n",
       "    </tr>\n",
       "    <tr>\n",
       "      <th>2</th>\n",
       "      <td>Age</td>\n",
       "      <td>0.434528</td>\n",
       "    </tr>\n",
       "    <tr>\n",
       "      <th>3</th>\n",
       "      <td>Embarked_Q</td>\n",
       "      <td>0.012129</td>\n",
       "    </tr>\n",
       "    <tr>\n",
       "      <th>4</th>\n",
       "      <td>Embarked_S</td>\n",
       "      <td>0.026089</td>\n",
       "    </tr>\n",
       "  </tbody>\n",
       "</table>\n",
       "</div>"
      ],
      "text/plain": [
       "      feature  importance\n",
       "0      Pclass    0.160553\n",
       "1         Sex    0.366700\n",
       "2         Age    0.434528\n",
       "3  Embarked_Q    0.012129\n",
       "4  Embarked_S    0.026089"
      ]
     },
     "execution_count": 16,
     "metadata": {},
     "output_type": "execute_result"
    }
   ],
   "source": [
    "# compute the feature importances\n",
    "pd.DataFrame({'feature':feature_cols, 'importance':rfclf.feature_importances_})"
   ]
  },
  {
   "cell_type": "code",
   "execution_count": 17,
   "metadata": {
    "collapsed": false
   },
   "outputs": [
    {
     "data": {
      "text/plain": [
       "0.80022446689113358"
      ]
     },
     "execution_count": 17,
     "metadata": {},
     "output_type": "execute_result"
    }
   ],
   "source": [
    "# compute the out-of-bag classification accuracy\n",
    "rfclf.oob_score_"
   ]
  },
  {
   "cell_type": "markdown",
   "metadata": {},
   "source": [
    "## Boosting\n",
    "\n",
    "To go over Extreme Gradient Boosting (XGBOOST) have a look at the following kaggle script\n",
    "\n",
    "[Understanding XGBOOST on the Oto Dataset](https://www.kaggle.com/tqchen/otto-group-product-classification-challenge/understanding-xgboost-model-on-otto-data/notebook)\n",
    "\n",
    "Or try installing yourself [from github ](https://github.com/dmlc/xgboost/blob/master/doc/build.md)\n",
    "\n",
    "\n"
   ]
  },
  {
   "cell_type": "markdown",
   "metadata": {},
   "source": [
    "## Wrapping up ensembling\n",
    "\n",
    "Ensembling is incredibly popular, when the **primary goal is predictive accuracy**. For example, the team that eventually won the $1 million [Netflix Prize](http://en.wikipedia.org/wiki/Netflix_Prize) used an [ensemble of 107 models](http://www2.research.att.com/~volinsky/papers/chance.pdf) early on in the competition.\n",
    "\n",
    "There was a recent paper in the Journal of Machine Learning Research titled \"[Do We Need Hundreds of Classifiers to Solve Real World Classification Problems?](http://jmlr.csail.mit.edu/papers/volume15/delgado14a/delgado14a.pdf)\" (**Spoiler alert:** Random Forests did very well.) In the [comments about the paper](https://news.ycombinator.com/item?id=8719723) on Hacker News, Ben Hamner (Kaggle's chief scientist) said the following:\n",
    "\n",
    "> This is consistent with our experience running hundreds of Kaggle competitions: for most classification problems, some variation on ensembled decision trees (random forests, gradient boosted machines, etc.) performs the best. This is typically in conjunction with clever data processing, feature selection, and internal validation.\n",
    "\n",
    "> One key exception is where the data is richly and hierarchically structured. Text, speech, and visual data falls under this category. In many cases here, variations of neural networks (deep neural nets/CNN's/RNN's/etc.) provide very dramatic improvements.\n",
    "\n",
    "But as you can imagine, ensembling may not often be practical in a real-time environment.\n",
    "\n",
    "**You can also build your own ensembles:** just build a variety of models and average them together! Here are some strategies for building independent models:\n",
    "\n",
    "- using different models\n",
    "- choosing different combinations of features\n",
    "- changing the tuning parameters"
   ]
  },
  {
   "cell_type": "markdown",
   "metadata": {},
   "source": [
    "## Resources\n",
    "\n",
    "- scikit-learn documentation: [Ensemble Methods](http://scikit-learn.org/stable/modules/ensemble.html)\n",
    "- Quora: [How do random forests work in layman's terms?](http://www.quora.com/How-do-random-forests-work-in-laymans-terms/answer/Edwin-Chen-1)"
   ]
  }
 ],
 "metadata": {
  "kernelspec": {
   "display_name": "Python 2",
   "language": "python",
   "name": "python2"
  },
  "language_info": {
   "codemirror_mode": {
    "name": "ipython",
    "version": 2
   },
   "file_extension": ".py",
   "mimetype": "text/x-python",
   "name": "python",
   "nbconvert_exporter": "python",
   "pygments_lexer": "ipython2",
   "version": "2.7.11"
  }
 },
 "nbformat": 4,
 "nbformat_minor": 0
}
