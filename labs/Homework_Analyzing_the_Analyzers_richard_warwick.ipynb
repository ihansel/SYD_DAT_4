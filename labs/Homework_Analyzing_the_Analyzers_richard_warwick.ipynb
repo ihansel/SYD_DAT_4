{
 "cells": [
  {
   "cell_type": "markdown",
   "metadata": {},
   "source": [
    "# Five Key Points from The Article\n",
    "\n",
    "1. There is a need to develop a language and a level of understanding across businesses and professional services to define the field of data science so people can more accurately describe what they offer and businesses can more accurately ask for what they want. There is a gap between perception and reality of data science practitioners.\n",
    "\n",
    "2. Data Businessperson and Data Researcher self-IDs are the most likely to have strong skill association with business or stats/math. Data Creative and Data Developer really varied.\n",
    "\n",
    "3. Raises a question in my reading: T-shape data scientists - will this be relevant in the future? As the field grows will the need to have a breadth of skills be replaced by teams of people with deep skills in one or two areas?\n",
    "\n",
    "4. \"Data scientists should work in teams with overlapping skills to be most effective\" vs \"'God' that can do it all\" - what about data science as added value? Those that work with big datasets able to do some ad-hoc analysis? p25\n",
    "\n",
    "5. Job rotation as a suggested way of integrating data science into different areas of organisation and also giving data scientist experience and context for each area."
   ]
  }
 ],
 "metadata": {
  "kernelspec": {
   "display_name": "Python 2",
   "language": "python",
   "name": "python2"
  },
  "language_info": {
   "codemirror_mode": {
    "name": "ipython",
    "version": 2
   },
   "file_extension": ".py",
   "mimetype": "text/x-python",
   "name": "python",
   "nbconvert_exporter": "python",
   "pygments_lexer": "ipython2",
   "version": "2.7.11"
  }
 },
 "nbformat": 4,
 "nbformat_minor": 0
}
