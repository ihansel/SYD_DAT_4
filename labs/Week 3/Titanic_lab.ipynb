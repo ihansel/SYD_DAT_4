{
 "cells": [
  {
   "cell_type": "markdown",
   "metadata": {},
   "source": [
    "## EXERCISE: Predicting Survival on the Titanic"
   ]
  },
  {
   "cell_type": "code",
<<<<<<< HEAD
   "execution_count": 41,
   "metadata": {
    "collapsed": false
   },
   "outputs": [
    {
     "data": {
      "text/html": [
       "<div>\n",
       "<table border=\"1\" class=\"dataframe\">\n",
       "  <thead>\n",
       "    <tr style=\"text-align: right;\">\n",
       "      <th></th>\n",
       "      <th>Survived</th>\n",
       "      <th>Pclass</th>\n",
       "      <th>Name</th>\n",
       "      <th>Sex</th>\n",
       "      <th>Age</th>\n",
       "      <th>SibSp</th>\n",
       "      <th>Parch</th>\n",
       "      <th>Ticket</th>\n",
       "      <th>Fare</th>\n",
       "      <th>Cabin</th>\n",
       "      <th>Embarked</th>\n",
       "    </tr>\n",
       "    <tr>\n",
       "      <th>PassengerId</th>\n",
       "      <th></th>\n",
       "      <th></th>\n",
       "      <th></th>\n",
       "      <th></th>\n",
       "      <th></th>\n",
       "      <th></th>\n",
       "      <th></th>\n",
       "      <th></th>\n",
       "      <th></th>\n",
       "      <th></th>\n",
       "      <th></th>\n",
       "    </tr>\n",
       "  </thead>\n",
       "  <tbody>\n",
       "    <tr>\n",
       "      <th>1</th>\n",
       "      <td>0</td>\n",
       "      <td>3</td>\n",
       "      <td>Braund, Mr. Owen Harris</td>\n",
       "      <td>male</td>\n",
       "      <td>22</td>\n",
       "      <td>1</td>\n",
       "      <td>0</td>\n",
       "      <td>A/5 21171</td>\n",
       "      <td>7.2500</td>\n",
       "      <td>NaN</td>\n",
       "      <td>S</td>\n",
       "    </tr>\n",
       "    <tr>\n",
       "      <th>2</th>\n",
       "      <td>1</td>\n",
       "      <td>1</td>\n",
       "      <td>Cumings, Mrs. John Bradley (Florence Briggs Th...</td>\n",
       "      <td>female</td>\n",
       "      <td>38</td>\n",
       "      <td>1</td>\n",
       "      <td>0</td>\n",
       "      <td>PC 17599</td>\n",
       "      <td>71.2833</td>\n",
       "      <td>C85</td>\n",
       "      <td>C</td>\n",
       "    </tr>\n",
       "    <tr>\n",
       "      <th>3</th>\n",
       "      <td>1</td>\n",
       "      <td>3</td>\n",
       "      <td>Heikkinen, Miss. Laina</td>\n",
       "      <td>female</td>\n",
       "      <td>26</td>\n",
       "      <td>0</td>\n",
       "      <td>0</td>\n",
       "      <td>STON/O2. 3101282</td>\n",
       "      <td>7.9250</td>\n",
       "      <td>NaN</td>\n",
       "      <td>S</td>\n",
       "    </tr>\n",
       "  </tbody>\n",
       "</table>\n",
       "</div>"
      ],
      "text/plain": [
       "             Survived  Pclass  \\\n",
       "PassengerId                     \n",
       "1                   0       3   \n",
       "2                   1       1   \n",
       "3                   1       3   \n",
       "\n",
       "                                                          Name     Sex  Age  \\\n",
       "PassengerId                                                                   \n",
       "1                                      Braund, Mr. Owen Harris    male   22   \n",
       "2            Cumings, Mrs. John Bradley (Florence Briggs Th...  female   38   \n",
       "3                                       Heikkinen, Miss. Laina  female   26   \n",
       "\n",
       "             SibSp  Parch            Ticket     Fare Cabin Embarked  \n",
       "PassengerId                                                          \n",
       "1                1      0         A/5 21171   7.2500   NaN        S  \n",
       "2                1      0          PC 17599  71.2833   C85        C  \n",
       "3                0      0  STON/O2. 3101282   7.9250   NaN        S  "
      ]
     },
     "execution_count": 41,
     "metadata": {},
     "output_type": "execute_result"
    }
   ],
   "source": [
    "# TASK 1: read the data from titanic.csv into a DataFrame\n",
    "import pandas as pd\n",
    "titanic = pd.read_csv('../../data/titanic.csv', index_col='PassengerId')\n",
    "\n",
    "titanic.head(3)"
=======
   "execution_count": null,
   "metadata": {
    "collapsed": true
   },
   "outputs": [],
   "source": [
    "# TASK 1: read the data from titanic.csv into a DataFrame\n",
    "import pandas as pd\n",
    "titanic = pd.read_csv('../../data/titanic.csv', index_col='PassengerId')"
>>>>>>> fad4836bcd0eb99890582f7ad1913cde0ec61c07
   ]
  },
  {
   "cell_type": "code",
<<<<<<< HEAD
   "execution_count": 42,
=======
   "execution_count": null,
>>>>>>> fad4836bcd0eb99890582f7ad1913cde0ec61c07
   "metadata": {
    "collapsed": true
   },
   "outputs": [],
   "source": [
    "# TASK 2: define Pclass/Parch as the features and Survived as the response\n",
    "feature_cols = ['Pclass', 'Parch']\n",
    "X = titanic[feature_cols]\n",
    "y = titanic.Survived"
   ]
  },
  {
   "cell_type": "code",
<<<<<<< HEAD
   "execution_count": 43,
=======
   "execution_count": null,
>>>>>>> fad4836bcd0eb99890582f7ad1913cde0ec61c07
   "metadata": {
    "collapsed": true
   },
   "outputs": [],
   "source": [
    "# TASK 3: split the data into training and testing sets\n",
    "from sklearn.cross_validation import train_test_split\n",
    "X_train, X_test, y_train, y_test = train_test_split(X, y, random_state=1)"
   ]
  },
  {
   "cell_type": "code",
<<<<<<< HEAD
   "execution_count": 44,
   "metadata": {
    "collapsed": false
   },
   "outputs": [
    {
     "data": {
      "text/plain": [
       "[('Pclass', -0.84439049407381062), ('Parch', 0.34124169973162322)]"
      ]
     },
     "execution_count": 44,
     "metadata": {},
     "output_type": "execute_result"
    }
   ],
=======
   "execution_count": null,
   "metadata": {
    "collapsed": false
   },
   "outputs": [],
>>>>>>> fad4836bcd0eb99890582f7ad1913cde0ec61c07
   "source": [
    "# TASK 4: fit a logistic regression model and examine the coefficients\n",
    "from sklearn.linear_model import LogisticRegression\n",
    "logreg = LogisticRegression()\n",
    "logreg.fit(X_train, y_train)\n",
<<<<<<< HEAD
    "zip(feature_cols, logreg.coef_[0])\n",
    "#feature_cols\n",
    "#logreg.coef_[0]"
=======
    "zip(feature_cols, logreg.coef_[0])"
>>>>>>> fad4836bcd0eb99890582f7ad1913cde0ec61c07
   ]
  },
  {
   "cell_type": "code",
<<<<<<< HEAD
   "execution_count": 45,
   "metadata": {
    "collapsed": false
   },
   "outputs": [
    {
     "name": "stdout",
     "output_type": "stream",
     "text": [
      "0.668161434978\n"
     ]
    }
   ],
   "source": [
    "# TASK 5: make predictions on testing set and calculate accuracy\n",
    "#X_test #0.668161434978\n",
=======
   "execution_count": null,
   "metadata": {
    "collapsed": false
   },
   "outputs": [],
   "source": [
    "# TASK 5: make predictions on testing set and calculate accuracy\n",
>>>>>>> fad4836bcd0eb99890582f7ad1913cde0ec61c07
    "y_pred_class = logreg.predict(X_test)\n",
    "from sklearn import metrics\n",
    "print metrics.accuracy_score(y_test, y_pred_class)"
   ]
  },
  {
   "cell_type": "code",
<<<<<<< HEAD
   "execution_count": 47,
   "metadata": {
    "collapsed": false
   },
   "outputs": [
    {
     "name": "stdout",
     "output_type": "stream",
     "text": [
      "0.668161434978\n"
     ]
    },
    {
     "ename": "ValueError",
     "evalue": "x and y must be the same size",
     "output_type": "error",
     "traceback": [
      "\u001b[0;31m---------------------------------------------------------------------------\u001b[0m",
      "\u001b[0;31mValueError\u001b[0m                                Traceback (most recent call last)",
      "\u001b[0;32m<ipython-input-47-8bea5cfe5437>\u001b[0m in \u001b[0;36m<module>\u001b[0;34m()\u001b[0m\n\u001b[1;32m     24\u001b[0m \u001b[0;34m\u001b[0m\u001b[0m\n\u001b[1;32m     25\u001b[0m \u001b[0;34m\u001b[0m\u001b[0m\n\u001b[0;32m---> 26\u001b[0;31m \u001b[0mplt\u001b[0m\u001b[0;34m.\u001b[0m\u001b[0mscatter\u001b[0m\u001b[0;34m(\u001b[0m\u001b[0mtitanic\u001b[0m\u001b[0;34m.\u001b[0m\u001b[0mPclass\u001b[0m\u001b[0;34m,\u001b[0m \u001b[0my_pred_class\u001b[0m\u001b[0;34m)\u001b[0m\u001b[0;34m\u001b[0m\u001b[0m\n\u001b[0m\u001b[1;32m     27\u001b[0m \u001b[0mplt\u001b[0m\u001b[0;34m.\u001b[0m\u001b[0mplot\u001b[0m\u001b[0;34m(\u001b[0m\u001b[0mtitanic\u001b[0m\u001b[0;34m.\u001b[0m\u001b[0mPclass\u001b[0m\u001b[0;34m,\u001b[0m \u001b[0my_pred_class\u001b[0m\u001b[0;34m,\u001b[0m \u001b[0mcolor\u001b[0m\u001b[0;34m=\u001b[0m\u001b[0;34m'red'\u001b[0m\u001b[0;34m)\u001b[0m\u001b[0;34m\u001b[0m\u001b[0m\n",
      "\u001b[0;32m/Users/JIN/anaconda2/lib/python2.7/site-packages/matplotlib/pyplot.pyc\u001b[0m in \u001b[0;36mscatter\u001b[0;34m(x, y, s, c, marker, cmap, norm, vmin, vmax, alpha, linewidths, verts, edgecolors, hold, data, **kwargs)\u001b[0m\n\u001b[1;32m   3249\u001b[0m                          \u001b[0mvmin\u001b[0m\u001b[0;34m=\u001b[0m\u001b[0mvmin\u001b[0m\u001b[0;34m,\u001b[0m \u001b[0mvmax\u001b[0m\u001b[0;34m=\u001b[0m\u001b[0mvmax\u001b[0m\u001b[0;34m,\u001b[0m \u001b[0malpha\u001b[0m\u001b[0;34m=\u001b[0m\u001b[0malpha\u001b[0m\u001b[0;34m,\u001b[0m\u001b[0;34m\u001b[0m\u001b[0m\n\u001b[1;32m   3250\u001b[0m                          \u001b[0mlinewidths\u001b[0m\u001b[0;34m=\u001b[0m\u001b[0mlinewidths\u001b[0m\u001b[0;34m,\u001b[0m \u001b[0mverts\u001b[0m\u001b[0;34m=\u001b[0m\u001b[0mverts\u001b[0m\u001b[0;34m,\u001b[0m\u001b[0;34m\u001b[0m\u001b[0m\n\u001b[0;32m-> 3251\u001b[0;31m                          edgecolors=edgecolors, data=data, **kwargs)\n\u001b[0m\u001b[1;32m   3252\u001b[0m     \u001b[0;32mfinally\u001b[0m\u001b[0;34m:\u001b[0m\u001b[0;34m\u001b[0m\u001b[0m\n\u001b[1;32m   3253\u001b[0m         \u001b[0max\u001b[0m\u001b[0;34m.\u001b[0m\u001b[0mhold\u001b[0m\u001b[0;34m(\u001b[0m\u001b[0mwashold\u001b[0m\u001b[0;34m)\u001b[0m\u001b[0;34m\u001b[0m\u001b[0m\n",
      "\u001b[0;32m/Users/JIN/anaconda2/lib/python2.7/site-packages/matplotlib/__init__.pyc\u001b[0m in \u001b[0;36minner\u001b[0;34m(ax, *args, **kwargs)\u001b[0m\n\u001b[1;32m   1810\u001b[0m                     warnings.warn(msg % (label_namer, func.__name__),\n\u001b[1;32m   1811\u001b[0m                                   RuntimeWarning, stacklevel=2)\n\u001b[0;32m-> 1812\u001b[0;31m             \u001b[0;32mreturn\u001b[0m \u001b[0mfunc\u001b[0m\u001b[0;34m(\u001b[0m\u001b[0max\u001b[0m\u001b[0;34m,\u001b[0m \u001b[0;34m*\u001b[0m\u001b[0margs\u001b[0m\u001b[0;34m,\u001b[0m \u001b[0;34m**\u001b[0m\u001b[0mkwargs\u001b[0m\u001b[0;34m)\u001b[0m\u001b[0;34m\u001b[0m\u001b[0m\n\u001b[0m\u001b[1;32m   1813\u001b[0m         \u001b[0mpre_doc\u001b[0m \u001b[0;34m=\u001b[0m \u001b[0minner\u001b[0m\u001b[0;34m.\u001b[0m\u001b[0m__doc__\u001b[0m\u001b[0;34m\u001b[0m\u001b[0m\n\u001b[1;32m   1814\u001b[0m         \u001b[0;32mif\u001b[0m \u001b[0mpre_doc\u001b[0m \u001b[0;32mis\u001b[0m \u001b[0mNone\u001b[0m\u001b[0;34m:\u001b[0m\u001b[0;34m\u001b[0m\u001b[0m\n",
      "\u001b[0;32m/Users/JIN/anaconda2/lib/python2.7/site-packages/matplotlib/axes/_axes.pyc\u001b[0m in \u001b[0;36mscatter\u001b[0;34m(self, x, y, s, c, marker, cmap, norm, vmin, vmax, alpha, linewidths, verts, edgecolors, **kwargs)\u001b[0m\n\u001b[1;32m   3838\u001b[0m         \u001b[0my\u001b[0m \u001b[0;34m=\u001b[0m \u001b[0mnp\u001b[0m\u001b[0;34m.\u001b[0m\u001b[0mma\u001b[0m\u001b[0;34m.\u001b[0m\u001b[0mravel\u001b[0m\u001b[0;34m(\u001b[0m\u001b[0my\u001b[0m\u001b[0;34m)\u001b[0m\u001b[0;34m\u001b[0m\u001b[0m\n\u001b[1;32m   3839\u001b[0m         \u001b[0;32mif\u001b[0m \u001b[0mx\u001b[0m\u001b[0;34m.\u001b[0m\u001b[0msize\u001b[0m \u001b[0;34m!=\u001b[0m \u001b[0my\u001b[0m\u001b[0;34m.\u001b[0m\u001b[0msize\u001b[0m\u001b[0;34m:\u001b[0m\u001b[0;34m\u001b[0m\u001b[0m\n\u001b[0;32m-> 3840\u001b[0;31m             \u001b[0;32mraise\u001b[0m \u001b[0mValueError\u001b[0m\u001b[0;34m(\u001b[0m\u001b[0;34m\"x and y must be the same size\"\u001b[0m\u001b[0;34m)\u001b[0m\u001b[0;34m\u001b[0m\u001b[0m\n\u001b[0m\u001b[1;32m   3841\u001b[0m \u001b[0;34m\u001b[0m\u001b[0m\n\u001b[1;32m   3842\u001b[0m         \u001b[0ms\u001b[0m \u001b[0;34m=\u001b[0m \u001b[0mnp\u001b[0m\u001b[0;34m.\u001b[0m\u001b[0mma\u001b[0m\u001b[0;34m.\u001b[0m\u001b[0mravel\u001b[0m\u001b[0;34m(\u001b[0m\u001b[0ms\u001b[0m\u001b[0;34m)\u001b[0m  \u001b[0;31m# This doesn't have to match x, y in size.\u001b[0m\u001b[0;34m\u001b[0m\u001b[0m\n",
      "\u001b[0;31mValueError\u001b[0m: x and y must be the same size"
     ]
    },
    {
     "data": {
      "image/png": "iVBORw0KGgoAAAANSUhEUgAAAXwAAAEDCAYAAAA2k7/eAAAABHNCSVQICAgIfAhkiAAAAAlwSFlz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\nwZekIgy+JBXxfxSc3L7lUmKjAAAAAElFTkSuQmCC\n",
      "text/plain": [
       "<matplotlib.figure.Figure at 0x11b7e4f50>"
      ]
     },
     "metadata": {},
     "output_type": "display_data"
    }
   ],
   "source": [
    "# TASK 6 (BONUS): add Age as a feature and calculate testing accuracy\n",
    "titanic.Age.fillna(titanic.Age.mean(), inplace=True)\n",
    "#feature_cols = ['Pclass', 'Parch', 'Age']\n",
    "feature_cols = ['Pclass']\n",
=======
   "execution_count": null,
   "metadata": {
    "collapsed": false
   },
   "outputs": [],
   "source": [
    "# TASK 6 (BONUS): add Age as a feature and calculate testing accuracy\n",
    "titanic.Age.fillna(titanic.Age.mean(), inplace=True)\n",
    "feature_cols = ['Pclass', 'Parch', 'Age']\n",
>>>>>>> fad4836bcd0eb99890582f7ad1913cde0ec61c07
    "X = titanic[feature_cols]\n",
    "X_train, X_test, y_train, y_test = train_test_split(X, y, random_state=1)\n",
    "logreg.fit(X_train, y_train)\n",
    "zip(feature_cols, logreg.coef_[0])\n",
<<<<<<< HEAD
    "\n",
    "y_pred_class = logreg.predict(X_test)\n",
    "print metrics.accuracy_score(y_test, y_pred_class)\n",
    "\n",
    "\n",
    "\n",
    "\n",
    "import seaborn as sns\n",
    "import matplotlib.pyplot as plt\n",
    "%matplotlib inline\n",
    "\n",
    "#sns.lmplot(x='Pclass', y='Survived', data=titanic, ci=None)\n",
    "\n",
    "\n",
    "\n",
    "\n",
    "\n",
    "plt.scatter(titanic.Pclass, y_pred_class)\n",
    "plt.plot(titanic.Pclass, y_pred_class, color='red')"
=======
    "y_pred_class = logreg.predict(X_test)\n",
    "print metrics.accuracy_score(y_test, y_pred_class)\n"
>>>>>>> fad4836bcd0eb99890582f7ad1913cde0ec61c07
   ]
  },
  {
   "cell_type": "code",
<<<<<<< HEAD
   "execution_count": 39,
   "metadata": {
    "collapsed": false
   },
   "outputs": [
    {
     "name": "stdout",
     "output_type": "stream",
     "text": [
      "[[112  16]\n",
      " [ 54  41]]\n"
     ]
    }
   ],
=======
   "execution_count": null,
   "metadata": {
    "collapsed": false
   },
   "outputs": [],
>>>>>>> fad4836bcd0eb99890582f7ad1913cde0ec61c07
   "source": [
    "# TASK 7 (BONUS): Confusion Matrix\n",
    "from sklearn import metrics\n",
    "prds = logreg.predict(X)\n",
    "print metrics.confusion_matrix(y_test, y_pred_class)"
   ]
  },
  {
   "cell_type": "code",
   "execution_count": null,
   "metadata": {
    "collapsed": true
   },
   "outputs": [],
   "source": []
  }
 ],
 "metadata": {
  "kernelspec": {
   "display_name": "Python 2",
   "language": "python",
   "name": "python2"
  },
  "language_info": {
   "codemirror_mode": {
    "name": "ipython",
    "version": 2
   },
   "file_extension": ".py",
   "mimetype": "text/x-python",
   "name": "python",
   "nbconvert_exporter": "python",
   "pygments_lexer": "ipython2",
<<<<<<< HEAD
   "version": "2.7.11"
=======
   "version": "2.7.10"
>>>>>>> fad4836bcd0eb99890582f7ad1913cde0ec61c07
  }
 },
 "nbformat": 4,
 "nbformat_minor": 0
}
