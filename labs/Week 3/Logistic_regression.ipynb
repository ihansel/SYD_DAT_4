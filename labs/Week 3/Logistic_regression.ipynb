{
 "cells": [
  {
   "cell_type": "markdown",
   "metadata": {},
   "source": [
    "# Logistic Regression"
   ]
  },
  {
   "cell_type": "markdown",
   "metadata": {},
   "source": [
    "## Agenda\n",
    "\n",
    "1. Refresh your memory on how to do linear regression in scikit-learn\n",
    "2. Attempt to use linear regression for classification\n",
    "3. Show you why logistic regression is a better alternative for classification\n",
    "4. Brief overview of probability, odds, e, log, and log-odds\n",
    "5. Explain the form of logistic regression\n",
    "6. Explain how to interpret logistic regression coefficients\n",
    "7. Compare logistic regression with other models"
   ]
  },
  {
   "cell_type": "markdown",
   "metadata": {},
   "source": [
    "## Part 1: Predicting a Continuous Response"
   ]
  },
  {
   "cell_type": "code",
<<<<<<< HEAD
<<<<<<< HEAD
   "execution_count": 1,
=======
   "execution_count": null,
>>>>>>> upstream/master
=======
   "execution_count": 1,
>>>>>>> upstream/master
   "metadata": {
    "collapsed": false
   },
   "outputs": [],
   "source": [
    "# glass identification dataset\n",
    "# USA Forensic Science Service; 6 types of glass; defined in terms of their oxide content (i.e. Na, Fe, K, etc)\n",
    "import pandas as pd\n",
    "url = 'http://archive.ics.uci.edu/ml/machine-learning-databases/glass/glass.data'\n",
    "col_names = ['id','ri','na','mg','al','si','k','ca','ba','fe','glass_type']\n",
    "glass = pd.read_csv(url, names=col_names, index_col='id')\n",
    "glass['assorted'] = glass.glass_type.map({1:0, 2:0, 3:0, 4:0, 5:1, 6:1, 7:1})"
   ]
  },
  {
   "cell_type": "code",
<<<<<<< HEAD
<<<<<<< HEAD
   "execution_count": 2,
   "metadata": {
    "collapsed": false
   },
   "outputs": [
    {
     "data": {
      "text/html": [
       "<div>\n",
       "<table border=\"1\" class=\"dataframe\">\n",
       "  <thead>\n",
       "    <tr style=\"text-align: right;\">\n",
       "      <th></th>\n",
       "      <th>ri</th>\n",
       "      <th>na</th>\n",
       "      <th>mg</th>\n",
       "      <th>al</th>\n",
       "      <th>si</th>\n",
       "      <th>k</th>\n",
       "      <th>ca</th>\n",
       "      <th>ba</th>\n",
       "      <th>fe</th>\n",
       "      <th>glass_type</th>\n",
       "      <th>assorted</th>\n",
       "    </tr>\n",
       "    <tr>\n",
       "      <th>id</th>\n",
       "      <th></th>\n",
       "      <th></th>\n",
       "      <th></th>\n",
       "      <th></th>\n",
       "      <th></th>\n",
       "      <th></th>\n",
       "      <th></th>\n",
       "      <th></th>\n",
       "      <th></th>\n",
       "      <th></th>\n",
       "      <th></th>\n",
       "    </tr>\n",
       "  </thead>\n",
       "  <tbody>\n",
       "    <tr>\n",
       "      <th>1</th>\n",
       "      <td>1.52101</td>\n",
       "      <td>13.64</td>\n",
       "      <td>4.49</td>\n",
       "      <td>1.10</td>\n",
       "      <td>71.78</td>\n",
       "      <td>0.06</td>\n",
       "      <td>8.75</td>\n",
       "      <td>0</td>\n",
       "      <td>0</td>\n",
       "      <td>1</td>\n",
       "      <td>0</td>\n",
       "    </tr>\n",
       "    <tr>\n",
       "      <th>2</th>\n",
       "      <td>1.51761</td>\n",
       "      <td>13.89</td>\n",
       "      <td>3.60</td>\n",
       "      <td>1.36</td>\n",
       "      <td>72.73</td>\n",
       "      <td>0.48</td>\n",
       "      <td>7.83</td>\n",
       "      <td>0</td>\n",
       "      <td>0</td>\n",
       "      <td>1</td>\n",
       "      <td>0</td>\n",
       "    </tr>\n",
       "    <tr>\n",
       "      <th>3</th>\n",
       "      <td>1.51618</td>\n",
       "      <td>13.53</td>\n",
       "      <td>3.55</td>\n",
       "      <td>1.54</td>\n",
       "      <td>72.99</td>\n",
       "      <td>0.39</td>\n",
       "      <td>7.78</td>\n",
       "      <td>0</td>\n",
       "      <td>0</td>\n",
       "      <td>1</td>\n",
       "      <td>0</td>\n",
       "    </tr>\n",
       "    <tr>\n",
       "      <th>4</th>\n",
       "      <td>1.51766</td>\n",
       "      <td>13.21</td>\n",
       "      <td>3.69</td>\n",
       "      <td>1.29</td>\n",
       "      <td>72.61</td>\n",
       "      <td>0.57</td>\n",
       "      <td>8.22</td>\n",
       "      <td>0</td>\n",
       "      <td>0</td>\n",
       "      <td>1</td>\n",
       "      <td>0</td>\n",
       "    </tr>\n",
       "    <tr>\n",
       "      <th>5</th>\n",
       "      <td>1.51742</td>\n",
       "      <td>13.27</td>\n",
       "      <td>3.62</td>\n",
       "      <td>1.24</td>\n",
       "      <td>73.08</td>\n",
       "      <td>0.55</td>\n",
       "      <td>8.07</td>\n",
       "      <td>0</td>\n",
       "      <td>0</td>\n",
       "      <td>1</td>\n",
       "      <td>0</td>\n",
       "    </tr>\n",
       "  </tbody>\n",
       "</table>\n",
       "</div>"
      ],
      "text/plain": [
       "         ri     na    mg    al     si     k    ca  ba  fe  glass_type  \\\n",
       "id                                                                      \n",
       "1   1.52101  13.64  4.49  1.10  71.78  0.06  8.75   0   0           1   \n",
       "2   1.51761  13.89  3.60  1.36  72.73  0.48  7.83   0   0           1   \n",
       "3   1.51618  13.53  3.55  1.54  72.99  0.39  7.78   0   0           1   \n",
       "4   1.51766  13.21  3.69  1.29  72.61  0.57  8.22   0   0           1   \n",
       "5   1.51742  13.27  3.62  1.24  73.08  0.55  8.07   0   0           1   \n",
       "\n",
       "    assorted  \n",
       "id            \n",
       "1          0  \n",
       "2          0  \n",
       "3          0  \n",
       "4          0  \n",
       "5          0  "
      ]
     },
     "execution_count": 2,
     "metadata": {},
     "output_type": "execute_result"
    }
   ],
=======
   "execution_count": null,
   "metadata": {
    "collapsed": false
   },
   "outputs": [],
>>>>>>> upstream/master
=======
   "execution_count": 2,
   "metadata": {
    "collapsed": false
   },
   "outputs": [
    {
     "data": {
      "text/html": [
       "<div>\n",
       "<table border=\"1\" class=\"dataframe\">\n",
       "  <thead>\n",
       "    <tr style=\"text-align: right;\">\n",
       "      <th></th>\n",
       "      <th>ri</th>\n",
       "      <th>na</th>\n",
       "      <th>mg</th>\n",
       "      <th>al</th>\n",
       "      <th>si</th>\n",
       "      <th>k</th>\n",
       "      <th>ca</th>\n",
       "      <th>ba</th>\n",
       "      <th>fe</th>\n",
       "      <th>glass_type</th>\n",
       "      <th>assorted</th>\n",
       "    </tr>\n",
       "    <tr>\n",
       "      <th>id</th>\n",
       "      <th></th>\n",
       "      <th></th>\n",
       "      <th></th>\n",
       "      <th></th>\n",
       "      <th></th>\n",
       "      <th></th>\n",
       "      <th></th>\n",
       "      <th></th>\n",
       "      <th></th>\n",
       "      <th></th>\n",
       "      <th></th>\n",
       "    </tr>\n",
       "  </thead>\n",
       "  <tbody>\n",
       "    <tr>\n",
       "      <th>1</th>\n",
       "      <td>1.52101</td>\n",
       "      <td>13.64</td>\n",
       "      <td>4.49</td>\n",
       "      <td>1.10</td>\n",
       "      <td>71.78</td>\n",
       "      <td>0.06</td>\n",
       "      <td>8.75</td>\n",
       "      <td>0</td>\n",
       "      <td>0</td>\n",
       "      <td>1</td>\n",
       "      <td>0</td>\n",
       "    </tr>\n",
       "    <tr>\n",
       "      <th>2</th>\n",
       "      <td>1.51761</td>\n",
       "      <td>13.89</td>\n",
       "      <td>3.60</td>\n",
       "      <td>1.36</td>\n",
       "      <td>72.73</td>\n",
       "      <td>0.48</td>\n",
       "      <td>7.83</td>\n",
       "      <td>0</td>\n",
       "      <td>0</td>\n",
       "      <td>1</td>\n",
       "      <td>0</td>\n",
       "    </tr>\n",
       "    <tr>\n",
       "      <th>3</th>\n",
       "      <td>1.51618</td>\n",
       "      <td>13.53</td>\n",
       "      <td>3.55</td>\n",
       "      <td>1.54</td>\n",
       "      <td>72.99</td>\n",
       "      <td>0.39</td>\n",
       "      <td>7.78</td>\n",
       "      <td>0</td>\n",
       "      <td>0</td>\n",
       "      <td>1</td>\n",
       "      <td>0</td>\n",
       "    </tr>\n",
       "    <tr>\n",
       "      <th>4</th>\n",
       "      <td>1.51766</td>\n",
       "      <td>13.21</td>\n",
       "      <td>3.69</td>\n",
       "      <td>1.29</td>\n",
       "      <td>72.61</td>\n",
       "      <td>0.57</td>\n",
       "      <td>8.22</td>\n",
       "      <td>0</td>\n",
       "      <td>0</td>\n",
       "      <td>1</td>\n",
       "      <td>0</td>\n",
       "    </tr>\n",
       "    <tr>\n",
       "      <th>5</th>\n",
       "      <td>1.51742</td>\n",
       "      <td>13.27</td>\n",
       "      <td>3.62</td>\n",
       "      <td>1.24</td>\n",
       "      <td>73.08</td>\n",
       "      <td>0.55</td>\n",
       "      <td>8.07</td>\n",
       "      <td>0</td>\n",
       "      <td>0</td>\n",
       "      <td>1</td>\n",
       "      <td>0</td>\n",
       "    </tr>\n",
       "  </tbody>\n",
       "</table>\n",
       "</div>"
      ],
      "text/plain": [
       "         ri     na    mg    al     si     k    ca  ba  fe  glass_type  \\\n",
       "id                                                                      \n",
       "1   1.52101  13.64  4.49  1.10  71.78  0.06  8.75   0   0           1   \n",
       "2   1.51761  13.89  3.60  1.36  72.73  0.48  7.83   0   0           1   \n",
       "3   1.51618  13.53  3.55  1.54  72.99  0.39  7.78   0   0           1   \n",
       "4   1.51766  13.21  3.69  1.29  72.61  0.57  8.22   0   0           1   \n",
       "5   1.51742  13.27  3.62  1.24  73.08  0.55  8.07   0   0           1   \n",
       "\n",
       "    assorted  \n",
       "id            \n",
       "1          0  \n",
       "2          0  \n",
       "3          0  \n",
       "4          0  \n",
       "5          0  "
      ]
     },
     "execution_count": 2,
     "metadata": {},
     "output_type": "execute_result"
    }
   ],
>>>>>>> upstream/master
   "source": [
    "glass.head()"
   ]
  },
  {
   "cell_type": "markdown",
   "metadata": {},
   "source": [
    "Pretend that we want to predict **ri**, and our only feature is **al**. How would we do it using machine learning? We would frame it as a regression problem, and use a linear regression model with **al** as the only feature and **ri** as the response.\n",
    "\n",
    "How would we **visualize** this model? Create a scatter plot with **al** on the x-axis and **ri** on the y-axis, and draw the line of best fit."
   ]
  },
  {
   "cell_type": "code",
<<<<<<< HEAD
<<<<<<< HEAD
   "execution_count": 3,
   "metadata": {
    "collapsed": false
   },
   "outputs": [
    {
     "name": "stdout",
     "output_type": "stream",
     "text": [
      "Requirement already satisfied (use --upgrade to upgrade): seaborn in /anaconda/lib/python2.7/site-packages\n",
      "\u001b[33mYou are using pip version 8.0.2, however version 8.1.1 is available.\n",
      "You should consider upgrading via the 'pip install --upgrade pip' command.\u001b[0m\n"
     ]
    }
   ],
=======
   "execution_count": null,
   "metadata": {
    "collapsed": false
   },
   "outputs": [],
>>>>>>> upstream/master
=======
   "execution_count": 3,
   "metadata": {
    "collapsed": false
   },
   "outputs": [
    {
     "name": "stdout",
     "output_type": "stream",
     "text": [
      "Requirement already satisfied (use --upgrade to upgrade): seaborn in /Users/ianhansel/anaconda/lib/python2.7/site-packages\n",
      "\u001b[33mYou are using pip version 7.0.3, however version 8.1.1 is available.\n",
      "You should consider upgrading via the 'pip install --upgrade pip' command.\u001b[0m\n"
     ]
    }
   ],
>>>>>>> upstream/master
   "source": [
    "! pip install seaborn"
   ]
  },
  {
   "cell_type": "code",
<<<<<<< HEAD
<<<<<<< HEAD
   "execution_count": 4,
=======
   "execution_count": null,
>>>>>>> upstream/master
=======
   "execution_count": 4,
>>>>>>> upstream/master
   "metadata": {
    "collapsed": false
   },
   "outputs": [],
   "source": [
    "import seaborn as sns\n",
    "import matplotlib.pyplot as plt\n",
    "%matplotlib inline"
   ]
  },
  {
   "cell_type": "code",
<<<<<<< HEAD
<<<<<<< HEAD
   "execution_count": 5,
   "metadata": {
    "collapsed": false
   },
   "outputs": [
    {
     "data": {
      "text/plain": [
       "<seaborn.axisgrid.FacetGrid at 0x11917b950>"
      ]
     },
     "execution_count": 5,
     "metadata": {},
     "output_type": "execute_result"
    },
    {
     "data": {
      "image/png": "iVBORw0KGgoAAAANSUhEUgAAAWEAAAFhCAYAAACh/xvXAAAABHNCSVQICAgIfAhkiAAAAAlwSFlz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\nCYuI+EhJWETER/8/CKsg8nZYJSAAAAAASUVORK5CYII=\n",
      "text/plain": [
       "<matplotlib.figure.Figure at 0x11917ba90>"
      ]
     },
     "metadata": {},
     "output_type": "display_data"
    }
   ],
=======
   "execution_count": null,
   "metadata": {
    "collapsed": false
   },
   "outputs": [],
>>>>>>> upstream/master
=======
   "execution_count": 5,
   "metadata": {
    "collapsed": false
   },
   "outputs": [
    {
     "data": {
      "text/plain": [
       "<seaborn.axisgrid.FacetGrid at 0x10c6fce10>"
      ]
     },
     "execution_count": 5,
     "metadata": {},
     "output_type": "execute_result"
    },
    {
     "name": "stderr",
     "output_type": "stream",
     "text": [
      "/Users/ianhansel/anaconda/lib/python2.7/site-packages/matplotlib/collections.py:590: FutureWarning: elementwise comparison failed; returning scalar instead, but in the future will perform elementwise comparison\n",
      "  if self._edgecolors == str('face'):\n"
     ]
    },
    {
     "data": {
      "image/png": "iVBORw0KGgoAAAANSUhEUgAAAWEAAAFhCAYAAACh/xvXAAAABHNCSVQICAgIfAhkiAAAAAlwSFlz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\nSUVORK5CYII=\n",
      "text/plain": [
       "<matplotlib.figure.Figure at 0x10c70d050>"
      ]
     },
     "metadata": {},
     "output_type": "display_data"
    }
   ],
>>>>>>> upstream/master
   "source": [
    "sns.lmplot(x='al', y='ri', data=glass, ci=None)"
   ]
  },
  {
   "cell_type": "markdown",
   "metadata": {},
   "source": [
    "If we had an **al** value of 2, what would we predict for **ri**? Roughly 1.517.\n",
    "\n",
    "**Exercise:** Draw this plot without using Seaborn."
   ]
  },
  {
   "cell_type": "code",
<<<<<<< HEAD
<<<<<<< HEAD
   "execution_count": 6,
   "metadata": {
    "collapsed": false
   },
   "outputs": [
    {
     "data": {
      "text/plain": [
       "<matplotlib.axes._subplots.AxesSubplot at 0x11b4f42d0>"
      ]
     },
     "execution_count": 6,
     "metadata": {},
     "output_type": "execute_result"
    },
    {
     "data": {
      "image/png": "iVBORw0KGgoAAAANSUhEUgAAAZMAAAERCAYAAAC+ZEqyAAAABHNCSVQICAgIfAhkiAAAAAlwSFlz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\nkcCUTEREJDAlExERCUzJREREAvv/uwF5h2Z1PT0AAAAASUVORK5CYII=\n",
      "text/plain": [
       "<matplotlib.figure.Figure at 0x11b569f90>"
      ]
     },
     "metadata": {},
     "output_type": "display_data"
    }
   ],
=======
   "execution_count": null,
   "metadata": {
    "collapsed": false
   },
   "outputs": [],
>>>>>>> upstream/master
=======
   "execution_count": 6,
   "metadata": {
    "collapsed": false
   },
   "outputs": [
    {
     "data": {
      "text/plain": [
       "<matplotlib.axes._subplots.AxesSubplot at 0x10d13d510>"
      ]
     },
     "execution_count": 6,
     "metadata": {},
     "output_type": "execute_result"
    },
    {
     "data": {
      "image/png": "iVBORw0KGgoAAAANSUhEUgAAAZEAAAERCAYAAAC6kZqPAAAABHNCSVQICAgIfAhkiAAAAAlwSFlz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\nAAAASUVORK5CYII=\n",
      "text/plain": [
       "<matplotlib.figure.Figure at 0x1090fef90>"
      ]
     },
     "metadata": {},
     "output_type": "display_data"
    }
   ],
>>>>>>> upstream/master
   "source": [
    "# scatter plot using Pandas\n",
    "glass.plot(kind='scatter', x='al', y='ri')"
   ]
  },
  {
   "cell_type": "code",
<<<<<<< HEAD
<<<<<<< HEAD
   "execution_count": 7,
   "metadata": {
    "collapsed": false
   },
   "outputs": [
    {
     "data": {
      "text/plain": [
       "<matplotlib.collections.PathCollection at 0x11bc16050>"
      ]
     },
     "execution_count": 7,
     "metadata": {},
     "output_type": "execute_result"
    },
    {
     "data": {
      "image/png": "iVBORw0KGgoAAAANSUhEUgAAAYQAAAECCAYAAAD+VKAWAAAABHNCSVQICAgIfAhkiAAAAAlwSFlz\nAAALEgAACxIB0t1+/AAAIABJREFUeJzt3X10VfWd7/F3EHmQBhI0DGTsRMTmS3vbpQzDtXYcKah0\nQC2id9rSW9rODChTnTV4R9TYa69rbJXJqK1dTuldQKtlWXX0ivgAaIuAXJd1tCWdUusXwYfpbUDA\nJAQ0IYSc+8feh5ycnJPzkJ2cc8jntRbLnP34PTvm993797TLYrEYIiIiwwodgIiIFAclBBERAZQQ\nREQkpIQgIiKAEoKIiISUEEREBIDh2WxkZucDK9x9VtLyZcBiYH+46Fp3fzNcNwF4DbjE3XeZ2XnA\nM8CucNuV7v5YBN9BREQikDEhmNlyYBFwJMXq6cAid9+RtM9w4IfAh0nb3uPu380/XBERGSjZVBnt\nBhakWTcdqDOz7WZ2S8Lyu4GVQGPStpeZ2TYzW21mY/KKWEREBkTGhODu64DONKsfBpYCs4A/N7PL\nzOxrwH53/xlQlrDtK8Byd58JvAXc3p/ARUQkWlm1IfThPndvBTCzDcA04BIgZmaXAucBPzGzzwNP\nuvuhcL91wPf7eW4REYlQLgkh8W4fMxsL7DSzqUAbMBtY4+7fTthmC3CNu+83s1+Y2fXu/hpwMfDL\nTCeMxWKxsrKyTJuJiEhPeRWcuSSEGICZLQTGuPtqM6sDtgLtwGZ335Rin3hgS4H7zawD2Adck+mE\nZWVlHDhwOIcQC6OqqlxxRkhxRktxRqcUYoQgznyUFflsp7FSufiKMzqKM1qKMzqlECNAVVV5Xk8I\nGpgmIiKAEoKIiISUEEREBFBCEBGRkBKCiIgASggiIhJSQhAREUAJQUREQkoIIiICKCGIiEhICUFE\nRAAlBBERCSkhiIgIoIQgIiIhJQQREQGUEEREJKSEICIiQJav0DSz84EV7j4rafkyYDGwP1x0rbu/\nGa6bALwGXOLuu8xsCvAA0AXsdPfrovkKIiIShYxPCGa2HFgFjEyxejqwyN1nh//iyWA48EPgw4Rt\n7wVudfeZwDAzm9/v6EVEJDLZVBntBhakWTcdqDOz7WZ2S8Lyu4GVQGPitu6+Pfx5I3BJrsGKiMjA\nyZgQ3H0d0Jlm9cPAUmAW8OdmdpmZfQ3Y7+4/A9K96PkwMC6PeEVEZIBk1YbQh/vcvRXAzDYA0wju\n/GNmdilwHvCTsHqoK2G/cqAlmxNUVZX3M8TBoTijpTijpTijUwox5iuXhNDjbt/MxgI7zWwq0AbM\nBta4+7cTttkCXOPu75nZDjO7yN1fBOYCL2Rz0gMHDucQYmFUVZUrzggpzmgpzuiUQoyQf9LKJSHE\nAMxsITDG3VebWR2wFWgHNrv7phT7xBPJjcAqMzsV+B3weF4Ri4jIgCiLxWKFjqEvsVLJxoozOooz\nWoozOqUQI0BVVXm69ts+aWCaiIgASggiIhJSQhAREUAJQUREQkoIIiICKCGIiEhICUFERAAlBBER\nCSkhiIgIoIQgIiIhJQQREQGUEEREJKSEICIigBKCiIiElBBERARQQhARkZASgoiIAFm+QtPMzgdW\nuPuspOXLgMXA/nDRtcAeYBVgQBew1N1fN7PzgGeAXeG2K939sf5/BRERiULGhGBmy4FFwJEUq6cD\ni9x9R8L284GYu19oZjOBO4Erw23vcffvRhK5iIhEKpsqo93AgjTrpgN1ZrbdzG4BcPf1wDXh+rOA\n5oRtLzOzbWa22szG5B+2iIhELWNCcPd1QGea1Q8DS4FZwIVmNi/cp8vMHgDuAx4Kt30FWO7uM4G3\ngNv7FbmIiEQqqzaEPtzn7q0AZvYsMA3YAODuXzezCcC/m9nHgSfd/VC43zrg+9mcoKqqvJ8hDg7F\nGS3FGS3FGZ1SiDFfuSSEssQPZjYW2GlmU4E2YDawxsy+Apzp7iuAduA4QePyc2Z2vbu/BlwM/DKb\nkx44cDiHEAujqqpccUZIcUZLcUanFGKE/JNWLgkhBmBmC4Ex7r7azOqArQQF/2Z332RmpwE/NrNt\n4fH/wd2PmtlS4H4z6wD20d3OICIiRaAsFosVOoa+xEolGyvO6CjOaCnO6JRCjABVVeVlmbfqrb9t\nCFICmppauPnmLTQ2VlJd3UR9/WwqKysKHZaIFBklhCHg5pu3sH79IoJmoBiwllWr0vUkFpGhSlNX\nDAHvvjuW7j4BZeFnEZGelBCGgJqaQ4R9AoAYNTWthQxHRIqUqoyGgPr62cDasA2hmfr6WRn3EZGh\nRwlhCKisrGDVqgUl00NCRApDVUYiIgIoIYiISEgJQUREACUEEREJKSGIiAighCAiIiElBBERATQO\nQSRy8ckE3313LDU1hzSZoJQMJQSRiCVOJtjQoMkEpXSoykgkYppMUEqVEoJIxDSZoJSqrKqMzOx8\nYIW7z0pavgxYDOwPF10L7AFWAUbwLuWl7v66mU0BHgiX7XT36yL5BiJFJj6ZYNCG0KrJBKVkZEwI\nZrYcWAQcSbF6OrDI3XckbD8fiLn7hWY2E/gOsAC4F7jV3beb2Uozm+/u6yP5FiJFJD6ZoEipyabK\naDdBgZ7KdKDOzLab2S0AYSF/Tbj+LKAlvq27bw9/3ghcklfEIiIyIDImBHdfB3SmWf0wsBSYBVxo\nZvPCfbrM7AHgPuChcNvElz4fBsblGbOIiAyA/nY7vc/dWwHM7FlgGrABwN2/bmYTgH83s08QtB3E\nldP95NCnqqryfoY4OBRntBRntBRndEohxnzlkhAS7/Axs7HATjObCrQBs4E1ZvYV4Ex3XwG0A8fD\nf78ys4vc/UVgLvBCNicthRe6lMqLZxRntBRntEohzlKIEfJPWrl0O40BmNlCM1scPhnUAVuBbQQ9\nhzYBTwDTzGwbQVvBP7j7UeBG4J/M7CXgVODxvCIWEZEBURaLxTJvVTixUsnGijM6ijNaijM6pRAj\nQFVVeVnmrXrTwDQREQGUEEREJKSEICIigBKCiIiElBBERATQ+xAKRi9REZFio4RQIHqJiogUGyWE\nAkn3EhU9OYhIoSghFEBTUwv79/8WmE+QFLpfoqInBxEpFCWEArj55i00Nn4DeAQYQ3X1TurrFwF6\n/aKIFI4SQgEEhXwlsBCACRO6TlQL1dQcCp8Mej45iIgMNHU7LYDkd+5OnHiQJUvWMWfOZjo6PmDu\n3DV88pOPU119F3v2nMKSJU/Q3JzVbOEiInnTE0IBJL9zt6PjGOvX/y3xdoP589cyZcqH7NxZR2Nj\nGTt3qi1BRAaeEkIBJL9zd86czaRuNyjttgT1mBIpLUoIRSB1u0Gs5NsS1GNKpLQoIRSB5Cqk+vpZ\n4ZpUy0qHekyJlJasEoKZnQ+scPdZScuXAYuB/eGia4G3gR8BZwEjgO+4+9Nmdh7wDLAr3Haluz/W\n729wEkiuQoor9btp9ZgSKS0ZE4KZLQcWAUdSrJ4OLHL3HQnbfx046O5fNbNKoAF4Otz2Hnf/bhSB\nS/FL/+QjIsUomyeE3cACYG2KddOBOjObBDzr7iuAfwPid/7DgGMJ29aa2ZXAmwTvWv6gP8FLcUv3\n5CMixSnjOAR3Xwd0pln9MLAUmAVcaGbz3P1Dd//AzMoJEsM3w21fAZa7+0zgLeD2/gYvIiLR6e/A\ntPvcvcndO4FngWkAZvZR4AXgQXd/NNz2yYSqpXXAef08t0ikmppaTgwQ1GBAGYpy6WVUlvjBzMYC\nO81sKtAGzAbWmNkE4DngOnffkrDLc2Z2vbu/BlwM/DKbk1ZVlecQYuEozmgVIs7rr3+mRzfZkSMf\n4dFHF/a5j65ntEohzlKIMV+5JIQYgJktBMa4+2ozqwO2Au3Az919k5l9D6gAbjOzb4X7zSWoWrrf\nzDqAfcA12Zz0wIHDOYRYGFVV5YozQoWKc9eu0SR2k921a3Sfceh6RqsU4iyFGCH/pJVVQnD3d4HP\nhD8/nLD8IeChpG2XActSHKYBuDCvKKUghtpIY3WTlaFOA9MkraE20ljdZGWoU0KQtHIdaTyQTxSD\n8bSibrIy1CkhSFq5VqEM5BPFUHtaESkEJQRJK9cqlIGcu0jzIokMPCWEfmpqauH6659h167RJ13D\na6oqlL6qbgayUVYNviIDTwmhnwarKqNYevz09X0HslFWDb4iA08JoZ8GqyqjWOrQ+/q+A9koqwZf\nkYGndyr3U/L7kQeqKqNY6tAH6/uWGk17IScDPSH0U339bEaOfCRsQ4i2KiOxmmj//t8C8yl0Hbqq\nblIrlic4kf5QQsjDnj3vcvXVT9HcfCaVlb/nxRe/wtix4/t1zFRtBImFDMxk1Khv8bGPncvZZ3/Y\nqyDuq40hvq6xsZLq6qZ+tT+o6ia1YnmCE+kPJYQ8XH31UzQ21gFltLXF+Oxn/5lf/eq6fh0z1R1m\nz0Kmkvb2GZx9dkuPAjle2G/b9h4tLTeS6g61Z2LR3etAUC8oORkoIeShuflMEu8Gm5qq+33MVHeY\nyYUMfNDjzrOpqYXZs9fS2HgWkP4ONZ+71yh6NRXLMQaDqtLkZKCEkIfKyt/T1tZdUI8f39jvY6a6\nw6yvn82rr95FY+MngQ+Av6Sm5mkgqLaaNetR2ts/BuwgSAip71DzuXuNok48imPccMOzbNw4FjiF\nhobhdHQ8w4MPfiWnYwwGVaXJyUAJIQ/r1s1nwYK7wjaE/8fWrf+938dMdYdZWVnBli2LuOmm4A55\n0qRH6egYzpw5m3njjddob/9HoBL4KcEM448AYzj11Neor1/S69hBG0JzVnevUdSJR3GMl18+DFxL\nPJm9/PLdOR9DRLKjhJCHyZNraGj4+xOfU82RnmtVR7o7zMTlS5asS2gLmE+QABYC5QSJIXiZy5gx\nB3ucK36MXOZyj6JOPJ9jJI/87urq+Y4COD3nOEQkO0oIA2QguiEm33HDmPDnVhKriy64oCvnYzc1\ntXDDDc+Gd+SnM336YebOXcPevWfkXSeeT7168nWbOPE7tLb277uJSHaUEAbIQHRDTL7jHjXqVcrK\nWhg79k0+9an/zcGDE8OC93M5H/vmm7eEdfVB9czmzTHmz1/L889fnHe86Z56+np6Sr5uVVVTOf/8\nxKTS+7sVquH5/fdbWLLkqaJv8BbJVlYJwczOB1a4+6yk5cuAxcD+cNG1wNvAj4CzgBHAd9z9aTOb\nAjwAdAE73b1//TSL3EB0Q+x9x31NZAVQUBCfwkD2pe/uIttJS8tI4LM0NIwj8ekp+bqdffaHGZ+s\nCjUo7Bvf2JjTeUulx5QMXRkTgpktBxYBR1Ksng4scvcdCdt/HTjo7l81s0qCV2c+DdwL3Oru281s\npZnNd/f1UXyJYjQQ3RAHsidLUBAPJ11PpSj0Hg8RtIEkJp58Rn4XalDY229/JKfzajSzFLtsnhB2\nAwuAtSnWTQfqzGwS8Ky7rwD+DXgsXD8MOBbf1t23hz9vBC4FTtqEUGrdEOvrZ9PR8UzYi+d0Lrig\nK6+qp770bgP5CMmJp7KygkcfXZix8bv3tB4zCRrWB29Q2OTJh3n11ewTqEYzS7HLmBDcfZ2Z1aRZ\n/TDwrwStmk+a2Tx33wBgZuUEieGb4bZlCfsdBsblHbVErrKyYsD79ydXB1VUvMHMmdl1g03W82lj\nPtXVdzFhwidSPlUMVFXNypXzOHo0+6dAjWaWYtffRuX73L0VwMyeBaYBG8zso8ATwP3u/mi47fGE\n/cqBgk4HOVCFxFCvJ+7r+/euRvtS3tem+267BdhIc/OZzJiR+noPVFXN+PG5PQVqNLMUvVgslvFf\nbW1tTW1t7ctJy8bW1tb+Z21t7Wm1tbVltbW1j9XW1v5lbW3thNra2tdra2tnJW2/vra29qLw55W1\ntbV/lcW5B8wXvvDTGHTFIBaDrtgXvvDToj5uqRis7/+FLzwUnifz+WbMeCpcH/ybMeOpAYlJpIhk\nVbYn/8vlCSEGYGYLgTHuvtrM6oCtQDvwc3ffZGbfAyqA28zsW+F+c4EbgVVmdirwO+DxbE6a7UCq\nXO3a1XPA065do/M+V+KAr/4edyCfMHIZmJZLTInr33mnjf5e12zivOOOv+Do0bU8/zy0tfV9vurq\nJhIby6urmyP5/yrf6znYFGd0SiFGCOLMR1YJwd3fBT4T/vxwwvKHgIeStl0GLEtxmDeBz+YV5QAY\nqPrc/h63UD1R0hX63RPo1aWNqWd9/kMkFr6nn76PJUvW5Z3g0sUVb7RfsuQJ1q/v+3pnqqqJMgkP\n9SpDKW1DdmDaQNXn9ve4heqJki4RBe9R+GSPmLZt62TOnM1MmrQXOJWtW0cQ9C+YB1wG3ANMAd5g\ny5ZRdHWVk2rMQX/iiuvrevcsnGM8+uj0lIVzlElYXUullA3ZhDBQ3UL7e9xC9URJl4j27DkF+C1w\nxYmYWlpG0dBwJQ0NPyWYPylxXMGXgD8mqEW8ha6u9GMOsrFnz2k94nrrrdN6rO/remdbOEeZhNW1\nVErZkE0IxWqweqIkz100YsQ7wAFgItDKpEmt4XbvAl8G/hmoBnYB8ZlUy0ks/IYNa2X8+Js5eLCW\nYED63QTNSX9F4piDXKpVmpqcxCqo99/fBXwuYX3202CkK5yjTMLqWiqlTAmhyAzWgLbkuYuCQvdh\ngieBGLAGgNNPr6Wx8WXg5oTt1hBMrNdO0GZwGTCOrq5y3n9/OPC3ScfcQEXFH7jggj/Q0TGcT3/6\nZ2mnroiLF/Tvvz8eWAFMBdoZP74maVDa62nbN/oqnBOPMWlSB3Pn/pC9eyf1OwnnktDV3iDFRgkh\nYgP5Rx7lsVPNXQQdBP36K9i79wwAzjzzAL/5zRHgGYLxhPMYPnwfnZ3fpLvQ/1/AnwD/jVisM+mY\n5VRUHOCVV77ETTclT11xD1AdVkv1lHqaiy8xZcrapHXDSPcU0FfhnFyd1N+J/OJySehqb5Bio4QQ\nsYH8I4/y2KnmLgrmItwIfIn9+1/nrbfOYceOg8D/pOcd/xn0LPT/jKC6aQPQRuJTAxymvf0tWloO\n9WoPAAMup6nprl7xJW87enQ7c+aspb5+Fl/84i8T1h3p8R2Sp8FId32Koa6/GGIQSaSEELFMf+T9\nucuPsgCJz1303HN30dX1KYIJa4cTDChfQWPjl7nqqp+yb9+5JD9FdHY20jORfAC8B9QlLLsjPF47\n7e2LmTlzDRUVI5L2OwKUMW7clB6xvf9+C7t3NwBXn9i2snIvq1YFLyXqWRU0F1hBRcUfMXPm8Kyr\ne4qhrr8YYhBJpIQQsUx/5P25y4+qAIknpb17JzFxYhONjZfT3UOou4qmsXEE8DKJPYxgL8FTwJ3A\np4i/6zmY0zAxcZwHfP7Esdrba9i3r52gPaCS4B3Q84AYhw7t6ZEoDx78Xfh60OCVoPA648d3T6dV\nXz+bbdvupqVlKkFS+TvOOmsrq1ZlX+VTDNNIFEMMIomUECKW6Y+8P3f5URUgPevgZ1JdHbwfOnHE\nb1AQtwI3kVgww1KC+Qz/iCAZtAE/IOhqmvzUkHisdwieIGLAtwmqk7YDRxg/viZFu0D3K0EBpkzp\nnvqqsrKCT3+6gk2bLj9xvkmTDmb19JXt2ITBkG17gxqfZbAoIUQs0x95f+7yo+qB1DMpVTJhwieY\nMeNQjxG/QeE/hZ4Fc1n4+b8Q/K9zOXBbuH38Hc9jgF8Ay8N9YuHna08cY9iwCXR1dT+NTJmyNimm\nnu0CEyf+mo6OScyZs/lEgVhW1knQnlFO0Nh9LCGpHKKhYQPbtv2MmTNP6XPU9auv3sWWLYvyGj3d\n2FhJdXVTjwJ6IApvNT7LYFFCGGTFUE2QKiklxvXGG6+FVTY/pHedf4zgqWAP8GuCcQbjgJXhf39D\nMF7hB8DZ4RlHEfRCAojxuc+dwogR3degru5PueqqpwieDI4An+kxnXVHxxls3Bh0ZW1oaObVV1fS\n3HxmeLy/IOgV9WT4uYzgNRtfpaWljPXrY3R0rOHBB7+YctR1Y+MnuemmLVnfqd9ww7P8/Ofvc+xY\nNfA+QSJ8+sT+g/EubTU+y0BRQhhkxfDinFRJKTGut98+h5kz76G9vYagS+lkysreZMyYiQwb9m1G\njeqivf2PgQOMHNlEc/NH6OysATqB75DcVbSs7AZGjLiNYcPOobLyD9x++3zGjRt34k76qqvW09j4\nDeIvuDnzzH9m9erP8jd/sxX3M+nsfB84RJB8Np24ww/O8S1gGvv3/45zz60MC+F4EgMo46WXjrJk\nyTqefx6SR13D6zz/fDVLljyR8W4+9diNR3oU0IPxLm01PstAUUIYgjIlpcmTa/j1r6/lppu28O67\nf8qkSfuAs9m79wz27/8tjY3XExTezQRPEeMI2gjOoHtOowqGDWtl7NgfM2rU6ezbF+zT1hbjzjvX\ncvRoB5s2xQewxaubgmkwzjjDmD9/A0eP3kHP7q5fJqiSSmzrmAF8nsbGGOeeu4b589fy9NN/oKur\nuwBta3uP9eu/EX5uJhh1/QngNeAG2toqWb++meeeu5eyso9RWfl71q2bz+TJNUkzue4jePpJPP/I\nHgX04LxLuzCNz2rLOPkpIUhKiUljyZJ1Pd5O1l14bwJuCT/fQvKTQVdXOS0tX05YFhT4QeHaRM+C\ndUz4c4z/+I9X6eqypPWtjB79E2KxXbS3J97hdzde7917Bs8/fzFf+9paNm7sbl8YPfpPOHasu81k\n9OiJVFbupLl5Mm1tleHyTbS3/xNQRltbjAUL7qKh4e9TDJCLz+gefB41agf19decuG6l9i7tXCRX\nhx09uoaRI0dkNS26EkhpUEKQjHq/C/ko8DTB1BVlBPMUJQ4iO8app/4Lra3XJOzTXeDX1LTyzjsH\n6dk+8Xr4s9PVtZxgFHPi+v+kre1OoJlRo26jvf2/ElT/LO1xXIDvfe8KRozYwrvvHqemppOOjhgb\nN8YIqp02MHJkFzNm/DEdHR+Ey+PxdX+HeBtF8ncfNqyGrq5Hwu98hHPOmdqjkOtP4Z1tAZrbXFAt\nXH/9M+zaNTqi0e3d1+IXvxhGS0v69hI1hpceJQTJKLkaJBjRfAXd7z44TGLhPWcOvPrqMVpb46/N\njjFq1Kucc04HTU27cD+DDz88QFAN1BEebylB1dMRguqoGron1HsjXP4gMJ7hw4czceKvaW4+g7Ky\ne5k8+ZPU1h49cTeeXCg3N7cwYsRatm17j5aWG080Ns+dG1QxdTekdz95dHbuZsmSJ5g0qaPHd584\ncX+PNowpU9amvW653iFnW4DmUtBGP7o98f+D9+mrvUSN4aVHCUEyileD7NlzGu7OsWPXhWsuA+4C\nKhg+/Ft8/OPncvbZH1JfP4urr36Rxsaed9JTpnzIzp114fJbCSbJO41gsNv/AUYTH6wGbwO1BP+L\n3kQwLUZQ5XTkyOUcORJvU4hRW5u6kEsec/DRj06mpaW7gIpXMUHQkL5gwV3s2zeRrq73OHbsb1m/\n/k+YO/eHJ5JGTU0rt976ee68M/hcW9vGHXekrxLKtTDOtgDNpaCNenR7YnVYR8eYhCes3u0lagwv\nPVklBDM7H1jh7rOSli8DFhPMewBwrbu/mWofMzuPYIa0XeG2K939sf5/BRlo3W8nW8fOnWcR3MkT\n/ncy8CUuu2wtq1Z1T0s9ZUonO3d+ldRjDT5C8BRQHf78DYJJ9TYCTwG7CUZN/4qg0IfkqbaDz8HP\n6Qq55AK5uvpO0s17NHlyDQ0Nf8+cOZtpaPibE8v37p3Ua9K7VauCUdOZXqeYa2GcbQGaS0GbvO07\n77zJkiWZn1bSPd2kevJK115SLI3hkr2MCcHMlgOLCJ7Zk00HFrn7jiz2mQ7c4+7fzT9cKaSgQPss\nQQPxKE49dQdmxpQpa7MqDG666YWwcIpXMc0D7iWofqog6KJ6G7HYPxIkjN/QXYC30rNNIV4Qpy8Q\nkwvk8ePPYsaMvguoQr4bIdsCNJeCtr5+NiNHPsLzz7fR0jKKlpYlrF+f/s118USwbVtnxinKM7WX\nFEtjuGQvmyeE3cACIFVl6XSgzswmAc+6+4o+9pkO1JrZlQTvV/4Hd/8AKRlBATeOoOomxrx5h1m1\n6vMpt01VGHRXPZ1CU9NdnH56Lfv3d/Hee909gmbPnkB5+VO88MIxPvjgTY4ff5NgUFs78BMqKo5z\nwQVdwDH27n2yzwIxuUCeMuV4xgIqyrvagXo3QuK1bWpqCbsHp96vsrKCRx9dyLRpT9LQcOWJ5dk8\nVfXnTXcnm75Gp59MMiYEd19nZjVpVj9MMLFNK/Ckmc1z9w1p9nkFWOXuO8zsVuB2uuc3kBLQ38Iy\nVZJobj4/LNCCHkH19Quorf3oiaqY5uZ4gVcdnvPSrP8Q84k3yrvawXg3Qrb7Zfu00rtH2Uf63H6o\n6J0oT84eU/1tVL7P3VsBzOxZYBpB618qT7r7ofDndcD3szlBVVV55o2KwFCIs6qqnCef/GqE0aQ/\nZjzO/pxzIOJNdY4oNDZW0nNKjcqsjp3tfj/60Xz+7u8e4e23P8LkyUdYufLzjB/fe7va2g97JI7K\nSufSS9NvH7Vi/TvK9/dTanJJCGWJH8xsLLDTzKYSTG4zm/h7F1Pv85yZXe/urwEXA7/M5qR9NdoV\ni0yNi8VCcUYryjirq5tIbCOprm7O6tjZ7FdVVc7x46dw//2Xn1h2/Hjqv6077vgLjh5NfKr6IpWV\nFWm3j1Ix/97z/f0USr7JKpeEEAMws4XAGHdfbWZ1wFaCCt7N7r4p1T6hpcD9ZtYB7AOuQUSA/Kvj\nou7Jo4bg1OLXOWhDaD5pe0yVxWKxzFsVTqyYs3BcMd/ZJFKc0UoVZzFO11DK17PYlEKMAFVV5WWZ\nt+pNA9NEIqTpGqSUDSt0ACInE03XIKVMCUEkQjU1h+huOlN3TSktqjISiZCma8hPlLOySv6UEKQo\nFWPjbDbUSyc/yW0v27bdzcyZE0rm936yUEKQoqTG2aElue2lpWUq69dfjn7vg0ttCFKU1Dg7tCS3\nvQTzYur3Ptj0hCBFSXPpDy3Js7LG34uh3/vgUkKQoqTG2aElPivrrl2/Dycz3KrfewEoIcgJxdSQ\nq8bZoUlK34nLAAAIZklEQVS/98JSQpAT1JArMrSpUVlOUEOuyNCmhCAnaJStyNCmKqNQMdWfF8pQ\nacjV71okNSWEkOrPh06Dnn7XIqmpyiik+vOhQ79rkdSUEEKqPx869LsWSS2rKiMzOx9Y4e6zkpYv\nAxYD+8NF17r7m6n2MbMpwANAF7DT3a+L5BtEZKjUn4t+1yLpZEwIZrYcWEQwuUiy6cAid9+RxT73\nAre6+3YzW2lm8919ff6hR2uo1J+Lftci6WRTZbQbSPfXMx2oM7PtZnZLhn2mu/v28OeNwCU5RSoi\nIgMqY0Jw93VAZ5rVDwNLgVnAhWY2L4t9AA4D43ILVUREBlJ/u53e5+6tAGb2LDAN2JBm266En8uB\nlmxOUFVV3q8AB4vijJbijJbijE4pxJivXBJCWeIHMxsL7DSzqUAbMBtY08c+O8zsInd/EZgLvJDN\nSQ8cOJxDiIVRVVWuOCOkOKOlOKNTCjFC/kkrl4QQAzCzhcAYd19tZnXAVqAd2Ozum1LtE7oRWGVm\npwK/Ax7PK2IRERkQZbFYLPNWhRMrlWysOKOjOKOlOKNTCjECVFWVl2XeqjcNTBMREUAJQUREQkoI\nIiICKCGIiEhICUFERAAlBBERCSkhiIgIoIQgIiIhJQQREQGUEEREJKSEICIigBKCiIiElBBERARQ\nQhARkZASgoiIAEoIIiISUkIQEREgy1domtn5wAp3n5W0fBmwGNgfLroW2A38ADiX4NWai939LTM7\nD3gG2BVuu9LdH+v/VxARkShkTAhmthxYBBxJsXo6sMjddyRsvwAY6e6fCRPJvcCV4bb3uPt3I4lc\nREQilU2V0W5gQZp104E6M9tuZjeHyy4ENgG4+yvhNvFtLzOzbWa22szG9CNuERGJWMaE4O7rgM40\nqx8GlgKzgAvN7DJgLHAoYZvjZjYMeAVY7u4zgbeA2/sRt4iIRCyrNoQ+3OfurQBmtgGYRpAMyhO2\nGebuXWb2pLvHE8U64PvZnKCqqjzzRkVAcUZLcUZLcUanFGLMVy4JoSzxg5mNBXaa2VSgDZgNrAFO\nA64AHjezTwO/CXd5zsyud/fXgIuBX2Zz0gMHDucQYmFUVZUrzggpzmgpzuiUQoyQf9LKJSHEAMxs\nITDG3VebWR2wlaA30WZ332RmZcClZvZSuN9fh/9dCtxvZh3APuCavCIWEZEBURaLxQodQ19ipZKN\nFWd0FGe0FGd0SiFGgKqq8rLMW/WmgWkiIgIoIYiISEgJQUREACUEEREJKSGIiAighCAiIiElBBER\nAZQQREQkpIQgIiKAEoKIiISUEEREBFBCEBGRkBKCiIgASggiIhJSQhAREUAJQUREQlm9Mc3MzgdW\nuPuspOXLgMXA/nDRtcBu4AfAuQRvUlvs7m+Z2RTgAaAL2Onu10XyDUREJBIZnxDMbDmwChiZYvV0\nYJG7zw7/vQlcCYx0988AdcC94bb3Are6+0xgmJnNj+QbiIhIJLKpMtoNLEizbjpQZ2bbzezmcNmF\nwCYAd38l3AZgurtvD3/eCFySX8giIjIQMiYEd18HdKZZ/TCwFJgFXGhmlwFjgUMJ2xw3s1OAxHd8\nHgbG5RWxiIgMiP42Kt/n7k3u3glsAKYRJIPyxHO4+3GCtoO4cqCln+cWEZEIZdWoHEq8w8fMxgI7\nzWwq0AbMBtYApwFXAI+b2aeB34S7/MrMLnL3F4G5wAvZnLOqqjzzVkVAcUZLcUZLcUanFGLMVy4J\nIQZgZguBMe6+2szqgK0EvYk2u/smMysDLjWzl8L9/jr8743AKjM7Ffgd8HgUX0BERKJRFovFCh2D\niIgUAQ1MExERQAlBRERCSggiIgIoIYiISCiXXkYDJuyZ1Gv+o4T1VwC3AceAH7v76iKNs9fcTuF0\nHoOuj/mniuJaJsST9TxZhbiWZjYc+BFwFjAC+I67P52wviiuZxZxFsv1HEYwFY4RjE1a6u6vJ6wv\nluuZKc6iuJ5hLBOA14BL3H1XwvKcr2VRJAQS5j8KC4h7w2Xx/9HvJZgCow14yczWu/uBYoozFJ/b\naUcBYjshnH9qEXAkaXkxXcu0cYaK4loCXwEOuvtXzawSaACehqK7nmnjDBXL9bwCiLn7hWY2E7iT\n4vxbTxtnqCiuZ3jNfgh8mGJ5zteyWKqMkuc/+rOEdR8H3nT3Vnc/Bvxf4KLBDxHoO07oObfTLYMd\nXIJ0808V07WE7OfJKuS1/DeCuywI/l6OJawrpuvZV5xQJNfT3dcD14QfzwKaE1YXzfXMECcUyfUE\n7gZWAo1Jy/O6lsWSEJLnP+oMH9lSrSvkPEh9xQm953aaN5jBxfUx/1QxXctc58kq1LX80N0/MLNy\n4DHgmwmri+Z6ZogTiuR6Arh7l5k9ANwHPJSwqmiuJ/QZJxTB9TSzrwP73f1nJM0kQZ7XslgSQiu9\n5z/qSlg3NmFdIedB6itO6Dm307MEczsVk2K6lpkUzbU0s48STLXyoLs/mrCqqK5nH3FCEV1PAHf/\nOlALrDaz0eHiorqekDZOKI7r+dcEs0JsAc4DfhK2J0Ce17JY2hBeAi6n9/xHEExzcY6ZVRDUk10E\n/Mvghwj0EWcfczsVUvJdQzFdy0TZzpM16Mzsj4DngOvcfUvS6qK5nn3FWWTX8yvAme6+gqBjRuLE\nl8V0PdPGWSzXM3y3TDzeLQQN2/FG7ryuZbEkhHUkzX+UNGfS/wCeJyg4Vrv73iKNs9fcTgWKMy7V\n/FPFci0TZTVPVoFiqwMqgNvM7FthrKsovuuZKc5iuZ5PAD82s20E5c8y4CozK7brmSnOYrmecZH8\nrWsuIxERAYqnDUFERApMCUFERAAlBBERCSkhiIgIoIQgIiIhJQQREQGUEEREJKSEICIiAPx/6XTC\nPwAmNhQAAAAASUVORK5CYII=\n",
      "text/plain": [
       "<matplotlib.figure.Figure at 0x11baafc50>"
      ]
     },
     "metadata": {},
     "output_type": "display_data"
    }
   ],
=======
   "execution_count": null,
   "metadata": {
    "collapsed": false
   },
   "outputs": [],
>>>>>>> upstream/master
=======
   "execution_count": 7,
   "metadata": {
    "collapsed": false
   },
   "outputs": [
    {
     "data": {
      "text/plain": [
       "<matplotlib.collections.PathCollection at 0x10d4b4310>"
      ]
     },
     "execution_count": 7,
     "metadata": {},
     "output_type": "execute_result"
    },
    {
     "data": {
      "image/png": "iVBORw0KGgoAAAANSUhEUgAAAYIAAAECCAYAAADzStBRAAAABHNCSVQICAgIfAhkiAAAAAlwSFlz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\ngYhIxSkRiIhU3P8HDcwvsgm0tw8AAAAASUVORK5CYII=\n",
      "text/plain": [
       "<matplotlib.figure.Figure at 0x10d44c910>"
      ]
     },
     "metadata": {},
     "output_type": "display_data"
    }
   ],
>>>>>>> upstream/master
   "source": [
    "# scatter plot using Matplotlib\n",
    "plt.scatter(glass.al, glass.ri)"
   ]
  },
  {
   "cell_type": "code",
<<<<<<< HEAD
<<<<<<< HEAD
   "execution_count": 8,
   "metadata": {
    "collapsed": false
   },
   "outputs": [
    {
     "data": {
      "text/plain": [
       "LinearRegression(copy_X=True, fit_intercept=True, n_jobs=1, normalize=False)"
      ]
     },
     "execution_count": 8,
     "metadata": {},
     "output_type": "execute_result"
    }
   ],
=======
   "execution_count": null,
   "metadata": {
    "collapsed": false
   },
   "outputs": [],
>>>>>>> upstream/master
=======
   "execution_count": 8,
   "metadata": {
    "collapsed": false
   },
   "outputs": [
    {
     "data": {
      "text/plain": [
       "LinearRegression(copy_X=True, fit_intercept=True, normalize=False)"
      ]
     },
     "execution_count": 8,
     "metadata": {},
     "output_type": "execute_result"
    }
   ],
>>>>>>> upstream/master
   "source": [
    "# fit a linear regression model\n",
    "from sklearn.linear_model import LinearRegression\n",
    "linreg = LinearRegression()\n",
    "feature_cols = ['al']\n",
    "X = glass[feature_cols]\n",
    "y = glass.ri\n",
    "linreg.fit(X, y)"
   ]
  },
  {
   "cell_type": "code",
<<<<<<< HEAD
<<<<<<< HEAD
   "execution_count": 9,
   "metadata": {
    "collapsed": false
   },
   "outputs": [
    {
     "name": "stdout",
     "output_type": "stream",
     "text": [
      "1.52194533024\n",
      "[-0.00247761]\n"
     ]
    }
   ],
=======
   "execution_count": null,
   "metadata": {
    "collapsed": false
   },
   "outputs": [],
>>>>>>> upstream/master
=======
   "execution_count": 9,
   "metadata": {
    "collapsed": false
   },
   "outputs": [
    {
     "name": "stdout",
     "output_type": "stream",
     "text": [
      "1.52194533024\n",
      "[-0.00247761]\n"
     ]
    }
   ],
>>>>>>> upstream/master
   "source": [
    "# look at the coefficients to get the equation for the line, but then how do you plot the line?\n",
    "print linreg.intercept_\n",
    "print linreg.coef_"
   ]
  },
  {
   "cell_type": "code",
<<<<<<< HEAD
<<<<<<< HEAD
   "execution_count": 10,
   "metadata": {
    "collapsed": false
   },
   "outputs": [
    {
     "name": "stdout",
     "output_type": "stream",
     "text": [
      "[ 1.51946772]\n",
      "[ 1.51699012]\n",
      "[ 1.51451251]\n"
     ]
    }
   ],
=======
   "execution_count": null,
   "metadata": {
    "collapsed": false
   },
   "outputs": [],
>>>>>>> upstream/master
=======
   "execution_count": 10,
   "metadata": {
    "collapsed": false
   },
   "outputs": [
    {
     "name": "stdout",
     "output_type": "stream",
     "text": [
      "[ 1.51946772]\n",
      "[ 1.51699012]\n",
      "[ 1.51451251]\n"
     ]
    }
   ],
>>>>>>> upstream/master
   "source": [
    "# you could make predictions for arbitrary points, and then plot a line connecting them\n",
    "print linreg.predict(1)\n",
    "print linreg.predict(2)\n",
    "print linreg.predict(3)"
   ]
  },
  {
   "cell_type": "code",
<<<<<<< HEAD
<<<<<<< HEAD
   "execution_count": 11,
   "metadata": {
    "collapsed": false
   },
   "outputs": [
    {
     "data": {
      "text/plain": [
       "[<matplotlib.lines.Line2D at 0x11cb2c7d0>]"
      ]
     },
     "execution_count": 11,
     "metadata": {},
     "output_type": "execute_result"
    },
    {
     "data": {
      "image/png": "iVBORw0KGgoAAAANSUhEUgAAAYQAAAEHCAYAAACumTGlAAAABHNCSVQICAgIfAhkiAAAAAlwSFlz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\nCAD/B2SWG79ZSQCEAAAAAElFTkSuQmCC\n",
      "text/plain": [
       "<matplotlib.figure.Figure at 0x11caa2690>"
      ]
     },
     "metadata": {},
     "output_type": "display_data"
    }
   ],
=======
   "execution_count": null,
   "metadata": {
    "collapsed": false
   },
   "outputs": [],
>>>>>>> upstream/master
=======
   "execution_count": 11,
   "metadata": {
    "collapsed": false
   },
   "outputs": [
    {
     "data": {
      "text/plain": [
       "[<matplotlib.lines.Line2D at 0x100535e50>]"
      ]
     },
     "execution_count": 11,
     "metadata": {},
     "output_type": "execute_result"
    },
    {
     "data": {
      "image/png": "iVBORw0KGgoAAAANSUhEUgAAAYMAAAEHCAYAAABMRSrcAAAABHNCSVQICAgIfAhkiAAAAAlwSFlz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\n3pVKAAAAAElFTkSuQmCC\n",
      "text/plain": [
       "<matplotlib.figure.Figure at 0x10d4542d0>"
      ]
     },
     "metadata": {},
     "output_type": "display_data"
    }
   ],
>>>>>>> upstream/master
   "source": [
    "# or you could make predictions for all values of X, and then plot those predictions connected by a line\n",
    "ri_pred = linreg.predict(X)\n",
    "plt.plot(glass.al, ri_pred, color='red')"
   ]
  },
  {
   "cell_type": "code",
<<<<<<< HEAD
<<<<<<< HEAD
   "execution_count": 12,
   "metadata": {
    "collapsed": false
   },
   "outputs": [
    {
     "data": {
      "text/plain": [
       "[<matplotlib.lines.Line2D at 0x11cab7d50>]"
      ]
     },
     "execution_count": 12,
     "metadata": {},
     "output_type": "execute_result"
    },
    {
     "data": {
      "image/png": "iVBORw0KGgoAAAANSUhEUgAAAYQAAAECCAYAAAD+VKAWAAAABHNCSVQICAgIfAhkiAAAAAlwSFlz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\nAPj/B//3Q6KvvOIAAAAASUVORK5CYII=\n",
      "text/plain": [
       "<matplotlib.figure.Figure at 0x11cae37d0>"
      ]
     },
     "metadata": {},
     "output_type": "display_data"
    }
   ],
=======
   "execution_count": null,
   "metadata": {
    "collapsed": false
   },
   "outputs": [],
>>>>>>> upstream/master
=======
   "execution_count": 12,
   "metadata": {
    "collapsed": false
   },
   "outputs": [
    {
     "data": {
      "text/plain": [
       "[<matplotlib.lines.Line2D at 0x10dc6c090>]"
      ]
     },
     "execution_count": 12,
     "metadata": {},
     "output_type": "execute_result"
    },
    {
     "data": {
      "image/png": "iVBORw0KGgoAAAANSUhEUgAAAYIAAAECCAYAAADzStBRAAAABHNCSVQICAgIfAhkiAAAAAlwSFlz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\nQmCC\n",
      "text/plain": [
       "<matplotlib.figure.Figure at 0x10dc6c290>"
      ]
     },
     "metadata": {},
     "output_type": "display_data"
    }
   ],
>>>>>>> upstream/master
   "source": [
    "# put the plots together\n",
    "plt.scatter(glass.al, glass.ri)\n",
    "plt.plot(glass.al, ri_pred, color='red')"
   ]
  },
  {
   "cell_type": "markdown",
   "metadata": {},
   "source": [
    "### Refresher: interpreting linear regression coefficients"
   ]
  },
  {
   "cell_type": "markdown",
   "metadata": {},
   "source": [
    "Linear regression equation: $y = \\beta_0 + \\beta_1x$"
   ]
  },
  {
   "cell_type": "code",
<<<<<<< HEAD
   "execution_count": 13,
   "metadata": {
    "collapsed": false
   },
   "outputs": [
    {
     "data": {
      "text/plain": [
       "array([ 1.51699012])"
      ]
     },
     "execution_count": 13,
     "metadata": {},
     "output_type": "execute_result"
    }
   ],
=======
   "execution_count": null,
   "metadata": {
    "collapsed": false
   },
   "outputs": [],
>>>>>>> upstream/master
   "source": [
    "# compute prediction for al=2 using the equation\n",
    "linreg.intercept_ + linreg.coef_ * 2"
   ]
  },
  {
   "cell_type": "code",
<<<<<<< HEAD
   "execution_count": 14,
   "metadata": {
    "collapsed": false
   },
   "outputs": [
    {
     "data": {
      "text/plain": [
       "array([ 1.51699012])"
      ]
     },
     "execution_count": 14,
     "metadata": {},
     "output_type": "execute_result"
    }
   ],
=======
   "execution_count": null,
   "metadata": {
    "collapsed": false
   },
   "outputs": [],
>>>>>>> upstream/master
   "source": [
    "# compute prediction for al=2 using the predict method\n",
    "linreg.predict(2)"
   ]
  },
  {
   "cell_type": "code",
<<<<<<< HEAD
   "execution_count": 15,
   "metadata": {
    "collapsed": false
   },
   "outputs": [
    {
     "data": {
      "text/plain": [
       "[('al', -0.0024776063874696243)]"
      ]
     },
     "execution_count": 15,
     "metadata": {},
     "output_type": "execute_result"
    }
   ],
=======
   "execution_count": null,
   "metadata": {
    "collapsed": false
   },
   "outputs": [],
>>>>>>> upstream/master
   "source": [
    "# examine coefficient for al\n",
    "zip(feature_cols, linreg.coef_)"
   ]
  },
  {
   "cell_type": "markdown",
   "metadata": {},
   "source": [
    "**Interpretation:** A 1 unit increase in 'al' is associated with a 0.0025 unit decrease in 'ri'."
   ]
  },
  {
   "cell_type": "code",
<<<<<<< HEAD
   "execution_count": 16,
   "metadata": {
    "collapsed": false
   },
   "outputs": [
    {
     "data": {
      "text/plain": [
       "1.5145125136125304"
      ]
     },
     "execution_count": 16,
     "metadata": {},
     "output_type": "execute_result"
    }
   ],
=======
   "execution_count": null,
   "metadata": {
    "collapsed": false
   },
   "outputs": [],
>>>>>>> upstream/master
   "source": [
    "# increasing al by 1 (so that al=3) decreases ri by 0.0025\n",
    "1.51699012 - 0.0024776063874696243"
   ]
  },
  {
   "cell_type": "code",
<<<<<<< HEAD
   "execution_count": 17,
   "metadata": {
    "collapsed": false
   },
   "outputs": [
    {
     "data": {
      "text/plain": [
       "array([ 1.51451251])"
      ]
     },
     "execution_count": 17,
     "metadata": {},
     "output_type": "execute_result"
    }
   ],
=======
   "execution_count": null,
   "metadata": {
    "collapsed": false
   },
   "outputs": [],
>>>>>>> upstream/master
   "source": [
    "# compute prediction for al=3 using the predict method\n",
    "linreg.predict(3)"
   ]
  },
  {
   "cell_type": "markdown",
   "metadata": {},
   "source": [
    "## Part 2: Predicting a Categorical Response"
   ]
  },
  {
   "cell_type": "markdown",
   "metadata": {},
   "source": [
    "Let's change our task, so that we're predicting **assorted** using **al**. Let's visualize the relationship to figure out how to do this:"
   ]
  },
  {
   "cell_type": "code",
<<<<<<< HEAD
<<<<<<< HEAD
   "execution_count": 18,
   "metadata": {
    "collapsed": false
   },
   "outputs": [
    {
     "data": {
      "text/plain": [
       "<matplotlib.collections.PathCollection at 0x11cf13210>"
      ]
     },
     "execution_count": 18,
     "metadata": {},
     "output_type": "execute_result"
    },
    {
     "data": {
      "image/png": "iVBORw0KGgoAAAANSUhEUgAAAX8AAAECCAYAAAAW+Nd4AAAABHNCSVQICAgIfAhkiAAAAAlwSFlz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\nFJS2tAAAAABJRU5ErkJggg==\n",
      "text/plain": [
       "<matplotlib.figure.Figure at 0x11cde3c50>"
      ]
     },
     "metadata": {},
     "output_type": "display_data"
    }
   ],
=======
   "execution_count": null,
   "metadata": {
    "collapsed": false
   },
   "outputs": [],
>>>>>>> upstream/master
=======
   "execution_count": 13,
   "metadata": {
    "collapsed": false
   },
   "outputs": [
    {
     "data": {
      "text/plain": [
       "<matplotlib.collections.PathCollection at 0x10e10c050>"
      ]
     },
     "execution_count": 13,
     "metadata": {},
     "output_type": "execute_result"
    },
    {
     "data": {
      "image/png": "iVBORw0KGgoAAAANSUhEUgAAAX0AAAECCAYAAAASDQdFAAAABHNCSVQICAgIfAhkiAAAAAlwSFlz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\nX5IyYuhLUkYMfUnKiKEvSRkx9CUpI/8fsBBxMGBjGNgAAAAASUVORK5CYII=\n",
      "text/plain": [
       "<matplotlib.figure.Figure at 0x10dc6c390>"
      ]
     },
     "metadata": {},
     "output_type": "display_data"
    }
   ],
>>>>>>> upstream/master
   "source": [
    "plt.scatter(glass.al, glass.assorted)"
   ]
  },
  {
   "cell_type": "markdown",
   "metadata": {},
   "source": [
    "Let's draw a **regression line**, like we did before:"
   ]
  },
  {
   "cell_type": "code",
<<<<<<< HEAD
<<<<<<< HEAD
   "execution_count": 19,
=======
   "execution_count": null,
>>>>>>> upstream/master
=======
   "execution_count": 14,
>>>>>>> upstream/master
   "metadata": {
    "collapsed": false
   },
   "outputs": [],
   "source": [
    "# fit a linear regression model and store the predictions\n",
    "feature_cols = ['al']\n",
    "X = glass[feature_cols]\n",
    "y = glass.assorted\n",
    "linreg.fit(X, y)\n",
    "assorted_pred = linreg.predict(X)"
   ]
  },
  {
   "cell_type": "code",
<<<<<<< HEAD
<<<<<<< HEAD
   "execution_count": 20,
   "metadata": {
    "collapsed": false
   },
   "outputs": [
    {
     "data": {
      "text/plain": [
       "[<matplotlib.lines.Line2D at 0x11cf27ad0>]"
      ]
     },
     "execution_count": 20,
     "metadata": {},
     "output_type": "execute_result"
    },
    {
     "data": {
      "image/png": "iVBORw0KGgoAAAANSUhEUgAAAX8AAAECCAYAAAAW+Nd4AAAABHNCSVQICAgIfAhkiAAAAAlwSFlz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\nRK5CYII=\n",
      "text/plain": [
       "<matplotlib.figure.Figure at 0x11cf27ed0>"
      ]
     },
     "metadata": {},
     "output_type": "display_data"
    }
   ],
=======
   "execution_count": null,
   "metadata": {
    "collapsed": false
   },
   "outputs": [],
>>>>>>> upstream/master
=======
   "execution_count": 15,
   "metadata": {
    "collapsed": false
   },
   "outputs": [
    {
     "data": {
      "text/plain": [
       "[<matplotlib.lines.Line2D at 0x10e1c9d10>]"
      ]
     },
     "execution_count": 15,
     "metadata": {},
     "output_type": "execute_result"
    },
    {
     "data": {
      "image/png": "iVBORw0KGgoAAAANSUhEUgAAAX0AAAECCAYAAAASDQdFAAAABHNCSVQICAgIfAhkiAAAAAlwSFlz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\nAElFTkSuQmCC\n",
      "text/plain": [
       "<matplotlib.figure.Figure at 0x10e1c9cd0>"
      ]
     },
     "metadata": {},
     "output_type": "display_data"
    }
   ],
>>>>>>> upstream/master
   "source": [
    "# scatter plot that includes the regression line\n",
    "plt.scatter(glass.al, glass.assorted)\n",
    "plt.plot(glass.al, assorted_pred, color='red')"
   ]
  },
  {
   "cell_type": "markdown",
   "metadata": {},
   "source": [
    "If **al=3**, what class do we predict for assorted? **1**\n",
    "\n",
    "If **al=1.5**, what class do we predict for assorted? **0**\n",
    "\n",
    "So, we predict the 0 class for **lower** values of al, and the 1 class for **higher** values of al. What's our cutoff value? Around **al=2**, because that's where the linear regression line crosses the midpoint between predicting class 0 and class 1.\n",
    "\n",
    "So, we'll say that if **assorted_pred >= 0.5**, we predict a class of **1**, else we predict a class of **0**."
   ]
  },
  {
   "cell_type": "code",
<<<<<<< HEAD
<<<<<<< HEAD
   "execution_count": 21,
=======
   "execution_count": null,
>>>>>>> upstream/master
=======
   "execution_count": 16,
>>>>>>> upstream/master
   "metadata": {
    "collapsed": false
   },
   "outputs": [],
   "source": [
    "# understanding np.where\n",
    "import numpy as np\n",
    "nums = np.array([5, 15, 8])"
   ]
  },
  {
   "cell_type": "code",
<<<<<<< HEAD
<<<<<<< HEAD
   "execution_count": 22,
   "metadata": {
    "collapsed": false
   },
   "outputs": [
    {
     "data": {
      "text/plain": [
       "array(['small', 'big', 'small'], \n",
       "      dtype='|S5')"
      ]
     },
     "execution_count": 22,
     "metadata": {},
     "output_type": "execute_result"
    }
   ],
=======
   "execution_count": null,
   "metadata": {
    "collapsed": false
   },
   "outputs": [],
>>>>>>> upstream/master
=======
   "execution_count": 17,
   "metadata": {
    "collapsed": false
   },
   "outputs": [
    {
     "data": {
      "text/plain": [
       "array(['small', 'big', 'small'], \n",
       "      dtype='|S5')"
      ]
     },
     "execution_count": 17,
     "metadata": {},
     "output_type": "execute_result"
    }
   ],
>>>>>>> upstream/master
   "source": [
    "# np.where returns the first value if the condition is True, and the second value if the condition is False\n",
    "np.where(nums > 10, 'big', 'small')"
   ]
  },
  {
   "cell_type": "code",
<<<<<<< HEAD
<<<<<<< HEAD
   "execution_count": 23,
   "metadata": {
    "collapsed": false
   },
   "outputs": [
    {
     "data": {
      "text/plain": [
       "array([ 0.06545853,  0.19576455,  0.28597641,  0.16068216,  0.13562331,\n",
       "        0.32607057,  0.08550561,  0.04039968,  0.20077632,  0.19576455])"
      ]
     },
     "execution_count": 23,
     "metadata": {},
     "output_type": "execute_result"
    }
   ],
=======
   "execution_count": null,
   "metadata": {
    "collapsed": false
   },
   "outputs": [],
>>>>>>> upstream/master
=======
   "execution_count": 18,
   "metadata": {
    "collapsed": false
   },
   "outputs": [
    {
     "data": {
      "text/plain": [
       "array([ 0.06545853,  0.19576455,  0.28597641,  0.16068216,  0.13562331,\n",
       "        0.32607057,  0.08550561,  0.04039968,  0.20077632,  0.19576455])"
      ]
     },
     "execution_count": 18,
     "metadata": {},
     "output_type": "execute_result"
    }
   ],
>>>>>>> upstream/master
   "source": [
    "# examine the predictions\n",
    "assorted_pred[:10]"
   ]
  },
  {
   "cell_type": "code",
<<<<<<< HEAD
<<<<<<< HEAD
   "execution_count": 24,
   "metadata": {
    "collapsed": false
   },
   "outputs": [
    {
     "data": {
      "text/plain": [
       "array([0, 0, 0, 0, 0, 0, 0, 0, 0, 0, 0, 0, 0, 0, 0, 0, 0, 0, 0, 0, 0, 0, 0,\n",
       "       0, 0, 0, 0, 0, 0, 0, 0, 0, 0, 0, 0, 0, 0, 0, 0, 0, 0, 0, 0, 0, 0, 0,\n",
       "       0, 0, 0, 0, 0, 0, 0, 0, 0, 0, 0, 0, 0, 0, 0, 0, 0, 0, 0, 0, 0, 0, 0,\n",
       "       0, 0, 0, 0, 0, 0, 0, 0, 0, 0, 0, 1, 0, 0, 0, 1, 0, 0, 0, 0, 0, 0, 0,\n",
       "       0, 0, 0, 0, 0, 0, 0, 0, 0, 0, 0, 0, 0, 0, 1, 0, 0, 0, 0, 0, 0, 0, 0,\n",
       "       0, 0, 0, 0, 0, 0, 0, 0, 0, 0, 0, 0, 0, 0, 0, 0, 0, 0, 0, 0, 0, 0, 0,\n",
       "       0, 0, 0, 0, 0, 0, 0, 0, 0, 0, 0, 0, 0, 0, 0, 0, 0, 0, 0, 0, 0, 0, 0,\n",
       "       0, 0, 1, 0, 0, 0, 0, 0, 0, 0, 1, 1, 0, 1, 0, 0, 0, 0, 0, 0, 0, 1, 0,\n",
       "       0, 0, 1, 0, 1, 0, 0, 1, 1, 1, 1, 1, 1, 1, 1, 1, 1, 0, 1, 1, 1, 0, 0,\n",
       "       0, 1, 1, 1, 1, 0, 1])"
      ]
     },
     "execution_count": 24,
     "metadata": {},
     "output_type": "execute_result"
    }
   ],
=======
   "execution_count": null,
   "metadata": {
    "collapsed": false
   },
   "outputs": [],
>>>>>>> upstream/master
=======
   "execution_count": 19,
   "metadata": {
    "collapsed": false
   },
   "outputs": [
    {
     "data": {
      "text/plain": [
       "array([0, 0, 0, 0, 0, 0, 0, 0, 0, 0, 0, 0, 0, 0, 0, 0, 0, 0, 0, 0, 0, 0, 0,\n",
       "       0, 0, 0, 0, 0, 0, 0, 0, 0, 0, 0, 0, 0, 0, 0, 0, 0, 0, 0, 0, 0, 0, 0,\n",
       "       0, 0, 0, 0, 0, 0, 0, 0, 0, 0, 0, 0, 0, 0, 0, 0, 0, 0, 0, 0, 0, 0, 0,\n",
       "       0, 0, 0, 0, 0, 0, 0, 0, 0, 0, 0, 1, 0, 0, 0, 1, 0, 0, 0, 0, 0, 0, 0,\n",
       "       0, 0, 0, 0, 0, 0, 0, 0, 0, 0, 0, 0, 0, 0, 1, 0, 0, 0, 0, 0, 0, 0, 0,\n",
       "       0, 0, 0, 0, 0, 0, 0, 0, 0, 0, 0, 0, 0, 0, 0, 0, 0, 0, 0, 0, 0, 0, 0,\n",
       "       0, 0, 0, 0, 0, 0, 0, 0, 0, 0, 0, 0, 0, 0, 0, 0, 0, 0, 0, 0, 0, 0, 0,\n",
       "       0, 0, 1, 0, 0, 0, 0, 0, 0, 0, 1, 1, 0, 1, 0, 0, 0, 0, 0, 0, 0, 1, 0,\n",
       "       0, 0, 1, 0, 1, 0, 0, 1, 1, 1, 1, 1, 1, 1, 1, 1, 1, 0, 1, 1, 1, 0, 0,\n",
       "       0, 1, 1, 1, 1, 0, 1])"
      ]
     },
     "execution_count": 19,
     "metadata": {},
     "output_type": "execute_result"
    }
   ],
>>>>>>> upstream/master
   "source": [
    "# transform predictions to 1 or 0\n",
    "assorted_pred_class = np.where(assorted_pred >= 0.5, 1, 0)\n",
    "assorted_pred_class"
   ]
  },
  {
   "cell_type": "code",
<<<<<<< HEAD
<<<<<<< HEAD
   "execution_count": 25,
   "metadata": {
    "collapsed": false
   },
   "outputs": [
    {
     "data": {
      "text/plain": [
       "[<matplotlib.lines.Line2D at 0x11d139890>]"
      ]
     },
     "execution_count": 25,
     "metadata": {},
     "output_type": "execute_result"
    },
    {
     "data": {
      "image/png": "iVBORw0KGgoAAAANSUhEUgAAAX8AAAECCAYAAAAW+Nd4AAAABHNCSVQICAgIfAhkiAAAAAlwSFlz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\ngiqIUP4CgUBQBRHKXyAQCKog/wcH/UmF4cXmAAAAAABJRU5ErkJggg==\n",
      "text/plain": [
       "<matplotlib.figure.Figure at 0x11d139150>"
      ]
     },
     "metadata": {},
     "output_type": "display_data"
    }
   ],
=======
   "execution_count": null,
   "metadata": {
    "collapsed": false
   },
   "outputs": [],
>>>>>>> upstream/master
=======
   "execution_count": 20,
   "metadata": {
    "collapsed": false
   },
   "outputs": [
    {
     "data": {
      "text/plain": [
       "[<matplotlib.lines.Line2D at 0x10e36c190>]"
      ]
     },
     "execution_count": 20,
     "metadata": {},
     "output_type": "execute_result"
    },
    {
     "data": {
      "image/png": "iVBORw0KGgoAAAANSUhEUgAAAX0AAAECCAYAAAASDQdFAAAABHNCSVQICAgIfAhkiAAAAAlwSFlz\nAAALEgAACxIB0t1+/AAAIABJREFUeJzsnXecFEUWx79FBgkCKoI5zZhO0TMBxvMUAyZAEXMAORFz\nxpw9FeMpCioGDIcJRYzngQEFFUUMOCqoeKCCZJXMuz9eNVPT2zM7Mzuzs7Nbv8+nPt1d8XVNz+vq\nVy8YEcHDw8PDo26gXqkJ8PDw8PCoPnim7+Hh4VGH4Jm+h4eHRx2CZ/oeHh4edQie6Xt4eHjUIXim\n7+Hh4VGH0KAqjePx+K7AzYlEYp9Qfm/gbGAF8DnQP5FIeN1QDw8PjxIj75V+PB6/CBgKNA7lNwWu\nA/ZOJBK7A62AblUh0sPDw8OjMKiKeOc7oDtgQvlLgE6JRGKJvW4ALK7COB4eHh4eBULeTD+RSDyP\nim/C+ZJIJGYDxOPxM4E1EonEf/In0cPDw8OjUKiSTD8d4vF4PeAWYHOgRzHG8PDw8PDIHUVh+sAD\nqJjniCw3cJcQ2hvw8PDw8KgUYfF6pSgE0xdYrbHTHPgYOAV4B/hvPB4HuCuRSIzM0Edj8iC+BBA8\nnYVEOdBZDjSCp7PQKBc6c4apIV42y2WCPZ2FRTnQWQ40gqez0CgXOnOGN87y8PDwqEPwTN/Dw8Oj\nDsEzfQ8PD486BM/0PTw8POoQPNP38PDwqEPwTN/Dw8OjDsEzfQ8PD486BM/0PTw8POoQPNP38PDw\nqEPwTN/Dw8OjDsEzfQ8PD486BM/0PTw8POoQPNP38PDwqEPwTN/Dw8OjDsEzfQ8PD486BM/0PTw8\nPOoQPNP38PDwqEPwTN/Dw8OjDsEzfQ8PD486BM/0PTw8POoQPNP38PDwqEPwTN/Dw8OjDsEzfQ8P\nD486BM/0PTw8POoQqsT04/H4rvF4fExE/iHxePzDeDz+fjwe71OVMTw8PDw8CocG+TaMx+MXAccB\nv4fyGwK3AzsBfwLj4vH4S4lEYlZVCC0EjDFNoOuJevX6oyKypCb0VVNgjGkF+9+rV2+cB12P0PPU\n+8t079nMS1Bn8OAzOf30bq2g69GwuAXU6wWN2sIf98G4f2ntrifCioawtD402xlWjoe3Hqw45r59\noP5usPwDGDMc9jwZGvYGUx9WTQV5B8Y8A/vfbu/vDBFZEEWzHjsNgBb9O3bcmEmTvr4Ami6C159W\nWpc1AGkIjXay4z2UaQ6S97GsAdQzsEr02GC5O0ehdnascB/Rcz548Mucfvo9/cLt0j2XEXP2kIgs\nSU97dH+5/g+WLFlC06bdBoTHzdSmOhF6NpvUJNoKBhHJK8Vise6xWGzzWCz2QSh/u1gs9qpzfXss\nFutZSX+SLx3ZJqAJXD4Glommy8cATXLsRwrYVzFTzvMJtILL5yXv6bLlsLDC/WW692zmJbXOQkkd\nc6jNGypwzjgY+Hay3nWSrDfw7dQxg3rLBO4TuGCeHoc6be4VuHi5Q9s8vecwzQPfhv7v6XgLQ31c\nPg9mhfKGClz0dvo5uOht7TPoq0KfY7RNhbmbl5z/oI+s5nxe1O9W8Tdw+1t9D60qzsVFkePm8z8A\nmuyxx5C0c1fqVAb/68LcZ1Uax2KxjSOY/u6xWOxp5/qaWCx2aiV9SfF/0K799IcUm5YKdO2XYz9S\nwL6KmXKeT9h/eMV7ernC/WW692zmJbXOyxI95lKB6yVzvXRjviAw0qZwm5Gh6/2HR9PcX4ZztDiZ\nPoFMZhuZQeNpAuMFxs+g8bQP2EU+YFfpzROV/g+Cud6XN6UPQ6QHT4nhuYxtqjMF9O3ARNmQHyq9\nn3JNVWqchun/JRaLjXaub4/FYt0r6avoGDy4IuMYPPjlkvdVU3D00TelYcCp95fp3rOZl9Q6+TP9\n9GNmz/SPPvqmSJq39gw/r1TZ/2Dw4JdlAHektNmB22rMf+eBu1+QOzhTBGQEPSu9nxqCnPl2zg3c\nlIbpN4zFYt/EYrHWsVisUSwW+zgWi7WvpK+8iM/pRld/ui21DKAQ4p0q9VXMlPN8JsU7wT1dthwW\nVLi/TPeezbyk1lkgqWMOtXmueCeod50k60WJd4KysHgnyA/EO6tpC4l33L77v3cXu0mpmWhNSxNZ\nd/5yeEPgNYHXlsMb41h/zqvsJ4fyTKX/g9/gsBWY1f19TTupzwU1Q7wDW6yETwRkMY2lE2Nr4v+6\nIKlKjS3Tf9+e947FYn3tebdYLPahZfinZ9GXVMvNQhP9hOvaL88fUwrYVzFTXvOpTHD/4ZpYJ939\nZbr3bOYlqKOrbFpp3T0vgL0/gv2nQZcLknLurv1g3wGw+9lK174Dosfcd4CW73OG9rnnObDvBPj7\nx/C3f9v8dZz7a5WOZk2dLoD9p3XseJr8Qb0/ZtNw5hwYWAljbCmwjYDMouEM6NrvV+jq1lkFqz6k\nxfsCch8bDKsoI1c6foZ/CMiLrD1yJUwSkIvZ4o50c65z2bVfcj4zP5cRc9ZERFgGTwnIdWx6b+pv\nEN1f1v8D2E5gUTAPv9Hwj23Z+eIa8d+BY13a7mCjIfbZLD1tRUglJ8AmqQE0eDo9ndE0wmKBiQI/\nZGD4C0QEgbvt9UABI/BBqN5DojIoEdgo7bjwvK0zbHW7Ys8lbC6wUvQlYwo2h9BeYLozB8sFupT8\nt4U1nPkN0qUFm88amoyIUAMggCk1EVnA01lY1Hw6V64UGmSl2fwFsCswExUbbQZsDYxy6vwJxIDJ\nwCJENo7syZimwG9AU2AZMA/YGpF5Gcav+lwa8yBwKnAUIs9Uqa9kn82AscDOTu55iNxRkP7zhTHb\nA/8G4k7uQ0BflCnW/GczT3iLXA+PTFi8ONua04FeKMP/EPgBuD5U51agjU1jM/T1d6AZynQaAwMq\nYfhVhzEbAicCCeD5AvVZD3gMl+H36AFwZ0H6zwfGGIzpD0xAGX6w6n0LOJ0asgouJjzT9/DIhD/+\nyLbmT0A/e/4U0BPYPlTnVmBve/52hr4Oc86fR+S5bImoAi5EjTVvRGRlgfq8AejhXH/Lww9TMsZq\nTGvgWeBe1Kj0VfTF+hXQE5HlJaGrmpG3Ra6HR53ArKwNydug4h0BngPeBFYC9W357Yj8gTF72eto\npm9MfVTEArAQGJA70TnCmHWBvsD36AurEH2eDFxCcg6WAD1p2fKzgvSfOz2d0XvbEJ37J4HBwK/A\nwYjMLwldJYBn+h4e6WCMoU2bbGsfZI9jgX1R0cFHJEUbl2CMAfYE/ocy2Cjs5pyfh8jPuZCcJ85H\nxUj/LMhq15h9gCHoHsYqoDkqOplc5b5zp6UecDFwHbqqvwp4Bf2dlgKHIPJDtdNVQnim7+GRHhcz\nd262ddewx+dRxrIMXVUqRJZjzNbA2sATGUQc7kr74ZyozQfGtAVORzegHylAf3H0S0fQl1sMeBCR\nqvedOy3rAo+jeyQzgGOBqag8vxnQA5GPqp2uEsPL9D08omDMgcBNObZaAawJbIxu5Laz+TfaY2Wi\nnbWADezVNtUk+z4bfWHdisjSKvWkL5DRQGvgXZThTwLOqiKN+dCyP/AZyvBfBjoCn1j6OgAXIPJC\ntdNVA+CZvodHGMZsgcp8o5BJ9vsu0B8VG7hyoQn2GDD9sWnav7b6TOSrysisMoxphTLk2cDQKvbV\nGHgBVVUdBXQCFqAbpFmrQFUZxjTEmJuB19GXzznAoejvNgLYDrgPKK3KaAnhxTseHi6MaQGMRFfs\nUZiZoaw10B7VsV/LyZ9g5fl7Az8D30WMeyDwV3t1Sq5k54n+qIrppYhkraZUAXpvQ4A9UGa7FWpj\ncAwiUwtAZ7Z0bIyKx3ZDxTi9EJlo6bsHOADV2Dm7LqhmpoNf6Xt4BNBNv0dRo6pP09TaLEMPW6Ha\nKi3RTUyAHxH5FRV1tAPersBw9EXzgJPzYs605wpj1gDOQ1fA91Wxt4HACah9wgpgc+A2REZWsd/s\nYUwPVJS0G/qVtiMiE23pucA/UHFPL0RWVBtdNRCe6Xt4JDEQOAKVuf8volxQLZd0aIz+pxoBgUVr\nWLQTJc+/kaQsfywiWe8eVwGnoV8jdyOyMO9ejDkKNUKbjho4HYyKuQYWgMZsxm+KMYNR/fuG6FfS\ncavvyZgjgNvQL7RuiCyqFrpqMkrtB6LM/Fx4OmsrndBNNKTVjwI7p/GvM7kSh2tBmiHQx56fZ/t/\nwl5vFRq3ix03aHtO0ecSmlgaFwm0rcKc7SawRDRqS1/rU+dXgQ7V8pvDVs5vMjlibncR+FPgd4Ed\nyvbZLHDyK30PD1UzfALdgD0CdacQhUZZ9ng58Bd7Pt7KlPcCZgFfO+M2AR60V8EGcfFFO3ASqsEy\nGJE5efWg8vMX0dV1f+BK9CvnaERmFoLIDGMbjDkF+Bid58HArohMCdE3Cv366oVIOnFd3UOp3zpl\n9lb1dNY2OqGVwNd2tXicQPOUVXvXriLZre6DNEmgvmh0qeUCTQU2s2UjQmNf53jSXCrwWdHnEhoK\nfC/qOXTdKszZF5b2M0V97IvAwKL/5uq+OvhqmifQI6LOmgJf2jpnlO2zWaTkV/oedRe6cfs4aj17\nOyLDUadjAf7F66/n2usFqFbcDsBnqLri3rYsKc83ZjvUTcF0m9+I6lnlH4PaEQxF5JecWxvTAPVO\nuQ1wN9AW2A/Vf7+5YFRGj70Tqmt/DPABsANhv0TGNETl+1sDdyJyb1FpKkeU+q1TZm9VT2dtohOu\ntqvB/wg0EKgXWrWbHFf5o22/u9jre+31Y/Z6W3vdQOAjm3eAwOP2fMeizqV+gSRE40NukMd8GdGQ\nZCIaw/Igux/xg0Cbov3mOu65lu5VAjcKNExT7yFL30iB+mX7bBYxlZyAMptgT2dtoRMOt8zhe4G1\nbN6hDgN/QqBtDgx/pcA2tp8zbd4J9vpHgd8E6tnr823541bcMlc0yEhVApdUPpdwlB13aJ5zdrZt\n/5nA1vaelgrsVLTfHNaSZLDmXwX2y1D3UlvvI4E1yvbZLHIqOQFlNsGeztpApzKsRaKaHds7+eKk\ntQVOyIHp3+/0M9zmxQU2tufP27LN7LizLUP7my3/V1HnUr9iJtuX02Z5zFmg3fSzvYfxlu5swqHm\n95vDXqJaRiK6b5B+DwKOtvV+zFivGHSWWfIyfY+6BWPWRC1umwOnIPKZzd/dqfU2IrNJ9WufCb8D\nVzvXu6HaON/i6ucnLVebAmci8pszRrHl+d1QTZenyNVKVqNMPY26Rz4Edd2wK2oEdX9hyUTdSxtz\nNfBf1KDtUuAA0u1BGNMFdRa3EHWTnPteRV1Cqd86ZfZW9XSWM50q0x5tV4T/DJWJk/4uqnXze5ar\n/Mudftayea/b64ft9fYCp9rzUaLyZyMqD58v0Khoc6njTLBjb53jnHUQ+Mm27e6IiL4UaF7w3xzW\nF3jbjvGDQKdK6m9uxUwrBPYv22ezGlPJCSizCfZ0ljOdcP1qhuxu8sEeDgP/nxWFdMtBtNPM6esg\nm3etvZ4mKrNfzzL3hQLr27KOtu6TRZ1L2M+O81yO87WGwMe27UVWXLXIvgy3ypG+bOjsZhm40gqt\nK6GvrcA3tn7fsn42qzF58Y5H3YAxPYHLgGlAb4KQgCpyecepORiRVVQU7UxL0/P7iPzpXO9qj+Mx\nZgNgE9QtwT2oc7OLEAlcPFSXaOdye7wh6xaqzjocdQL3MBpi8DlULNYH1xCqqjCmMcbcgRpTNUeN\nvXqSKS6wevV8HtgCDf5SNS+hdQmlfuuU2VvV01mOdMK2dnX6u8BfQmXdnRX7CivOqCfwS2g1/5FE\nr/IPCvX3ms1fS9TYSwTes8e3JdDg0bqfiKohtizaXCa/YkbnOGf/tO3+K9BIkmqnhd1wVvFM8DUx\nRWC7LGgzklRzHZEyp4VL1fNsliCVnIAym2BPZ7nRCW0EploG0TNU1jjEwF+0+Z1yEO1s4/RnrCjn\nO3s91Km3RCDm1N3Q5r9W1LlMvoQ65zBngd+grwVaC5xmrycINC4YnXCMFReJqH59dmqWSfuK9wWa\nlu2zWaKUlz/9eDxeD3XHuh3qr6RPIpGY6pQfi7ptXQk8nEgkCr/D7+FRGTTI+FPApsCNiDwbqhGO\n6BSICA7PYZSfnPMtUJ/6r9rrvZyyqxH5xrkuvmjHmJ2BrsAYRN7Pss2+qC+bOajGz6aoaGoucBRV\nja6lY6yBWvOegmo+HYtIuqA14bYnoOEopwGHUZ0BWmoJ8pXpHw40SiQSnVFT8kGh8lvR4NBdgPPj\n8Xir/En08MgbNwL7o4Gwr0wp0fiptzg5M0hGrspWVXMBqW6JA3n+BIzpgL4EQP28h/8jwRgvZTlW\nPgjcG1+fVW1jtkRdGAjqeG4O6iK6Eequ+McqUzR5MqijtFNQlwo75MDw90Yd1M1HVTNnV5meOoh8\nmX4X7B8kkUhMAHYKlU9Gows1RSPQS74EenjkBWN6ARehuvLHEmzcJhHe1ByGyArL+OJZjjI9dJ1k\n+nCgk38qIssd2lqjXwEfITIjy7FygzF/QRdn44ExWdRfC/WfsyZwKjAODSizCXA9Iq9maJ0NPQZj\nTmeXXQC2RMMVdkakYhSx6PZbouEYAY5A5OtM1T3SI1+m3xI1hAiw0op8AnwJTAS+AEYlEon8gzR4\neOQKNSYahooODkdkfqj8r6SGJBTgIXue7SofUkU7oEx/GbqyD1wmj0Hkk1C9g1CnbMXU2kmu8kUy\nL7pUE2YkKsq5DpHHgQtRQ6y3SDU8yx36knsGuI/mzQEOQeS8rEVFxqxN8oXUB5GxVaKnjiNfpr8Q\naOH2k0gkVgHE4/Ht0Id6I9SbX7t4PN4ziz6lDJKns6bTOWeOsPHGk4CmvPBCc0S+TCkXEbp0+RgX\n++9vEPkeEDp1yt5T5D/+cdDqfhcvFho02IlddmnEhAlLVtdZuHCfCjQeeeRwAD7//PqizOU33wj1\n6h1Nx46watXLGduJCMcdtwTowtFHw6pVVzB2rFCv3s106AC//rovGl4wP7o++EDYaKO5QA/23BMm\nTQKRUVm3X7xY6NRpFrApV14JIo8WcM6q99ksHp25IZ/d31gs1j0Wiw2z57vFYrHRTtlGsVjsk1gs\n1tBe3xmLxfrUkp1yT2dNplO9V/5HQASuSVMn8NHipp62bF1JjWI1JKKumwY6/Xa2eYNFHYOJwOKI\n8RuLaqx8J1VzsJZ+LpNWwD0rbQdX2LofiEbUai+qrrpCoEsVfot6ApfYflaKatzUz+k31z5GWPoe\nL/B8Ve+zWYNSXto7qGxtv3g8Ps5enxyPx3sDzROJxNB4PP4A8F48Hl8GfIf6xfDwKDb+iSoQjAKu\nqVBqTDNUycDFbJKbqYege1ABviEzXJl+IM/fG1jHnl8b0eZvqAHSEETyW6llgjEbAccDU1DjpUx1\ne6M0/oDK/1eg2k7tgPMRGZe+ccZ+26FxCvZDY9MeS34imRuAI1Hjtj5Fma+6iFK/dcrsrerprKl0\nwrF2RThF0hk7JfW73XSrU/6yk/9jRN3loes9nbZPR9Sv6DcG7q/QtpBzCffa/o+rZL46i9oOLJCk\nS+ibbdvn8l5Vq8uHwLDtZQncVuf6m2vMXRF1s5B/HN+qzmctTCUnoMwm2NNZE+mEHUXD/y0QiKep\ns6GtI6EUt+XNLRMM8o+NqDsldL2J03/4JfGHhAN9qLhipqhb5QYFn0sVzSwRNUZL3z9sIjBLXCdl\nyVgC3wq0yuM3aChwk6h4bJlo0JOoF0flv7m+OFaI+uHZvKyfzRqYvO8dj/KGana8gAbAPhaRRJqa\ntwBNQnnvOPX3t30EGBCq+yqqnBBAUN1+MGYdYEOb/197fB9XTVOxE9AeeBndHC00zkfv4ea0/atr\n6dHA2qh75zcwZlNUPXMJ6vNmQU6jqkjpbdRmZxqqinkHIrmLY4zZFrUVWIEaX2Wn0umRNTzT9yhf\naDzUESjDvQqRl9PU2wPohVqVunCddIWtcHcLXT+O2p0E+AWRZfb8KCf/GXt8m4oIxii8quZvvwGc\nDvwPeCyyTnK+tgLuQGQwxjRBaV4T6E8QXyBbGNMdVVHthO4H7IjIx5kbpe2rPfpCagmcRL57Ch6Z\nUepPjTL7lPJ01iQ64S4rknhe0jndUh/6n9h6gU95EZgngd8W1fqZ45TNjxDtNA9dj7dt3Ti6wx2a\n9oig5UsrYqpqKL+K6bLLAhrOSjMPxtlPeEkC19LwgM17KMe5byrJeLl/CpyS5T5A9G+ubpwDp3YD\nc6KlOKlqz2YNTiUnoMwm2NNZU+iEkyyD+FKgRYZ6pzqMLnDuJQL3OHX2jmDyqUnruXnP2Lzjnbw2\nApMsY28comMLW+fFgs8jrCktW4qoqmizNHXOteN/KkHwk2Q4yEmSi+My2Eo0Tq6IhmDMxbd+xd9c\nX8wjV798qlc1s/DPZg1PXrzjUX5QR2L3AwtQi9tFaeq1Qv3v/ImqXzZ3SjOJdsIYG5E33cry77bX\ngXXpdsAHVLQ2LaaDtTNYuBDgdlJ9+yuMORT1/fMzag37u3XTcD9qaNmTbByXqSuFk1HfOduhjtl2\npeq+9W9F5+ct4B+I5L4X4JE9Sv3WKbO3qqez1HRCO9HoVqsEDqyk7q129XilwPfOinyCU8eEyqLS\nnlYE5OadLalqmo8JHGbPr4qg5V1L8zoFnUMVO/0mrVuLRKmqqmbTHzb91ea1EEhYWo/IcpwWAk9I\nUvxVueFXNr85nOF8sa1ZA57J/J/NMkl+pe9RPjCmEarZsR4wkExOwIzZAjgbNTz6FnUJEsBd5f8l\nVBZgjHM+DegQKu+Ibg4HmIAbBD2VlnWAzsA4RGalpTk/nAa05eyzIdXjJxizHmqo1hTVbJpoI4U9\nCMSAQYi8EO6wAtRX0SfAMagDt45UdFOdO4w5GP1SmoV6zZxfSQuPQqDUb50ye6t6OktJZ9LwaESl\ncl+V4YtAD4Gxzop8kbgBvfUrQCLSs855a4EDI+osFXjHnv9VYKLNaxqi5RRb54KCzp+6TfhZYJHM\nmSOhsuaS3MC+wMk/y+a9K2E7gor9G4FzRPXuRdR4K3ObbH9zjQ/8u+gm8C414Fms2rNZRqnkBJTZ\nBHs6S0VnckN2cgrTjq7b1dYdK8ng40EaGqo7MYKZPxC6biRwaUS9K0U3RheLhkdcKfBOBD0v2vpb\nFHT+oP9qZuzOpW6MBmMOWf2C1Ihgy0U3fDtU0vdaAqNsH79KYMRViN8c1heYISruyk68VJOfzTJL\nJSegzCbY01kKOmE3u4KeK7BpJXUbCnxlGXBHgWGSVCuUlFUlbJBmlX9I6NpI0vFXkL4QWFPUcnSc\nwME2/7oQPc3s2F8WdO70Pn+0fa+TMpdwm6XlP6tX5srEf7Lzsm8lfe8pum8iAm8KrFswuhcuFFFt\nIRE4vwY8g1V7NssweZm+R82GGuw8j/qf74XItEpanI4aHw1FnX0dg2r5NEKD+3zk1D00ov0LQI+U\nHBFBZfguTkX3A+qTKs8fG6q3HypTL7TWznGoUdpQ3H0CY05DLXO/RrVyltuwkU8A6wNXIvJWZI/G\n1MeYK9H9jHVRn/xdEfmlIBQb04BevQC2RzWHbi9Ivx65odRvnTJ7q3o6q5NOdUP8vmQrD9fV7DxR\n7ZK1JSmvD/ziDAjV/2/EKn9rUR8+et2undi6qfU07wJ73UvgQ1HZd7PQGMNsnV0LNm8qvvnGjrf+\n6rmEv9svj9kCmzn1r7I0jJb0RmzrSXLv40fJJZB6djQbSRpzvSqF9z1Uvc9mGaeSE1BmE+zprE46\nk7L1JyUbg50kUznHvjB+tgx8pqjcvbVTd80Ihj9RoHtK3uabi63v1gsMs56x139ZLeZJpae+ZcAz\n0zLbfFIyJsADq/O+/FLsy26puH7wYX9R2fkPAm3S9HewpVNErZtbF4zW5BhqHLbddiLpvKDWrJT5\n2SzjVHICymyCPZ3VRSf0k6QFabSVaWr9v4jKq6eIyrsDS9mP7fHxUP3eEUy/u4Rl98qkGobqXWf7\nmC66yXmAzb8xNMYeNv/+gs2Zeur83L5kNrV5a8smmwS0HePU3UDUU+UygZ0j+mokMMi2WyK6MVx4\na1g4wr54ZshPP5X/s1nmycv0PWoejOkC3APMQYNgV7QyTa1vgLtQB4LnoR4azwFWoZ4jIVU3H1Qm\n7mIuKss+JCV3jTUArgjVnY4xHYANyKSfXxwHa4cA2wJPIjLNOkwbyfffA1yDyJNAYNPwb6AtcA4i\nH6X0YszmwPvofCVQy9r7EJEC0hpYTz+BWkUfwvrrF7R7jzxQ6rdOmb1VPZ3FplNly0G4vr9l1Y+u\nJEVgtL3e3V6PsSvYr1NWsCr6kQqrdziuQv6GG4briV3ZB2NeJrrvsEJcH0Aqw/5O1C6gcQ5zkuk+\njahTslWi/m+MqOhLpHdvCd3jHZJONKZfOQtt+TAphgM4HWdj+1uuFOhW9s9mLUklJ6DMJtjTWUw6\n1dgo8IR5TlZ9aJtpovrnQUCUwLAqkLlfEGoT6PG7aUNJRs76KaLcTVtLMsrUoXbs8aExtrHlIwo2\nX0m6gz2FIBLYOFm8WJx6R9r8ryTVEG0NUYdmYl9GmaNrVY3WNUVdK4ikbqCX57NZi1LJCSizCfZ0\nFotOXbUGDOmxCqvTdClpNDXIXm9kV5afiMq+l0nY303SwjRIrwq0tcz7E9FNzSWSnum3EP2KWCVq\n8SsC/wyNMdDmH1uw+Upa/3aUZGSvaQJrr55LiFuG/ru43i91z+MrSW5YF9ZQLJXOhqL6/SJwZ9k/\nm7UslZyAMptgT2ex6Ew63vpYsnXzCx0sc5slgbOupJO1QJPnmVCb+hFMvJvAafY8EIvMc8qHOOfz\nbB+L7Er2ept/UGicD0VFPoXRhFGDKRH9GukiqqUz32HsImoI9rm4G7r6Mv2HJENF3imFEjdF02kE\nHrRjvSiB3/5yfjZrWWpQ6j0FDw+M2RO4E5gNdCcbN7+KG4E1gHMRmY8xzYE+qAOvlrZOeAP31oh+\nXgXetOdf2+OaADRvDr//7v5PpgNbo26ag03cVcB7zv10AHYG3kJkXpb3Uhkut8engJGoUVhPArfG\nIqCujrcbjk1lAAAgAElEQVQF7kPkSRsacSjQE92o7oXISwWiJx0uRg3X1EGbyMoij+eRK0r91imz\nt6qns9B0qlrhLCta2TPrtrCLJFU6gyhQgS+aQaKuhL8XVz8+epX/gP1iWCXwnsAlKeWXXipWlBPk\nvSzQR5L2AEsFPg7R9g9bfmZB5il5rxMlGZy9b0qdIUMC+j4U3ajeTVQ3X0TFQusXhJbMdPay400X\naF/2z2bpaShK8it9j9Jh8WJQtwdBkO53smpnTD2SwUvORmSlzTsLWAbMB5oBDyGyymkZDnYOcA0a\n49agq+jDUkpVZXN7J2c6sKtz3Yj0qpqFWlVfZo8dUbXUQYgkv2CM2ZHGjQHmoe6ezwZuQL8GrgWu\noziB2JMwpjMaXH0R6ib556KO55E/Sv3WKbO3qqezUAmMHH+82JXhw5KLUVBStXKEkxe4Pn5EVK1x\npcB6TnnYwEqTlk2w9ddxysYJiNxxR7jNpaKePv9w5PmHOOO0FN0o/rRA87RdaPyRKXJydfs8zZad\nJPC6PZ8hsE81/ZabiW5+r5DKvXHW/GezvOjMOeW10o/H4/WA+9CQaUuBPolEYqpTvjMans0AvwDH\nJRKJcPg4j7qNs3j8cYAPgf6ISFatVG7/T9To6iKn5Gx7fBs4EXgZkRlO+Q0RvQ3CmE2BXVCZfhen\nbAjQ2X6NuJgLbAOMA3YHBHjXKT8AaIjK3QuBgc75p2gwFJWTq1HaI8Am7LorTJhwM9AOeAU4CZHZ\nBaIhPYxpY8dbCzgNkTeKPqZHlZCvRe7hQKNEItEZuARl8ADE43GD/mFOSiQSewCvARtVlVCPWgRj\n9gEG0a4d6MbtkkpauLgEjWJ1KyI/2P62BroC7wA72Xqu+KMJcGFEX1cCR9vzUag3T1Am3gSAOXPC\nbdqh/5tJwG7AZ6RGfCqcFa4xcZLRuWai8W3/cGpcQOApdMIEgDaoh81DqonhN0bFczHgFlyRk0eN\nRb5MvwvKzEkkEhNI/tFAH4A5wHnxeHws0CaRSHxTFSI9ahGM2Rh4BljFc88RWo1n0/YCYAa62g9w\nlj0OAY5FGeQrTvnjkf2pe4fe6D7ATqH6zYAoph+ETRSgMa4835iGwEHAj8Bnld5P5XjGOe+WMleq\n8XTL6utNNwXogsjtpO5jFAf6lTEU2BMNYXlp0cf0KAjyZfotATce50or8gH9zOuM+k75O7BvPB7f\nJ38SPWoNjGmGrgzbAmfRpUslDSrgVpTRXrR6xavihRPQWLiNgFbAMIKNS2NaoCqLYdyEMduiKo7z\ngeOdskmoKijMnRtuFziPaWyP7ibuXnb8F7MWV6WDMbuj/vpB/Q996pStGxr3aT79FML+dYqLK9E5\nmwCcUC0vGo/CIJ+NgFgsNigWix3pXP/knG8Zi8UmO9fnxGKxC7PYNPGozVi1KvAPI9K3r17ngjFj\ntG2nTqltb75Z82+7TWT33fV82rRkuXrJrJimTBG57LLktTEi9epp+vNPkUsu0fwuXVLbtW8v0qGD\nyL776vXs2cmxBgzQvLfeqtJUyaJFyfH++tf0ZSDy4IO5z2VV8dhjOvYmm4j8+mv1ju0RRs78O1+m\n3z0Wiw2z57vFYrHRTlmjWCw2LRaLbWavn4vFYgdW0mdexJcgeTrzTXC+ZVTvS9IiNDs6Vb/+M9t+\nZye/oaifnN+tXroIvOmUrxvJ8DUZganO9b2iFq5TbNu7BUS23DKq7cuiYQonO2MZq58+T6oSPFzv\n1Y3b28Ap2zJExzbV/pvDXlY7aZ64bh6yTzXv2SxvOnNO+Yp3XgCWxOPxcegm7rnxeLx3PB7vm0gk\nlqEWeU/G4/EPgemJROLVAn2YeJQjjNkPlT//DPRAJFdNrj6optgjpIowjkDFLcOAI22eu5n4Q5r+\nHkRl+Jva65/Q8H2tSMriVbxTUaYPsBINgeiKWHZAXS2PRmR5JfeTCbcCO9rz0xFZgTEGY04Cpjj1\n2iPyZRXGyR26sfyCvepOYA3sUV4o9VunzN6qns5cE2wqGtB8qcBuOdOpeui/ifq6aR8qG2dXvNta\nPfHZq78i1PWwpEk9BO5yrg8SOEwCPXxt/5SAinsqtg904Xs6tFxTIS/3uTrdGWOBaJCTFgKPh8bv\nWO2/uYafDL6MTqwVz2btoDPn5IOoeBQPxqyB6qu3Bs5AZHwevVyJbvxej2vlqcE5OgOjUV84awGP\nkvyK+CpDn2NIavw8g8grJK1uU1f6qyrsT65C/e6AqogGOBzVAno9i3uqCGO6osoPAS5DN5k/ITXg\ny6mITMprjHyhKq8vol9G1yHyaLWO71FQeKbvURyoSt/DqAbKYEQezKOPLVHXCVNRh2wuAmOsu4C+\n9vxB2+5vTr1PScU4Ul0t9LfHaKZfEQlbdwois+x4m6Dip7cQWZT2ftLBmG2AEajbBFCHcWsAHwCb\nOzWHIfJwzv1XBere4lGgE/AkcFW1ju9RcHim71EsXIT6tHkPDV2YD24HGgDn4+4DqBfLXuhqfhqq\nGvweIoGHzLfs8RVU1u7iDfRlBOqb5zd7vj1qXzLTXqdj+sttmSvPP9Qec7fCNaYd+rXSkuTXyTrA\nzcACYLjNm0y076Bi43qSv+MpiEgJaPAoIDzT9yg8jDkAuAk1ouqJyLI8+jgIOBBl4GHHZf3Rl8Fd\nwCk2b6htd5JT746Injd0zvvZNi2AzVDr2oCpNUtDWRN7HOvkBV8Oo9K0iYYxTdEXxUboRvfWTulb\nwDFAd9QmpieVxQouNIzpgxpdfQscTu4b8B41EaXeVCizTRNPZ2UJNrfqfEtS1CtzoVM3MBOiTtC2\nDZU1tRu2c0Sdm820qpbNBOo5m52DRNVDJU163umzs8273cmbmqbdj/a4rq3XRtTR2PhK5yb1PuoJ\nPG37esJuVAdjDBRoJRrbVwS6V/tvDvvZ+/pNYPNa8WzWTjpzTt61skfhoCvmkWgAkpPJ30J0AOrO\n415EvgiVHYNu2t4M7A20t/X+xJjrnXpXAH+QHm4wlbA8H6LFO4vRTeVvEPnF5h2MyuJzFe1cjYqo\npgFbkdwc7oaKpZ4G4sDtiDwf1UHRoHsMz6KqqYcj8l21ju9RXJT6rVNmb1VPZ7qkK9fn7cr07rzp\nVPfGC6yaZ9tQmRF1a7xCYH2BUXa87UUDpIsEwUvgqAyr/B/FdeUM91dQhUxdeQdpgT0OceoFQdiz\nN1SCE9LQdb8tH2Cv35PsDb0K85urQVvwNdO7VjybtZvOnFPJCSizCfZ0pktwuWUUY6vEqDSSlQgM\niCj7my17yjL9lQIf2bIRDvM0orF2JU26KdTvB6KRuwIdf2P7Drdbao/H2npNRK2Bv0l5iWSepz1D\nfa6yxz9FdeF3FbV4nSVuPIDq+M1VRPaRpeeyWvNs1m46c05+I9ej6jCmGxqhaTpwJPlapBrTEVW/\n/BK1kA3DVdM8GVVEGIoxa5G0yO2Bin/+mmGkp50x66FqpVNIblQ2JlrJoZE9Bpo7+6JioOwcrBmz\nOalaP98A/7LnDwCCetZsAPQmFw+kVYUx9YEnUEvlR9D4wx61EaV+65TZW9XTGU4Qt2KPxQI75k2n\nrq7ftqvM/SLG2cyuisdbUdIPdpXdQmDS6pWz1h0g0Sv8FQJfhUQ7W9iyx528thm+Er5z6g2xeV2y\nmKfWoX4eEd2s/dZ+QWwg8Jotu7zaf3Pd+BaBtwQa1Ypns27QmXPyK32P/GFMS3QDsyXQF5FPqtBb\nT9Q3+0uIvBlRfiYaie0uVC9/I3TF3oHkRuye9hilz/4FuuH6FCLuqjzbTdwAulLXL4RDgdlAZktj\nY9ZEI24FOAGRk9BN4M1R30EnoYFgXqW6V9nG9AfOQ3379CAfFVuPsoHX3vHID8r0Hge2RDVMhlfS\nIlNfTYHbUMOn8yPKW6L6+DNRrZInbclQXItbkXetU7B4xCiz7PHpUH4U00+now9J8cyuaBSthwnC\nF0ZBffZ/7uRshcjXdv4uQzVkJqLinenA8VSnb3q1h7gHnZ+DSY0C5lEL4Vf6HvniSnSl+xZwcRX7\nugA1mrqDaPXAU4AWwL2oH5/D0JV7U5sAOtrjcRVaK9PdE5iIyLehsvxW+kmDrGhVTfWM2Y9Uht+G\npNXwYagx1lh0Zb8C3Q+JdOtZFOgeyr9Rn0GHIvJ9tY3tUTqUWr5UZvIzT6cIkvRI+b3AWlWiU7Vw\n/hD4RaBlxFj1RQ2lFgusJXChHftsRz4+zdY1aeTwX9rj+RH9/yjwcygvrGETpB+cOlMs3U0j+lxT\nUrWJRKCDU24k6TN/jj2eUa2/uc77/+w+SY9a82zWPTpzTn6l75EbNAj5cNRQ6XCSvmvyxc2oOOVS\nRBZGlHdDvTsOR33j9AHC7gAOtMd08Rdb2+O/U3KNaY1+YYTj2aZb6Qfy/Dgq1noDkcWhPndFRU5H\nOrkdEZnpXB9A0md+G1TkdF+aMQsPNaIbBayHhp58rtrG9ig5PNP3yB66ITkStR49BZGqBf9+/33Q\nQOYTUU+OUXDVNPdALXVfJul1cwwiCXt+ckT75cC6wLuI/C9Utp09hu8jnUx/rD0Gop0XV5cYUw9j\nLkIdk23stOmWMk/qffRyp/xrdBO8cpXPQsCYBuhLpiO6jzCoWsb1qDHwG7ke2SGpx70FcAsi4Q3R\nXPurx047BVdnE7V5acx2wD7AfxD5AmMetyWtnFqn2LpNSDpfA/XQeR7Q0F4/FUFFlDwfKlvpK9Nf\nhb58wJh1gMdQ7ZvfSbpUOAeR0aE+9kLjAAD8iWrL/J5mvMJCXzh3AQcBrwEDqu1l41Fj4Ff6Htni\nGpRZvAEMLEB/J/Dxx6AqlOPS1Emu8lUU0xOYj6psAgxH5Ad7flCorctIV6JaP2GkY/rNwxWB/wHf\nW1fInVBXzr9hzL62fVd0boIQgvcBd0f0c4Nz3heRTMFeCo2zUQ+lnwO9EFlRjWN71BSUelOhzDZN\n6iadGl5Q7IZqmwL010LgZ2naVAQ2SFNnbVFPnd9aY6wzIzZW2zv15zn5ZwpMcK5fTTPGRDtGg1D+\nzRFjDbdlfez1RQLX243Q5aKB3+9ZPV64T227m9PffdX6m8PhltaZaee8elJhn01PZ87Jr/Q9MkP1\nzB9FPVYejsjcSlpkg4HAulxyCYj8lKZOP9Qdwt2oe4K+ofI7CcInGtMW9ewZYBSws3NdURSlsu1t\ngC+puOLdMoKesKrmuaie/Q/oBvIS1CjsC9Kvoj9wzs+NKC8OjNkJtW1YjO4xpJtzj7qAUr91yuyt\nWrfoVNcB39mVaf4Bv1P73EzU7cCP8scf0XSqP/2fRd07tBDYJWLl3dap/6GTP0agl3O9RKJVQbex\n5Q9HlCUixosJNA/l/VvUlcIBog7afhXYKM09nei027jafnPYSFQddqXAIbXm2fR05p38St8jGrpx\n+xQaUepGRKJk4vngNtRx2YU0S2v4ehSqcfMQGnM2vMq/hsCISTdR3VX9v1H5eoDRRKuCppPng2oI\nhTEdjY8boC9wNKryOQI1cDoMkR8rtFStp0fs1T0k9yGKC2NaoaEY26GbyrlF9vKonSj1W6fM3qp1\nh86kXHu0QP2C0AV/t32+I+r0rCKdarj0kV2ZbmJX+n+EVtgtnfofhsrWE5jhXB+ZhpZ/2vK9I8ok\nIn3qnJ9o67m+549KM46RZAQskWxdMFf1N4eGAm/aMe+qAc9k4Z5NT2eVkl/pe1SEMb1Q1wrfAseS\nybdM9n02QHXrBV11SpqanVH3vi+hbgGOJlVv/mKClbsxh5C6yv8QNXbqYK9/J1CrrIhMK/0oBG4e\n5gKPWX9BL6Ir/csRGZGm3fkkfQEdmeG+CwdVzRyMajmNQlVXPTyAPPX04/F4PVQlbTvUOrJPIpGY\nGlFvCDAnkUhcWiUqPaoPxmwPPIwyzMMpnAOufujG6YNk9sYZqGkGxldnhcr/ZelsRUWf+y+SKtoZ\nSdhiNontgemIzKuE7gD3oeqO/0a9fT4K7ILq50d7xTRmD5JhGWcD1RX28CLgVOAT4JiCvLQ9ag3y\nXekfDjRKJBKdgUuIsOqLx+P9gG3RlZ1HOUC1YEaiK+vjKZQOuTFt0CArC0m1Rg3X2xDoDkwC3rEv\noG2dGmci8qc9v5nkij5AmOlHG5DpPsC6ZL/K3wOV2QdjXIe6WXgHOC1y9a76/K7bh2gDtELDmKPQ\nufkJOITqMvzyKBvky/S7oBZ9JBKJCejn+GrE4/HO6CroAXRV5FHToeKXf6MuBK5FJNdA35lwNSp2\nuRaRXzPUOwP1eX+XZaSuEdh81JUyGLMn8I9Q2+9Q9cm97fVcIMovP6QT7ahnzChRyEeoquZC1I//\nQDted5LRttx+GqCb4O1tzrfoZm9xYUwn9MtjEaqaObOSFh51EPky/ZboHyDASivyIR6Pt0fd7g7A\nM/xyws1o+L9RqPVtYWDMNqhY5FvUb3u6emsAp6F+3Z+2MvOjnBrnIbLU5j8Y0cOLqIuDQGT5LOmD\ngVRk+smvnChfNHFgE9Rtwr+Aeajv+XRukK9B3UcEuLnoIpapUwFeQu//SEQmF3U8j7JFvkx/Ierf\nfHU/iUQi+HTticYofQXdDDwmHo+fkEWfUgapdtL55JMCnE88DgsWHGIZVNXpEBH2208jVo0atYVd\nFUfTOXjw78CaXHnlOogs5tJLAzEObLopLF/+MCBccsmfqP+fVLzzzvmcdVbSz82YMaelpeu441TO\n/s03zwDCu+8K66//G3AoDRuGe4Zrrw1eDuvSoEFDxoxpjTp5q9j36NH6hdLC/j023BCWLn2oIPOZ\nLs2dKxx8MMBa3H9/fUReK+p41flsejqzoTM35KPyE4vFusdisWH2fLdYLDY6Tb0TY7HYTbVIPar2\n0Qk7ivqqXyAQLygdcKiAiMZ+jVJVFFuvnqh/+mUC69o8cVIvm7eDaJzb70PlsyXpd18EfpNMaqYw\nWTS+bkOBy0XVQ1cKXCZwakrfHTqIwDQn7+QM/W4sMFfUIOxVW7+qfvIrm+NGAmPtWLfUgGevcM+m\np7MoKd+V/gvAkng8Pg79HD43Ho/3jsfjYSMa8n4beRQfxqyN/paNUdXMRCUtcum7MerpciVwLiKZ\nnoP9UdcHTyPyC8ac7pRNBp6xcvKHUJn/1aH2o4ANUL/7AI+TTpyidG0F/Aa8jm7KzgT2QuQGNG5t\nEo0agYp2AG5CZFiGfp9BffdfAewO/IJqQhUHqpr5ILAXPXqAKlV4eGRGqd86ZfZWrT106ip3jF0h\nXlFwGpIRru6slM7kqvivdsUuTjrE1rnYXj8iMC5U5zCBfs71Lhno6hhqO1JcJ3KpZeFUL0O/99k6\nwwSusucVI3UVdo6vtOOMlz//rD3PZs1I5UJnzqnkBJTZBNceOuFOyzCez8jM8klqqbrQillaZ6QT\ntrR0vGvb9nWY7CeiFq1bWBHUrwJtQoz4T4FmzotD0oiSAlHILKfemRXqpmf4sQz3e6yt85lAOyvi\nmSPQvGi/MRxnx/xeoF2tejZrRioXOnNO3iK3LsKYE1EjqK+AEym8/vgN6Eb/5VRu/BQYX92JMc2A\nIU7ZhagG2FCgCaoRtkeo/RtodKwD7PWNiFQUJRmzKRrVam2bcwYi90TWrYgZiHwTWaLhI4egapI9\ngRNREc8dFEtHXlVWHwYWAAeRWQ3WwyMVpX7rlNlbtfzphJ3tRuN8gS0KPjbsJOq3fbJE+ZR309y5\nIupX5weBBqKbqmLTz7a/QGwzUqIDn58ssLtzvW0ETb1EN6rddi0i6q2dZpUfLf5Sr5tTbJ0eAk3t\n18gCgTWL8ttC3H5JLBf4W616NmtWKhc6c05+pV+XoFaiz6NeLnsj8m2B+w/C8RnUv07myEwPPghq\n/fsvVM33Oqe0O8asB9yCrmj7kxrR6iuSIQt7rc4V+cKhpxnGDEEtc+ujq/A5wFTUe2cYf0tD6YsV\ncvReh6Ib0HegwcX7AOsA/6Jw7ivcMddGVaFbo1G3/lvwMTxqP0r91imzt2r50qny7HfsqvSSoowL\nvW3/z2VRt4FssIGIqk62FnggtLo2Ai/Z8762zRCnfJXAOzY/yLvJ6X9bgS9t/qei/vDXy0gfvJ5m\npV9xjwDOsGXjRDfFGwn8ZL9c1i7C3DaR5Ab2dbXq2ayZqVzozDmVnIAym+DypRP+ZRnGiEgmVtUE\na1imt0Rg0yzq97T03GsZtDipsyQDoYyxLwBXtDNeAu0YWMvJ38zW6yu68SsCdws0sWMeZPOujKCn\nQSTD79Qpai53EbUpmCWwns0LwigOKsLc1hN42vb/ZJrfr3yfzZqZyoXOnFPJCSizCS5POpMGR5Ol\nWBolcLUd44Ys679n68cFXgkx27aWoS4W2NzW7+yUB5o6mwuc7eS3Eo1mJaJy78NCY14qgYpnRXru\njWT6Q4eG57KtqA/9VQJ/t3kNRA3Dlgp0KMLc3iCBhlPwAqvsN6+5ydNZ4lRyAspsgsuPTg3GvdQy\nwcpX4Pkk2NAy6JlZvVR0s1fkwANFYL8Qo+0t8Kg9v9Bp87PN+58d6wubH7T7WpKWs+8JbBgxbrBa\n3jiUHxV0XdOvv7pzWc95QV3h5Afqk4UOdo7AKbbvbwXWqlXPZs1O5UJnzqnkBJTZBJcXndBeNIrU\nSoH9ijZekpken2X9xwVEXnlFRHXbxUkH2OPHEmj/6Ao+KA8iet0gFbV5VglcJ+m0hlTTZr644hE4\n2M6PRKYVK8SpG2gXvSaBbYO+CL4S1abZuMDz+nfb7xypXNOqvJ7Nmp/Khc6ck9feqa1QtwDPoT7n\nL0YknZvhqo6zB6o98yHwRBb129v6U/j5Z9BAPAHuRd1xrwBOJan909+ps649vgic5OT/AuyHyBVE\naQ2pDUAMmIyI2LztUM2epaj75IqoXz9o/3c0JsBPwHEkbRuOQN06DKeQsW/VO+lzqIbS4RRa08qj\n7qLUb50ye6uWD51JbZh0G39VT+oy4RM7zm5ZtrnW1j9P2reX0Mp62OpVfLK+u5q/T9TKd6bAvqG2\n61Qy7i623j32ur3AdJvXU3QTOkzPDDuX64nuMSwT2DVE2yf2CyO9xW7u87quqO2CCBxT657N0tNQ\nm+jMOfmVfm3EAw+A+qafBPRBRIo00snADqiDs/GV1jamCRr8ZB6wjl3pB1iA6tEnSNXX7+ScTwDa\nosFJ3C+XbRCZVcnoSR/6uup/CXXSdikwGlg/os10li8HDS6zNurTf4JTfiB6/yNIZ7GbK5K0bQRc\ngciTBenXwyNAqd86ZfZWrfl0Qhdp2FDsinjjIo7TStT69HcJ1BYrb3OyXb0+attJRNoj1Oa/Ttkz\nkW2yGztQWd1V4Dl7/rBdrXdJQ8vLct55wfnTob0AI/CBLduuQHNaX9QXkog6lsvlC63mP5uezhqR\nSk5AmU1wzaZTxRC/SP36Iqkm+sUY61bLnAZmWd+IbtquEN0IlYh0b6iN61zNdag2UiBhz6dnOf67\nohu2d9l2YwQa2bLz0tCzyB6nSNhtA/xtNS2Fm9PbbJ//XU1b9qlmP5uezhqTSk5AmU1wzaVTLTYn\nCIjccUdx6VTr1mWiHh7T6Y2H2+xtGdpXEq0t85NAy1Cbc9MwY1fO3y2LsY2k+t75RlLdKb+VZhyR\nZs1EYJuIPoM2OxdoTk93XjCZPJOmSzX32fR01qhUcgLKbIJrJp3K1B6yTOMxWbWquHTCKDtWjxza\njLRtwo7PgnRwxD1F1TtGUn3iV74ihk2c+hXVH9MxfBAZPrziXCYNxV4v0HweZF+EsyR/W4qa+Wx6\nOmtc8hu5tQOnA6cAE4F+mCLGozfmAKAbMBZ13pZNm02BQ+1Vy4gaTyIyOpTnBj+fjTpYW4E6HBu4\nuiR98HMXboD1I3DVH9UJXXoce2xU7mX2eH0WY2eGMdujG8XLgEMRmVblPj08MqHUb50ye6vWPDph\nT1EDnlmStEItDp3qWGyKXZVun0O7OzKupl0HZequ+NFQebBSfzP0BXBuFmO7vnmejig/NANdx1eY\nS43TKxI4e6vafK4namEsAj1r3bPp6ayRqUGpXzoeVYAxGwDP2queiEwv8oino66E70fks6xaGNMS\nODVDjeMRmW3rdkRXvTGn/H6SAVJeJFWFs6LL49SxG5P6NXJeRK0DIvICzIzIK8wq35jmqFvo9VDj\nuWcraeHhURiU+q1TZm/VmkOnBuz42K4SBxSdTl0xz7Mpe9fBcFYlq/zAg+YAUR9B4fLOknR5vKHA\n/avLMo9rBB5z+vlNol0kZ6Jth5S5hK1FDbE+jOwr+zlpIPCyHeOBKvVVzN+8OMnTWeLkZfrlCA3g\ncT/wV2AY6r6g2LgWWBO4mmBlXhmMqU8yHGJFfPghaECQ54F7gIXofkEQ/m8O8CWwD/ApuvLuZ8vu\nr2T0y4Dj0b0AgEmISAR9mTAndH0pGiDmhgp9ZQv97e4EDkZDPQ7Iuy8PjzzgmX554izgBNTfTf+i\nMw31UdMP+Bq4L4eWBwGbpS1dtgzUavhwYAxqNbsMCDZX70XFLw2BkcDeTuvwxq9Lby/UqvdH4HKb\nGyWO2rIS+pNM35jNgGOAz4FRlbTLhLOAM2w/RyKyvAp9eXjkDM/0yw3G7AMMQlfDPRBZUuTxgpVp\nPeDcHJnUORnKPmCvvUBl2legztJmom4aAgwHDrPnLwK9nbKxaejtBDyKBirvhrpsgGimv38G+pYC\nfzrXF6NzcAP5BpI35jDgDtQ5XDdEFubVj4dHVVBq+VKZyc9KSydsJDBb1DCqS7XQCd0lcEmQW7u/\nOLLx5ZEy8/XXF3HdLkAHp/wD0RCEC0SdjzV2ysamGXMTUS2mFQJdbV7geK6itpHOY0W6NM1YPZew\nga2bEKif5zzuJBpK8Q+Bv9a6Z9PTWTYpL+2deDxeD/3M3w5dEfVJJBJTnfLewNmoXvXnQP9EIuHl\nllWBOuJ6AQ0gfjoi46phzCbAbejvGKX5kglnO+d/UlE//yUmTTqUtm3fdfJOcc4fB/ay7YYBXZ2y\nVz4UllgAABqdSURBVCJobYVqw6wNnIHI67Zke2A5MCVUvz4qNkoHV55/oa17EyIrM7SJhjEboSKh\npqib5Ik59+HhUSDkK945HGiUSCQ6A5eg4gYA4vF4U1SeuncikdgdaIV+ZnvkCxWxDEU9Og5Ffc5X\nB84FNgHuIhcvksasTVJN8zcqMvzbgMNp29ZtUx/o69QZQXrRzuu4MKaBrb+1pfU+p8+/AFOoaMR1\nWyV3MReAX3/F0vUj2cQLCCP5MloXFY+9lHMfHh4FRL5MvwvwGkAikZgA7OSULQE6JRKJQNbcAFic\nN4UeoKvsY4APgDMRKf5XkzEdUA2Y2aS6Os4GbtCTtUJlvyByYcQ9HABsaM9fQlfah6FumD8h+QL4\nBZjs0GlQzZ/90c3d850+NwOaEZbnG3MwmfcbIFjp3347QBPgn+S66WpMQ+AZYFvgHkTuyqm9h0cR\nkK9xVktUvS7Ayng8Xi+RSKyyYpzZAPF4/ExgjUQi8Z8q0ll3oRGbbgF+Rjdul1bTyDcBawDnILIg\n61bGNAKuzlCjf5r8fs7548COqI/74ajf+qa27I3QC+NsdPP3M6B3SPyS9KGfpG8j239lmIMxbWje\nHHTuh2XRJgl9Gd0H7Ieu9M/Nqb2HR7GQz0ZALBYbFIvFjnSufwqV14vFYrfFYrGRsVgsGy+MHlGY\nOlWkTRuRRo1EPvig+sYdP14ERDp2DGLEZo/775fIjdHGjUXatRNZtqxim+nTk/VatRJZvFjkiiv0\n+tlnRQ49NFn+5JPJdi+9JGKMSPv22kcYl12mbd58U6+XLBHZeedo+sLpkktErrpKzwcNym0ORET+\n+U9tu8MOIosW5d7ewyM75My/82X63WOx2DB7vlssFhsdKh8ai8XuicVi2Voa5kV8CVL10QlrCEy2\nTKhPtdGpgb7H23H3zLFtOs+YD9rjTZF0wjVO3aE2b7LAEoH1HS2bVQJr2fKOooFY/hTYKQ09gTfQ\nte11EEjlkSwY/7UC86RtWxFYI8d5ONL28ZNAh1r3bHo6yzoZkdzFw/F4PPh0DYJan4xahzYHPrbp\nHafJXYlEYmSmDw7U0rGmo3roVNHA06h3yMGIpBOJpEP+dBpzHCr+GIFIrxzaGXSfJ6z7PhH4HdXE\n2QKR71LoVLn3j2gAd2y9n4BpqJbOc8BDtuxjRHa2+w0f2jY9EHkhDU3TgQaIdMCYY9CN2M9RS91J\nttZyorV4vgFi3HADDByY/VyqncAY2+/uZOujqOrw/6HColzozB2lfuuU2Vu1euiEi+1K8V3JPYJS\n/nSqh8sZAosFNsqhXSvRcIISkYKA5P+NpBMOd+r+YL80zrHXfUU9awbl19svoIn2+sIMNAVRt14V\n9Znzu8BC0QAw9zl9jpf0q/35Mn9+9nMJm0rSTuCAWvlsejrLPnmL3JoG9Vd/EzAD9ZyZjb/4QuES\ndPV8CyI/ZtXCmJ1R7Zqor4KBQE97PjRND64F7hOoteth6ErrQ+BvTvkb6MbujujqP5PaZbCJOxX1\nRLoGcAqqenq6U+/TDH3cQ6tWGYodGNMa/TJZG/Wn81p2DT08qhmlfuuU2Vu1uHTC5qJeLJdI1cLw\n5U6nWrMusXLoymXYuiI/X9TadlWalXIju/KdI1FhFadOlVDbLQXaivrr/0DU82ZQtkCSfvnfqvQL\nKPm1EPR/h1MW9LnSfj1E0S6i+weVz6Xe5xjb5tZa+Wx6OmtN8iv9mgJjWqBOxdYE/oHIR9VMwa1A\nY9S3+x8Za6rx1cvoSvs3YEhErc7AIejK9zGifAQNHQpJuenHiHyNep+sh86Fa5DVEtWtT5DdF1Cw\n0jeofcPFlvbmTp37ULXQKDyGyG+VjOEazu2Negu9uNI2Hh6lRKnfOmX2Vi0Onar18pxdKd5d7XQm\ng5aPk8p8u8M+AjNt/dck1V9OkBbbuq/Z66jA4o1knXXcNmfZ/GAeukb0+5vAZlneU9BmrsD6Tr7r\n3//vAv9Ns8rfIKu5hCts/QkCzWrds+nprHWp5ASU2QQXh064zDKOsQINq5VOqC/wmR0/WvVR6zUQ\nVWNcZUU6F1oRz+kRDHM9gY1t3ffT9HeUU3+FwDqigWH+EHVsdlFEv3tkeU/tnDb7hcpmOGUNBb6N\nZPrZzCUcK8kN6Ha18tn0dNa65MMllhrqEuA6YDql8a/eB1W9HYbIx5E1NCzjE8AewA+o5et4Gwox\n7F//BURmYMy1qGgl3Qaua4H7OiKzMKYb6jYh7GsHNKziu1QGY+qhG8AKkTdDNQLV0BmoI7kNInqp\n3KmaMXsCDwMLgIMQ+bWSFh4eNQJepl9KGBMHnkQ9lR5BthGpCjd+a+AGVI9+YJo6h6I67XugWjA7\nIDLelkbJr/tZB2inoK46RkT0GSNVKydwixD41/ka6JjSRmR4ZbdjcQlJHz6prg/Ua2iAC9H9hsYR\nfWTS6AnofwH9//RA5KuM9T08ahA80y8VdJU8Et2g7IvIJyWg4kqgLXAdIr+klBjTGGPuQlfdzVDV\nyqMQmW/LN6Dii+Im++LqigZHeZLoTeHTnPNFwEvWI+ahwCzUs6eL7Ly0GrMvqc7hwsx7X+d8NMmX\nQxjhMInuGGuhqpltgNMQeSsr2jw8agpKLV8qM/lZYehUWfiLVh48qCR0wlZWNv+dQONQ2RYCn1j6\nvhL4S0T7xyJk4WvaspH2umKwEGgiqsIZtBlm8zvb6wcj+s1GhXQ9gV9FXTbMt+1ah+p8lyKzTwaI\nCacnIudSaX9PAkOx0j+PhX82PZ3lRmfOya/0S4Mr0FXtW5ROxe921Mvq+bieO9UNwyeo7/6HgJ0R\n+TylpTE7oq4MXAxEZD7GtEdX5p8SHSykB7pKDhAW7XQJ1f8PlauQNkTdVqyDulZeAkxHZF6oZhCv\nN/iqCsvzF9nj3Igx6qGeNrvYsa7MSJOHRw2FZ/rVDY2TejW6IXo0IitKQMNBqP/6/6C+61V/3ZhH\nUCYswDGI9KnAcFUvfRCpmA/cbc9PBuqTjQXu+utDMtZtwPSDYOVf22NqwJRo3Ajsju4fjEADq4d9\n6DeKoCEs3gn8AkWJd64FjgbGASeTb5xcD48SwzP96oQxW6FMdTEaNq9y45/C09AIDc69Eo3kJBjT\nEXWMdiLqLG8HRJ5K00M31BDJxdWI/GFXw33Q8IhPRoy9DcqcFcccAyKrMGZLIB6q/aU9Zmb6xhwB\nXIAabfUhyoe+Yr/VZ0nDN3elvwx11QBhpm/MKWhAmano71bcYPQeHkWEZ/rVBWPWRDdFW6A+YKrL\n+2IYA4AYMBj4EmPOAMbbvEFAF0SmRrZUMcqtodz/kQzfuA+6CTuC6MAr/VKujl8tIToxVO8x1Nvm\nTOCLtHdizObAI+hLpicii0jP9KNeYkc658+jG9bgMv233gK9v7moamb1v6g9PAoIr6dfHdAV8HBg\nC9SZ2dMlomMd4CqUgd2FMrrDUVcK3RGpGHA8FX2puCK/xln5BjFuH4wYuxlwAklXxpPYdtuO9kVy\nSaj217buMEQkzb00RVVIWwInIBK8HNIx/Rb2+Gpkf+rOOXWlb8zW1uHaKnSFn32cYA+PGgq/0q8e\nXIP6lHmDdPrw1YPrUSb5OrqJfDgqU+9YKcPXAN/XhHK/Ax615WsBRwBTgPcjeugFtCK5Wfo4ys+f\nderMQVU2A//2mUQ796AM/gFE3PCH2wN/oKKYgHbX387NNq9TqL/pJJn+XIxpB4xmwQLQL7PKDcM8\nPMoBpVYfKjP1qNzphB5WxW+qQJuS0Qk7hNQSV4r6jamf5X3cFKHaeIxTfp7NOzdN+/F2zJn22F4G\nDXL7esce/2XPVwm0TdPXybbuRHG9d0Jjq4b6fqj+VRXUP5MqqUHq4ZxvI+pLR+Saa2rvs+nprA10\n5pxKTkCZTXBudMK2osE7fo/Uda8uOtWh2zcOU/uf5BIKETYUdbssTvpcoJ7T/xSBpRKEM0xt39G2\nSdjj6wKHiTFuf2Pt8SDLuCekoWV70SAv8wQ2CZUFL7bBofzkOHq9TcQLbC/n/D/2+KisWlU7n01P\nZ22hM+fkxTvFgro4GImKDE4irOtevRiK7icAjAK2R+SdDPXDuJGK7gquIKm22BlVtXye6I3OYAP3\nd3v8ErXWDcq/Qe0CfgKaoHtNFYOQqIjpWVvnBES+D9WoKM/X/ZQAo+0xSsTmauzsi4q9+mJqZ8Q8\nj7oLz/SLAXUp8BRqDHQjIs9W0qJYdDTEmLuBU23OPcBhiKR3M1Cxj52AY0O5H6GaSAEybeC2AI5D\ntXza2txTgKaO9s5SdK/haZIxdlPl+Wof8DCwOXAzIqMiqI3axN3NOX/eavwcHWq3GDXoCpBAN7ar\nM2qZh0e1wDP94uB61P/MK5TKctOYTYB3gTNtzn8QOQtJLq+z6CPKEAvg8tX9qCrqUWgg8zERdXsD\nzdHV/UY2rxXq8CxAoCr5NDpvC3A9ZSrOAboDb6MWzVHYHjUsc7+qrnLOJ6CaQvVIXdn/hFoKBziI\nita8Hh61A6WWL5WZ/KxyOpN+4r+RwBdNdadnnhFJ+p8Ru6fQIud+4LAI2ffb4gZagf42/9KI9sZu\nmK4QeNnp4wGBBtK6tVjZ/GIr74/Z8mdD/XSxcv6fBdZNQ6sR9enzbSjfpX1j28/XogHTg/xZzvmK\nWvts1ozk6Sxx8nr6hYQx26P+WX5H9brnV/P4TVFrW0iqPQKciRou5dJXQ+CWiJLLEAlW+QYV7axE\njaTC2AmV1b+CqqyCfg0MAPZg3urFdBNUHNbVXifl+WpbMAL1zd+LsDfQJNZDffokvzaM2cIp/wb1\ny9MADTx/vlO2tnM+Gg+PWgwv3ikUjGmL+lhvhgb8qF4f68ZsjYpE+rHddpAU60wk0KXPDf1QK90l\nJF0ivIbIe06dHVG/96MQ+TlNHwAHOnnd/9/euQdXUd1x/LN58FBDtK2vSi2j457ajlTFB+KDAiJV\nwSpjq6JUbagR0fpoQQ3gtFgflYqDTo1OREWt0mHUorVVWosUUBTwWas/i+OjOtZHCQkkmufpH2c3\nd3OT3ORekpuN+/vMnLm75+zu+e7vnv3du79z9izuRTHhXDtDg89luPmAIIznu76RB3EvPqkgc+dz\nZ/H80yLLa3E/UO8Gx0yfdyd8tqDn/R2KMhDp71uNAXYr1blO9yrBvwbhgV/lVZMLa5RZqLfhOPe6\nOmthQ7A+Jodj7mrd+2ithTusGzNvbfpUya7MWji5k2OUWvfqQxtJUyOa34nkv2TdGPs6C/+KHGNB\nUL7ChsNDu9ZcEWx7SiRvW6SON4PPcgvD0nQ1W5gWLC/8UrXN+CXV2c8pp/COMaYA95q8kbiRFzNE\n5O1I+RRcZ1szcLeIdBzV8eXiRuB43HDI9KdW+w73IpY7caNRtgLnYO0j3HvvLFxo5UGs7ezp2O64\nGjfS5kXcRGQebjhmaqpk95TrNNyonI7DK92InZ3S8h4NPkcCIyL5D+EmYtuJ1L/8E3Ft6B3ckNfu\nZrUM37T1SrD/HrgO5BCDm8vnXtwIoChTgOHBsv7TV77U5BrTPxUYJCJjjDFH4kZ4nApgjCnGzdV+\nGG4irHXGmMdE5JPeEJwNnucNgUnnurWnltosZkf0PK8UTvidW1s5C2iorPwTM2feVg5PBeGSSefe\nwuujL4PztlD08ZM0l02zttXVO2EGeGPctC3es/D0/TBhOhSOhqbnYNVymLgY2B++eA+Km8Cug1WP\nwQnLg3pPARpgQhW0HuEGphR9Bs0P/IdnXhjuZuzcD3gOOMuDrbt74/7w1pCNlEL9JrjmcG/8LGg5\nFgbvB63vwmevwNcugIKvQF0DFNW7mZBbLBSWjKCx5A28oiIsEzlk/z/y6qEltDCSw3/wunf0FzCk\nCBqay/hW4V28WXQ9w4vnckAN3vjBQAvYNwrY+vCbDK04gM/b7HkXw9b8lFEb8CaOWMCIofN5t61s\nBGOum8UHBbN5n8l89ydbvO80rIULWqF5NEfsuYlh7+Md9RtYf1vKhjUvwbDDwGuBlVf8j6Kxg7CN\npYyd0up591eyz6IL+bDdd1oPt+zMuBkvsKnicGrb8t+CD3wXyoLO5tLv2DaCdtVYBLYYBh0WfKdL\nsmljitIv5HJ74Pv+zb7v/yiy/kFkeaTv+3+JrC/yff/0fN9KAUNg3ir3IqVG65Yjj+xn3rcU5lWn\n9r2yGirWpNbnrIaK1QezxtZTbLcyzPq8FtZRChWrU9tWWai1UFHtPhstLLYwtym1zbVB3g0W5rWm\n8uc2wc+2uv1ut1BlPb6wl3OTbaSgtdWFXa63rtO2FOZV38AvrAX7S475HC5e4457bXC8Wgtzber4\n84O82rZtfs/p1oK9jjn2Ym6yFux9nBGcR0rvsxxuW/Dsvvzcps7LnetR/NhGwycteHYfLgnOsdFu\n5OC2srXsb6HRvsxBtp4iW8q/7Xq+bi3YGUyP1Hmnhdk1qbrmt9W7M5c3teDZZzg2tNvWFZyYpoFP\nh3HpminMapdvwZYwe3U9XGPD6RgytM1Uu6pNs0lV0C561sb6IPX6NaQ6+11Dn6ScdvJ9v8r3/e9H\n1t/zfb8gWD7G9/1lkbJf+b5flm8Dw6RyaLQbGGXTL3JNmsL0KcMsNNin+OoTQd73MrXNsF25EaiN\nkUM1WHjUwqTyfrqYe/0aUp39rqFPUq6jd2pJTVULUCAiYcy1Jq2sBOjJgy62N1Nl5SV3ADzPkdmf\nnZII/sm3WeSiktTNvuokpk6F7dtX0b4tQSftqiuC8l5tyz1M9EOdqrP/U/bk8kvh+/5U3/fvCZZH\n+77/RKSs2Pf9t3zf3833/UG+72/0fX/vfP+q0nYb3mBdyiW8E+4bhnfCdRfegRrrbuvb1RGEd8K8\nKuu2q6h2nw02Fd4Jt0kP74T5YXinxobhnVRZxZro+XTUPLe6fXinIdAxN3KM+UFeTdo2CyLL19qO\n5xnmpS+3nauF9yLHbAjqXZxWR2fH/di6SMsVNe3LwvBOWNf8SL1XNkFltK6t7TXNWe3sM2d1x2PW\ndNc2bOftKl27hndU58BInrXZ/1gYYzxSo3fAvRd1FLCLiFQZYybjph8oAJaISGV3vz24ESK9Sh90\n5H4+c+ZtF0Y7cl1nXoEHRU1hHfnoyIVn7kg/n1DzmWeOO3vZsqt3dfuOK8umI9elphZo3AxD94KG\nwTB0CDR70NgcduS6+ddsITRug0GDcBktYN+Amodh98lQXQ2l48ArhHdvheFjoXCEs0lj3d5777Xv\nRx/990MYvKc7gy9qYaiFbb+F5yth9CVQcqU77+0ZO3Jh3A+h+ChoWd+JrZekvpdxZW67xo3gNcGg\n5m7aRoe2GdOO3D65hvoA1dnP5OT0+4CBYmDV2bsMBJ0DQSOozt5moOjMGn0iV1EUJUGo01cURUkQ\n6vQVRVEShDp9RVGUBKFOX1EUJUGo01cURUkQ6vQVRVEShDp9RVGUBKFOX1EUJUGo01cURUkQ6vQV\nRVEShDp9RVGUBKFOX1EUJUGo01cURUkQ6vQVRVEShDp9RVGUBKFOX1EUJUGo01cURUkQ6vQVRVES\nhDp9RVGUBKFOX1EUJUGo01cURUkQ6vQVRVESRFG2OxhjhgIPALsD24BzReSztG0uB84IVv8sIgt2\nVKiiKIqy4+TyT38m8IqIHAfcB8yLFhpj9gOmAUeJyGjgBGPMQTusVFEURdlhcnH6RwNPBstPAsen\nlb8PTBIRG6wXA5/nJk9RFEXpTTKGd4wxZcBladkfA7XB8jagNFooIs3AFmOMBywEXhSRzb0jV1EU\nRdkRMjp9EVkCLInmGWMeBkqC1RJga/p+xpghwN1ADXBRryhVFEVRdpisO3KBdcBJwAbgROAf0cLg\nH/4K4GkRuamHx/Ry0NEfqM7eZSDoHAgaQXX2NgNFZ9Z41trut4oQjN5ZCuwNNADTROSTYMTOZqAQ\neAh4jpThrhaR9b2mWlEURcmJrJ2+oiiKMnDRh7MURVEShDp9RVGUBKFOX1EUJUGo01cURUkQuQzZ\nzAljTAFwOzASN+pnhoi8HSmfAswHmoG7ReSufGnLUuflQBnwaZBVLiJv5V1oSs+RwI0iMi4tPxb2\nDLR0pTE2tjTGFOOeLfkmMBj4tYg8HimPhT17oDMWNjXGFAJVgA9Y4EIReT1S3u/27IHGWNgyomcP\nYBMwIaojW1vmzekDpwKDRGRM4ARuDvLChrwIOAyoB9YZYx4TkU/yqK9bnQGHAtNF5KV+0NYOY8wc\n4Bxge1p+bOzZlcaA2NgSOBv4VESmG2N2A14GHod42TOTzoC42HQy0CoixxhjxgLXEb/rvUuNAXGx\nZWizO4G6TvKzsmU+wzttc/aIyPM4kSEHAptFpEZEmoC1wHF51BYlk06AUUCFMWaNMeaqfItLYzMw\nlY4PksTJnl1phHjZcjlwTbBcgPvXFBIne2bSCTGxqYisAMqD1RFAdaQ4FvbsRiPExJYBC4FK4KO0\n/KxtmU+nP4zUnD0ALUEoJSyriZR1mNMnj2TSCe7Bs3JgPHCMMebkfIqLIiKP0PGihxjZM4NGiJct\n60RkuzGmBOdY50aK42TPTDohXjZtMcYsBW4FHowUxcmeXWmEmNjSGHMe7u5uZZAV/QOVtS3z6fRr\nSc3ZA1AgIq3Bck1aWQkdf3XzRSadAItFZEvwq/oEcEhe1fWMONkzE7GypTHmG8DfgftEZFmkKFb2\nzKATYmZTETkXFzOvCp7mh5jZswuNEB9bng9MNMasAg4GlgbxfcjBlvmM6a8DpgDLjTGjgVcjZW8C\nBwQxyjrc7cnCPGqL0qVOY0wp8Jox5kBc/Gw8aRPSxYQ42bNT4mZLY8yewErgIhFZlVYcG3tm0hkn\nmxpjzgGGi8iNuKnVW3GdpRATe2bSGCdbisjYcDlw/OWRmH3Wtsyn038U92u1Llg/3xhzFrCLiFQZ\nY64AnsLdfSwRkfTYVVx0VgCrcCN7/iYiT3Z1oDwSNtQ42jOkM41xsmUF7rb4GmNMGDOvAnaOmT27\n0xkXmz4C3GOMWY17p8alwGnGmDi1z+40xsWW6Xg7cq3r3DuKoigJQh/OUhRFSRDq9BVFURKEOn1F\nUZQEoU5fURQlQajTVxRFSRDq9BVFURKEOn1FUZQEoU5fURQlQfwfiFC62HATR4sAAAAASUVORK5C\nYII=\n",
      "text/plain": [
       "<matplotlib.figure.Figure at 0x10e16ee10>"
      ]
     },
     "metadata": {},
     "output_type": "display_data"
    }
   ],
>>>>>>> upstream/master
   "source": [
    "# plot the class predictions\n",
    "plt.scatter(glass.al, glass.assorted)\n",
    "plt.plot(glass.al, assorted_pred_class, color='red')"
   ]
  },
  {
   "cell_type": "markdown",
   "metadata": {},
   "source": [
    "What went wrong? This is a line plot, and it connects points in the order they are found. Let's sort the DataFrame by \"al\" to fix this:"
   ]
  },
  {
   "cell_type": "code",
<<<<<<< HEAD
<<<<<<< HEAD
   "execution_count": 26,
   "metadata": {
    "collapsed": false
   },
   "outputs": [
    {
     "name": "stderr",
     "output_type": "stream",
     "text": [
      "/anaconda/lib/python2.7/site-packages/ipykernel/__main__.py:5: FutureWarning: sort(columns=....) is deprecated, use sort_values(by=.....)\n"
     ]
    }
   ],
=======
   "execution_count": null,
   "metadata": {
    "collapsed": false
   },
   "outputs": [],
>>>>>>> upstream/master
=======
   "execution_count": 22,
   "metadata": {
    "collapsed": false
   },
   "outputs": [
    {
     "name": "stderr",
     "output_type": "stream",
     "text": [
      "/Users/ianhansel/anaconda/lib/python2.7/site-packages/IPython/kernel/__main__.py:5: FutureWarning: sort(columns=....) is deprecated, use sort_values(by=.....)\n"
     ]
    }
   ],
>>>>>>> upstream/master
   "source": [
    "# add predicted class to DataFrame\n",
    "glass['assorted_pred_class'] = assorted_pred_class\n",
    "\n",
    "# sort DataFrame by al\n",
    "glass.sort('al', inplace=True)"
   ]
  },
  {
   "cell_type": "code",
<<<<<<< HEAD
<<<<<<< HEAD
   "execution_count": 27,
   "metadata": {
    "collapsed": false
   },
   "outputs": [
    {
     "data": {
      "text/plain": [
       "[<matplotlib.lines.Line2D at 0x11d44a250>]"
      ]
     },
     "execution_count": 27,
     "metadata": {},
     "output_type": "execute_result"
    },
    {
     "data": {
      "image/png": "iVBORw0KGgoAAAANSUhEUgAAAX8AAAECCAYAAAAW+Nd4AAAABHNCSVQICAgIfAhkiAAAAAlwSFlz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\nRU5ErkJggg==\n",
      "text/plain": [
       "<matplotlib.figure.Figure at 0x11d33f9d0>"
      ]
     },
     "metadata": {},
     "output_type": "display_data"
    }
   ],
=======
   "execution_count": null,
   "metadata": {
    "collapsed": false
   },
   "outputs": [],
>>>>>>> upstream/master
=======
   "execution_count": 23,
   "metadata": {
    "collapsed": false
   },
   "outputs": [
    {
     "data": {
      "text/plain": [
       "[<matplotlib.lines.Line2D at 0x10e595ed0>]"
      ]
     },
     "execution_count": 23,
     "metadata": {},
     "output_type": "execute_result"
    },
    {
     "data": {
      "image/png": "iVBORw0KGgoAAAANSUhEUgAAAX0AAAECCAYAAAASDQdFAAAABHNCSVQICAgIfAhkiAAAAAlwSFlz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\nE/3FAAAAAElFTkSuQmCC\n",
      "text/plain": [
       "<matplotlib.figure.Figure at 0x10e595750>"
      ]
     },
     "metadata": {},
     "output_type": "display_data"
    }
   ],
>>>>>>> upstream/master
   "source": [
    "# plot the class predictions again\n",
    "plt.scatter(glass.al, glass.assorted)\n",
    "plt.plot(glass.al, glass.assorted_pred_class, color='red')"
   ]
  },
  {
   "cell_type": "markdown",
   "metadata": {},
   "source": [
    "## Part 3: Using Logistic Regression Instead\n",
    "\n",
    "Logistic regression can do what we just did:"
   ]
  },
  {
   "cell_type": "code",
<<<<<<< HEAD
<<<<<<< HEAD
   "execution_count": 28,
=======
   "execution_count": null,
>>>>>>> upstream/master
=======
   "execution_count": 24,
>>>>>>> upstream/master
   "metadata": {
    "collapsed": false
   },
   "outputs": [],
   "source": [
    "# fit a linear regression model and store the class predictions\n",
    "from sklearn.linear_model import LogisticRegression\n",
    "logreg = LogisticRegression(C=1e9)\n",
    "feature_cols = ['al']\n",
    "X = glass[feature_cols]\n",
    "y = glass.assorted\n",
    "logreg.fit(X, y)\n",
    "assorted_pred_class = logreg.predict(X)"
   ]
  },
  {
   "cell_type": "code",
<<<<<<< HEAD
<<<<<<< HEAD
   "execution_count": 29,
   "metadata": {
    "collapsed": false
   },
   "outputs": [
    {
     "data": {
      "text/plain": [
       "array([0, 0, 0, 0, 0, 0, 0, 0, 0, 0, 0, 0, 0, 0, 0, 0, 0, 0, 0, 0, 0, 0, 0,\n",
       "       0, 0, 0, 0, 0, 0, 0, 0, 0, 0, 0, 0, 0, 0, 0, 0, 0, 0, 0, 0, 0, 0, 0,\n",
       "       0, 0, 0, 0, 0, 0, 0, 0, 0, 0, 0, 0, 0, 0, 0, 0, 0, 0, 0, 0, 0, 0, 0,\n",
       "       0, 0, 0, 0, 0, 0, 0, 0, 0, 0, 0, 0, 0, 0, 0, 0, 0, 0, 0, 0, 0, 0, 0,\n",
       "       0, 0, 0, 0, 0, 0, 0, 0, 0, 0, 0, 0, 0, 0, 0, 0, 0, 0, 0, 0, 0, 0, 0,\n",
       "       0, 0, 0, 0, 0, 0, 0, 0, 0, 0, 0, 0, 0, 0, 0, 0, 0, 0, 0, 0, 0, 0, 0,\n",
       "       0, 0, 0, 0, 0, 0, 0, 0, 0, 0, 0, 0, 0, 0, 0, 0, 0, 0, 0, 0, 0, 0, 0,\n",
       "       0, 0, 0, 0, 0, 0, 0, 0, 0, 0, 0, 0, 0, 0, 0, 0, 0, 0, 0, 1, 1, 1, 1,\n",
       "       1, 1, 1, 1, 1, 1, 1, 1, 1, 1, 1, 1, 1, 1, 1, 1, 1, 1, 1, 1, 1, 1, 1,\n",
       "       1, 1, 1, 1, 1, 1, 1])"
      ]
     },
     "execution_count": 29,
     "metadata": {},
     "output_type": "execute_result"
    }
   ],
=======
   "execution_count": null,
   "metadata": {
    "collapsed": false
   },
   "outputs": [],
>>>>>>> upstream/master
=======
   "execution_count": 25,
   "metadata": {
    "collapsed": false
   },
   "outputs": [
    {
     "data": {
      "text/plain": [
       "array([0, 0, 0, 0, 0, 0, 0, 0, 0, 0, 0, 0, 0, 0, 0, 0, 0, 0, 0, 0, 0, 0, 0,\n",
       "       0, 0, 0, 0, 0, 0, 0, 0, 0, 0, 0, 0, 0, 0, 0, 0, 0, 0, 0, 0, 0, 0, 0,\n",
       "       0, 0, 0, 0, 0, 0, 0, 0, 0, 0, 0, 0, 0, 0, 0, 0, 0, 0, 0, 0, 0, 0, 0,\n",
       "       0, 0, 0, 0, 0, 0, 0, 0, 0, 0, 0, 0, 0, 0, 0, 0, 0, 0, 0, 0, 0, 0, 0,\n",
       "       0, 0, 0, 0, 0, 0, 0, 0, 0, 0, 0, 0, 0, 0, 0, 0, 0, 0, 0, 0, 0, 0, 0,\n",
       "       0, 0, 0, 0, 0, 0, 0, 0, 0, 0, 0, 0, 0, 0, 0, 0, 0, 0, 0, 0, 0, 0, 0,\n",
       "       0, 0, 0, 0, 0, 0, 0, 0, 0, 0, 0, 0, 0, 0, 0, 0, 0, 0, 0, 0, 0, 0, 0,\n",
       "       0, 0, 0, 0, 0, 0, 0, 0, 0, 0, 0, 0, 0, 0, 0, 0, 0, 0, 0, 1, 1, 1, 1,\n",
       "       1, 1, 1, 1, 1, 1, 1, 1, 1, 1, 1, 1, 1, 1, 1, 1, 1, 1, 1, 1, 1, 1, 1,\n",
       "       1, 1, 1, 1, 1, 1, 1])"
      ]
     },
     "execution_count": 25,
     "metadata": {},
     "output_type": "execute_result"
    }
   ],
>>>>>>> upstream/master
   "source": [
    "# print the class predictions\n",
    "assorted_pred_class"
   ]
  },
  {
   "cell_type": "code",
<<<<<<< HEAD
<<<<<<< HEAD
   "execution_count": 30,
   "metadata": {
    "collapsed": false
   },
   "outputs": [
    {
     "data": {
      "text/plain": [
       "[<matplotlib.lines.Line2D at 0x11d5b3090>]"
      ]
     },
     "execution_count": 30,
     "metadata": {},
     "output_type": "execute_result"
    },
    {
     "data": {
      "image/png": "iVBORw0KGgoAAAANSUhEUgAAAX8AAAECCAYAAAAW+Nd4AAAABHNCSVQICAgIfAhkiAAAAAlwSFlz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\nEiCFv4hIgBT+IiIB+v8wBmcZDGG1ZAAAAABJRU5ErkJggg==\n",
      "text/plain": [
       "<matplotlib.figure.Figure at 0x11cdeb0d0>"
      ]
     },
     "metadata": {},
     "output_type": "display_data"
    }
   ],
=======
   "execution_count": null,
   "metadata": {
    "collapsed": false
   },
   "outputs": [],
>>>>>>> upstream/master
=======
   "execution_count": 26,
   "metadata": {
    "collapsed": false
   },
   "outputs": [
    {
     "data": {
      "text/plain": [
       "[<matplotlib.lines.Line2D at 0x10e702b90>]"
      ]
     },
     "execution_count": 26,
     "metadata": {},
     "output_type": "execute_result"
    },
    {
     "data": {
      "image/png": "iVBORw0KGgoAAAANSUhEUgAAAX0AAAECCAYAAAASDQdFAAAABHNCSVQICAgIfAhkiAAAAAlwSFlz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\n",
      "text/plain": [
       "<matplotlib.figure.Figure at 0x10e702cd0>"
      ]
     },
     "metadata": {},
     "output_type": "display_data"
    }
   ],
>>>>>>> upstream/master
   "source": [
    "# plot the class predictions\n",
    "plt.scatter(glass.al, glass.assorted)\n",
    "plt.plot(glass.al, assorted_pred_class, color='red')"
   ]
  },
  {
   "cell_type": "markdown",
   "metadata": {},
   "source": [
    "What if we wanted the **predicted probabilities** instead of just the **class predictions**, to understand how confident we are in a given prediction?"
   ]
  },
  {
   "cell_type": "code",
<<<<<<< HEAD
<<<<<<< HEAD
   "execution_count": 31,
=======
   "execution_count": null,
>>>>>>> upstream/master
=======
   "execution_count": 29,
>>>>>>> upstream/master
   "metadata": {
    "collapsed": false
   },
   "outputs": [
    {
     "data": {
      "text/plain": [
       "array([ 0.00149928,  0.00184718,  0.0031765 ,  0.0031765 ,  0.00375248,\n",
       "        0.00462079,  0.00462079,  0.00502171,  0.00671735,  0.0070021 ,\n",
       "        0.00729884,  0.00861586,  0.00898037,  0.01016808,  0.01016808,\n",
       "        0.01104497,  0.01151106,  0.01199657,  0.01357773,  0.01414917,\n",
       "        0.01414917,  0.01668149,  0.01668149,  0.01738125,  0.01810982,\n",
       "        0.01886834,  0.01886834,  0.019658  ,  0.02838274,  0.02838274,\n",
       "        0.03475158,  0.03618145,  0.03766786,  0.03921285,  0.04248704,\n",
       "        0.04422061,  0.04422061,  0.04422061,  0.04602151,  0.04602151,\n",
       "        0.04602151,  0.04983472,  0.04983472,  0.05185185,  0.05185185,\n",
       "        0.053946  ,  0.053946  ,  0.05611973,  0.05611973,  0.05837563,\n",
       "        0.05837563,  0.05837563,  0.06071638,  0.06071638,  0.06071638,\n",
       "        0.06071638,  0.06071638,  0.06071638,  0.0631447 ,  0.06566335,\n",
       "        0.06566335,  0.06827514,  0.07098293,  0.07098293,  0.07098293,\n",
       "        0.07098293,  0.07098293,  0.07378959,  0.07378959,  0.07669808,\n",
       "        0.07669808,  0.07669808,  0.07971133,  0.07971133,  0.07971133,\n",
       "        0.08283235,  0.08283235,  0.08283235,  0.08606414,  0.08606414,\n",
       "        0.08606414,  0.08606414,  0.08940973,  0.08940973,  0.08940973,\n",
       "        0.08940973,  0.08940973,  0.09287216,  0.09287216,  0.09645447,\n",
       "        0.09645447,  0.09645447,  0.1001597 ,  0.1001597 ,  0.1001597 ,\n",
       "        0.10399088,  0.10399088,  0.10399088,  0.10795103,  0.10795103,\n",
       "        0.11204313,  0.11204313,  0.11204313,  0.11204313,  0.11627013,\n",
       "        0.11627013,  0.11627013,  0.11627013,  0.12063494,  0.12514039,\n",
       "        0.12514039,  0.13458431,  0.13458431,  0.13952809,  0.13952809,\n",
       "        0.14987179,  0.14987179,  0.14987179,  0.14987179,  0.14987179,\n",
       "        0.15527637,  0.15527637,  0.16083898,  0.17244591,  0.17244591,\n",
       "        0.17244591,  0.17849363,  0.17849363,  0.1847061 ,  0.1847061 ,\n",
       "        0.1847061 ,  0.19762978,  0.19762978,  0.20434261,  0.20434261,\n",
       "        0.20434261,  0.21122344,  0.2182724 ,  0.2182724 ,  0.2182724 ,\n",
       "        0.2182724 ,  0.2182724 ,  0.2182724 ,  0.2182724 ,  0.2182724 ,\n",
       "        0.22548935,  0.23287383,  0.23287383,  0.23287383,  0.23287383,\n",
       "        0.23287383,  0.24042508,  0.24042508,  0.24814199,  0.24814199,\n",
       "        0.27227032,  0.28063172,  0.28063172,  0.28063172,  0.28914787,\n",
       "        0.28914787,  0.28914787,  0.29781547,  0.30663082,  0.31558982,\n",
       "        0.32468801,  0.34328211,  0.36236965,  0.36236965,  0.3918168 ,\n",
       "        0.3918168 ,  0.41191034,  0.41191034,  0.44258892,  0.44258892,\n",
       "        0.45292545,  0.46330273,  0.46330273,  0.4737119 ,  0.48414396,\n",
       "        0.51548672,  0.52591943,  0.52591943,  0.53632956,  0.55704623,\n",
       "        0.59782217,  0.6372886 ,  0.64689515,  0.64689515,  0.65638445,\n",
       "        0.67498767,  0.71054809,  0.72743659,  0.72743659,  0.73564594,\n",
       "        0.74369514,  0.75930477,  0.79541686,  0.82734296,  0.84452957,\n",
       "        0.85519386,  0.88780967,  0.90341658,  0.91705524,  0.94154303,\n",
       "        0.9480754 ,  0.96790053,  0.97039896,  0.97681342,  0.98110426,\n",
       "        0.9869519 ,  0.99269044,  0.99327278,  0.999011  ])"
      ]
     },
     "execution_count": 29,
     "metadata": {},
     "output_type": "execute_result"
    }
   ],
   "source": [
    "# store the predicted probabilites of class 1\n",
    "assorted_pred_prob = logreg.predict_proba(X)[:, 1]\n",
    "assorted_pred_prob"
   ]
  },
  {
   "cell_type": "code",
<<<<<<< HEAD
<<<<<<< HEAD
   "execution_count": 32,
   "metadata": {
    "collapsed": false
   },
   "outputs": [
    {
     "data": {
      "text/plain": [
       "[<matplotlib.lines.Line2D at 0x11d726d10>]"
      ]
     },
     "execution_count": 32,
     "metadata": {},
     "output_type": "execute_result"
    },
    {
     "data": {
      "image/png": "iVBORw0KGgoAAAANSUhEUgAAAX8AAAECCAYAAAAW+Nd4AAAABHNCSVQICAgIfAhkiAAAAAlwSFlz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\ngg==\n",
      "text/plain": [
       "<matplotlib.figure.Figure at 0x11d726d50>"
      ]
     },
     "metadata": {},
     "output_type": "display_data"
    }
   ],
=======
   "execution_count": null,
   "metadata": {
    "collapsed": false
   },
   "outputs": [],
>>>>>>> upstream/master
=======
   "execution_count": 28,
   "metadata": {
    "collapsed": false
   },
   "outputs": [
    {
     "data": {
      "text/plain": [
       "[<matplotlib.lines.Line2D at 0x10e873910>]"
      ]
     },
     "execution_count": 28,
     "metadata": {},
     "output_type": "execute_result"
    },
    {
     "data": {
      "image/png": "iVBORw0KGgoAAAANSUhEUgAAAX0AAAECCAYAAAASDQdFAAAABHNCSVQICAgIfAhkiAAAAAlwSFlz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\nrkJggg==\n",
      "text/plain": [
       "<matplotlib.figure.Figure at 0x10e8738d0>"
      ]
     },
     "metadata": {},
     "output_type": "display_data"
    }
   ],
>>>>>>> upstream/master
   "source": [
    "# plot the predicted probabilities\n",
    "plt.scatter(glass.al, glass.assorted)\n",
    "plt.plot(glass.al, assorted_pred_prob, color='red')"
   ]
  },
  {
   "cell_type": "code",
<<<<<<< HEAD
<<<<<<< HEAD
   "execution_count": 33,
   "metadata": {
    "collapsed": false
   },
   "outputs": [
    {
     "name": "stdout",
     "output_type": "stream",
     "text": [
      "[[ 0.97161726  0.02838274]]\n",
      "[[ 0.34361555  0.65638445]]\n",
      "[[ 0.00794192  0.99205808]]\n"
     ]
    }
   ],
=======
   "execution_count": null,
   "metadata": {
    "collapsed": false
   },
   "outputs": [],
>>>>>>> upstream/master
=======
   "execution_count": 33,
   "metadata": {
    "collapsed": false
   },
   "outputs": [
    {
     "name": "stdout",
     "output_type": "stream",
     "text": [
      "[[ 0.00794192  0.99205808]]\n"
     ]
    }
   ],
>>>>>>> upstream/master
   "source": [
    "# examine some example predictions\n",
    "print logreg.predict_proba(3)\n"
   ]
  },
  {
   "cell_type": "markdown",
   "metadata": {},
   "source": [
    "What is this? The first column indicates the predicted probability of **class 0**, and the second column indicates the predicted probability of **class 1**."
   ]
  },
  {
   "cell_type": "markdown",
   "metadata": {},
   "source": [
    "## Part 4: Probability, odds, e, log, log-odds\n",
    "\n",
    "$$probability = \\frac {one\\ outcome} {all\\ outcomes}$$\n",
    "\n",
    "$$odds = \\frac {one\\ outcome} {all\\ other\\ outcomes}$$\n",
    "\n",
    "Examples:\n",
    "\n",
    "- Dice roll of 1: probability = 1/6, odds = 1/5\n",
    "- Even dice roll: probability = 3/6, odds = 3/3 = 1\n",
    "- Dice roll less than 5: probability = 4/6, odds = 4/2 = 2\n",
    "\n",
    "$$odds = \\frac {probability} {1 - probability}$$"
   ]
  },
  {
   "cell_type": "code",
<<<<<<< HEAD
<<<<<<< HEAD
   "execution_count": 34,
   "metadata": {
    "collapsed": false
   },
   "outputs": [
    {
     "data": {
      "text/html": [
       "<div>\n",
       "<table border=\"1\" class=\"dataframe\">\n",
       "  <thead>\n",
       "    <tr style=\"text-align: right;\">\n",
       "      <th></th>\n",
       "      <th>probability</th>\n",
       "      <th>odds</th>\n",
       "    </tr>\n",
       "  </thead>\n",
       "  <tbody>\n",
       "    <tr>\n",
       "      <th>0</th>\n",
       "      <td>0.10</td>\n",
       "      <td>0.111111</td>\n",
       "    </tr>\n",
       "    <tr>\n",
       "      <th>1</th>\n",
       "      <td>0.20</td>\n",
       "      <td>0.250000</td>\n",
       "    </tr>\n",
       "    <tr>\n",
       "      <th>2</th>\n",
       "      <td>0.25</td>\n",
       "      <td>0.333333</td>\n",
       "    </tr>\n",
       "    <tr>\n",
       "      <th>3</th>\n",
       "      <td>0.50</td>\n",
       "      <td>1.000000</td>\n",
       "    </tr>\n",
       "    <tr>\n",
       "      <th>4</th>\n",
       "      <td>0.60</td>\n",
       "      <td>1.500000</td>\n",
       "    </tr>\n",
       "    <tr>\n",
       "      <th>5</th>\n",
       "      <td>0.80</td>\n",
       "      <td>4.000000</td>\n",
       "    </tr>\n",
       "    <tr>\n",
       "      <th>6</th>\n",
       "      <td>0.90</td>\n",
       "      <td>9.000000</td>\n",
       "    </tr>\n",
       "    <tr>\n",
       "      <th>7</th>\n",
       "      <td>0.99</td>\n",
       "      <td>99.000000</td>\n",
       "    </tr>\n",
       "  </tbody>\n",
       "</table>\n",
       "</div>"
      ],
      "text/plain": [
       "   probability       odds\n",
       "0         0.10   0.111111\n",
       "1         0.20   0.250000\n",
       "2         0.25   0.333333\n",
       "3         0.50   1.000000\n",
       "4         0.60   1.500000\n",
       "5         0.80   4.000000\n",
       "6         0.90   9.000000\n",
       "7         0.99  99.000000"
      ]
     },
     "execution_count": 34,
     "metadata": {},
     "output_type": "execute_result"
    }
   ],
=======
   "execution_count": null,
   "metadata": {
    "collapsed": false
   },
   "outputs": [],
>>>>>>> upstream/master
=======
   "execution_count": 34,
   "metadata": {
    "collapsed": false
   },
   "outputs": [
    {
     "data": {
      "text/html": [
       "<div>\n",
       "<table border=\"1\" class=\"dataframe\">\n",
       "  <thead>\n",
       "    <tr style=\"text-align: right;\">\n",
       "      <th></th>\n",
       "      <th>probability</th>\n",
       "      <th>odds</th>\n",
       "    </tr>\n",
       "  </thead>\n",
       "  <tbody>\n",
       "    <tr>\n",
       "      <th>0</th>\n",
       "      <td>0.10</td>\n",
       "      <td>0.111111</td>\n",
       "    </tr>\n",
       "    <tr>\n",
       "      <th>1</th>\n",
       "      <td>0.20</td>\n",
       "      <td>0.250000</td>\n",
       "    </tr>\n",
       "    <tr>\n",
       "      <th>2</th>\n",
       "      <td>0.25</td>\n",
       "      <td>0.333333</td>\n",
       "    </tr>\n",
       "    <tr>\n",
       "      <th>3</th>\n",
       "      <td>0.50</td>\n",
       "      <td>1.000000</td>\n",
       "    </tr>\n",
       "    <tr>\n",
       "      <th>4</th>\n",
       "      <td>0.60</td>\n",
       "      <td>1.500000</td>\n",
       "    </tr>\n",
       "    <tr>\n",
       "      <th>5</th>\n",
       "      <td>0.80</td>\n",
       "      <td>4.000000</td>\n",
       "    </tr>\n",
       "    <tr>\n",
       "      <th>6</th>\n",
       "      <td>0.90</td>\n",
       "      <td>9.000000</td>\n",
       "    </tr>\n",
       "    <tr>\n",
       "      <th>7</th>\n",
       "      <td>0.99</td>\n",
       "      <td>99.000000</td>\n",
       "    </tr>\n",
       "  </tbody>\n",
       "</table>\n",
       "</div>"
      ],
      "text/plain": [
       "   probability       odds\n",
       "0         0.10   0.111111\n",
       "1         0.20   0.250000\n",
       "2         0.25   0.333333\n",
       "3         0.50   1.000000\n",
       "4         0.60   1.500000\n",
       "5         0.80   4.000000\n",
       "6         0.90   9.000000\n",
       "7         0.99  99.000000"
      ]
     },
     "execution_count": 34,
     "metadata": {},
     "output_type": "execute_result"
    }
   ],
>>>>>>> upstream/master
   "source": [
    "# create a table of probability versus odds\n",
    "table = pd.DataFrame({'probability':[0.1, 0.2, 0.25, 0.5, 0.6, 0.8, 0.9, 0.99]})\n",
    "table['odds'] = table.probability/(1 - table.probability)\n",
    "table"
   ]
  },
  {
   "cell_type": "markdown",
   "metadata": {},
   "source": [
    "What is **e**? It is the base rate of growth shared by all continually growing processes:"
   ]
  },
  {
   "cell_type": "code",
<<<<<<< HEAD
<<<<<<< HEAD
   "execution_count": 35,
   "metadata": {
    "collapsed": false
   },
   "outputs": [
    {
     "data": {
      "text/plain": [
       "2.7182818284590451"
      ]
     },
     "execution_count": 35,
     "metadata": {},
     "output_type": "execute_result"
    }
   ],
=======
   "execution_count": null,
   "metadata": {
    "collapsed": false
   },
   "outputs": [],
>>>>>>> upstream/master
=======
   "execution_count": 35,
   "metadata": {
    "collapsed": false
   },
   "outputs": [
    {
     "data": {
      "text/plain": [
       "2.7182818284590451"
      ]
     },
     "execution_count": 35,
     "metadata": {},
     "output_type": "execute_result"
    }
   ],
>>>>>>> upstream/master
   "source": [
    "# exponential function: e^1\n",
    "np.exp(1)"
   ]
  },
  {
   "cell_type": "markdown",
   "metadata": {},
   "source": [
    "What is a **(natural) log**? It gives you the time needed to reach a certain level of growth:"
   ]
  },
  {
   "cell_type": "code",
<<<<<<< HEAD
<<<<<<< HEAD
   "execution_count": 36,
   "metadata": {
    "collapsed": false
   },
   "outputs": [
    {
     "data": {
      "text/plain": [
       "0.99989631572895199"
      ]
     },
     "execution_count": 36,
     "metadata": {},
     "output_type": "execute_result"
    }
   ],
=======
   "execution_count": null,
   "metadata": {
    "collapsed": false
   },
   "outputs": [],
>>>>>>> upstream/master
=======
   "execution_count": 38,
   "metadata": {
    "collapsed": false
   },
   "outputs": [
    {
     "data": {
      "text/plain": [
       "5.0"
      ]
     },
     "execution_count": 38,
     "metadata": {},
     "output_type": "execute_result"
    }
   ],
>>>>>>> upstream/master
   "source": [
    "# time needed to grow 1 unit to 2.718 units\n",
    "np.log(np.exp(5))"
   ]
  },
  {
   "cell_type": "markdown",
   "metadata": {},
   "source": [
    "It is also the **inverse** of the exponential function:"
   ]
  },
  {
   "cell_type": "code",
<<<<<<< HEAD
<<<<<<< HEAD
   "execution_count": 37,
   "metadata": {
    "collapsed": false
   },
   "outputs": [
    {
     "data": {
      "text/plain": [
       "5.0"
      ]
     },
     "execution_count": 37,
     "metadata": {},
     "output_type": "execute_result"
    }
   ],
=======
   "execution_count": null,
   "metadata": {
    "collapsed": false
   },
   "outputs": [],
>>>>>>> upstream/master
=======
   "execution_count": 39,
   "metadata": {
    "collapsed": false
   },
   "outputs": [
    {
     "data": {
      "text/plain": [
       "5.0"
      ]
     },
     "execution_count": 39,
     "metadata": {},
     "output_type": "execute_result"
    }
   ],
>>>>>>> upstream/master
   "source": [
    "np.log(np.exp(5))"
   ]
  },
  {
   "cell_type": "code",
<<<<<<< HEAD
<<<<<<< HEAD
   "execution_count": 38,
   "metadata": {
    "collapsed": false
   },
   "outputs": [
    {
     "data": {
      "text/html": [
       "<div>\n",
       "<table border=\"1\" class=\"dataframe\">\n",
       "  <thead>\n",
       "    <tr style=\"text-align: right;\">\n",
       "      <th></th>\n",
       "      <th>probability</th>\n",
       "      <th>odds</th>\n",
       "      <th>logodds</th>\n",
       "    </tr>\n",
       "  </thead>\n",
       "  <tbody>\n",
       "    <tr>\n",
       "      <th>0</th>\n",
       "      <td>0.10</td>\n",
       "      <td>0.111111</td>\n",
       "      <td>-2.197225</td>\n",
       "    </tr>\n",
       "    <tr>\n",
       "      <th>1</th>\n",
       "      <td>0.20</td>\n",
       "      <td>0.250000</td>\n",
       "      <td>-1.386294</td>\n",
       "    </tr>\n",
       "    <tr>\n",
       "      <th>2</th>\n",
       "      <td>0.25</td>\n",
       "      <td>0.333333</td>\n",
       "      <td>-1.098612</td>\n",
       "    </tr>\n",
       "    <tr>\n",
       "      <th>3</th>\n",
       "      <td>0.50</td>\n",
       "      <td>1.000000</td>\n",
       "      <td>0.000000</td>\n",
       "    </tr>\n",
       "    <tr>\n",
       "      <th>4</th>\n",
       "      <td>0.60</td>\n",
       "      <td>1.500000</td>\n",
       "      <td>0.405465</td>\n",
       "    </tr>\n",
       "    <tr>\n",
       "      <th>5</th>\n",
       "      <td>0.80</td>\n",
       "      <td>4.000000</td>\n",
       "      <td>1.386294</td>\n",
       "    </tr>\n",
       "    <tr>\n",
       "      <th>6</th>\n",
       "      <td>0.90</td>\n",
       "      <td>9.000000</td>\n",
       "      <td>2.197225</td>\n",
       "    </tr>\n",
       "    <tr>\n",
       "      <th>7</th>\n",
       "      <td>0.99</td>\n",
       "      <td>99.000000</td>\n",
       "      <td>4.595120</td>\n",
       "    </tr>\n",
       "  </tbody>\n",
       "</table>\n",
       "</div>"
      ],
      "text/plain": [
       "   probability       odds   logodds\n",
       "0         0.10   0.111111 -2.197225\n",
       "1         0.20   0.250000 -1.386294\n",
       "2         0.25   0.333333 -1.098612\n",
       "3         0.50   1.000000  0.000000\n",
       "4         0.60   1.500000  0.405465\n",
       "5         0.80   4.000000  1.386294\n",
       "6         0.90   9.000000  2.197225\n",
       "7         0.99  99.000000  4.595120"
      ]
     },
     "execution_count": 38,
     "metadata": {},
     "output_type": "execute_result"
    }
   ],
=======
   "execution_count": null,
   "metadata": {
    "collapsed": false
   },
   "outputs": [],
>>>>>>> upstream/master
=======
   "execution_count": 40,
   "metadata": {
    "collapsed": false
   },
   "outputs": [
    {
     "data": {
      "text/html": [
       "<div>\n",
       "<table border=\"1\" class=\"dataframe\">\n",
       "  <thead>\n",
       "    <tr style=\"text-align: right;\">\n",
       "      <th></th>\n",
       "      <th>probability</th>\n",
       "      <th>odds</th>\n",
       "      <th>logodds</th>\n",
       "    </tr>\n",
       "  </thead>\n",
       "  <tbody>\n",
       "    <tr>\n",
       "      <th>0</th>\n",
       "      <td>0.10</td>\n",
       "      <td>0.111111</td>\n",
       "      <td>-2.197225</td>\n",
       "    </tr>\n",
       "    <tr>\n",
       "      <th>1</th>\n",
       "      <td>0.20</td>\n",
       "      <td>0.250000</td>\n",
       "      <td>-1.386294</td>\n",
       "    </tr>\n",
       "    <tr>\n",
       "      <th>2</th>\n",
       "      <td>0.25</td>\n",
       "      <td>0.333333</td>\n",
       "      <td>-1.098612</td>\n",
       "    </tr>\n",
       "    <tr>\n",
       "      <th>3</th>\n",
       "      <td>0.50</td>\n",
       "      <td>1.000000</td>\n",
       "      <td>0.000000</td>\n",
       "    </tr>\n",
       "    <tr>\n",
       "      <th>4</th>\n",
       "      <td>0.60</td>\n",
       "      <td>1.500000</td>\n",
       "      <td>0.405465</td>\n",
       "    </tr>\n",
       "    <tr>\n",
       "      <th>5</th>\n",
       "      <td>0.80</td>\n",
       "      <td>4.000000</td>\n",
       "      <td>1.386294</td>\n",
       "    </tr>\n",
       "    <tr>\n",
       "      <th>6</th>\n",
       "      <td>0.90</td>\n",
       "      <td>9.000000</td>\n",
       "      <td>2.197225</td>\n",
       "    </tr>\n",
       "    <tr>\n",
       "      <th>7</th>\n",
       "      <td>0.99</td>\n",
       "      <td>99.000000</td>\n",
       "      <td>4.595120</td>\n",
       "    </tr>\n",
       "  </tbody>\n",
       "</table>\n",
       "</div>"
      ],
      "text/plain": [
       "   probability       odds   logodds\n",
       "0         0.10   0.111111 -2.197225\n",
       "1         0.20   0.250000 -1.386294\n",
       "2         0.25   0.333333 -1.098612\n",
       "3         0.50   1.000000  0.000000\n",
       "4         0.60   1.500000  0.405465\n",
       "5         0.80   4.000000  1.386294\n",
       "6         0.90   9.000000  2.197225\n",
       "7         0.99  99.000000  4.595120"
      ]
     },
     "execution_count": 40,
     "metadata": {},
     "output_type": "execute_result"
    }
   ],
>>>>>>> upstream/master
   "source": [
    "# add log-odds to the table\n",
    "table['logodds'] = np.log(table.odds)\n",
    "table"
   ]
  },
  {
   "cell_type": "markdown",
   "metadata": {},
   "source": [
    "## Part 5: What is Logistic Regression?"
   ]
  },
  {
   "cell_type": "markdown",
   "metadata": {},
   "source": [
    "**Linear regression:** continuous response is modeled as a linear combination of the features:\n",
    "\n",
    "$$y = \\beta_0 + \\beta_1x$$\n",
    "\n",
    "**Logistic regression:** log-odds of a categorical response being \"true\" (1) is modeled as a linear combination of the features:\n",
    "\n",
    "$$\\log \\left({p\\over 1-p}\\right) = \\beta_0 + \\beta_1x$$\n",
    "\n",
    "This is called the **logit function**.\n",
    "\n",
    "Probability is sometimes written as pi:\n",
    "\n",
    "$$\\log \\left({\\pi\\over 1-\\pi}\\right) = \\beta_0 + \\beta_1x$$\n",
    "\n",
    "The equation can be rearranged into the **logistic function**:\n",
    "\n",
    "$$\\pi = \\frac{e^{\\beta_0 + \\beta_1x}} {1 + e^{\\beta_0 + \\beta_1x}}$$"
   ]
  },
  {
   "cell_type": "markdown",
   "metadata": {},
   "source": [
    "In other words:\n",
    "\n",
    "- Logistic regression outputs the **probabilities of a specific class**\n",
    "- Those probabilities can be converted into **class predictions**\n",
    "\n",
    "The **logistic function** has some nice properties:\n",
    "\n",
    "- Takes on an \"s\" shape\n",
    "- Output is bounded by 0 and 1\n",
    "\n",
    "Notes:\n",
    "\n",
    "- **Multinomial logistic regression** is used when there are more than 2 classes.\n",
    "- Coefficients are estimated using **maximum likelihood estimation**, meaning that we choose parameters that maximize the likelihood of the observed data."
   ]
  },
  {
   "cell_type": "markdown",
   "metadata": {},
   "source": [
    "## Part 6: Interpreting Logistic Regression Coefficients"
   ]
  },
  {
   "cell_type": "code",
<<<<<<< HEAD
<<<<<<< HEAD
   "execution_count": 39,
   "metadata": {
    "collapsed": false
   },
   "outputs": [
    {
     "data": {
      "text/plain": [
       "[<matplotlib.lines.Line2D at 0x11d76a5d0>]"
      ]
     },
     "execution_count": 39,
     "metadata": {},
     "output_type": "execute_result"
    },
    {
     "data": {
      "image/png": "iVBORw0KGgoAAAANSUhEUgAAAX8AAAECCAYAAAAW+Nd4AAAABHNCSVQICAgIfAhkiAAAAAlwSFlz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\ngg==\n",
      "text/plain": [
       "<matplotlib.figure.Figure at 0x11d761b90>"
      ]
     },
     "metadata": {},
     "output_type": "display_data"
    }
   ],
=======
   "execution_count": null,
   "metadata": {
    "collapsed": false
   },
   "outputs": [],
>>>>>>> upstream/master
=======
   "execution_count": 41,
   "metadata": {
    "collapsed": false
   },
   "outputs": [
    {
     "data": {
      "text/plain": [
       "[<matplotlib.lines.Line2D at 0x10e716d50>]"
      ]
     },
     "execution_count": 41,
     "metadata": {},
     "output_type": "execute_result"
    },
    {
     "data": {
      "image/png": "iVBORw0KGgoAAAANSUhEUgAAAX0AAAECCAYAAAASDQdFAAAABHNCSVQICAgIfAhkiAAAAAlwSFlz\nAAALEgAACxIB0t1+/AAAIABJREFUeJzt3XmYHFW9xvHvmcwkE8gGQUAWAwJzAGNYhSRAIIDkYQkC\ncr1BEESQEBBRVHbCIiqCoCwSIIJGQaJwZZGrEGUJEhYBQZDl8ASQCFwIBsiEmJlkJuf+cWoync5s\n1VPTVTX1fp6nn5nu6q5++zfdvz5zqrraeO8REZFiqEk7gIiIVI+avohIgajpi4gUiJq+iEiBqOmL\niBSImr6ISIHU9ubG1tpdgUuccxPLLj8COBVoAZ4HTnLOad9QEZGUVTzSt9aeDswEBpVdPhj4LrCX\nc253YDhwUG9CiohIMnozvTMfOAwwZZc3AeOcc03R+VpgWS/uR0REElJx03fO/Y4wfVN+uXfOvQdg\nrT0FWNs59+fKI4qISFJ6NaffGWttDXApsCXw+b64DxERia9Pmj5wPWGa59AebsBtomzbgIiIdKt8\ner1bSTR9D6v22BkCPAV8BXgYeMBaC3Clc+7OLtYxiArCp8CjnEnKQ848ZATlTFpecsZmMnKUzbwU\nWDmTlYececgIypm0vOSMTR/OEhEpEDV9EZECUdMXESkQNX0RkQJR0xcRKRA1fRGRAlHTFxEpEDV9\nEZECUdMXESkQNX0RkQJR0xcRKRA1fRGRAlHTFxEpEDV9EZECUdMXESkQNX0RkQJR0xcRKRA1fRGR\nAlHTFxEpEDV9EZECUdMXESkQNX0RkQJR0xcRKRA1fRGRAulV07fW7mqtfbCDyydba/9qrX3UWnt8\nb+5DRESSU1vpDa21pwNHAR+VXV4HXAHsDPwHmGetvds5t7A3QZNgjKmHSceEc/fN8t43ZWFdWWGM\nGQ77/TScm3MaTDo0/L764+vqsfekLm3XmTHjFKZNO2g4TJoCHw6BtadA7UhouhYeviZce9IxsLwW\nWuugfmdofRzu/9ma9znxOKgbFy3/Fez+ZRj0RfA1YF4HHob7fwv7XRE9vpO994s7yhx+7noyDD95\n++0349lnX/42DF4C980OWXuSp3x9bY+jxsBKH37WriitUdntovsqX0fHNZ8x4x6mTbt6avntOnte\ndlCzn3nvmzrP3vH64r4OmpqaGDz4gJPL77er21RT2XOzPkvZEuO9r+jU0NBwWENDw5YNDQ2PlV0+\npqGh4Y8l569oaGg4vJv1+Upz9PQE1MO5D8JyH07nPgjUx1yPT3BdfXmKXU9gOJz7QXg8jR7OWdHR\n4+vqsfekLqtfp9GH+1zg4SwPM337bb81D86eG65zbdmys+eufp+nz21f3ujhtA9getntFpY/pg/C\nYy7PfPpcOOkROC9aV+l6z/2gZ3nK19f2OGaWrbO9Rh3XpXwd3dW8/HYdPy/XrNmqxzC84+wdry/u\n6wCo32OP6zqtXdqnHLyuk3mcvblxQ0PDZh00/d0bGhpml5y/sKGh4bhu1uX7/g86aWr4Q/ro1Oxh\n0tSY6/EJrqsvT7HrCfvd3P6Y7vGdPb6uHntP6rL6ddru52se7iy7zzui8/d0sKz8PkuX3+Ph4ug2\npZf/oIN17Hfzmpnv8HBSyX2XZ+1Jns4eR/k622/bcV3K19Hd/XX+d1vzb9DRYyh9DnR9v5W8Djq/\n3yq+dmCAh8Eehnv4mIeNPWzuwU5hzIU78rgfy6N+bZZUP1uVThVP73RhMTC05PxQ4IMe3M73QZZV\nwr9ra1x2HXBdzFX5BNfVl2LVc8qUicye3fnytsfX1WPvSV06uk4lVr/PlorWMWXKxCP33PPTRyaf\np6LbxrpdT++vo+dlZzWbMmXikV09B8rXF/d1cMNVU7ng64sYyXOMpJERfMgglnLCMdtex8yZ17F8\nObFOzc3xrr98eZeP7VaeA8YC8DsO5fPMzuLrupyJfYvevGN0MtKva2hoeKWhoWGdhoaGgQ0NDU81\nNDR8vJt1+b5+d2PVv27N0Tt4EtM7vVpXX55i15NV0zvNHhb7MBWy5uPr6rH3pC6rX2exD/f5hm+f\n3mm7bdv0zmLfPp3Stqyz6Z22dZZP7zR7eLf8MZVN77RdXjq9s9ivvt5zP+hZnvL1tT2OmWXrbK9R\nx3UpX0d3NS+/XU+md1Z7DMM7zt7x+o6DIdsy9bG9uM8fwSx/PhNeWRb+zbrGw60e5nh42oc/8Ecl\nw/u+OK3wsNTDBx7e8WHOcL6HFz086+GvHh7x8ICHez3c7eF2D7/28AsP1zfDtTcxZsEP+Lbfhb90\nWr+8n0z0JKiItXYz4NfOufHW2iOAIc65mdbag4DphL2DbnTOzejuvYdK3rFiSmDj66qcGd+QW1E9\nU9iQe920aQeNyPiG3M2fffbl7+RgQ+6yadOuPjHpDbl3wYg/sfVpY1iywZd466162ATYLDptTPd7\nAP4HWAT8G1jUevjh+z5++58efpkh6wym5ZWDefehIeE6y7s4NXezfAXer+wmR4+UPTcHZ+x1nYhe\nNf0EVaXpJ0A5k5WHnHnICL3NaYwBtiTsdbczsD2wLbBhB9deCbwF/BN4I/r5NlFjp6TJs2bTLEY9\nM0xNPx7lTFYecuYhI8TNacwgYEJ0GgfsBIwou9Y/gRej08vAa9Flb+L9iqrkTE9ecsamph+PciYr\nDznzkBF6ktOYYcD+wKHAAay+w8UrwFMlp2fw/qM11lGNnNmQl5yxqenHo5zJykPOPGSEznIaswFw\nMKHR7wMMjJb8E7gT+BPwKN5/WJWUea9nP9AXu2yKSJqM2QI4hNDox9PevP4O3EFo9s+RkRGfVJea\nvkh/sGIFDBx4OHAysFd06UrgL4Qmfyfev55SOskQNX2RPDOmFvgSo0YB3BZd+gBwC3AP3qd+zCvJ\nFs3px6OcycpDzmxmNKYG+AJwIdDAoEHQ3HwN8FO8fzndcF3KZj3XlJecsel4+iJ5YozBmIOBZ4Bb\ngU8C1zN/Pnh/SsYbvmSARvrxKGey8pAzOxmN+SxwMbALYb7+ZuBCvH+NLOXsmnKmTHP6IllnzMeB\na4DDoktuA87H+5fSCyV5paYvklXh0AjHAD8mfFr2EeDreP9Mqrkk19T0RbLImPWAXwAHEr6d7mTg\nuqQOLCbFpaYvkjXGTCBspN0I+DNwHN4vSDeU9Bfae0ckK8KeOWcDDwIbAGcBk9TwJUka6YtkgTF1\nwEzCHP6bwBS8n5duKOmP1PRF0mbMUOB2YD/gSeAgfZJW+oqmd0TSZMyGwFxCw78HmKiGL31JTV8k\nLcZY4DFgB8LUzqF4vzTdUNLfqemLpMGY8cCjhO+anQ5MxfuWVDNJIWhOX6TajBkHzAHqga/g/c9T\nTiQFoqYvUk3GbAf8gdDwD8f7O1NOJAWjpi9SLcY0EEb4w4EvqeFLGtT0RarBmFGET9euD0zD+1tS\nTiQFpQ25In3NmJGELyDfFDgT769LOZEUWEUjfWttDXAtMAZoBo53zr1asvxI4DSgFbjJOacnuRRT\n+KTtbcBWwKV4/8OUE0nBVTrSPwQY6JwbD5wJXF62/DJgH2A34FvW2uGVRxTJtR8DE4E7CMfSEUlV\npU1/N+BeAOfcE8DOZcufIxz/ezDh22cy8fVcIlVlzFTCIZGfB47WYZElCypt+sOAxpLzrdGUT5sX\ngKeBfwC/d86VXlek/zNmT8K3Xf0bOBjvP0o5kQhQedNvBIaWrsc5txLAWjsGOAAYRfi04QbW2sN7\nsE6fg5NyFi9n/IwLFnhGjnyI2tpa5s5dD+9fz2TOvNRTObvLGUulu2zOAyYDt1lrxxKmc9osBpYB\nzc65ldbahYSpnu7k4UuIPcqZpDzkjJfRmFrgIcIU6DQmTKjWTgx5qCUoZ+qM9/HfLKy1hva9dwCO\nBXYChjjnZlprpwJfAZYD84GvOue6Oq5IXgqsnMnKQ864Tf9CwrF0fgMcQSUvsMrkoZagnKmrqOn3\ngbwUWDmTlYecPc8Y5vEfABYAO+D9h32Yq1weagnKmTp9OEskCeEDWLcQmsUXq9zwRXpMh2EQ6S1j\nDHAjsDFwDt4/lnIikU5ppC/SeycAnyN8obk+cSuZpjn9eJQzWXnI2XVGYz5B+FxKCzAa79+qUq5y\neaglKGfqNL0jUqkwrTMTGAIcm2LDF+kxTe+IVO5Ywhea3wfMSjmLSI9oeice5UxWHnJ2nNGYjQnT\nOjXAp/D+X1XOVS4PtQTlTJ2md0Qqcy3hG7CmZqDhi/SYRvrxKGey8pBzzYzGTAbuJhxuYe8qfuq2\nK3moJShn6tT041HOZOUh5+oZjRlMmNbZFNgO719MKVe5PNQSlDN12pArEs8ZwObATzLU8EV6TCP9\neJQzWXnI2Z7RmE8CLwKLgK3xfkmKucrloZagnKnTSF+k564EBgHfyljDF+kxNX2Rnggbbw8iHGrh\nNymnEamYpnfiUc5k5SGnx5i1yObG21J5qCUoZ+o00hfpnjbeSr+hkX48ypms7OdcsMAzalQT8D7Z\n23hbKvu1DJQzZRrpi3TlrLMA6oGzMtzwRXpMh2EQ6Ywxu0a/PQ3cnGYUkaRopC/SkXDY5Muic6fh\n/co044gkRU1fpGMHAnsweTJ4/3DaYUSSog258ShnsrKZ05gBwLPAp3j+ecPo0dnLuKZs1nJNypky\njfRF1nQUMBqYxejRaWcRSZRG+vEoZ7Kyl9OYeuAVYH2gAe/fIGsZO5a9WnZMOVNW0d471toawpdI\njAGageOdc6+WLP8McDmhaO8ARznnmnsfV6TPnUT45O2P8H5B2mFEklbp9M4hwEDn3HjgTEKDB8Ba\na4AbgC875/YA7gVG9TaoSJ8zZgRwDrAY+EHKaUT6RKVNfzdCM8c59wSwc8myBsKhZ0+z1j4ErOuc\ne6U3IUWq5HRgXeASvH8/7TAifaHSpj8MaCw53xpN+QCsB4wHrgb2Bfax1k6sPKJIFRizEfAN4G3g\nqpTTiPSZSpt+IzC0dD3OubYPrywC5rughfAfwc7lK+iAz8FJOftrzmnT3gIGc8MNG+H90kxmzEst\nlbPaOWOptOnPAw4AsNaOBZ4rWfYaMMRau0V0fg/gHz1Yp8nBSTn7Y05jNmPGjBXAq5xwQl0mM+al\nlsqZRs5YKtplM9pY27b3DsCxwE7AEOfczGg655Io1Dzn3De7WaWnwgdQZcqZrGzkNOYG4KvA0Xj/\nq7Kl2cjYPeVMVl5yxqb99ONRzmSlnzN8760DXgVG431L2TXSz9gzypmsvOSMTZ/IlaI7l/B5lQs7\naPgi/Y5G+vEoZ7LSzWnMVsBLhJH+GLxv7eBaqmWylDNlGulLkZ0HDAAu6KThi/Q7GunHo5zJSi+n\nMVsTvuz8BWD7Lo6Xr1omSzlTppG+FNV0wvP/fH1BihSJRvrxKGey0slpzLaEz478HdiRrl8EqmWy\nlDNlGulLEZ1PeEGf303DF+l3NNKPRzmTVf2cxnya8Anyp4HP9KDpq5bJUs6UaaQvRXNB9HO6RvlS\nRBrpx6OcyapuTmN2AP4GPAGM62HTVy2TpZwp00hfiuSC6KdG+VJYGunHo5zJql5OY3YGniQcIXaP\nGE1ftUyWcqZMI30piguinxrlS6Gp6Uv/Z8yuwIHAXODBlNOIpEpNX4rgwuin9suXwlPTl/7NmN2A\nScADeD837TgiaVPTl/6ufZQvImr60o8ZMwHYB5iD94+kHUckC9T0pX8yxgAXR+c0yheJqOlLf7Uv\nsAdwD94/nnYYkazQh7PiUc5k9U3OMMp/HNiFcOjkZ3qxtmLXMnnKmTKN9KU/OpDQ8P+nlw1fpN/R\nSD8e5UxW8jmNqSEcNnk74NN4/0Iv11jcWvYN5UyZRvrS3xwKbA/cmkDDF+l3KhrpW2trgGuBMUAz\ncLxz7tUOrncDsMg5d1Y3q8zLu6pyJivZnMYMIHxBigW2xftXElhrMWvZd5QzZZWO9A8BBjrnxgNn\nApeXX8FaOxUYTSieSDVMAbYFfplQwxfpdypt+rsB9wI4554Adi5daK0dT9iQdj399N1SMsaYWsKR\nNFcAF6UbRiS7Km36w4DGkvOt0ZQP1tqPA9OBr6GGL9VzNLAlcCPe/zPlLCKZVVvh7RqBoSXna5xz\nK6PfDwfWA/4AbAisZa19yTn3y27WmZdpIOVMVu9zLl8Oo0bBO+/A/PknAif2PtZqilPL6lDO5MQe\nWFfa9OcBk4HbrLVjCRvPAHDOXQ1cDWCtPQbYugcNH/LxX0FeNu4UK+egQacAVwFXsskm3+j1+lZX\nrFr2PeVMWaVN/w7gs9baedH5Y621RwBDnHMzy66bh3dLyStjhhGmE5cA30s5jUjm6cNZ8Shnsnqf\n05iLgPMIX4P43SRClSlOLatDOVOmph+PciardzmN2RB4lTDK3wLvlyaUq1Qxalk9ypmySqd3RLLg\nfGAt4Ft91PBF+h2N9ONRzmRVntOYBuBFwkh/NN6vSDBXqf5fy+pSzpTp2DuSV98HBgBn92HDF+l3\nNNKPRzmTVVlOY3YlHC//CWAcffsk7t+1rD7lTJlG+pIv4QtSfhydO72PG75Iv6OmL3kzBRhH+IKU\nh9MOI5I3mt6JRzmTFS+nMWsBDlgf2AbvX+ujXKX6Zy3To5wp00hf8uQ7wCbAFVVq+CL9jkb68Shn\nsnqe05hNgFcIB/vbCu+X9GGuUv2vlulSzpTpw1mSFz8EBgNfq2LDF+l3NNKPRzmT1bOcxuwFPEj4\nwvNd8H5l1zdIVP+qZfqUM2Wa05dsM2Yg4fuYPTCtyg1fpN9R05esOw3YBrgO759MO4xI3ml6Jx7l\nTFbXOY0ZBbxEOIrm1nj/QZVyleoftcwO5UyZNuRKll1J2Hg7NaWGL9LvaKQfj3Imq/OcxnweuB2Y\nC0xM8XAL+a9ltihnytT041HOZHWc05j1gBeAYcD2eO+qnKtUvmuZPcqZMk3vSBZdSTjUwukpN3yR\nfkcj/XiUM1lr5jTmYOAu4K/AeLxvTSFXqfzWMpuUM2Vq+vEoZ7JWz2nMOoRpnZHADnj/Ykq5SuWz\nltmlnCnT9I5kQzhO/k+BjwPnZKThi/Q7GunHo5zJas9pzNHALMI3Yk3I0Fcg5q+W2aacKVPTj0c5\nkxVyGrMl8Ex0fvuMHTY5X7XMPuVMWUXTO9baGsLxUMYAzcDxzrlXS5YfAZwKtADPAyc55zLx7iIZ\nY0wd8GtgCHBUxhq+SL9T6bF3DgEGOufGA2cCl7ctsNYOBr4L7OWc2x0YDhzU26DSb10EfAb4Fd7f\nknYYkf6u0qa/G3AvgHPuCWDnkmVNwDjnXFN0vhZYVnFC6b/uugvCoOE14GvphhEphkr33hlG+Aaj\nNq3W2hrn3MpoGuc9AGvtKcDazrk/9zKn9DfGWIYOhTAgOAzvG7u5hYgkoNKm3wgMLTlf45xbdZzz\naM7/UmBL4PM9XGde5vyVs7eWLIFttoGXXoKbbx7MkUc+m3akbmS3lqtTzmTlIWfsjc2VNv15wGTg\nNmvtWOC5suXXE6Z5Do2xATcPW8rzskU/uznD/vi3AZ/n1FPhyCOzmbNddmu5OuVMVl5yxlbRLpvW\nWkP73jsAxwI7EfbAeCo6PVxykyudc3d2scq8FFg5e8uY7wFnA3NZvnxP6uqymbNddmu5OuVMVl5y\nxqb99ONRzt4w5gTCf4HzCcfVWUgWc64um7Vck3ImKy85Y1PTj0c5K2XMgcDdwPvAOLyfTxZzrikP\nGUE5k5aXnLGp6cejnJUw5jPAQ4RME/H+iWhJtnJ2LA8ZQTmTlpecsemAa9K3jNkRmAPUE3bNfKKb\nW4hIH1LTl75jzPbAnwmfyj4a7+9KOZFI4VX6iVyRrhkzhtDwRwDH4v3NKScSEdT0pS8YMxZ4gPBl\nKMfj/ayUE4lIRE1fkmXMQYSG3zbCvynlRCJSQk1fkmPMV4C2D+Edgve/SDGNiHRATV96z5hajLkU\nuBFYDOyN9/eknEpEOqC9d6R3jFkPmA3sA7wCfA7vX043lIh0RiN9qVz40NVThIZ/N7CLGr5Itqnp\nS3xhOmc68BjwCWA6cCjeL043mIh0R9M7Eo8xDcCvgF2AN4Ev4/396YYSkZ7SSF96xph6jDmf8N0J\nuwA3A59WwxfJF430pXvG7A9cDWwBvA2cive3pxtKRCqhkb50zphdMOZPwB+AzYArgK3V8EXySyN9\nWZMx2wHnA4dGl9wHfAfvn08vlIgkQU1fgvDdtZ8Fvh39hLB3zll4Pze1XCKSKDX9ogsfrjoKOB74\nVHTpg8BlwL1k5Ft2RCQZavpFZEwdsC/wFeBzQB2wgvDJ2h/h/dMpphORPqSmXxTGDCF8cvYw4GDC\nUTAB/kE4Zs4teP9eSulEpErU9PsrYwYB44C9o9OutP+93wRmAb8GntQUjkhxqOn3B2Ej7EbAdsAO\n7LsvwIeE76UFWEk4Rs4DwB2o0YsUlsnIaz8v3zyffs4wgreEBr999HM7YL2yaz5PaPIPAHMzelyc\n9OvZvTxkBOVMWl5yxlZR07fW1gDXAmOAZuB459yrJcsnA+cBLcBNzrmfdbPKvBS473MaMxjYkHAg\ns82AUSU/N49+ln+o7jXg76tO7757B+uvr3omIw8ZQTmTlpecsVU6vXMIMNA5N95auytweXQZ1to6\nwic3dwb+A8yz1t7tnFuYROA4jDH1MOmYcO6+Wd77phi3HQ77/TScm3My0Dxjxj1Mm3b1VLgv+s7X\nScfA8lqoMVC7ou0+NjWmvondThzKygnrsrJuW5a8cA4v/uW3jJq8hIGjR7Pk7QN451+Pst7Ba9E6\nciOaV65Dy6CRrKgbCIM6y/Quda3/ov4/yzHPb0fjb9aGp4Hn8L6xNPOUU29i9uyzhgPNMPE4aN0D\nBn0SWl6Hxudhra9CzbphuV8antutwIq1oX44DGiFpfOhfkNYNggG1oM30NoCg2qhuSU8dQYMgOVL\nwNRBTT0MboWWl+Gj22Gdg+CdRbDePuF671wF6+4JK0dBnYHlSzfaaCPefnv+GzBiI2gCBn0Eta2w\n7EfwyAzY7msw8kwYACy9FB69CiYeBXXjYMmzMGQnMK0w5zSY+F/h8tbH4f5ftV+v9XG4/2fe+6bw\nfJh4XLi86Smoayn9u8V/Xi2vhdY6qN+59H56uh6RNFQ60r8ceMI599vo/JvOuU2i38cAP3TO7R+d\nvwJ41DnX1Uf3E39XDS/Mc/84gLP3GsPzrM9P/jaLW8/YINxXLWE3xbqS31f9XARDL2Gfi2DfwQNZ\nzhD+2PQxli1axm4b19PEhsxdOIiVNc3Y9QbzBoMZwVCW8DFeb9qApctWYkbU4nv8eFqoYSEbsJB1\neJcmFjKWBWzKG/yt9U2GNM1n/bUXMJJmNgei9zAueAS+/9m2JhMa/rn/hOnRXjnnfQgrX4BNdoNG\n4FTgBuCtkofangCWAGsBawODgUWE9+w6wiaBFdGyFYQ/1UDCG8XyaH1Dge8APyfc396EQ+xvCUwi\nHLrHEBr4yGj9ROseQfjCrS2ix9cEfKsR1h0Wbt922cWNsNWwsJfp9cAZ0eXfa4Eta0uu9yFsNaKk\nVg/D9w+G0++GrSbAfwO/KanlRQ/Bxft30rBXe262Pa/g9L3CMefqKLufSSk1/ryMTJUzZZWO9IcR\nXtltWq21Nc65ldGy0vnjJcDwCu+nFyYdA9P3upALOIfvA+wI/KkntxwJXMb9wKoDSNYDG4fZEwDW\nDz9eB6CVGpYwlEbWrX+T1uY3GWUaWYslbE4jI2hkEY3U08iOLGEEH/IQC9mWdxnBQobzAV/AMwg4\nhfBPUltD/t4AQqcFRgMHlCw7f3d4+hhC9yP8VzJ9RPvysSPA7Bb2yDwDmEOYBWp7hKXeBt6NSjQa\nuA3YBniZMMu0GFgWLf8bYfbpY8BL0e2HE2bz5hD+3GcQ/vE7Icp8WnSbt4H9ouvtF0WfGt3ff5U8\nvjnAomFwYNll44eF85dH99F2+bjasuuNKKvVBHjqpzB+Qrh8DqFRty0/by94sqSWXQnPq7COjVjz\nfp7u4XpE0lFp028kDO3atDV8CB2idNlQ4IMerDPRLcozZpzCtGlwM0dRSwsr8ey3/wJ2Grst1NVB\nbe3qP0t+/8k19/DQo4fSQj0rqGMZT9HERJoYQhP1LONhmjiAJubRxIG0MJgwKFjOlClXDJ89e5so\nRVtD+F/CaLrt/PuEptqmsuPezZhxynXAdQBTpkxk9uyKVlMIU6ZMPLKr+pTWsgO+5HpMm1bxevpa\nJvbK6AHlTE7s/0Yqnd45DJjsnDvWWjsWOM85d2C0rA54gbBf+FLg0ei6/9fFKvtseieM4gC++1AX\n/8KX3zaaKjkvmiqZ/iEM+EcYXQOc93B4vzxjAvwWOJqS+zgkTCNsNiE0+KOJpiCiKYejCXtTXtEC\no6I33bbrvQPM9HBeVIuzW8Kce/3wcH+bltzXhZ1M75RmLp3e+Towk76d3vk28AvC/U0Efk+YntkP\nuIaeTe+01evbJdM7q2oYTe8cTJiqOj26/PvR9E5HtQa4sGx65wt08HeLOb3znb3glpK/3ar70fRO\n15QzZZU2fUP73jsAxwI7AUOcczOttQcRvkKvBrjROTejm1X2SYH7YEPusmnTrj6xuw257RsMzW4w\nwMDKeR1sXPwt7P0TMFtAy79g4IroenfBfrdF93sw0AwTroeaseF+at6DlpvhoevKH8+qDblTJh45\ne/ZZI8j+htxPvP32/AUZ35C7xnMzoxty89KklDNl2k8/HuVMVh5y5iEjKGfS8pIzNn2JiohIgajp\ni4gUiJq+iEiBqOmLiBSImr6ISIGo6YuIFIiavohIgajpi4gUiJq+iEiBqOmLiBSImr6ISIGo6YuI\nFIiavohIgajpi4gUiJq+iEiBqOmLiBSImr6ISIGo6YuIFIiavohIgajpi4gUiJq+iEiBqOmLiBSI\nmr6ISIHUxr2BtXYwcDPwMWAJcIxz7t9l1/km8N/R2T845y7qbVAREem9Skb604C/O+cmAL8Ezi1d\naK39JPBFYJxzbiywn7X2071OKiIivVZJ098NuDf6/V5g37LlC4BJzjkfna8DllUWT0REktTl9I61\n9jjgG2VOND24AAAEHklEQVQXvws0Rr8vAYaXLnTOtQDvW2sNcBnwN+fc/GTiiohIb3TZ9J1zNwI3\nll5mrf0fYGh0dijwYfntrLX1wE3AYuCkRJKKiEivxd6QC8wDDgCeBPYHHi5dGI3w7wLud85d2sN1\nmgpypEE5k5WHnHnICMqZtLzkjM1477u/Volo751ZwMeBZuCLzrmF0R4784EBwK3AY7QX7izn3OOJ\npRYRkYrEbvoiIpJf+nCWiEiBqOmLiBSImr6ISIGo6YuIFEglu2xWxFpbA1wLjCHs9XO8c+7VkuWT\ngfOAFuAm59zPqpUtZs5vAscB70UXTXXOvVL1oO15dgUucc5NLLs8E/WMsnSWMTO1tNbWET5bMgoY\nBFzsnPt9yfJM1LMHOTNRU2vtAGAm0AB44ETn3Asly1OvZw8yZqKWJXnWB54G9inNEbeWVWv6wCHA\nQOfc+KgJXB5d1vZEvgLYGfgPMM9ae7dzbmEV83WbM7Ij8CXn3DMpZFuNtfZ04Cjgo7LLM1PPzjJG\nMlNL4EjgPefcl6y16wDPAr+HbNWzq5yRrNT0IGClc253a+2ewPfI3uu904yRrNSyrWbXA0s7uDxW\nLas5vbPqmD3OuScIIdtsA8x3zi12zq0AHgEmVDFbqa5yAuwEnG2t/Yu19sxqhyszHziMNT9IkqV6\ndpYRslXL24Dp0e81hFFTmyzVs6uckJGaOufuAqZGZzcDPihZnIl6dpMRMlLLyGXADOD/yi6PXctq\nNv1htB+zB6A1mkppW7a4ZNkax/Spoq5yQvjg2VRgb2B3a+2B1QxXyjn3O9Z80UOG6tlFRshWLZc6\n5z6y1g4lNNZzShZnqZ5d5YRs1bTVWjsLuAr4dcmiLNWzs4yQkVpaa79M+O9uTnRR6QAqdi2r2fQb\naT9mD0CNc25l9PvismVDWfNdt1q6yglwpXPu/ehd9X+BHaqarmeyVM+uZKqW1tpNgQeAXzrnZpcs\nylQ9u8gJGaupc+4Ywpz5zOjT/JCxenaSEbJTy2OBz1prHwS2B2ZF8/tQQS2rOac/D5gM3GatHQs8\nV7LsZWCraI5yKeHfk8uqmK1UpzmttcOB56212xDmz/am7IB0GZGlenYoa7W01m4AzAFOcs49WLY4\nM/XsKmeWamqtPQrYxDl3CeHQ6isJG0shI/XsKmOWaumc27Pt96jxTy2Zs49dy2o2/TsI71bzovPH\nWmuPAIY452Zaa08D7iP893Gjc6587iorOc8GHiTs2fNn59y9na2oitqeqFmsZ5uOMmaplmcT/i2e\nbq1tmzOfCaydsXp2lzMrNf0d8HNr7VzCd2qcChxqrc3S87O7jFmpZTnTm9e6jr0jIlIg+nCWiEiB\nqOmLiBSImr6ISIGo6YuIFIiavohIgajpi4gUiJq+iEiBqOmLiBTI/wPJ12s/Oir9SQAAAABJRU5E\nrkJggg==\n",
      "text/plain": [
       "<matplotlib.figure.Figure at 0x10e8c9250>"
      ]
     },
     "metadata": {},
     "output_type": "display_data"
    }
   ],
>>>>>>> upstream/master
   "source": [
    "# plot the predicted probabilities again\n",
    "plt.scatter(glass.al, glass.assorted)\n",
    "plt.plot(glass.al, assorted_pred_prob, color='red')"
   ]
  },
  {
   "cell_type": "code",
<<<<<<< HEAD
<<<<<<< HEAD
   "execution_count": 40,
   "metadata": {
    "collapsed": false
   },
   "outputs": [
    {
     "data": {
      "text/plain": [
       "array([[ 0.64722323]])"
      ]
     },
     "execution_count": 40,
     "metadata": {},
     "output_type": "execute_result"
    }
   ],
=======
   "execution_count": null,
   "metadata": {
    "collapsed": false
   },
   "outputs": [],
>>>>>>> upstream/master
=======
   "execution_count": 42,
   "metadata": {
    "collapsed": false
   },
   "outputs": [
    {
     "data": {
      "text/plain": [
       "array([[ 0.64722323]])"
      ]
     },
     "execution_count": 42,
     "metadata": {},
     "output_type": "execute_result"
    }
   ],
>>>>>>> upstream/master
   "source": [
    "# compute predicted log-odds for al=2 using the equation\n",
    "logodds = logreg.intercept_ + logreg.coef_ * 2\n",
    "logodds"
   ]
  },
  {
   "cell_type": "code",
<<<<<<< HEAD
<<<<<<< HEAD
   "execution_count": 41,
   "metadata": {
    "collapsed": false
   },
   "outputs": [
    {
     "data": {
      "text/plain": [
       "array([[ 1.91022919]])"
      ]
     },
     "execution_count": 41,
     "metadata": {},
     "output_type": "execute_result"
    }
   ],
=======
   "execution_count": null,
   "metadata": {
    "collapsed": false
   },
   "outputs": [],
>>>>>>> upstream/master
=======
   "execution_count": 43,
   "metadata": {
    "collapsed": false
   },
   "outputs": [
    {
     "data": {
      "text/plain": [
       "array([[ 1.91022919]])"
      ]
     },
     "execution_count": 43,
     "metadata": {},
     "output_type": "execute_result"
    }
   ],
>>>>>>> upstream/master
   "source": [
    "# convert log-odds to odds\n",
    "odds = np.exp(logodds)\n",
    "odds"
   ]
  },
  {
   "cell_type": "code",
<<<<<<< HEAD
<<<<<<< HEAD
   "execution_count": 42,
   "metadata": {
    "collapsed": false
   },
   "outputs": [
    {
     "data": {
      "text/plain": [
       "array([[ 0.65638445]])"
      ]
     },
     "execution_count": 42,
     "metadata": {},
     "output_type": "execute_result"
    }
   ],
=======
   "execution_count": null,
   "metadata": {
    "collapsed": false
   },
   "outputs": [],
>>>>>>> upstream/master
=======
   "execution_count": 44,
   "metadata": {
    "collapsed": false
   },
   "outputs": [
    {
     "data": {
      "text/plain": [
       "array([[ 0.65638445]])"
      ]
     },
     "execution_count": 44,
     "metadata": {},
     "output_type": "execute_result"
    }
   ],
>>>>>>> upstream/master
   "source": [
    "# convert odds to probability\n",
    "prob = odds/(1 + odds)\n",
    "prob"
   ]
  },
  {
   "cell_type": "code",
<<<<<<< HEAD
<<<<<<< HEAD
   "execution_count": 43,
   "metadata": {
    "collapsed": false
   },
   "outputs": [
    {
     "data": {
      "text/plain": [
       "array([ 0.65638445])"
      ]
     },
     "execution_count": 43,
     "metadata": {},
     "output_type": "execute_result"
    }
   ],
=======
   "execution_count": null,
   "metadata": {
    "collapsed": false
   },
   "outputs": [],
>>>>>>> upstream/master
=======
   "execution_count": 45,
   "metadata": {
    "collapsed": false
   },
   "outputs": [
    {
     "data": {
      "text/plain": [
       "array([ 0.65638445])"
      ]
     },
     "execution_count": 45,
     "metadata": {},
     "output_type": "execute_result"
    }
   ],
>>>>>>> upstream/master
   "source": [
    "# compute predicted probability for al=2 using the predict_proba method\n",
    "logreg.predict_proba(2)[:, 1]"
   ]
  },
  {
   "cell_type": "code",
<<<<<<< HEAD
<<<<<<< HEAD
   "execution_count": 44,
   "metadata": {
    "collapsed": false
   },
   "outputs": [
    {
     "data": {
      "text/plain": [
       "[('al', 4.1804038614510928)]"
      ]
     },
     "execution_count": 44,
     "metadata": {},
     "output_type": "execute_result"
    }
   ],
=======
   "execution_count": null,
   "metadata": {
    "collapsed": false
   },
   "outputs": [],
>>>>>>> upstream/master
=======
   "execution_count": 46,
   "metadata": {
    "collapsed": false
   },
   "outputs": [
    {
     "data": {
      "text/plain": [
       "[('al', 4.1804038614510901)]"
      ]
     },
     "execution_count": 46,
     "metadata": {},
     "output_type": "execute_result"
    }
   ],
>>>>>>> upstream/master
   "source": [
    "# examine the coefficient for al\n",
    "zip(feature_cols, logreg.coef_[0])"
   ]
  },
  {
   "cell_type": "markdown",
   "metadata": {},
   "source": [
    "**Interpretation:** A 1 unit increase in 'al' is associated with a 4.18 unit increase in the log-odds of 'assorted'."
   ]
  },
  {
   "cell_type": "code",
<<<<<<< HEAD
<<<<<<< HEAD
   "execution_count": 45,
   "metadata": {
    "collapsed": false
   },
   "outputs": [
    {
     "data": {
      "text/plain": [
       "0.99205808391674566"
      ]
     },
     "execution_count": 45,
     "metadata": {},
     "output_type": "execute_result"
    }
   ],
=======
   "execution_count": null,
   "metadata": {
    "collapsed": false
   },
   "outputs": [],
>>>>>>> upstream/master
=======
   "execution_count": 47,
   "metadata": {
    "collapsed": false
   },
   "outputs": [
    {
     "data": {
      "text/plain": [
       "0.99205808391674566"
      ]
     },
     "execution_count": 47,
     "metadata": {},
     "output_type": "execute_result"
    }
   ],
>>>>>>> upstream/master
   "source": [
    "# increasing al by 1 (so that al=3) increases the log-odds by 4.18\n",
    "logodds = 0.64722323 + 4.1804038614510901\n",
    "odds = np.exp(logodds)\n",
    "prob = odds/(1 + odds)\n",
    "prob"
   ]
  },
  {
   "cell_type": "code",
<<<<<<< HEAD
<<<<<<< HEAD
   "execution_count": 46,
   "metadata": {
    "collapsed": false
   },
   "outputs": [
    {
     "data": {
      "text/plain": [
       "array([ 0.99205808])"
      ]
     },
     "execution_count": 46,
     "metadata": {},
     "output_type": "execute_result"
    }
   ],
=======
   "execution_count": null,
   "metadata": {
    "collapsed": false
   },
   "outputs": [],
>>>>>>> upstream/master
=======
   "execution_count": 48,
   "metadata": {
    "collapsed": false
   },
   "outputs": [
    {
     "data": {
      "text/plain": [
       "array([ 0.99205808])"
      ]
     },
     "execution_count": 48,
     "metadata": {},
     "output_type": "execute_result"
    }
   ],
>>>>>>> upstream/master
   "source": [
    "# compute predicted probability for al=3 using the predict_proba method\n",
    "logreg.predict_proba(3)[:, 1]"
   ]
  },
  {
   "cell_type": "markdown",
   "metadata": {},
   "source": [
    "**Bottom line:** Positive coefficients increase the log-odds of the response (and thus increase the probability), and negative coefficients decrease the log-odds of the response (and thus decrease the probability)."
   ]
  },
  {
   "cell_type": "code",
<<<<<<< HEAD
<<<<<<< HEAD
   "execution_count": 47,
   "metadata": {
    "collapsed": false
   },
   "outputs": [
    {
     "data": {
      "text/plain": [
       "array([-7.71358449])"
      ]
     },
     "execution_count": 47,
     "metadata": {},
     "output_type": "execute_result"
    }
   ],
=======
   "execution_count": null,
   "metadata": {
    "collapsed": false
   },
   "outputs": [],
>>>>>>> upstream/master
=======
   "execution_count": 49,
   "metadata": {
    "collapsed": false
   },
   "outputs": [
    {
     "data": {
      "text/plain": [
       "array([-7.71358449])"
      ]
     },
     "execution_count": 49,
     "metadata": {},
     "output_type": "execute_result"
    }
   ],
>>>>>>> upstream/master
   "source": [
    "# examine the intercept\n",
    "logreg.intercept_"
   ]
  },
  {
   "cell_type": "markdown",
   "metadata": {},
   "source": [
    "**Interpretation:** For an 'al' value of 0, the log-odds of 'assorted' is -7.71."
   ]
  },
  {
   "cell_type": "code",
<<<<<<< HEAD
<<<<<<< HEAD
   "execution_count": 48,
   "metadata": {
    "collapsed": false
   },
   "outputs": [
    {
     "data": {
      "text/plain": [
       "array([ 0.00044652])"
      ]
     },
     "execution_count": 48,
     "metadata": {},
     "output_type": "execute_result"
    }
   ],
=======
   "execution_count": null,
   "metadata": {
    "collapsed": false
   },
   "outputs": [],
>>>>>>> upstream/master
=======
   "execution_count": 50,
   "metadata": {
    "collapsed": false
   },
   "outputs": [
    {
     "data": {
      "text/plain": [
       "array([ 0.00044652])"
      ]
     },
     "execution_count": 50,
     "metadata": {},
     "output_type": "execute_result"
    }
   ],
>>>>>>> upstream/master
   "source": [
    "# convert log-odds to probability\n",
    "logodds = logreg.intercept_\n",
    "odds = np.exp(logodds)\n",
    "prob = odds/(1 + odds)\n",
    "prob\n",
    "\n"
   ]
  },
  {
   "cell_type": "markdown",
   "metadata": {},
   "source": [
    "That makes sense from the plot above, because the probability of assorted=1 should be very low for such a low 'al' value."
   ]
  },
  {
   "cell_type": "markdown",
   "metadata": {},
   "source": [
    "![](images/logistic_betas.png)"
   ]
  },
  {
   "cell_type": "markdown",
   "metadata": {},
   "source": [
    "Changing the $\\beta_0$ value shifts the curve **horizontally**, whereas changing the $\\beta_1$ value changes the **slope** of the curve."
   ]
  },
  {
   "cell_type": "markdown",
   "metadata": {},
   "source": [
    "## Part 7: Comparing Logistic Regression with Other Models\n",
    "\n",
    "Advantages of logistic regression:\n",
    "\n",
    "- Highly interpretable (if you remember how)\n",
    "- Model training and prediction are fast\n",
    "- No tuning is required (excluding regularization)\n",
    "- Features don't need scaling\n",
    "- Can perform well with a small number of observations\n",
    "- Outputs well-calibrated predicted probabilities\n",
    "\n",
    "Disadvantages of logistic regression:\n",
    "\n",
    "- Presumes a linear relationship between the features and the log-odds of the response\n",
    "- Performance is (generally) not competitive with the best supervised learning methods\n",
    "- Sensitive to irrelevant features\n",
    "- Can't automatically learn feature interactions"
   ]
  },
  {
   "cell_type": "markdown",
   "metadata": {},
   "source": [
    "## Bonus: Confusion Matrix\n",
    "\n"
   ]
  },
  {
   "cell_type": "code",
<<<<<<< HEAD
<<<<<<< HEAD
   "execution_count": 49,
   "metadata": {
    "collapsed": false
   },
   "outputs": [
    {
     "name": "stdout",
     "output_type": "stream",
     "text": [
      "[[157   6]\n",
      " [ 23  28]]\n"
     ]
    }
   ],
   "source": [
    "from sklearn import metrics\n",
    "preds = logreg.predict(X)\n",
=======
   "execution_count": null,
=======
   "execution_count": 52,
>>>>>>> upstream/master
   "metadata": {
    "collapsed": false
   },
   "outputs": [
    {
     "name": "stdout",
     "output_type": "stream",
     "text": [
      "[[157   6]\n",
      " [ 23  28]]\n"
     ]
    }
   ],
   "source": [
    "from sklearn import metrics\n",
    "prds = logreg.predict(X)\n",
<<<<<<< HEAD
>>>>>>> upstream/master
    "print metrics.confusion_matrix(y, preds)\n"
=======
    "print metrics.confusion_matrix(y, prds)\n"
>>>>>>> upstream/master
   ]
  },
  {
   "cell_type": "markdown",
   "metadata": {},
   "source": [
    "##Top Left: True Negatives <Br>\n",
    "##Top Right False Negatives <Br>\n",
    "##Bottom Left: False Negatives <br>\n",
    "##Bottom Right: True Positives <br>\n",
    "\n",
    "\n",
    "### Meaning: \n",
    "#### Accuracy    = (157 + 28) / 214       == .8644\n",
    "#### Sensitivity =  28        / (23 + 28) == .5490\n",
    "#### Specificity =  157       / (157 + 6) == .9631"
   ]
  },
  {
   "cell_type": "code",
   "execution_count": null,
   "metadata": {
    "collapsed": false
   },
   "outputs": [],
   "source": []
  }
 ],
 "metadata": {
  "kernelspec": {
   "display_name": "Python 2",
   "language": "python",
   "name": "python2"
  },
  "language_info": {
   "codemirror_mode": {
    "name": "ipython",
    "version": 2
   },
   "file_extension": ".py",
   "mimetype": "text/x-python",
   "name": "python",
   "nbconvert_exporter": "python",
   "pygments_lexer": "ipython2",
<<<<<<< HEAD
   "version": "2.7.11"
=======
   "version": "2.7.10"
>>>>>>> upstream/master
  }
 },
 "nbformat": 4,
 "nbformat_minor": 0
}
