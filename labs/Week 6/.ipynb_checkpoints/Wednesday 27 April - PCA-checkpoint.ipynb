{
 "cells": [
  {
   "cell_type": "markdown",
   "metadata": {},
   "source": [
    "# Principal Component Analysis\n",
    "\n",
    "## Wednesday April 27 2016\n"
   ]
  },
  {
   "cell_type": "code",
   "execution_count": null,
   "metadata": {
    "collapsed": false
   },
   "outputs": [],
   "source": [
    "%matplotlib inline\n",
    "\n",
    "import numpy as np\n",
    "import matplotlib.pyplot as plt\n",
    "from mpl_toolkits.mplot3d import Axes3D\n",
    "\n",
    "from sklearn import decomposition\n",
    "from sklearn import datasets"
   ]
  },
  {
   "cell_type": "code",
   "execution_count": null,
   "metadata": {
    "collapsed": true
   },
   "outputs": [],
   "source": [
    "# Load in the data\n",
    "iris = datasets.load_iris()\n",
    "X = iris.data\n",
    "y = iris.target\n",
    "target_names = iris.target_names"
   ]
  },
  {
   "cell_type": "code",
   "execution_count": null,
   "metadata": {
    "collapsed": false
   },
   "outputs": [],
   "source": [
    "#############################\n",
    "### PCA with 2 components  ##\n",
    "#############################\n",
    "\n",
    "\n",
    "pca = decomposition.PCA(n_components=2)\n",
    "X_r = pca.fit_transform(X)\n",
    "\n",
    "plt.figure()\n",
    "for c, i, target_name in zip(\"rgb\", [0, 1, 2], target_names):\n",
    "    plt.scatter(X_r[y == i, 0], X_r[y == i, 1], c=c, label=target_name)\n",
    "plt.legend()\n",
    "plt.title('PCA(2 components) of IRIS dataset')\n"
   ]
  },
  {
   "cell_type": "code",
   "execution_count": null,
   "metadata": {
    "collapsed": false
   },
   "outputs": [],
   "source": [
    "\n",
    "X_transformedSK = pca.transform(X)\n",
    "# only 2 columns!!\n",
    "\n",
    "X_reconstituted = pca.inverse_transform(X_transformedSK)\n",
    "# Turn it back into its 4 column using only 2 principal components\n",
    "\n",
    "plt.scatter(X[:,2], X[:,3])"
   ]
  },
  {
   "cell_type": "code",
   "execution_count": null,
   "metadata": {
    "collapsed": false
   },
   "outputs": [],
   "source": [
    "plt.scatter(X_reconstituted[:,2], X_reconstituted[:,3])"
   ]
  },
  {
   "cell_type": "code",
   "execution_count": null,
   "metadata": {
    "collapsed": false
   },
   "outputs": [],
   "source": [
    "#############################\n",
    "### PCA with 3 components  ##\n",
    "#############################\n",
    "plt.cla()\n",
    "# EXERCISE: change the line below to run the analysis\n",
    "pca = \n",
    "pca.fit(X)\n",
    "X_3 = pca.transform(X)\n",
    "\n",
    "X_3\n",
    "\n",
    "X_reconstituted = pca.inverse_transform(X_3)\n",
    "\n",
    "# Graph the reconstituted Data set\n",
    "plt.scatter(X[:,2], X[:,3])\n"
   ]
  },
  {
   "cell_type": "code",
   "execution_count": null,
   "metadata": {
    "collapsed": false
   },
   "outputs": [],
   "source": [
    "# EXERCISE\n",
    "# Graph the new projection on reconstituated data\n",
    "\n"
   ]
  },
  {
   "cell_type": "code",
   "execution_count": null,
   "metadata": {
    "collapsed": false
   },
   "outputs": [],
   "source": [
    "#############################\n",
    "### choosing components  ####\n",
    "#############################\n",
    "\n",
    "\n",
    "\n",
    "pca = decomposition.PCA(n_components=4)\n",
    "X_r = pca.fit_transform(X)\n",
    "\n",
    "# Percentage of variance explained for each components\n",
    "print('explained variance ratio (first two components): %s'\n",
    "      % str(pca.explained_variance_ratio_))\n",
    "\n",
    "plt.cla()\n",
    "plt.plot(pca.explained_variance_ratio_)\n",
    "plt.title('Variance explained by each principal component')\n",
    "plt.ylabel(' % Variance Explained')\n",
    "plt.xlabel('Principal component')\n"
   ]
  },
  {
   "cell_type": "code",
   "execution_count": null,
   "metadata": {
    "collapsed": true
   },
   "outputs": [],
   "source": []
  }
 ],
 "metadata": {
  "kernelspec": {
   "display_name": "Python 2",
   "language": "python",
   "name": "python2"
  },
  "language_info": {
   "codemirror_mode": {
    "name": "ipython",
    "version": 2
   },
   "file_extension": ".py",
   "mimetype": "text/x-python",
   "name": "python",
   "nbconvert_exporter": "python",
   "pygments_lexer": "ipython2",
   "version": "2.7.10"
  }
 },
 "nbformat": 4,
 "nbformat_minor": 0
}
